{
 "cells": [
  {
   "cell_type": "markdown",
   "id": "8ec2f6a9-73a1-4ea8-b3af-0649954672b6",
   "metadata": {},
   "source": [
    "# Tuple"
   ]
  },
  {
   "cell_type": "markdown",
   "id": "40c3125f-afd4-4a08-b1d9-2b1061c9fc21",
   "metadata": {},
   "source": [
    "Tuple is a immutable sequence data type.\n",
    "\n",
    "After creating tuple changes cannot done, Tuple does not support mutable operations like append, insert, remove, delete etc.,"
   ]
  },
  {
   "cell_type": "markdown",
   "id": "f7f5ccb5-c83e-4fc1-ac20-9c251e4f36cb",
   "metadata": {},
   "source": [
    "**Where tuples are used?**\n",
    "\n",
    "1. To represent immutable list.\n",
    "\n",
    "2. In applicaton development tuple used to represent data for other collections sets, dictonaries."
   ]
  },
  {
   "cell_type": "markdown",
   "id": "89ccaa80-bc3c-47e4-825e-1d7b1ab3df9b",
   "metadata": {},
   "source": [
    "**How to create tuple>**\n",
    "\n",
    "Tuples may be constructed in a number of ways:\n",
    "\n",
    "1. using a pair of parentheses to denote the empty `tuple:()`\n",
    "\n",
    "2. using a trailing coma for a singleton tuple:`a, or (a,)`\n",
    "\n",
    "3. using the tuple() built-in `tuple()` or `tuple(iterable)`"
   ]
  },
  {
   "cell_type": "code",
   "execution_count": 1,
   "id": "3db2825e-d059-434d-81b2-07a5352377f5",
   "metadata": {},
   "outputs": [
    {
     "name": "stdout",
     "output_type": "stream",
     "text": [
      "() <class 'tuple'>\n"
     ]
    }
   ],
   "source": [
    "tuple1=()\n",
    "print(tuple1,type(tuple1))"
   ]
  },
  {
   "cell_type": "code",
   "execution_count": 2,
   "id": "9d6e5b5d-6a59-40c8-814e-c26607b0e65f",
   "metadata": {},
   "outputs": [
    {
     "name": "stdout",
     "output_type": "stream",
     "text": [
      "(10,) <class 'tuple'>\n"
     ]
    }
   ],
   "source": [
    "tuple2=(10,)\n",
    "print(tuple2,type(tuple2))"
   ]
  },
  {
   "cell_type": "code",
   "execution_count": 3,
   "id": "27a36133-334c-4022-b185-f2275f1c2efb",
   "metadata": {},
   "outputs": [
    {
     "name": "stdout",
     "output_type": "stream",
     "text": [
      "100 <class 'int'>\n"
     ]
    }
   ],
   "source": [
    "tuple3=(100)\n",
    "print(tuple3,type(tuple3))"
   ]
  },
  {
   "cell_type": "code",
   "execution_count": 5,
   "id": "4beb1547-92c7-41ec-af4a-bdd094a5eaaf",
   "metadata": {},
   "outputs": [
    {
     "name": "stdout",
     "output_type": "stream",
     "text": [
      "(10, 20, 30, 40, 50) <class 'tuple'>\n"
     ]
    }
   ],
   "source": [
    "tuple4=(10,20,30,40,50)\n",
    "print(tuple4,type(tuple4))"
   ]
  },
  {
   "cell_type": "code",
   "execution_count": 6,
   "id": "0a22c809-1a4b-474f-b15f-324f605f4268",
   "metadata": {},
   "outputs": [
    {
     "name": "stdout",
     "output_type": "stream",
     "text": [
      "(10, 1.5, (1+2j), 'uday') <class 'tuple'>\n"
     ]
    }
   ],
   "source": [
    "tuple5=(10,1.5,1+2j,\"uday\")\n",
    "print(tuple5,type(tuple5))\n"
   ]
  },
  {
   "cell_type": "code",
   "execution_count": 7,
   "id": "a479d1fd-ac6f-4223-9ffa-c08fb2ba1dac",
   "metadata": {},
   "outputs": [
    {
     "name": "stdout",
     "output_type": "stream",
     "text": [
      "(1, 2, 3, 4, 5) <class 'tuple'>\n"
     ]
    }
   ],
   "source": [
    "tuple6=tuple(range(1,6))\n",
    "print(tuple6,type(tuple6))\n"
   ]
  },
  {
   "cell_type": "markdown",
   "id": "cae3e767-f5c7-44e6-ab44-637f088a60e6",
   "metadata": {},
   "source": [
    "**Reading content of tuple**"
   ]
  },
  {
   "cell_type": "code",
   "execution_count": 10,
   "id": "ad4ea546-a896-42c1-85d0-f67a377d4bf4",
   "metadata": {},
   "outputs": [
    {
     "name": "stdout",
     "output_type": "stream",
     "text": [
      "Reading using index\n",
      "1 2 3 4 5 6 7 8 9 10 "
     ]
    }
   ],
   "source": [
    "tuple7=(1,2,3,4,5,6,7,8,9,10)\n",
    "print(\"Reading using index\")\n",
    "for i in range(len(tuple7)):\n",
    "    print(tuple7[i],end=' ')"
   ]
  },
  {
   "cell_type": "markdown",
   "id": "57c8b079-4136-4b88-8de1-5812a7ef11bb",
   "metadata": {},
   "source": [
    "**using slicing**"
   ]
  },
  {
   "cell_type": "code",
   "execution_count": 11,
   "id": "850c8412-17dd-4b8e-a6b2-5b224ad8bc24",
   "metadata": {},
   "outputs": [
    {
     "name": "stdout",
     "output_type": "stream",
     "text": [
      "using slicing\n",
      "(1, 2, 3, 4, 5)\n"
     ]
    }
   ],
   "source": [
    "print(\"using slicing\")\n",
    "tuple8=tuple7[:5]\n",
    "print(tuple8)"
   ]
  },
  {
   "cell_type": "markdown",
   "id": "dd6f0254-a44b-464b-b21c-14f7980c7cde",
   "metadata": {},
   "source": [
    "**using for loop**"
   ]
  },
  {
   "cell_type": "code",
   "execution_count": 9,
   "id": "822248fd-9156-4a20-ab9e-5edb1c46f73c",
   "metadata": {},
   "outputs": [
    {
     "name": "stdout",
     "output_type": "stream",
     "text": [
      "using for loop\n",
      "1 2 3 4 5 6 7 8 9 10 "
     ]
    }
   ],
   "source": [
    "print(\"using for loop\")\n",
    "for value in tuple7:\n",
    "    print(value,end=' ')"
   ]
  },
  {
   "cell_type": "markdown",
   "id": "f582d828-0fe9-4d23-85ef-d7f4beb27ae0",
   "metadata": {},
   "source": [
    "**using enumerate**"
   ]
  },
  {
   "cell_type": "code",
   "execution_count": 12,
   "id": "bc83fe42-0157-4ee7-819a-f4f843e718ef",
   "metadata": {},
   "outputs": [
    {
     "name": "stdout",
     "output_type": "stream",
     "text": [
      "using enumerate\n",
      "(0, 1)\n",
      "(1, 2)\n",
      "(2, 3)\n",
      "(3, 4)\n",
      "(4, 5)\n",
      "(5, 6)\n",
      "(6, 7)\n",
      "(7, 8)\n",
      "(8, 9)\n",
      "(9, 10)\n"
     ]
    }
   ],
   "source": [
    "print(\"using enumerate\")\n",
    "a=enumerate(tuple7)\n",
    "for t in a:\n",
    "    print(t)"
   ]
  },
  {
   "cell_type": "markdown",
   "id": "75bd5a87-43e5-42fd-9558-a326816cec97",
   "metadata": {},
   "source": [
    "**To find siz*"
   ]
  },
  {
   "cell_type": "code",
   "execution_count": 13,
   "id": "3aa9348c-4950-4f0a-b99f-70e147c9e96d",
   "metadata": {},
   "outputs": [
    {
     "data": {
      "text/plain": [
       "72"
      ]
     },
     "execution_count": 13,
     "metadata": {},
     "output_type": "execute_result"
    }
   ],
   "source": [
    "t1=(10,20,30,40)\n",
    "import sys\n",
    "sys.getsizeof(t1)"
   ]
  },
  {
   "cell_type": "markdown",
   "id": "1133c95a-85d1-4726-95e4-e0e38438a4c4",
   "metadata": {},
   "source": [
    "**Note:** any object size is find in python using getsizeof() function available in sys module."
   ]
  }
 ],
 "metadata": {
  "kernelspec": {
   "display_name": "Python 3 (ipykernel)",
   "language": "python",
   "name": "python3"
  },
  "language_info": {
   "codemirror_mode": {
    "name": "ipython",
    "version": 3
   },
   "file_extension": ".py",
   "mimetype": "text/x-python",
   "name": "python",
   "nbconvert_exporter": "python",
   "pygments_lexer": "ipython3",
   "version": "3.12.0"
  }
 },
 "nbformat": 4,
 "nbformat_minor": 5
}
