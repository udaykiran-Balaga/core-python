{
 "cells": [
  {
   "cell_type": "markdown",
   "id": "091a5f7c-b526-434c-b6c9-6763e30dd01e",
   "metadata": {},
   "source": [
    "# string methods"
   ]
  },
  {
   "cell_type": "markdown",
   "id": "b219b777-ad53-4c45-9f30-f91b688c65e3",
   "metadata": {},
   "source": [
    "String is immutable collection, after creating string changes cannot do. The string methods are immutable, after operation these methods return new string object"
   ]
  },
  {
   "cell_type": "markdown",
   "id": "699d1492-58eb-481e-a3bb-817e24296e3f",
   "metadata": {},
   "source": [
    "**case conversion methods**\n",
    "\n",
    "These methods are used for converting string one case to another\n",
    "\n",
    "`1. upper()`\n",
    "\n",
    "`2. lower()`\n",
    "\n",
    "`3. capitalize()`\n",
    "\n",
    "`4. title()`\n",
    "\n",
    "`5. swapcase()`"
   ]
  },
  {
   "cell_type": "markdown",
   "id": "fd0aa75b-c51c-4dcb-bacd-dfcc6665f9b9",
   "metadata": {},
   "source": [
    "**example**\n",
    "\n",
    "**write a program to convert string into uppercase**"
   ]
  },
  {
   "cell_type": "code",
   "execution_count": 2,
   "id": "c7efdd08-96a5-4138-96be-e4509340c1e9",
   "metadata": {},
   "outputs": [
    {
     "name": "stdin",
     "output_type": "stream",
     "text": [
      "Enter any string  udaykiran\n"
     ]
    },
    {
     "name": "stdout",
     "output_type": "stream",
     "text": [
      "UDAYKIRAN\n"
     ]
    }
   ],
   "source": [
    "str1=input(\"Enter any string \")\n",
    "# using predefined method\n",
    "str2=str1.upper()\n",
    "print(str2)"
   ]
  },
  {
   "cell_type": "code",
   "execution_count": 4,
   "id": "c5a6fa8b-5818-463b-9bc2-25c4bdd9e744",
   "metadata": {},
   "outputs": [
    {
     "name": "stdin",
     "output_type": "stream",
     "text": [
      "Enter any string  Balaga UDaykiran\n"
     ]
    },
    {
     "name": "stdout",
     "output_type": "stream",
     "text": [
      "BALAGA UDAYKIRAN\n"
     ]
    }
   ],
   "source": [
    "# without using predefined methods\n",
    "\n",
    "str1=input(\"Enter any string \")\n",
    "str2=''\n",
    "for char in str1:\n",
    "    if char>='a' and char<='z':\n",
    "        str2=str2+chr(ord(char)-32)\n",
    "    else:\n",
    "        str2+=char\n",
    "print(str2)"
   ]
  },
  {
   "cell_type": "markdown",
   "id": "3c715513-079b-4553-810a-742884c4eae4",
   "metadata": {},
   "source": [
    "**Write a program to capitalize string (first character of string is capital letter remaining or lowercase**"
   ]
  },
  {
   "cell_type": "code",
   "execution_count": 11,
   "id": "44df2f36-51c3-40d2-b562-efaeaffc011a",
   "metadata": {},
   "outputs": [
    {
     "name": "stdin",
     "output_type": "stream",
     "text": [
      "Enter any string  udaykiran\n"
     ]
    },
    {
     "name": "stdout",
     "output_type": "stream",
     "text": [
      "Udaykiran\n"
     ]
    }
   ],
   "source": [
    "str1=input(\"Enter any string \")\n",
    "# using predefined method\n",
    "str2=str1.capitalize()\n",
    "print(str2)"
   ]
  },
  {
   "cell_type": "code",
   "execution_count": 9,
   "id": "d5347b6e-3daf-48cc-b1db-10312c2bf24c",
   "metadata": {},
   "outputs": [
    {
     "name": "stdin",
     "output_type": "stream",
     "text": [
      "Enter any string  udaykiran\n"
     ]
    },
    {
     "name": "stdout",
     "output_type": "stream",
     "text": [
      "Udaykiran\n"
     ]
    }
   ],
   "source": [
    "# without using predefind method\n",
    "\n",
    "str1=input(\"Enter any string \")\n",
    "str2=''\n",
    "l=len(str1)\n",
    "for i in range(l):\n",
    "    if i==0:\n",
    "        if char[i]>='a' and char[i]<='z':\n",
    "            str2+=chr(ord(str1[i])-32)\n",
    "    else:\n",
    "        str2+=str1[i]\n",
    "print(str2)\n",
    "        "
   ]
  },
  {
   "cell_type": "markdown",
   "id": "07f3e8fa-a397-472d-8add-3bb6ca3ef038",
   "metadata": {},
   "source": [
    "**Write a program to titlecase string**\r\n"
   ]
  },
  {
   "cell_type": "markdown",
   "id": "c6334012-781b-429e-8bd8-1f56751a4c82",
   "metadata": {},
   "source": [
    "**titlecase is nothing every word first letter is capitalized and remaining are lowercase**"
   ]
  },
  {
   "cell_type": "code",
   "execution_count": 10,
   "id": "1c4f4891-c8c8-4c6f-89f5-c554d2d33f09",
   "metadata": {},
   "outputs": [
    {
     "name": "stdin",
     "output_type": "stream",
     "text": [
      "Enter any string  python programming\n"
     ]
    },
    {
     "name": "stdout",
     "output_type": "stream",
     "text": [
      "Python Programming\n"
     ]
    }
   ],
   "source": [
    "str1=input(\"Enter any string \")\n",
    "# using predefind method\n",
    "\n",
    "list1=str1.split()\n",
    "list1=[s.capitalize() for s in list1]\n",
    "str2=' '.join(list1)\n",
    "print(str2)"
   ]
  },
  {
   "cell_type": "code",
   "execution_count": 13,
   "id": "10b9b296-1a20-4b1a-a69d-29c6bb6db6ed",
   "metadata": {},
   "outputs": [
    {
     "name": "stdin",
     "output_type": "stream",
     "text": [
      "Enter any string  python language\n"
     ]
    },
    {
     "name": "stdout",
     "output_type": "stream",
     "text": [
      "Python Language\n"
     ]
    }
   ],
   "source": [
    "# without using predefined methods\n",
    "\n",
    "str1=input(\"Enter any string \")\n",
    "str2=''\n",
    "i=0\n",
    "l=len(str1)\n",
    "while i<l:\n",
    "    if i==0:\n",
    "        if str1[i]>='a' and str1[i]<='z':\n",
    "            str2=str2+chr(ord(str1[i])-32)\n",
    "        else:\n",
    "            str2=str2+str1[i]\n",
    "    elif str1[i]==' ':\n",
    "        if str1[i+1]>='a' and str1[i+1]<='z':\n",
    "            str2=str2+' '+chr(ord(str1[i+1])-32)\n",
    "        else:\n",
    "            str2=str2+' '+str1[i+1]\n",
    "        i+=1\n",
    "    elif str1[i]>='A' and str1[i]<='Z':\n",
    "        str2=str2+chr(ord(str1[i])+32)\n",
    "        \n",
    "    else:\n",
    "        str2=str2+str1[i]\n",
    "    i+=1\n",
    "print(str2)"
   ]
  },
  {
   "cell_type": "markdown",
   "id": "1e54f510-8a1c-4dde-81a2-20b24377b3da",
   "metadata": {},
   "source": [
    "**Write a program to swapcase string**\r\n"
   ]
  },
  {
   "cell_type": "markdown",
   "id": "daefb510-5d5b-48d9-bb74-1d42567ba28f",
   "metadata": {},
   "source": [
    "**swapcase is nothing lowercase letters to uppercase and uppercase letters to lowercase**"
   ]
  },
  {
   "cell_type": "code",
   "execution_count": 15,
   "id": "fddad76e-5629-43f8-9475-c94d28297aa3",
   "metadata": {},
   "outputs": [
    {
     "name": "stdin",
     "output_type": "stream",
     "text": [
      "Enter any string  pYtHoN\n"
     ]
    },
    {
     "name": "stdout",
     "output_type": "stream",
     "text": [
      "PyThOn\n"
     ]
    }
   ],
   "source": [
    "str1=input(\"Enter any string \")\n",
    "# using predefined method\n",
    "str2=str1.swapcase()\n",
    "print(str2)"
   ]
  },
  {
   "cell_type": "code",
   "execution_count": 16,
   "id": "fa44fc69-04c8-448b-9002-fc24d7df0d7f",
   "metadata": {},
   "outputs": [
    {
     "name": "stdout",
     "output_type": "stream",
     "text": [
      "PyThOn\n"
     ]
    }
   ],
   "source": [
    "# without using predefined method\n",
    "\n",
    "str2=''\n",
    "for ch in str1:\n",
    "    if ch>='a' and ch<='z':\n",
    "        str2=str2+chr(ord(ch)-32)\n",
    "    elif ch>='A' and ch<='Z':\n",
    "        str2=str2+chr(ord(ch)+32)\n",
    "    else:\n",
    "        str2=str2+ch\n",
    "print(str2)\n"
   ]
  },
  {
   "cell_type": "code",
   "execution_count": null,
   "id": "aaa91252-a994-4480-931d-6311f8cca7de",
   "metadata": {},
   "outputs": [],
   "source": []
  }
 ],
 "metadata": {
  "kernelspec": {
   "display_name": "Python 3 (ipykernel)",
   "language": "python",
   "name": "python3"
  },
  "language_info": {
   "codemirror_mode": {
    "name": "ipython",
    "version": 3
   },
   "file_extension": ".py",
   "mimetype": "text/x-python",
   "name": "python",
   "nbconvert_exporter": "python",
   "pygments_lexer": "ipython3",
   "version": "3.12.0"
  }
 },
 "nbformat": 4,
 "nbformat_minor": 5
}
