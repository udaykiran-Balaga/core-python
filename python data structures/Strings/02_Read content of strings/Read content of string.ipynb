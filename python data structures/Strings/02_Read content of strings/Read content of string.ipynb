{
 "cells": [
  {
   "cell_type": "markdown",
   "id": "b8017300-fcdd-48a2-bc24-5d3b75d20562",
   "metadata": {},
   "source": [
    "# Reading content of string"
   ]
  },
  {
   "cell_type": "markdown",
   "id": "7489d821-9c87-404e-b879-761868e88a37",
   "metadata": {},
   "source": [
    "**content of string can be read in different ways**\n",
    "\n",
    "1. Using index\n",
    "\n",
    "2. using slicing\n",
    "\n",
    "3. using for loop\n",
    "\n",
    "4. using iterator\n",
    "\n",
    "5. using enumerate"
   ]
  },
  {
   "cell_type": "markdown",
   "id": "52153faa-eccb-4c50-9eec-b2189e5adc74",
   "metadata": {},
   "source": [
    "**using index**"
   ]
  },
  {
   "cell_type": "code",
   "execution_count": 1,
   "id": "b6a538ef-fec2-4335-9521-047760178f46",
   "metadata": {},
   "outputs": [
    {
     "name": "stdout",
     "output_type": "stream",
     "text": [
      "10\n"
     ]
    }
   ],
   "source": [
    "str1=['10','20','30','40','50']\n",
    "print(str1[0])"
   ]
  },
  {
   "cell_type": "code",
   "execution_count": 2,
   "id": "a5e46ebf-d11c-49db-86ee-5e56f7a2c374",
   "metadata": {},
   "outputs": [
    {
     "name": "stdout",
     "output_type": "stream",
     "text": [
      "50\n"
     ]
    }
   ],
   "source": [
    "print(str1[-1])"
   ]
  },
  {
   "cell_type": "markdown",
   "id": "80dfd799-1b1c-4049-81be-a521fcf00f9f",
   "metadata": {},
   "source": [
    "**using slicing**"
   ]
  },
  {
   "cell_type": "code",
   "execution_count": 3,
   "id": "256d8759-0264-4e7f-9369-3fd11029292f",
   "metadata": {},
   "outputs": [
    {
     "name": "stdout",
     "output_type": "stream",
     "text": [
      "['10', '20', '30', '40', '50']\n"
     ]
    }
   ],
   "source": [
    "str1=['10','20','30','40','50']\n",
    "print(str1[::])"
   ]
  },
  {
   "cell_type": "markdown",
   "id": "d2b07962-e005-475c-900f-d987ef57c7af",
   "metadata": {},
   "source": [
    "**using for loop**"
   ]
  },
  {
   "cell_type": "code",
   "execution_count": 5,
   "id": "822de970-fd83-4ad5-b2d7-cb68ae9f83bc",
   "metadata": {},
   "outputs": [
    {
     "name": "stdout",
     "output_type": "stream",
     "text": [
      "10 20 30 40 50 "
     ]
    }
   ],
   "source": [
    "str2=['10','20','30','40','50']\n",
    "for i in str2:\n",
    "    print(i,end=' ')"
   ]
  },
  {
   "cell_type": "markdown",
   "id": "e296ef1e-2329-4120-8912-17e42b274112",
   "metadata": {},
   "source": [
    "**using iterator**"
   ]
  },
  {
   "cell_type": "code",
   "execution_count": 7,
   "id": "0f5cf63e-b045-47d9-b8b0-946b9fdd8a14",
   "metadata": {},
   "outputs": [
    {
     "name": "stdout",
     "output_type": "stream",
     "text": [
      "10\n",
      "20\n",
      "30\n",
      "40\n",
      "50\n",
      "60\n",
      "70\n",
      "80\n",
      "90\n",
      "100\n"
     ]
    }
   ],
   "source": [
    "str3=[10,20,30,40,50,60,70,80,90,100]\n",
    "c=iter(str3)\n",
    "for i in c:\n",
    "    print(i)"
   ]
  },
  {
   "cell_type": "markdown",
   "id": "0f9fa750-7fb8-49a6-a8e2-b9790b8d457f",
   "metadata": {},
   "source": [
    "**enumerate**\n",
    "\n",
    "syntax: enumerate(iterable,start=0)"
   ]
  },
  {
   "cell_type": "code",
   "execution_count": 8,
   "id": "91adeaf2-51b6-45e8-91fa-f080b722adb7",
   "metadata": {},
   "outputs": [
    {
     "name": "stdout",
     "output_type": "stream",
     "text": [
      "['uday', 'kiran', 'atchut', 'jyostna']\n"
     ]
    }
   ],
   "source": [
    "names = ['uday','kiran','atchut','jyostna']\n",
    "print(names)"
   ]
  },
  {
   "cell_type": "code",
   "execution_count": 9,
   "id": "d78ee584-e143-4b7f-8501-7e07e818295e",
   "metadata": {},
   "outputs": [
    {
     "name": "stdout",
     "output_type": "stream",
     "text": [
      "(1, 'uday')\n",
      "(2, 'kiran')\n",
      "(3, 'atchut')\n",
      "(4, 'jyostna')\n"
     ]
    }
   ],
   "source": [
    "a = enumerate(names,start=1)\n",
    "for x in a:\n",
    "    print(x)"
   ]
  }
 ],
 "metadata": {
  "kernelspec": {
   "display_name": "Python 3 (ipykernel)",
   "language": "python",
   "name": "python3"
  },
  "language_info": {
   "codemirror_mode": {
    "name": "ipython",
    "version": 3
   },
   "file_extension": ".py",
   "mimetype": "text/x-python",
   "name": "python",
   "nbconvert_exporter": "python",
   "pygments_lexer": "ipython3",
   "version": "3.12.0"
  }
 },
 "nbformat": 4,
 "nbformat_minor": 5
}
