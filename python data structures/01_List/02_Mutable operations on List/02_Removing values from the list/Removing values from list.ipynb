{
 "cells": [
  {
   "cell_type": "markdown",
   "id": "2a2209da-2bfd-4223-9e24-5c5447fe1aaf",
   "metadata": {},
   "source": [
    "# Removing values from list\n",
    "\n",
    "There are different ways from removing/deleting values from list.\n",
    "\n",
    "`1. del keyword`\n",
    "\n",
    "`2. remove() method`\n",
    "\n",
    "`3. clear() method`\n",
    "\n",
    "`4. pop() method`"
   ]
  },
  {
   "cell_type": "markdown",
   "id": "14d4dc89-9ccb-4050-ae81-0028c36a25d9",
   "metadata": {},
   "source": [
    "## `del` keyword"
   ]
  },
  {
   "cell_type": "markdown",
   "id": "220a6ae2-20d5-45eb-b7ff-37dd04974899",
   "metadata": {},
   "source": [
    "`del` keyword is used to delete one or more than one value\n",
    "\n",
    "This `del` keyword required index or slicing\n"
   ]
  },
  {
   "cell_type": "markdown",
   "id": "6bc98560-803d-4877-86cf-de9afd33c2d2",
   "metadata": {},
   "source": [
    "`Syntax-1`: del list-name[index]\n",
    "\n",
    "`Syntax-2`: del list-name[start:stop:step]"
   ]
  },
  {
   "cell_type": "code",
   "execution_count": 1,
   "id": "462759ab-3aad-4764-9b6e-62da355cd975",
   "metadata": {},
   "outputs": [
    {
     "name": "stdout",
     "output_type": "stream",
     "text": [
      "[10, 20, 30, 40, 50, 60, 70, 80, 90, 100]\n"
     ]
    }
   ],
   "source": [
    "list1=list(range(10,110,10))\n",
    "print(list1)"
   ]
  },
  {
   "cell_type": "code",
   "execution_count": 2,
   "id": "becf5aa5-8cbe-453f-b5f3-323b293d2aaf",
   "metadata": {},
   "outputs": [
    {
     "name": "stdout",
     "output_type": "stream",
     "text": [
      "[20, 30, 40, 50, 60, 70, 80, 90, 100]\n"
     ]
    }
   ],
   "source": [
    "del list1[0] # deleting index 0 element from the list\n",
    "print(list1)"
   ]
  },
  {
   "cell_type": "code",
   "execution_count": 3,
   "id": "389aea5c-e53d-4e82-90ee-914b960bcef8",
   "metadata": {},
   "outputs": [
    {
     "name": "stdout",
     "output_type": "stream",
     "text": [
      "[20, 30, 40, 50, 60, 70, 80, 90]\n"
     ]
    }
   ],
   "source": [
    "del list1[-1] # deleting last element from the list\n",
    "print(list1)"
   ]
  },
  {
   "cell_type": "markdown",
   "id": "58e71d4e-bc0d-4793-8022-71a75b0f00f8",
   "metadata": {},
   "source": [
    "### Example of deleting more than one value using slicing"
   ]
  },
  {
   "cell_type": "code",
   "execution_count": 5,
   "id": "ac58f96e-252e-46ae-8d20-5f7a661bd732",
   "metadata": {},
   "outputs": [
    {
     "name": "stdout",
     "output_type": "stream",
     "text": [
      "[10, 20, 30, 40, 50, 60, 70, 80, 90, 100]\n"
     ]
    }
   ],
   "source": [
    "list1=list(range(10,110,10))\n",
    "print(list1)"
   ]
  },
  {
   "cell_type": "code",
   "execution_count": 6,
   "id": "6f3a25f5-277c-420d-bb04-0b4083804041",
   "metadata": {},
   "outputs": [
    {
     "name": "stdout",
     "output_type": "stream",
     "text": [
      "[40, 50, 60, 70, 80, 90, 100]\n"
     ]
    }
   ],
   "source": [
    "# deleting first 3 elements from the list at position 1 to 3\n",
    "\n",
    "del list1[0:3]\n",
    "print(list1)"
   ]
  },
  {
   "cell_type": "code",
   "execution_count": 25,
   "id": "0017b07b-ed0c-475d-bde9-e339a13706c3",
   "metadata": {},
   "outputs": [
    {
     "name": "stdout",
     "output_type": "stream",
     "text": [
      "[10, 20, 30, 40, 50, 60, 70, 80]\n"
     ]
    }
   ],
   "source": [
    "list3=list(range(10,90,10))\n",
    "print(list3)"
   ]
  },
  {
   "cell_type": "code",
   "execution_count": 26,
   "id": "a071db73-7490-44a6-ab26-c5460532a4fe",
   "metadata": {},
   "outputs": [
    {
     "name": "stdout",
     "output_type": "stream",
     "text": [
      "[20, 40, 60, 80]\n"
     ]
    }
   ],
   "source": [
    "del list3[::2]\n",
    "print(list3)"
   ]
  },
  {
   "cell_type": "markdown",
   "id": "833fe3c1-96e6-4fc4-984a-b5af6a18e8de",
   "metadata": {},
   "source": [
    "## remove(value)\n",
    "\n",
    "`remove method`: remove/delete values from list using value.\n",
    "\n",
    "It will remove only `first occurence` of value."
   ]
  },
  {
   "cell_type": "markdown",
   "id": "30c91c4f-0bba-451a-b611-88e186855566",
   "metadata": {},
   "source": [
    "`Syntax`: list-name.remove(value)"
   ]
  },
  {
   "cell_type": "code",
   "execution_count": 8,
   "id": "2cfb4de1-d263-44f2-8633-5dab40171694",
   "metadata": {},
   "outputs": [
    {
     "name": "stdout",
     "output_type": "stream",
     "text": [
      "[10, 10, 20, 10, 20, 30, 30]\n"
     ]
    }
   ],
   "source": [
    "list1=[10,10,20,10,20,30,30]\n",
    "print(list1)"
   ]
  },
  {
   "cell_type": "code",
   "execution_count": 9,
   "id": "3c780b16-5201-4bf7-8105-63769d172c8c",
   "metadata": {},
   "outputs": [],
   "source": [
    "list1.remove(10)"
   ]
  },
  {
   "cell_type": "code",
   "execution_count": 10,
   "id": "154fcdc6-ce68-41a4-96f1-b1233f185a13",
   "metadata": {},
   "outputs": [
    {
     "name": "stdout",
     "output_type": "stream",
     "text": [
      "[10, 20, 10, 20, 30, 30]\n"
     ]
    }
   ],
   "source": [
    "print(list1)"
   ]
  },
  {
   "cell_type": "code",
   "execution_count": 11,
   "id": "5544f1f5-2e50-4bb1-bd4c-e58076211137",
   "metadata": {},
   "outputs": [
    {
     "name": "stdout",
     "output_type": "stream",
     "text": [
      "[10, 10, 20, 30, 30]\n"
     ]
    }
   ],
   "source": [
    "list1.remove(20)\n",
    "print(list1)"
   ]
  },
  {
   "cell_type": "markdown",
   "id": "228f4656-3adb-40f0-8066-df717e0649ff",
   "metadata": {},
   "source": [
    "### remove all occurrences of 10 from the list\n",
    "\n",
    "**write a program to remove all occurrences of values in the list**"
   ]
  },
  {
   "cell_type": "code",
   "execution_count": 12,
   "id": "bcaf83d5-8062-4fd9-a80a-8350e2d008d1",
   "metadata": {},
   "outputs": [
    {
     "name": "stdout",
     "output_type": "stream",
     "text": [
      "[10, 10, 50, 60, 70, 40]\n"
     ]
    }
   ],
   "source": [
    "list2=[10,30,10,30,50,60,70,40,30,30]\n",
    "while True:\n",
    "    if 30 in list2:\n",
    "        list2.remove(30)\n",
    "    else:\n",
    "        break\n",
    "print(list2)\n",
    "        "
   ]
  },
  {
   "cell_type": "markdown",
   "id": "3059a4b8-d74e-4056-b7e0-5fc89926b8bc",
   "metadata": {},
   "source": [
    "### clear()\n",
    "\n",
    "This method `remove all the values` from the list or empty list"
   ]
  },
  {
   "cell_type": "code",
   "execution_count": 19,
   "id": "cd169def-9412-427d-92b6-778eff0114b7",
   "metadata": {},
   "outputs": [
    {
     "name": "stdout",
     "output_type": "stream",
     "text": [
      "[10, 20, 30, 40, 50, 60, 70, 80]\n"
     ]
    }
   ],
   "source": [
    "list3=list(range(10,90,10))\n",
    "print(list3)"
   ]
  },
  {
   "cell_type": "code",
   "execution_count": 16,
   "id": "42248546-1a23-4812-8471-0cd9e5275161",
   "metadata": {},
   "outputs": [
    {
     "name": "stdout",
     "output_type": "stream",
     "text": [
      "[]\n"
     ]
    }
   ],
   "source": [
    "list3.clear()\n",
    "print(list3)"
   ]
  },
  {
   "cell_type": "markdown",
   "id": "d664d90c-563d-4bb8-9b6d-04789d62b40d",
   "metadata": {},
   "source": [
    "### pop() method"
   ]
  },
  {
   "cell_type": "markdown",
   "id": "5c03ffe8-72fc-40a4-8926-7c187e10edf5",
   "metadata": {},
   "source": [
    "This method remove last value from list. It uses `LIFO (last in first out)`. Pop method before removing, returns value and remove it. List can be used as STACK. Stack is a data structure which follows `(LIFO)`."
   ]
  },
  {
   "cell_type": "code",
   "execution_count": 27,
   "id": "1d0a2ef9-8b2f-4bdd-ad2a-de725e1ed497",
   "metadata": {},
   "outputs": [
    {
     "data": {
      "text/plain": [
       "50"
      ]
     },
     "execution_count": 27,
     "metadata": {},
     "output_type": "execute_result"
    }
   ],
   "source": [
    "list1=[10,20,30,40,50]\n",
    "list1.pop()"
   ]
  },
  {
   "cell_type": "code",
   "execution_count": 28,
   "id": "c8005180-fa19-4000-957c-2d5b6bddd0f3",
   "metadata": {},
   "outputs": [
    {
     "name": "stdout",
     "output_type": "stream",
     "text": [
      "[10, 20, 30, 40]\n"
     ]
    }
   ],
   "source": [
    "print(list1)"
   ]
  },
  {
   "cell_type": "code",
   "execution_count": 29,
   "id": "95eba936-b5fd-4daf-af50-a7a6555b9e4f",
   "metadata": {},
   "outputs": [
    {
     "data": {
      "text/plain": [
       "40"
      ]
     },
     "execution_count": 29,
     "metadata": {},
     "output_type": "execute_result"
    }
   ],
   "source": [
    "list1.pop()"
   ]
  },
  {
   "cell_type": "code",
   "execution_count": 30,
   "id": "e0abcdf3-b2f6-42bf-bee5-e81edeeba352",
   "metadata": {},
   "outputs": [
    {
     "name": "stdout",
     "output_type": "stream",
     "text": [
      "[10, 20, 30]\n"
     ]
    }
   ],
   "source": [
    "print(list1)"
   ]
  }
 ],
 "metadata": {
  "kernelspec": {
   "display_name": "Python 3 (ipykernel)",
   "language": "python",
   "name": "python3"
  },
  "language_info": {
   "codemirror_mode": {
    "name": "ipython",
    "version": 3
   },
   "file_extension": ".py",
   "mimetype": "text/x-python",
   "name": "python",
   "nbconvert_exporter": "python",
   "pygments_lexer": "ipython3",
   "version": "3.12.0"
  }
 },
 "nbformat": 4,
 "nbformat_minor": 5
}
