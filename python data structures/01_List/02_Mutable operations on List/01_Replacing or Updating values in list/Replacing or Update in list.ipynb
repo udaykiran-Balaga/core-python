{
 "cells": [
  {
   "cell_type": "markdown",
   "id": "0b3a6bec-b65f-476f-ae90-aac17febb125",
   "metadata": {},
   "source": [
    "# Mutable operation of list\n",
    "\n",
    "After creating list changes can be done on lists using `Mutable operations`"
   ]
  },
  {
   "cell_type": "markdown",
   "id": "32a74f15-b311-4b4b-aa24-2f9cd504b1b5",
   "metadata": {},
   "source": [
    "## Replacing or Update value"
   ]
  },
  {
   "cell_type": "markdown",
   "id": "e234e19c-126a-467f-accf-8268faf34171",
   "metadata": {},
   "source": [
    "Replacing values in list can be done in 2 ways\n",
    "\n",
    "1. index\n",
    "\n",
    "2. slicing\n",
    "\n",
    "`index`: using index one value can be replaced\n",
    "\n",
    "`syntax`: list-name[index] --> it returns value from the list.\n",
    "\n",
    "`slicing`:using slicing more than one value can be replaced\n",
    "\n",
    "`syntax`: list-name[start:stop:step] --> it returns values from the list through iterable."
   ]
  },
  {
   "cell_type": "markdown",
   "id": "788c83d4-4a91-4327-8492-6a0fa2d2c470",
   "metadata": {},
   "source": [
    "**Examples of replacing  one value using index**"
   ]
  },
  {
   "cell_type": "code",
   "execution_count": 1,
   "id": "89f5bd8b-64cc-4af9-8ddc-86e27b85abb0",
   "metadata": {},
   "outputs": [
    {
     "name": "stdout",
     "output_type": "stream",
     "text": [
      "[1, 2, 3, 4, 5, 6, 7, 8, 9, 10]\n"
     ]
    }
   ],
   "source": [
    "list1=list(range(1,11,1))\n",
    "print(list1)"
   ]
  },
  {
   "cell_type": "markdown",
   "id": "ed717b0d-9cb5-438d-a247-ce853021d96c",
   "metadata": {},
   "source": [
    "**This code makes the list to replaces the value of at position 1 `0` with `100`**"
   ]
  },
  {
   "cell_type": "code",
   "execution_count": 2,
   "id": "8d548709-07f9-45b2-9eee-306b39405dff",
   "metadata": {},
   "outputs": [
    {
     "name": "stdout",
     "output_type": "stream",
     "text": [
      "[100, 2, 3, 4, 5, 6, 7, 8, 9, 10]\n"
     ]
    }
   ],
   "source": [
    "list1[0]=100\n",
    "print(list1)"
   ]
  },
  {
   "cell_type": "markdown",
   "id": "00d73c77-0413-48d9-9ec9-0c38a246369d",
   "metadata": {},
   "source": [
    "**Example of replacing more than one value using slicing**\n",
    "\n",
    "Multiple values are replacing or update using the slicing on position 1 and 2 with index 0 and 1"
   ]
  },
  {
   "cell_type": "code",
   "execution_count": 3,
   "id": "3cb75f20-c9cd-48cc-8f2a-a6787ce94168",
   "metadata": {},
   "outputs": [
    {
     "name": "stdout",
     "output_type": "stream",
     "text": [
      "[100, 200, 3, 4, 5, 6, 7, 8, 9, 10]\n"
     ]
    }
   ],
   "source": [
    "list2=[1, 2, 3, 4, 5, 6, 7, 8, 9, 10]\n",
    "list2[0:2]=[100,200]\n",
    "print(list2)"
   ]
  },
  {
   "cell_type": "code",
   "execution_count": 4,
   "id": "33857700-be32-4de9-a9da-7986fc653090",
   "metadata": {},
   "outputs": [
    {
     "name": "stdout",
     "output_type": "stream",
     "text": [
      "[1, 22, 2, 44, 3, 66, 4, 88, 5, 111]\n"
     ]
    }
   ],
   "source": [
    "list3=[11, 22, 33, 44, 55, 66, 77, 88, 99, 111]\n",
    "list3[::2]=[1,2,3,4,5]\n",
    "print(list3)"
   ]
  },
  {
   "cell_type": "markdown",
   "id": "d0a62a83-3d76-4783-bcc6-72bed522318c",
   "metadata": {},
   "source": [
    "## Appending values within list"
   ]
  },
  {
   "cell_type": "markdown",
   "id": "1cdaa4fe-eb12-47ed-a9b4-ae30c4680c54",
   "metadata": {},
   "source": [
    "Appending is nothing but adding the values at the end of the list.\n",
    "\n",
    "This appending is done in two ways.\n",
    "\n",
    "`1. append(value)`\n",
    "\n",
    "`2. slicing operator`\n",
    "\n",
    "**append(value)** method is allows to add one value.\n",
    "\n",
    "`syntax`: list-name.append(value)"
   ]
  },
  {
   "cell_type": "code",
   "execution_count": 5,
   "id": "9dc543fc-87fa-4d9d-9736-aa17fc06290a",
   "metadata": {},
   "outputs": [
    {
     "name": "stdout",
     "output_type": "stream",
     "text": [
      "[10]\n"
     ]
    }
   ],
   "source": [
    "# let consider the empty list\n",
    "\n",
    "list1 = []\n",
    "list1.append(10)\n",
    "print(list1)"
   ]
  },
  {
   "cell_type": "code",
   "execution_count": 6,
   "id": "6896ce02-a895-4642-9b96-ec09304fabaf",
   "metadata": {},
   "outputs": [
    {
     "name": "stdout",
     "output_type": "stream",
     "text": [
      "[10, 20]\n"
     ]
    }
   ],
   "source": [
    "list1.append(20)\n",
    "print(list1)"
   ]
  },
  {
   "cell_type": "code",
   "execution_count": 7,
   "id": "d1537d96-1dc1-4ec5-be7c-b6962968c29c",
   "metadata": {},
   "outputs": [
    {
     "name": "stdout",
     "output_type": "stream",
     "text": [
      "[10, 20, 30]\n"
     ]
    }
   ],
   "source": [
    "list1.append(30)\n",
    "print(list1)"
   ]
  },
  {
   "cell_type": "markdown",
   "id": "675ae23b-b970-43e9-ad62-bcf860eddf07",
   "metadata": {},
   "source": [
    "### example 1\n",
    "**append operation to write a program to append 5 values inside list.**"
   ]
  },
  {
   "cell_type": "code",
   "execution_count": 8,
   "id": "f37e8138-ad90-4fa7-9aa5-e6f4ebef3074",
   "metadata": {},
   "outputs": [
    {
     "name": "stdin",
     "output_type": "stream",
     "text": [
      "Enter a number  10\n",
      "Enter a number  20\n",
      "Enter a number  40\n",
      "Enter a number  50\n",
      "Enter a number  60\n"
     ]
    },
    {
     "name": "stdout",
     "output_type": "stream",
     "text": [
      "[10, 20, 40, 50, 60]\n"
     ]
    }
   ],
   "source": [
    "list2=[]\n",
    "for i in range(5):\n",
    "    values = int(input(\"Enter a number \"))\n",
    "    list2.append(values)\n",
    "print(list2)\n"
   ]
  },
  {
   "cell_type": "markdown",
   "id": "c5ee83fd-4cf7-4828-b514-844c663d941a",
   "metadata": {},
   "source": [
    "### example 2\n",
    "\n",
    "**write a program to read scores of n players and calculate the total score maximum score and minimum score**"
   ]
  },
  {
   "cell_type": "code",
   "execution_count": 10,
   "id": "0e3fcbb2-dded-458f-8d47-1b425f96abbc",
   "metadata": {},
   "outputs": [
    {
     "name": "stdin",
     "output_type": "stream",
     "text": [
      "Enter how many players  8\n",
      "Enter a scores of players  78\n",
      "Enter a scores of players  98\n",
      "Enter a scores of players  74\n",
      "Enter a scores of players  70\n",
      "Enter a scores of players  80\n",
      "Enter a scores of players  45\n",
      "Enter a scores of players  65\n",
      "Enter a scores of players  50\n"
     ]
    },
    {
     "name": "stdout",
     "output_type": "stream",
     "text": [
      "Total scores of players 560\n",
      "The maximum score of player is  98\n",
      "The minimum score of player is  45\n"
     ]
    }
   ],
   "source": [
    "n=int(input(\"Enter how many players \"))\n",
    "list3=[]\n",
    "total=0\n",
    "for i in range(n):\n",
    "    scores=int(input(\"Enter a scores of players \"))\n",
    "    list3.append(scores)\n",
    "    total+=scores\n",
    "print(\"Total scores of players\",total)\n",
    "list3.sort()\n",
    "print(\"The maximum score of player is \",max(list3))\n",
    "print(\"The minimum score of player is \",min(list3))"
   ]
  },
  {
   "cell_type": "markdown",
   "id": "4e964910-c30e-464e-a542-6246a7414762",
   "metadata": {},
   "source": [
    "### example 3 on append"
   ]
  },
  {
   "cell_type": "code",
   "execution_count": 27,
   "id": "62b11cc5-2935-449c-96f2-0425a6e0f6bd",
   "metadata": {},
   "outputs": [
    {
     "name": "stdin",
     "output_type": "stream",
     "text": [
      "Enter a number of inputs values  10\n",
      "Enter a values from the user  12\n",
      "Enter a values from the user  25\n",
      "Enter a values from the user  14\n",
      "Enter a values from the user  11\n",
      "Enter a values from the user  -25\n",
      "Enter a values from the user  -1\n",
      "Enter a values from the user  -33\n",
      "Enter a values from the user  45\n",
      "Enter a values from the user  74\n",
      "Enter a values from the user  75\n"
     ]
    },
    {
     "name": "stdout",
     "output_type": "stream",
     "text": [
      "The even numbers list is [12, 14, 74]\n",
      "The odd numbers list is [25, 11, -25, -1, -33, 45, 75]\n"
     ]
    }
   ],
   "source": [
    "# Write a program to input n values in list\n",
    "# if value is even, append to even_list\n",
    "# if value if odd, append to odd_list\n",
    "\n",
    "n = int(input(\"Enter a number of inputs values \"))\n",
    "odd_numbers=[]\n",
    "even_numbers=[]\n",
    "for i in range(n):\n",
    "    values=int(input(\"Enter a values from the user \"))\n",
    "    \n",
    "    if values%2==0:\n",
    "        even_numbers.append(values)\n",
    "    else:\n",
    "        odd_numbers.append(values)\n",
    "print(f'The even numbers list is {even_numbers}')\n",
    "print(f'The odd numbers list is {odd_numbers}')"
   ]
  },
  {
   "cell_type": "markdown",
   "id": "7554eff9-a375-4e72-a664-76b1aa7932b8",
   "metadata": {},
   "source": [
    "using the append operator we just insert one value to add"
   ]
  },
  {
   "cell_type": "code",
   "execution_count": 11,
   "id": "8a79c204-1cac-44aa-a2b4-ce336a916401",
   "metadata": {},
   "outputs": [
    {
     "ename": "TypeError",
     "evalue": "list.append() takes exactly one argument (2 given)",
     "output_type": "error",
     "traceback": [
      "\u001b[1;31m---------------------------------------------------------------------------\u001b[0m",
      "\u001b[1;31mTypeError\u001b[0m                                 Traceback (most recent call last)",
      "Cell \u001b[1;32mIn[11], line 2\u001b[0m\n\u001b[0;32m      1\u001b[0m list1\u001b[38;5;241m=\u001b[39m[\u001b[38;5;241m10\u001b[39m,\u001b[38;5;241m20\u001b[39m,\u001b[38;5;241m30\u001b[39m]\n\u001b[1;32m----> 2\u001b[0m \u001b[43mlist1\u001b[49m\u001b[38;5;241;43m.\u001b[39;49m\u001b[43mappend\u001b[49m\u001b[43m(\u001b[49m\u001b[38;5;241;43m40\u001b[39;49m\u001b[43m,\u001b[49m\u001b[38;5;241;43m50\u001b[39;49m\u001b[43m)\u001b[49m\n",
      "\u001b[1;31mTypeError\u001b[0m: list.append() takes exactly one argument (2 given)"
     ]
    }
   ],
   "source": [
    "list1=[10,20,30]\n",
    "list1.append(40,50)"
   ]
  },
  {
   "cell_type": "markdown",
   "id": "7468290d-234a-4d5b-ba2b-c3ebe240fb6f",
   "metadata": {},
   "source": [
    "\n",
    "for more value we go with slicing operator to insert values into the list"
   ]
  },
  {
   "cell_type": "markdown",
   "id": "0f2f1311-ac58-4c66-8ebf-5bcd99f4f5f4",
   "metadata": {},
   "source": [
    "## Appending more than one value using slice operator\n",
    "\n",
    "`Syntax`: list-name[len(list):len(list)]=iterable"
   ]
  },
  {
   "cell_type": "code",
   "execution_count": 15,
   "id": "8ca01b0f-c6f6-4bd7-979b-16784035f3a6",
   "metadata": {},
   "outputs": [],
   "source": [
    "list1=[10,20,30]"
   ]
  },
  {
   "cell_type": "code",
   "execution_count": 16,
   "id": "4e50606d-4565-4666-be97-233b0dc5399e",
   "metadata": {},
   "outputs": [
    {
     "name": "stdout",
     "output_type": "stream",
     "text": [
      "[10, 20, 30]\n"
     ]
    }
   ],
   "source": [
    "print(list1)"
   ]
  },
  {
   "cell_type": "code",
   "execution_count": 13,
   "id": "3a4285d7-3792-4305-8805-5f8374ba7ac2",
   "metadata": {},
   "outputs": [
    {
     "name": "stdout",
     "output_type": "stream",
     "text": [
      "[10, 20, 30, 40, 50]\n"
     ]
    }
   ],
   "source": [
    "list1[3:3]=[40,50]\n",
    "print(list1)"
   ]
  },
  {
   "cell_type": "markdown",
   "id": "7d3f6802-1de9-44c7-904f-34fbc9811cdc",
   "metadata": {},
   "source": [
    "## extend()"
   ]
  },
  {
   "cell_type": "markdown",
   "id": "2d210035-fdba-4560-a3e2-90baa86175ab",
   "metadata": {},
   "source": [
    "`syntax:`: list-name.extend(iterable)"
   ]
  },
  {
   "cell_type": "code",
   "execution_count": 18,
   "id": "3416dae9-ace6-46a4-bfe3-e6fe432a6e24",
   "metadata": {},
   "outputs": [
    {
     "name": "stdout",
     "output_type": "stream",
     "text": [
      "[10, 20, 30]\n"
     ]
    }
   ],
   "source": [
    "print(list1)"
   ]
  },
  {
   "cell_type": "code",
   "execution_count": 20,
   "id": "fb841cb9-d1f4-424c-b384-2d3eb810c753",
   "metadata": {},
   "outputs": [
    {
     "name": "stdout",
     "output_type": "stream",
     "text": [
      "[10, 20, 30, 40, 50, 60, 70, 80]\n"
     ]
    }
   ],
   "source": [
    "list1.extend([40,50,60,70,80])\n",
    "print(list1)"
   ]
  },
  {
   "cell_type": "markdown",
   "id": "1310150f-c889-41b6-923b-3d71926d1ad1",
   "metadata": {},
   "source": [
    "see here only iterable values which in the list and range etc can be consider to extend the list."
   ]
  },
  {
   "cell_type": "code",
   "execution_count": 21,
   "id": "04aa6ca5-ba80-4eac-882e-e2081ff92851",
   "metadata": {},
   "outputs": [
    {
     "name": "stdout",
     "output_type": "stream",
     "text": [
      "[10, 20, 30, 40, 50, 60, 70, 80]\n"
     ]
    }
   ],
   "source": [
    "print(list1)"
   ]
  },
  {
   "cell_type": "code",
   "execution_count": 22,
   "id": "0a5f84e3-c9df-494a-b4ad-e9eb21e08628",
   "metadata": {},
   "outputs": [
    {
     "name": "stdout",
     "output_type": "stream",
     "text": [
      "[10, 20, 30, 40, 50, 60, 70, 80, 'u', 'd', 'a', 'y']\n"
     ]
    }
   ],
   "source": [
    "str1=\"uday\"\n",
    "for i in str1:\n",
    "    list1.extend(i)\n",
    "print(list1)"
   ]
  },
  {
   "cell_type": "code",
   "execution_count": 24,
   "id": "98ac1b02-c7a5-46b3-b372-30c8ac8e4981",
   "metadata": {},
   "outputs": [
    {
     "name": "stdout",
     "output_type": "stream",
     "text": [
      "[10, 20, 30, 40, 50, 60, 70, 80, 90, 100]\n"
     ]
    }
   ],
   "source": [
    "# using the range\n",
    "\n",
    "list1=[10,20,30]\n",
    "list1.extend(range(40,101,10))\n",
    "print(list1)\n",
    "    "
   ]
  }
 ],
 "metadata": {
  "kernelspec": {
   "display_name": "Python 3 (ipykernel)",
   "language": "python",
   "name": "python3"
  },
  "language_info": {
   "codemirror_mode": {
    "name": "ipython",
    "version": 3
   },
   "file_extension": ".py",
   "mimetype": "text/x-python",
   "name": "python",
   "nbconvert_exporter": "python",
   "pygments_lexer": "ipython3",
   "version": "3.12.0"
  }
 },
 "nbformat": 4,
 "nbformat_minor": 5
}
