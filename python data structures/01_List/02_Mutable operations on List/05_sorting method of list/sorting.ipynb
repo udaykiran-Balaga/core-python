{
 "cells": [
  {
   "cell_type": "markdown",
   "id": "f56cd407-fada-4dd0-b250-f8e92622206e",
   "metadata": {},
   "source": [
    "# sorting\n",
    "\n",
    "sorting is organization of elements/values in ascending or descending order.\n",
    "\n",
    "This sorting is done using two methods\n",
    "\n",
    "`1. sort method of list`\n",
    "\n",
    "`2. sorted function`"
   ]
  },
  {
   "cell_type": "markdown",
   "id": "788ea823-4416-4a99-9c58-3a53cf8c06d5",
   "metadata": {},
   "source": [
    "**sort(*, key=None, reverse=False)**\n",
    "\n",
    "This method sorts the list in place, using only < comparisons between item. Sort method of list is mutable; sorting is done in same list.\r\n",
    "Sort method of list by default organizes elements in ascending order\r\n"
   ]
  },
  {
   "cell_type": "code",
   "execution_count": 1,
   "id": "b97e54b0-0bb7-41cd-a38f-a54cfa483794",
   "metadata": {},
   "outputs": [
    {
     "name": "stdout",
     "output_type": "stream",
     "text": [
      "[4, 8, 1, 2, 6, 3, 9, 1, 4, 3]\n"
     ]
    }
   ],
   "source": [
    "list1=[4,8,1,2,6,3,9,1,4,3]\n",
    "print(list1)"
   ]
  },
  {
   "cell_type": "code",
   "execution_count": 2,
   "id": "79a8d5a4-490f-4382-aabb-ae49c6bf5043",
   "metadata": {},
   "outputs": [
    {
     "name": "stdout",
     "output_type": "stream",
     "text": [
      "[1, 1, 2, 3, 3, 4, 4, 6, 8, 9]\n"
     ]
    }
   ],
   "source": [
    "list1.sort()\n",
    "print(list1)"
   ]
  },
  {
   "cell_type": "code",
   "execution_count": 3,
   "id": "28c731aa-4d4c-4098-8221-92b45e59f907",
   "metadata": {},
   "outputs": [
    {
     "name": "stdout",
     "output_type": "stream",
     "text": [
      "[9, 8, 6, 4, 4, 3, 3, 2, 1, 1]\n"
     ]
    }
   ],
   "source": [
    "list1.sort(reverse=True)\n",
    "print(list1)"
   ]
  },
  {
   "cell_type": "markdown",
   "id": "b1628f5b-db13-40d3-b3d5-5de93cb3b5e6",
   "metadata": {},
   "source": [
    "##### sorted(iterable,key=None,reverse=False)\n",
    "\n",
    "Return a new sorted list from the items in iterable."
   ]
  },
  {
   "cell_type": "code",
   "execution_count": 4,
   "id": "01eb92a4-f515-42e6-8128-cf00f5812d90",
   "metadata": {},
   "outputs": [
    {
     "name": "stdout",
     "output_type": "stream",
     "text": [
      "[3, 8, 1, 4, 2, 9, 7, 4]\n"
     ]
    }
   ],
   "source": [
    "list1=[3,8,1,4,2,9,7,4]\n",
    "print(list1)"
   ]
  },
  {
   "cell_type": "code",
   "execution_count": 5,
   "id": "ae18be68-2c82-4f0a-bf67-d10938dfe667",
   "metadata": {},
   "outputs": [
    {
     "name": "stdout",
     "output_type": "stream",
     "text": [
      "[1, 2, 3, 4, 4, 7, 8, 9]\n"
     ]
    }
   ],
   "source": [
    "list2=sorted(list1)\n",
    "print(list2)"
   ]
  },
  {
   "cell_type": "code",
   "execution_count": 7,
   "id": "352179e0-2f0a-4a81-b683-f63c97ebcfbe",
   "metadata": {},
   "outputs": [
    {
     "name": "stdout",
     "output_type": "stream",
     "text": [
      "[9, 8, 7, 4, 4, 3, 2, 1]\n"
     ]
    }
   ],
   "source": [
    "list3=sorted(list1,reverse=True)\n",
    "print(list3)"
   ]
  },
  {
   "cell_type": "code",
   "execution_count": 9,
   "id": "c26b7d72-fc97-4cd7-a9ef-7bbb68a3423f",
   "metadata": {},
   "outputs": [
    {
     "name": "stdout",
     "output_type": "stream",
     "text": [
      "PYTHON\n",
      "['H', 'N', 'O', 'P', 'T', 'Y']\n"
     ]
    }
   ],
   "source": [
    "str1=\"PYTHON\"\n",
    "print(str1)\n",
    "str2=sorted(str1)\n",
    "print(str2)"
   ]
  },
  {
   "cell_type": "markdown",
   "id": "1c413464-b858-4e8c-b0d9-9b2e275bc64a",
   "metadata": {},
   "source": [
    "### examples on sort and sorted"
   ]
  },
  {
   "cell_type": "markdown",
   "id": "74bec8d0-9c1b-4e7c-85af-e98b03992f8b",
   "metadata": {},
   "source": [
    "**write a program to input n elements list and organize elements in ascending order with using `sort and sorted`**"
   ]
  },
  {
   "cell_type": "code",
   "execution_count": 12,
   "id": "7c31f8bb-ede1-49aa-bc6b-b19f4a928584",
   "metadata": {},
   "outputs": [
    {
     "name": "stdin",
     "output_type": "stream",
     "text": [
      "Enter a number of elements  5\n",
      "Enter a element number  7\n",
      "Enter a element number  4\n",
      "Enter a element number  6\n",
      "Enter a element number  1\n",
      "Enter a element number  2\n"
     ]
    },
    {
     "name": "stdout",
     "output_type": "stream",
     "text": [
      "The elements in the list according to the user input  [7, 4, 6, 1, 2]\n",
      "The elements in list are in ascending order  [1, 2, 4, 6, 7]\n"
     ]
    }
   ],
   "source": [
    "n=int(input(\"Enter a number of elements \"))\n",
    "list1=[]\n",
    "for i in range(n):\n",
    "    elements=int(input(\"Enter a element number \"))\n",
    "    list1.append(elements)\n",
    "print(\"The elements in the list according to the user input \",list1)\n",
    "list1.sort()\n",
    "print(\"The elements in list are in ascending order \",list1)"
   ]
  },
  {
   "cell_type": "markdown",
   "id": "62ae0e26-3db5-4603-a7c0-fceb73790ba9",
   "metadata": {},
   "source": [
    "### Bubble sorting"
   ]
  },
  {
   "cell_type": "code",
   "execution_count": 15,
   "id": "d4f4c099-6f99-4905-bfb6-51da49f1a977",
   "metadata": {},
   "outputs": [
    {
     "name": "stdin",
     "output_type": "stream",
     "text": [
      "Enter a number of elements  5\n",
      "Enter a element number  7\n",
      "Enter a element number  8\n",
      "Enter a element number  1\n",
      "Enter a element number  9\n",
      "Enter a element number  3\n"
     ]
    },
    {
     "name": "stdout",
     "output_type": "stream",
     "text": [
      "The elements in the list according to the user input  [7, 8, 1, 9, 3]\n",
      "After sorting\n",
      "[1, 3, 7, 8, 9]\n"
     ]
    }
   ],
   "source": [
    "n=int(input(\"Enter a number of elements \"))\n",
    "list1=[]\n",
    "for i in range(n):\n",
    "    elements=int(input(\"Enter a element number \"))\n",
    "    list1.append(elements)\n",
    "print(\"The elements in the list according to the user input \",list1)\n",
    "for i in range(n):\n",
    "    for j in range(n-1):\n",
    "        if list1[j]>list1[j+1]:\n",
    "            list1[j],list1[j+1]=list1[j+1],list1[j]\n",
    "print(\"After sorting\")\n",
    "print(list1)"
   ]
  },
  {
   "cell_type": "markdown",
   "id": "eaca6a3a-cec4-4c51-a65f-c77b5433f01c",
   "metadata": {},
   "source": [
    "**write a program to input n elements inside list and find 2 maximum element.**"
   ]
  },
  {
   "cell_type": "code",
   "execution_count": 17,
   "id": "ece7a1f6-94a6-415b-8cfc-3902e27271fb",
   "metadata": {},
   "outputs": [
    {
     "name": "stdin",
     "output_type": "stream",
     "text": [
      "Enter a numbers of values  5\n",
      "Enter a values  8\n",
      "Enter a values  12\n",
      "Enter a values  9\n",
      "Enter a values  0\n",
      "Enter a values  7\n"
     ]
    },
    {
     "name": "stdout",
     "output_type": "stream",
     "text": [
      "After sorting [0, 7, 8, 9, 12]\n",
      "second maximum element is 9\n"
     ]
    }
   ],
   "source": [
    "n= int(input(\"Enter a numbers of values \"))\n",
    "list2=[]\n",
    "for i in range(n):\n",
    "    value = int(input(\"Enter a values \"))\n",
    "    list2.append(value)\n",
    "list2.sort()\n",
    "first_max=list1[-1]\n",
    "count=list2.count(first_max)\n",
    "print(\"After sorting\",list2)\n",
    "print(f'second maximum element is {list2[-(count+1)]}')"
   ]
  },
  {
   "cell_type": "markdown",
   "id": "a8a66661-39a8-4b07-a5ea-cce80cb4b382",
   "metadata": {},
   "source": [
    "### count()"
   ]
  },
  {
   "cell_type": "markdown",
   "id": "7349d3fb-a052-4087-834b-821ddc200bd3",
   "metadata": {},
   "source": [
    "**sequence.count(value)**\n",
    "\n",
    "This returns count of given value (OR) this method returns a given value exist how many times/count"
   ]
  },
  {
   "cell_type": "code",
   "execution_count": 18,
   "id": "b3114019-fadc-469d-bd67-2a8dc9da5042",
   "metadata": {},
   "outputs": [
    {
     "data": {
      "text/plain": [
       "3"
      ]
     },
     "execution_count": 18,
     "metadata": {},
     "output_type": "execute_result"
    }
   ],
   "source": [
    "list1=[1,2,3,4,7,1,2,1,2,5,3,4,7,8]\n",
    "list1.count(1)"
   ]
  },
  {
   "cell_type": "code",
   "execution_count": 19,
   "id": "2c450599-fdba-424e-a789-e83a5428ed65",
   "metadata": {},
   "outputs": [
    {
     "data": {
      "text/plain": [
       "1"
      ]
     },
     "execution_count": 19,
     "metadata": {},
     "output_type": "execute_result"
    }
   ],
   "source": [
    "list1.count(5)"
   ]
  },
  {
   "cell_type": "code",
   "execution_count": 20,
   "id": "b20d4993-a3c1-452d-b0e8-d0547fac4d82",
   "metadata": {},
   "outputs": [
    {
     "data": {
      "text/plain": [
       "0"
      ]
     },
     "execution_count": 20,
     "metadata": {},
     "output_type": "execute_result"
    }
   ],
   "source": [
    "list1.count(9)"
   ]
  },
  {
   "cell_type": "code",
   "execution_count": 22,
   "id": "b5c9d367-c906-4750-b487-c3ec3549e1d9",
   "metadata": {},
   "outputs": [
    {
     "name": "stdout",
     "output_type": "stream",
     "text": [
      "list1: [1, 2, 3, 4, 7, 1, 2, 1, 2, 5, 3, 4, 7, 8]\n",
      "list2: [1, 2, 3, 4, 7, 5, 8]\n",
      "1-->3\n",
      "2-->3\n",
      "3-->2\n",
      "4-->2\n",
      "7-->2\n",
      "5-->1\n",
      "8-->1\n"
     ]
    }
   ],
   "source": [
    "# count values in the list\n",
    "list1=[1,2,3,4,7,1,2,1,2,5,3,4,7,8]\n",
    "list2=[]\n",
    "for value in list1:\n",
    "    if value not in list2:\n",
    "        list2.append(value)\n",
    "print(\"list1:\",list1)\n",
    "print(\"list2:\",list2)\n",
    "for value in list2:\n",
    "    count=list1.count(value)\n",
    "    print(f'{value}-->{count}')\n"
   ]
  }
 ],
 "metadata": {
  "kernelspec": {
   "display_name": "Python 3 (ipykernel)",
   "language": "python",
   "name": "python3"
  },
  "language_info": {
   "codemirror_mode": {
    "name": "ipython",
    "version": 3
   },
   "file_extension": ".py",
   "mimetype": "text/x-python",
   "name": "python",
   "nbconvert_exporter": "python",
   "pygments_lexer": "ipython3",
   "version": "3.12.0"
  }
 },
 "nbformat": 4,
 "nbformat_minor": 5
}
