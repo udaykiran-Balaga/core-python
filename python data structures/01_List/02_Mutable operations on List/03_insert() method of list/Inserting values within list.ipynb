{
 "cells": [
  {
   "cell_type": "markdown",
   "id": "eff95749-c4c1-4c5a-8dff-17eeeb398a89",
   "metadata": {},
   "source": [
    "# Inserting value within list\n",
    "\n",
    "Inserting value within list are done 2 ways\n",
    "\n",
    "`1. insert method`\n",
    "\n",
    "`2. slicing operartor`"
   ]
  },
  {
   "cell_type": "markdown",
   "id": "8aefd361-2d97-4913-a9dc-8079f199b2f5",
   "metadata": {},
   "source": [
    "**insert()**\n",
    "\n",
    "This method inserts one value.\n",
    "\n",
    "This method inserts value at given index."
   ]
  },
  {
   "cell_type": "markdown",
   "id": "64ad17cb-729d-4c7c-8aa5-e4cbe062cfa9",
   "metadata": {},
   "source": [
    "`Syntax`: list-name.insert(index,value)"
   ]
  },
  {
   "cell_type": "code",
   "execution_count": 1,
   "id": "4d32eda9-53c6-49af-a73e-ca7d3a88983f",
   "metadata": {},
   "outputs": [
    {
     "name": "stdout",
     "output_type": "stream",
     "text": [
      "[10, 20, 30, 40, 50]\n"
     ]
    }
   ],
   "source": [
    "list1=[10,20,30,40,50]\n",
    "print(list1)"
   ]
  },
  {
   "cell_type": "code",
   "execution_count": 2,
   "id": "1549ae3e-a732-4c69-a395-921c677cce95",
   "metadata": {},
   "outputs": [],
   "source": [
    " list1.insert(0,99)"
   ]
  },
  {
   "cell_type": "code",
   "execution_count": 4,
   "id": "b2769392-165a-4fdb-a385-9e9be05f79c7",
   "metadata": {},
   "outputs": [
    {
     "name": "stdout",
     "output_type": "stream",
     "text": [
      "[99, 10, 20, 30, 40, 50]\n"
     ]
    }
   ],
   "source": [
    "print(list1)"
   ]
  },
  {
   "cell_type": "code",
   "execution_count": 5,
   "id": "40e9b622-ef33-444d-8ede-b02018dc3959",
   "metadata": {},
   "outputs": [],
   "source": [
    "list1.insert(2,88)"
   ]
  },
  {
   "cell_type": "code",
   "execution_count": 6,
   "id": "31f8ae6b-dc6c-42de-826f-4c2438db3fb9",
   "metadata": {},
   "outputs": [
    {
     "name": "stdout",
     "output_type": "stream",
     "text": [
      "[99, 10, 88, 20, 30, 40, 50]\n"
     ]
    }
   ],
   "source": [
    "print(list1)"
   ]
  },
  {
   "cell_type": "markdown",
   "id": "2e319117-e7a9-4d6f-8930-66071d441d8a",
   "metadata": {},
   "source": [
    "**NOTE**\n",
    "\n",
    "if we insert value at the last which have proper last end index value then we giving value should insert at the position of last of the list."
   ]
  },
  {
   "cell_type": "code",
   "execution_count": 8,
   "id": "cdf0eae4-586c-4661-90d1-f8351abaf8f6",
   "metadata": {},
   "outputs": [
    {
     "name": "stdout",
     "output_type": "stream",
     "text": [
      "[99, 10, 88, 20, 30, 40, 50]\n"
     ]
    }
   ],
   "source": [
    "print(list1)"
   ]
  },
  {
   "cell_type": "code",
   "execution_count": 9,
   "id": "0511d021-c1f3-4f2b-b22d-7361fbb11fc1",
   "metadata": {},
   "outputs": [
    {
     "name": "stdout",
     "output_type": "stream",
     "text": [
      "[99, 10, 88, 20, 30, 40, 50, 100]\n"
     ]
    }
   ],
   "source": [
    "list1.insert(10,100) # see here there is no index place in the list but it not getting issue with the unknown position in the list.\n",
    "print(list1)                    # It insert the value at the last position of the list"
   ]
  },
  {
   "cell_type": "markdown",
   "id": "e3ceafb4-7259-41a6-ae8b-4bbc952f6456",
   "metadata": {},
   "source": [
    "### Inserting multiple values using slicing operation"
   ]
  },
  {
   "cell_type": "markdown",
   "id": "73dbd81d-59e1-43f6-bb4d-1b27048ee6f1",
   "metadata": {},
   "source": [
    "`Syntax`: list-name[start-index:stop-index]=iterable"
   ]
  },
  {
   "cell_type": "markdown",
   "id": "dec45341-1f28-4434-be26-67d325c631a4",
   "metadata": {},
   "source": [
    "**Note: start and stop index must be same**"
   ]
  },
  {
   "cell_type": "code",
   "execution_count": 10,
   "id": "00b5ae15-df78-4b79-b818-f37f455f9a17",
   "metadata": {},
   "outputs": [
    {
     "name": "stdout",
     "output_type": "stream",
     "text": [
      "[10, 20, 30, 40, 50]\n"
     ]
    }
   ],
   "source": [
    "list2=list(range(10,60,10))\n",
    "print(list2)"
   ]
  },
  {
   "cell_type": "code",
   "execution_count": 11,
   "id": "88703abd-afbd-4874-a868-f512d36022ba",
   "metadata": {},
   "outputs": [
    {
     "name": "stdout",
     "output_type": "stream",
     "text": [
      "[99, 88, 10, 20, 30, 40, 50]\n"
     ]
    }
   ],
   "source": [
    "list2[0:0]=[99,88]\n",
    "print(list2)"
   ]
  },
  {
   "cell_type": "code",
   "execution_count": 12,
   "id": "4c0c6312-ff2e-473d-9dab-6ed45e0d2ccf",
   "metadata": {},
   "outputs": [
    {
     "name": "stdout",
     "output_type": "stream",
     "text": [
      "[99, 88, 10, 20, 30, 40, 10, 20, 30, 40, 50]\n"
     ]
    }
   ],
   "source": [
    "list2[-1:-1]=[10,20,30,40]\n",
    "print(list2)"
   ]
  },
  {
   "cell_type": "code",
   "execution_count": null,
   "id": "29a439b0-2c5e-4ee9-b2a0-c142104e7347",
   "metadata": {},
   "outputs": [],
   "source": []
  }
 ],
 "metadata": {
  "kernelspec": {
   "display_name": "Python 3 (ipykernel)",
   "language": "python",
   "name": "python3"
  },
  "language_info": {
   "codemirror_mode": {
    "name": "ipython",
    "version": 3
   },
   "file_extension": ".py",
   "mimetype": "text/x-python",
   "name": "python",
   "nbconvert_exporter": "python",
   "pygments_lexer": "ipython3",
   "version": "3.12.0"
  }
 },
 "nbformat": 4,
 "nbformat_minor": 5
}
