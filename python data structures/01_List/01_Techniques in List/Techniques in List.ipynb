{
 "cells": [
  {
   "cell_type": "markdown",
   "id": "a49ab238-f0c9-4982-95de-0209de88c984",
   "metadata": {},
   "source": [
    "Colletion Data types are used to allocate memory more than one value.\n",
    "\n",
    "Collection object is used to group individual objects as a one object.\n",
    "\n",
    "Collection data types are used:\n",
    "\n",
    "1. To perform aggregate operations (sum, Avg, min, max)\n",
    "\n",
    "2. In application development these are used to transport data from one place to another place.\n",
    "\n",
    "3. More than one value is referred with one name.\n",
    "\n",
    "4. Collection data types are dynamic in size.\n",
    "\n",
    "\n",
    "\n",
    "Python collection types are classified into 3 categories\n",
    "\n",
    "\n",
    "\n",
    "**1. Sequences**\n",
    "\n",
    "   `a. List`\n",
    "\n",
    "   `b. Tuple`\n",
    "\n",
    "   `c. String`\n",
    "\n",
    "   `d. Range`\n",
    "\n",
    "   `e. Bytes`\n",
    "\n",
    "   `f. Bytearray`\n",
    "\n"
   ]
  },
  {
   "cell_type": "markdown",
   "id": "7ba4f1f7-c374-46f2-860b-5fa48ec5efb2",
   "metadata": {},
   "source": [
    "**Sequences**\n",
    "\n",
    "1. sequences are ordered collection, where insertion is preserved or insertion order does not change from one insertion to another.\n",
    "\n",
    "2. sequences are index based collection, where reading and writing is using index.\n",
    "\n",
    "3. sequences allow duplicate values.\n",
    "\n",
    "4. sequences can be homogenous or heterogeneous.\n",
    "\n",
    "\n",
    "**Homogeneous**\n",
    "\n",
    "A list that contains` only one type of data`. For example, a list of fruit names is` homogeneous` because the names are all the same type of data.."
   ]
  },
  {
   "cell_type": "markdown",
   "id": "6568ddc4-02f5-4138-9604-9abd3b206a39",
   "metadata": {},
   "source": []
  },
  {
   "cell_type": "markdown",
   "id": "13c703f0-7dc6-4a7a-8368-912eb651112e",
   "metadata": {},
   "source": [
    "**Heterogeneous**\n",
    "\n",
    "A list that contains `different file types` that are concatenated together.\n",
    "\n",
    "For example, a **tuple** usually contains a heterogeneous sequence of elements."
   ]
  },
  {
   "cell_type": "markdown",
   "id": "0a378900-969a-4f62-91ab-1175e27e26d2",
   "metadata": {},
   "source": [
    "**List Data type or Collection**\n",
    "\n",
    "Lists are mutable sequences, typically used to store collections of homogeneous items or heterogeneous items.\n",
    "\n",
    "**list** class or data type represents list object."
   ]
  },
  {
   "cell_type": "markdown",
   "id": "7f671078-e031-425d-85aa-862c174144c8",
   "metadata": {},
   "source": [
    "**How to create list?**\n",
    "\n",
    "<ol>\n",
    "<li> using a pair of square brackets to denote the empty list: []</li>\n",
    "\n",
    "<li> using square brackets, separating items with commas: [a],[a,b,c] </li>\n",
    "\n",
    "<li> using a list comprehension: [x for x in iterable]</li>\n",
    "\n",
    "<li> using the type constructor: list() or list(iterable)</li>\n",
    "</ol>"
   ]
  },
  {
   "cell_type": "code",
   "execution_count": 3,
   "id": "6bea2f29-3354-4b1a-81fa-9a9d5c918c22",
   "metadata": {},
   "outputs": [
    {
     "name": "stdout",
     "output_type": "stream",
     "text": [
      "[] <class 'list'>\n"
     ]
    }
   ],
   "source": [
    "# creating a empty list\n",
    "\n",
    "a=[]\n",
    "print(a,type(a)) # print value and type of value"
   ]
  },
  {
   "cell_type": "code",
   "execution_count": 5,
   "id": "534e4c6b-8cd9-4b7c-97ce-77c929899425",
   "metadata": {},
   "outputs": [
    {
     "name": "stdout",
     "output_type": "stream",
     "text": [
      "[10] <class 'list'>\n"
     ]
    }
   ],
   "source": [
    "b=[10]\n",
    "print(b,type(b))"
   ]
  },
  {
   "cell_type": "code",
   "execution_count": 6,
   "id": "b1b4a9f5-42b6-4a8b-ac54-f872819eb478",
   "metadata": {},
   "outputs": [
    {
     "name": "stdout",
     "output_type": "stream",
     "text": [
      "[10, 20, 30, 40.5] <class 'list'>\n"
     ]
    }
   ],
   "source": [
    "c=[10,20,30,40.50]\n",
    "print(c,type(c))"
   ]
  },
  {
   "cell_type": "markdown",
   "id": "f904f77f-2551-4902-ac91-c289a8be43ea",
   "metadata": {},
   "source": [
    "Above example the items in the list separating by using the `commas`"
   ]
  },
  {
   "cell_type": "code",
   "execution_count": 7,
   "id": "5ddb11c0-d1b6-4915-9643-3d8a83715f16",
   "metadata": {},
   "outputs": [
    {
     "name": "stdout",
     "output_type": "stream",
     "text": [
      "[1, 1.5, (1+2j), 'python'] <class 'list'>\n"
     ]
    }
   ],
   "source": [
    "d=[1,1.5,1+2j,\"python\"]\n",
    "print(d,type(d))"
   ]
  },
  {
   "cell_type": "markdown",
   "id": "77d3f872-efda-4403-89df-9e1b3e04114c",
   "metadata": {},
   "source": [
    "Above exampple the elements in the lists are `int`,`float`,`complex`,`string`."
   ]
  },
  {
   "cell_type": "markdown",
   "id": "c92e3509-c32b-40d3-928c-1847a67efe8f",
   "metadata": {},
   "source": [
    "## Example of converting other iterables/collections into list type"
   ]
  },
  {
   "cell_type": "markdown",
   "id": "dcb4a542-2bca-4423-811b-f94826eb35cf",
   "metadata": {},
   "source": [
    "**NOTE**: integer object is not iterable"
   ]
  },
  {
   "cell_type": "code",
   "execution_count": 8,
   "id": "ac3f79e3-8ae8-4452-a9a7-9b36a55867a8",
   "metadata": {},
   "outputs": [
    {
     "ename": "TypeError",
     "evalue": "'int' object is not iterable",
     "output_type": "error",
     "traceback": [
      "\u001b[1;31m---------------------------------------------------------------------------\u001b[0m",
      "\u001b[1;31mTypeError\u001b[0m                                 Traceback (most recent call last)",
      "Cell \u001b[1;32mIn[8], line 1\u001b[0m\n\u001b[1;32m----> 1\u001b[0m a \u001b[38;5;241m=\u001b[39m \u001b[38;5;28;43mlist\u001b[39;49m\u001b[43m(\u001b[49m\u001b[38;5;241;43m10\u001b[39;49m\u001b[43m)\u001b[49m\n",
      "\u001b[1;31mTypeError\u001b[0m: 'int' object is not iterable"
     ]
    }
   ],
   "source": [
    "a = list(10)"
   ]
  },
  {
   "cell_type": "markdown",
   "id": "79f88ebb-8f7e-4712-89eb-6215aa209c35",
   "metadata": {},
   "source": [
    "see here above example if we integer object is converts into list it leads to an `type error`"
   ]
  },
  {
   "cell_type": "markdown",
   "id": "f9dfd519-1185-41ca-ac4e-b7bdf9f53f92",
   "metadata": {},
   "source": [
    "**NOTE**: `string` object can iterable because its a `collection data type`"
   ]
  },
  {
   "cell_type": "code",
   "execution_count": 9,
   "id": "13989ad1-1327-4789-ba0d-f22bce9a1006",
   "metadata": {},
   "outputs": [],
   "source": [
    "name = list(\"uday\")\n",
    "language=list(\"python\")"
   ]
  },
  {
   "cell_type": "code",
   "execution_count": 10,
   "id": "f0207480-524a-48cb-b961-5b1e66413140",
   "metadata": {},
   "outputs": [
    {
     "name": "stdout",
     "output_type": "stream",
     "text": [
      "['u', 'd', 'a', 'y'] <class 'list'>\n"
     ]
    }
   ],
   "source": [
    "print(name,type(name))"
   ]
  },
  {
   "cell_type": "code",
   "execution_count": 12,
   "id": "8b8196ca-f75d-4d13-97de-57d62573992b",
   "metadata": {},
   "outputs": [
    {
     "name": "stdout",
     "output_type": "stream",
     "text": [
      "['p', 'y', 't', 'h', 'o', 'n'] <class 'list'>\n"
     ]
    }
   ],
   "source": [
    "print(language,type(language))"
   ]
  },
  {
   "cell_type": "markdown",
   "id": "76e017d5-b2c6-4d6e-b487-de019b2cbf51",
   "metadata": {},
   "source": [
    "**NOTE**:`range` can iterable because its a collection data type.it allocates the memory more than one value."
   ]
  },
  {
   "cell_type": "code",
   "execution_count": 13,
   "id": "e6318838-e71d-4d06-817b-a12d44788c5b",
   "metadata": {},
   "outputs": [
    {
     "name": "stdout",
     "output_type": "stream",
     "text": [
      "[10, 20, 30, 40, 50, 60, 70, 80, 90]\n"
     ]
    }
   ],
   "source": [
    "list1=list(range(10,100,10))\n",
    "print(list1)"
   ]
  },
  {
   "cell_type": "markdown",
   "id": "553943a4-fc1e-459e-a0c8-fd5eca93fa91",
   "metadata": {},
   "source": [
    "### How to read content in a list?\n",
    "\n",
    "content of list can be read in different ways\n",
    "\n",
    "1. `index`\n",
    "\n",
    "2. `slicing`\n",
    "\n",
    "3. `for loop`\n",
    "\n",
    "4. `iterator`\n",
    "\n",
    "5. `enumerate`"
   ]
  },
  {
   "cell_type": "markdown",
   "id": "0819c21a-8c70-407e-be69-65ec2152e025",
   "metadata": {},
   "source": [
    "# index"
   ]
  },
  {
   "cell_type": "markdown",
   "id": "571f0a4b-0048-4673-9753-f72af66237a0",
   "metadata": {},
   "source": [
    "### What is index?\n",
    "\n",
    "1. index is an integer value.\n",
    "\n",
    "2. index represents position of value in sequence (or) each value in sequence is identified with unique integer number called index.\n",
    "\n",
    "3. using index data from sequences can be read sequentially or randomly.\n",
    "\n",
    "4. index is used as a subscript to read or write elements in a list.\n",
    "\n",
    "5. This index can be +ve or -ve.\n"
   ]
  },
  {
   "cell_type": "markdown",
   "id": "426e8e88-3d47-405c-ae24-29bd1ef3da31",
   "metadata": {},
   "source": [
    "**NOTE**\n",
    "\n",
    "1. The index start at `0`, when reading from `L-R` (forward Direction)\n",
    "\n",
    "2. The index start at `-1`, when reading from `R-L` (backward Direction)"
   ]
  },
  {
   "attachments": {
    "92b14355-1115-4d39-b021-cdf9d6d5cddf.png": {
     "image/png": "[encoded data removed]"
    }
   },
   "cell_type": "markdown",
   "id": "572f003e-3943-48e9-b760-9eab7994e337",
   "metadata": {},
   "source": [
    "![image.png](attachment:92b14355-1115-4d39-b021-cdf9d6d5cddf.png)"
   ]
  },
  {
   "cell_type": "markdown",
   "id": "6fbffd7d-23f4-4eee-9655-4224afb74725",
   "metadata": {},
   "source": [
    "### Examples on `index`"
   ]
  },
  {
   "cell_type": "code",
   "execution_count": 15,
   "id": "cf5fecfb-26ff-4bd2-b734-475978d2e16a",
   "metadata": {},
   "outputs": [
    {
     "name": "stdout",
     "output_type": "stream",
     "text": [
      "10\n"
     ]
    }
   ],
   "source": [
    "list1=[10,20,30,40,50]\n",
    "print(list1[0])"
   ]
  },
  {
   "cell_type": "code",
   "execution_count": 17,
   "id": "ad518688-7485-437d-9232-970855e4c4c5",
   "metadata": {},
   "outputs": [
    {
     "name": "stdout",
     "output_type": "stream",
     "text": [
      "50\n"
     ]
    }
   ],
   "source": [
    "print(list1[-1])"
   ]
  },
  {
   "cell_type": "code",
   "execution_count": 19,
   "id": "dda9fc06-f408-498c-9f78-8cf77c6c73b4",
   "metadata": {},
   "outputs": [
    {
     "name": "stdout",
     "output_type": "stream",
     "text": [
      "10 20 30 40 50 "
     ]
    }
   ],
   "source": [
    "# using for loop\n",
    "\n",
    "for i in range(5):\n",
    "    print(list1[i],end=' ')"
   ]
  },
  {
   "cell_type": "markdown",
   "id": "289e861d-8d65-4f59-98b8-70bcee910c4d",
   "metadata": {},
   "source": [
    "**NOTE**\n",
    "\n",
    "if you gives the range outoff,it raises raise and print the values within the range rest of the code error"
   ]
  },
  {
   "cell_type": "code",
   "execution_count": 21,
   "id": "bf95e6ae-39d8-4740-b753-ba6da039a908",
   "metadata": {},
   "outputs": [
    {
     "name": "stdout",
     "output_type": "stream",
     "text": [
      "10 20 30 40 50 "
     ]
    },
    {
     "ename": "IndexError",
     "evalue": "list index out of range",
     "output_type": "error",
     "traceback": [
      "\u001b[1;31m---------------------------------------------------------------------------\u001b[0m",
      "\u001b[1;31mIndexError\u001b[0m                                Traceback (most recent call last)",
      "Cell \u001b[1;32mIn[21], line 2\u001b[0m\n\u001b[0;32m      1\u001b[0m \u001b[38;5;28;01mfor\u001b[39;00m i \u001b[38;5;129;01min\u001b[39;00m \u001b[38;5;28mrange\u001b[39m(\u001b[38;5;241m10\u001b[39m):\n\u001b[1;32m----> 2\u001b[0m     \u001b[38;5;28mprint\u001b[39m(\u001b[43mlist1\u001b[49m\u001b[43m[\u001b[49m\u001b[43mi\u001b[49m\u001b[43m]\u001b[49m,end\u001b[38;5;241m=\u001b[39m\u001b[38;5;124m'\u001b[39m\u001b[38;5;124m \u001b[39m\u001b[38;5;124m'\u001b[39m)\n",
      "\u001b[1;31mIndexError\u001b[0m: list index out of range"
     ]
    }
   ],
   "source": [
    "for i in range(10):\n",
    "    print(list1[i],end=' ')"
   ]
  },
  {
   "cell_type": "markdown",
   "id": "3473c461-a077-4099-9190-9a24c893f64a",
   "metadata": {},
   "source": [
    "see here the elements in the list contains `5 values` ,but we gave the range upto 10 so it prints values upto where the values in the list based on condition rest of it giving `IndexError: List index out of range`"
   ]
  },
  {
   "cell_type": "code",
   "execution_count": 23,
   "id": "27b991f8-20cf-4cd6-af68-fa3c28a78a41",
   "metadata": {},
   "outputs": [
    {
     "name": "stdout",
     "output_type": "stream",
     "text": [
      "50 40 30 20 10 "
     ]
    }
   ],
   "source": [
    "for i in range(-1,-6,-1):\n",
    "    print(list1[i],end=' ')\n"
   ]
  },
  {
   "cell_type": "markdown",
   "id": "4d2e8667-557f-49d3-a430-fb7b22233671",
   "metadata": {},
   "source": [
    "# slicing"
   ]
  },
  {
   "cell_type": "markdown",
   "id": "e6866d9a-dbbe-415e-bdff-fad771657786",
   "metadata": {},
   "source": [
    "Slicing is a process reading `more than one value/item` from sequence.\n",
    "\n",
    "Reading `sub list` (sequence) from `list` (sequence) is called slicing.\n",
    "\n",
    "This slicing is done in different ways.\n",
    "\n",
    "`1. slice operator`\n",
    "\n",
    "`2. slice object`\n",
    "\n",
    "This slicing required generating `multiple indexes`. This multiple indexes are generated using `slice operator` or `slice object`."
   ]
  },
  {
   "cell_type": "markdown",
   "id": "f73f620c-9fc2-442a-a5bb-c1b1027c9ae9",
   "metadata": {},
   "source": [
    "**syntax1**\n",
    "\n",
    "`syntax`: sequence-name[start:stop:step]\n",
    "\n",
    "Internally slice operator uses range for generating multiple indexes.\n",
    "\n",
    "`syntax`: sequence-name[::] --> default values for start=0,stop=len(list),step=1"
   ]
  },
  {
   "cell_type": "code",
   "execution_count": 2,
   "id": "955739ad-cf40-43b1-9b53-5a718116b15a",
   "metadata": {},
   "outputs": [
    {
     "name": "stdout",
     "output_type": "stream",
     "text": [
      "[10, 20, 30, 40, 50]\n"
     ]
    }
   ],
   "source": [
    "# example on slicing syntax1\n",
    "\n",
    "list1=[10,20,30,40,50]\n",
    "print(list1[::])"
   ]
  },
  {
   "cell_type": "markdown",
   "id": "9de71a8e-5ae4-4f25-adef-89be2338a636",
   "metadata": {},
   "source": [
    "**syntax2:**\n",
    "\n",
    "syntax:`sequence-name[::step]`\n",
    "\n",
    "1. If step is +ve then start=0, stop=len(list-name)\n",
    "\n",
    "2. If step is -ve then start=-1,stop=(len(list-name)+1)"
   ]
  },
  {
   "cell_type": "code",
   "execution_count": 4,
   "id": "a2d74e18-e5a9-42d9-a542-168394fc807a",
   "metadata": {},
   "outputs": [
    {
     "name": "stdout",
     "output_type": "stream",
     "text": [
      "[10, 20, 30, 40, 50]\n",
      "[50, 40, 30, 20, 10]\n"
     ]
    }
   ],
   "source": [
    "# example on syntax2\n",
    "\n",
    "list1 = [10,20,30,40,50]\n",
    "print(list1[::1]) # this case is for positive step (+ve)\n",
    "\n",
    "print(list1[::-1]) # this case is for negative step (-ve)"
   ]
  },
  {
   "cell_type": "code",
   "execution_count": 6,
   "id": "bb9ee081-0034-43a3-a40f-54de8f58276c",
   "metadata": {},
   "outputs": [
    {
     "name": "stdout",
     "output_type": "stream",
     "text": [
      "[10, 30, 50]\n",
      "[50, 30, 10]\n"
     ]
    }
   ],
   "source": [
    "print(list1[::2])\n",
    "print(list1[::-2])"
   ]
  },
  {
   "cell_type": "markdown",
   "id": "2f05dfed-5dba-4065-a3b9-fa598fc2da6f",
   "metadata": {},
   "source": [
    "**NOTE:**\n",
    "\n",
    "`string` also sequence data type so slicing is working on string datatype"
   ]
  },
  {
   "cell_type": "code",
   "execution_count": 7,
   "id": "2437d513-c062-4b54-b225-bab9c1f1c8b4",
   "metadata": {},
   "outputs": [
    {
     "name": "stdout",
     "output_type": "stream",
     "text": [
      "uday\n"
     ]
    }
   ],
   "source": [
    "str1 = \"uday\"\n",
    "print(str1[::1])"
   ]
  },
  {
   "cell_type": "markdown",
   "id": "cac7380a-d4d6-4fff-b7ae-470e064d7787",
   "metadata": {},
   "source": [
    "**Syntax-3** \n",
    "\n",
    "Syntax: sequence-name[start::] 🡪 stop=len of lsit,step=1\r\n",
    "\r\n"
   ]
  },
  {
   "cell_type": "code",
   "execution_count": 9,
   "id": "8226f055-b436-4b68-a4ca-c3eec6f3421a",
   "metadata": {},
   "outputs": [
    {
     "name": "stdout",
     "output_type": "stream",
     "text": [
      "[60, 70, 80, 90, 100]\n"
     ]
    }
   ],
   "source": [
    "list1=[10,20,30,40,50,60,70,80,90,100]\n",
    "list2=list1[5:]\n",
    "print(list2)"
   ]
  },
  {
   "cell_type": "markdown",
   "id": "f73ea180-170c-4bc3-802a-3b7d80bca09f",
   "metadata": {},
   "source": [
    "**Syntax-4**\n",
    "\n",
    "Syntax-: sequence-name[:stop:]"
   ]
  },
  {
   "cell_type": "code",
   "execution_count": 13,
   "id": "1a162464-4b46-4669-ab0f-0e5e0b92bf91",
   "metadata": {},
   "outputs": [
    {
     "name": "stdout",
     "output_type": "stream",
     "text": [
      "[10, 20, 30, 40, 50]\n"
     ]
    }
   ],
   "source": [
    "list1=[10,20,30,40,50,60,70,80,90,100]\n",
    "list2=list1[:5:]\n",
    "print(list2)"
   ]
  },
  {
   "cell_type": "code",
   "execution_count": 14,
   "id": "6ce7ec26-8e20-49b2-af83-9e500f5cca07",
   "metadata": {},
   "outputs": [
    {
     "name": "stdout",
     "output_type": "stream",
     "text": [
      "[10, 20, 30, 40, 50]\n"
     ]
    }
   ],
   "source": [
    "list3=list1[:-5:]\n",
    "print(list3)"
   ]
  },
  {
   "cell_type": "markdown",
   "id": "e5158b9f-b971-465c-88f4-bc4b72704859",
   "metadata": {},
   "source": [
    "**Syntax5**\n",
    "\n",
    "`Syntax-5` : sequence-name[start:stop]"
   ]
  },
  {
   "cell_type": "code",
   "execution_count": 16,
   "id": "51c71277-15a0-48f5-929f-75434aa52885",
   "metadata": {},
   "outputs": [
    {
     "name": "stdout",
     "output_type": "stream",
     "text": [
      "[10, 20, 30, 40, 50]\n"
     ]
    }
   ],
   "source": [
    "list1=[10,20,30,40,50,60,70,80,90,100]\n",
    "list2=list1[0:5]\n",
    "print(list2)"
   ]
  },
  {
   "cell_type": "code",
   "execution_count": 18,
   "id": "4a7c7a11-5b40-4c6b-b549-1c205c697670",
   "metadata": {},
   "outputs": [
    {
     "name": "stdout",
     "output_type": "stream",
     "text": [
      "[60, 70, 80]\n"
     ]
    }
   ],
   "source": [
    "list3=list1[5:8]\n",
    "print(list3)"
   ]
  },
  {
   "cell_type": "markdown",
   "id": "f6abeb17-fd16-4288-a2e9-3b6391457851",
   "metadata": {},
   "source": [
    "\n",
    "**Syntax6**\n",
    "\n",
    "`Syntax6`: sequence-name[start:stop:step]"
   ]
  },
  {
   "cell_type": "code",
   "execution_count": 19,
   "id": "582b1713-2720-4653-8a1f-4ca29b608911",
   "metadata": {},
   "outputs": [
    {
     "name": "stdout",
     "output_type": "stream",
     "text": [
      "[40, 60, 80]\n"
     ]
    }
   ],
   "source": [
    "list1=[10,20,30,40,50,60,70,80,90,100]\n",
    "list2=list1[3:9:2]\n",
    "print(list2)"
   ]
  },
  {
   "cell_type": "markdown",
   "id": "92971c19-d9b1-4b6b-ad4b-17a48357801b",
   "metadata": {},
   "source": [
    "## slice object\n",
    "\n",
    "slice object represents slice operator values (start,stop,step)\n",
    "\n",
    "slice object is reusable."
   ]
  },
  {
   "cell_type": "markdown",
   "id": "a2b01643-b0e1-4e4d-8d33-c32aba5aebb9",
   "metadata": {},
   "source": [
    "`Syntax:` slice(stop)\n",
    "\n",
    "`Syntax:` slice(start,stop,step)\n"
   ]
  },
  {
   "cell_type": "code",
   "execution_count": 2,
   "id": "b0534b57-56be-4e70-97f1-784f556a3b6d",
   "metadata": {},
   "outputs": [],
   "source": [
    "s1=slice(3)\n",
    "list1=[10,20,30,40,50,60,70,80,90,100]\n",
    "list2=list1[s1]"
   ]
  },
  {
   "cell_type": "code",
   "execution_count": 3,
   "id": "ca0e886c-ce7b-481c-8138-3eabcd8a1544",
   "metadata": {},
   "outputs": [
    {
     "name": "stdout",
     "output_type": "stream",
     "text": [
      "[10, 20, 30, 40, 50, 60, 70, 80, 90, 100]\n",
      "[10, 20, 30]\n"
     ]
    }
   ],
   "source": [
    "print(list1)\n",
    "print(list2)"
   ]
  },
  {
   "cell_type": "code",
   "execution_count": 4,
   "id": "738fe778-c4c3-4d82-800b-5718e631eba5",
   "metadata": {},
   "outputs": [],
   "source": [
    "s1=slice(2,9,1)\n",
    "list1=[10,20,30,40,50,60,70,80,90,100]\n",
    "list2=list1[s1]"
   ]
  },
  {
   "cell_type": "code",
   "execution_count": 5,
   "id": "c0121982-f40b-42cd-a849-76e560259d2a",
   "metadata": {},
   "outputs": [
    {
     "name": "stdout",
     "output_type": "stream",
     "text": [
      "[10, 20, 30, 40, 50, 60, 70, 80, 90, 100]\n",
      "[30, 40, 50, 60, 70, 80, 90]\n"
     ]
    }
   ],
   "source": [
    "print(list1)\n",
    "print(list2)"
   ]
  },
  {
   "cell_type": "markdown",
   "id": "1d7d6176-dc5f-45ac-8175-90c13b6f7bd6",
   "metadata": {},
   "source": [
    "### what is diffrence between indexing and slicing?\n",
    "\n",
    "indexing is  used to reads one item.\n",
    "\n",
    "Slicing is used for read values from iterables/collections."
   ]
  },
  {
   "cell_type": "markdown",
   "id": "2caec190-a417-407b-af45-8fcf418788f7",
   "metadata": {},
   "source": [
    "## Iterables\n",
    "\n",
    "Iterable is an object which can be looped over or iterated over with the help of a `for loop`.\n",
    "\n",
    "example of iterables are:\n",
    "\n",
    "1. Lists\n",
    "\n",
    "2. Tuples\n",
    "\n",
    "3. Sets\n",
    "\n",
    "4. Dictonaries\n",
    "\n",
    "5. String"
   ]
  },
  {
   "cell_type": "markdown",
   "id": "93269f26-281b-4e91-89ac-e6a9e664059e",
   "metadata": {},
   "source": [
    "## for loop to read content in the list"
   ]
  },
  {
   "cell_type": "markdown",
   "id": "d2b0504b-40ac-4091-ac3d-41191b585c0a",
   "metadata": {},
   "source": [
    "**syntax**:\n",
    "\n",
    "  for variable in iterable:\n",
    "  \n",
    "        statement-1\n",
    "        \n",
    "        statement-2"
   ]
  },
  {
   "cell_type": "markdown",
   "id": "0a18d724-7cd4-4640-96fb-e9e42817564e",
   "metadata": {},
   "source": [
    "##  Iterables looped over on lists using the for loop"
   ]
  },
  {
   "cell_type": "code",
   "execution_count": 7,
   "id": "cae80638-6f1a-48fb-a1be-ab37f043c193",
   "metadata": {},
   "outputs": [
    {
     "name": "stdout",
     "output_type": "stream",
     "text": [
      "Total 550\n"
     ]
    }
   ],
   "source": [
    "list1=[10,20,30,40,50,60,70,80,90,100]\n",
    "total=0\n",
    "for i in list1:\n",
    "    total+=i\n",
    "print(\"Total\",total)\n",
    "    "
   ]
  },
  {
   "cell_type": "markdown",
   "id": "9c24e302-c06a-4c9f-9c00-6ce184391807",
   "metadata": {},
   "source": [
    "### iter(iterator)"
   ]
  },
  {
   "cell_type": "markdown",
   "id": "c281f5c3-006f-4bda-9b53-bb7ea93ac844",
   "metadata": {},
   "source": [
    "1. iterator is used to read items/values from collection/iterables.\n",
    "\n",
    "2. iterator is read values values in forward direction\n",
    "\n",
    "3. iterator is an immutable.it used to read but not to write.\n",
    "\n",
    "4. iterator is useful for non index based collection for reading data."
   ]
  },
  {
   "cell_type": "markdown",
   "id": "b61fc8d6-a5d7-4815-a5ae-8e220fa9d648",
   "metadata": {},
   "source": [
    "An iterator in Python is an object that is used to iterate over iterable objects like lists, tuples, dicts, and sets. \n",
    "\n",
    "The Python iterators object is initialized using the iter() method. It uses the next() method for iteration."
   ]
  },
  {
   "cell_type": "markdown",
   "id": "e9c1c088-0992-4b10-a209-48a7440153a5",
   "metadata": {},
   "source": [
    "**NOTE**:\n",
    "\n",
    "1. The iter() method is called for the initialization of an iterator. This returns an itrator object.\n",
    "\n",
    "2. The next method returns the value for the iterable."
   ]
  },
  {
   "cell_type": "markdown",
   "id": "96f64bc3-a403-4437-aed9-dce4ece41db7",
   "metadata": {},
   "source": [
    "see here we can read the values from the list using `index` , `slicing` etc.\n",
    "\n",
    "but using the `index` to return the `one item` from the list.\n",
    "\n",
    "similary by using the `slicing` we return `more than one item`.\n",
    "\n",
    "as come into the `iterator` it returns the values `one by one`.\n",
    "\n",
    "**let see this example**"
   ]
  },
  {
   "cell_type": "code",
   "execution_count": 9,
   "id": "e7cce044-0d94-45a8-aa3f-35cd850f16ed",
   "metadata": {},
   "outputs": [
    {
     "name": "stdout",
     "output_type": "stream",
     "text": [
      "12\n"
     ]
    }
   ],
   "source": [
    "# using index method\n",
    "\n",
    "A=[12,20,30,40,50,60]\n",
    "print(A[0]) # it returns the first value in the list that means index is start from the 0\n"
   ]
  },
  {
   "cell_type": "code",
   "execution_count": 16,
   "id": "dfa4c039-5ac9-4f1b-9e13-4d7d5dc43193",
   "metadata": {},
   "outputs": [
    {
     "name": "stdout",
     "output_type": "stream",
     "text": [
      "[12, 20, 30, 40, 50]\n"
     ]
    }
   ],
   "source": [
    "# using slciing method\n",
    "\n",
    "A=[12,20,30,40,50,60]\n",
    "print(A[0:5:1]) # here I printing the values from the index 0 to 5 with step 1"
   ]
  },
  {
   "cell_type": "markdown",
   "id": "21506527-196b-47fa-b3a1-28f3f267f725",
   "metadata": {},
   "source": [
    "**NOTE**\n",
    "\n",
    "In slicing method stop value always `exclusive` (not included)"
   ]
  },
  {
   "cell_type": "markdown",
   "id": "ff572e6f-735e-4590-acf3-352e74c87498",
   "metadata": {},
   "source": [
    "Let see with an example on sets how `iter` works\n",
    "\n",
    "we can't directly applied the index on the sets\n",
    "\n",
    "If we apply on the set then immediately leads to be an error"
   ]
  },
  {
   "cell_type": "code",
   "execution_count": 18,
   "id": "4d1742f8-5726-40ab-b541-f9600c053de1",
   "metadata": {},
   "outputs": [
    {
     "ename": "TypeError",
     "evalue": "'set' object is not subscriptable",
     "output_type": "error",
     "traceback": [
      "\u001b[1;31m---------------------------------------------------------------------------\u001b[0m",
      "\u001b[1;31mTypeError\u001b[0m                                 Traceback (most recent call last)",
      "Cell \u001b[1;32mIn[18], line 2\u001b[0m\n\u001b[0;32m      1\u001b[0m B\u001b[38;5;241m=\u001b[39m{\u001b[38;5;241m10\u001b[39m,\u001b[38;5;241m20\u001b[39m,\u001b[38;5;241m30\u001b[39m,\u001b[38;5;241m40\u001b[39m,\u001b[38;5;241m50\u001b[39m}\n\u001b[1;32m----> 2\u001b[0m \u001b[43mB\u001b[49m\u001b[43m[\u001b[49m\u001b[38;5;241;43m0\u001b[39;49m\u001b[43m]\u001b[49m\n",
      "\u001b[1;31mTypeError\u001b[0m: 'set' object is not subscriptable"
     ]
    }
   ],
   "source": [
    "B={10,20,30,40,50}\n",
    "B[0]"
   ]
  },
  {
   "cell_type": "markdown",
   "id": "0cb027d4-d71e-4075-86ed-17e0fc4708de",
   "metadata": {},
   "source": [
    "`set object`is not subscriptable"
   ]
  },
  {
   "cell_type": "markdown",
   "id": "e7145b99-cbd2-487c-bcaa-0cbe9810525e",
   "metadata": {},
   "source": [
    "a=iter(B)\n",
    "next(a)"
   ]
  },
  {
   "cell_type": "code",
   "execution_count": 21,
   "id": "f88e0443-7d49-4df4-a3d8-985625e5fa82",
   "metadata": {},
   "outputs": [
    {
     "data": {
      "text/plain": [
       "20"
      ]
     },
     "execution_count": 21,
     "metadata": {},
     "output_type": "execute_result"
    }
   ],
   "source": [
    "next(a)"
   ]
  },
  {
   "cell_type": "code",
   "execution_count": 22,
   "id": "b153801f-0c71-4927-ba9a-a18485bbee79",
   "metadata": {},
   "outputs": [
    {
     "data": {
      "text/plain": [
       "40"
      ]
     },
     "execution_count": 22,
     "metadata": {},
     "output_type": "execute_result"
    }
   ],
   "source": [
    "next(a)"
   ]
  },
  {
   "cell_type": "code",
   "execution_count": 23,
   "id": "c0178747-0119-46fc-83f2-a3c985dd23c4",
   "metadata": {},
   "outputs": [
    {
     "data": {
      "text/plain": [
       "10"
      ]
     },
     "execution_count": 23,
     "metadata": {},
     "output_type": "execute_result"
    }
   ],
   "source": [
    "next(a)"
   ]
  },
  {
   "cell_type": "code",
   "execution_count": 24,
   "id": "6ffa91c2-22d5-4d97-9b7f-a3aa1192cc85",
   "metadata": {},
   "outputs": [
    {
     "data": {
      "text/plain": [
       "30"
      ]
     },
     "execution_count": 24,
     "metadata": {},
     "output_type": "execute_result"
    }
   ],
   "source": [
    "next(a)"
   ]
  },
  {
   "cell_type": "markdown",
   "id": "01b411e2-f59b-415c-9560-35e8b67947e2",
   "metadata": {},
   "source": [
    "**Let observe the above iterators using with iter() method**\n",
    "\n",
    "the values return from the iterable objects are `non index based`"
   ]
  },
  {
   "cell_type": "code",
   "execution_count": 27,
   "id": "6989c9dd-7626-4409-aba1-b1379257edf8",
   "metadata": {},
   "outputs": [
    {
     "name": "stdout",
     "output_type": "stream",
     "text": [
      "10\n",
      "20\n",
      "30\n",
      "40\n",
      "50\n",
      "60\n",
      "70\n",
      "80\n",
      "90\n",
      "100\n"
     ]
    }
   ],
   "source": [
    "list1==[10,20,30,40,50,60,70,80,90,100]\n",
    "c=iter(list1)\n",
    "for i in c:\n",
    "    print(i)"
   ]
  },
  {
   "cell_type": "markdown",
   "id": "57d8c46f-55ac-4380-915c-ab1e30c946e1",
   "metadata": {},
   "source": [
    "`iter()` only to read the value from the iterable object whatif we assign or replace the value with other elements \n",
    "then immediatley leads to be an error"
   ]
  },
  {
   "cell_type": "code",
   "execution_count": 28,
   "id": "60f35a4f-b065-454d-93e5-9abed4fd46d1",
   "metadata": {},
   "outputs": [
    {
     "ename": "TypeError",
     "evalue": "'list_iterator' object does not support item assignment",
     "output_type": "error",
     "traceback": [
      "\u001b[1;31m---------------------------------------------------------------------------\u001b[0m",
      "\u001b[1;31mTypeError\u001b[0m                                 Traceback (most recent call last)",
      "Cell \u001b[1;32mIn[28], line 1\u001b[0m\n\u001b[1;32m----> 1\u001b[0m \u001b[43mc\u001b[49m\u001b[43m[\u001b[49m\u001b[38;5;241;43m0\u001b[39;49m\u001b[43m]\u001b[49m\u001b[38;5;241m=\u001b[39m\u001b[38;5;241m100\u001b[39m\n",
      "\u001b[1;31mTypeError\u001b[0m: 'list_iterator' object does not support item assignment"
     ]
    }
   ],
   "source": [
    "c[0]=100"
   ]
  },
  {
   "cell_type": "markdown",
   "id": "be88f2dc-0546-41bc-a55d-39b3cdaa5807",
   "metadata": {},
   "source": [
    "## enumerate\n",
    "\n",
    "enumerate alos iterator object but this returns two values.\n",
    "\n",
    "1. positions\n",
    "\n",
    "2. values\n",
    "\n",
    "syntax: `enumerate(iterable,start=0)`"
   ]
  },
  {
   "cell_type": "code",
   "execution_count": 29,
   "id": "1123e496-ac21-4c0c-a6b9-bc2775187e73",
   "metadata": {},
   "outputs": [
    {
     "name": "stdout",
     "output_type": "stream",
     "text": [
      "['uday', 'kiran', 'atchut', 'jyostna']\n"
     ]
    }
   ],
   "source": [
    "names = ['uday','kiran','atchut','jyostna']\n",
    "print(names)"
   ]
  },
  {
   "cell_type": "code",
   "execution_count": 32,
   "id": "2546368e-6d3c-4e50-b250-cf2c01cd681b",
   "metadata": {},
   "outputs": [
    {
     "name": "stdout",
     "output_type": "stream",
     "text": [
      "(1, 'uday')\n",
      "(2, 'kiran')\n",
      "(3, 'atchut')\n",
      "(4, 'jyostna')\n"
     ]
    }
   ],
   "source": [
    "a = enumerate(names,start=1)\n",
    "for x in a:\n",
    "    print(x)"
   ]
  },
  {
   "cell_type": "markdown",
   "id": "be9da6ec-db34-49b0-b209-d96e7df80422",
   "metadata": {},
   "source": [
    "For above example we clearly observes that enumberate method returns two values \n",
    "\n",
    "`position`: This values indicates the position of the value where we mentioned in the start to assign something.\n",
    "\n",
    "`value`: This values are in the values from the lists."
   ]
  },
  {
   "cell_type": "code",
   "execution_count": 43,
   "id": "ada66d57-d6df-4ecf-b017-788f29e66c1b",
   "metadata": {},
   "outputs": [
    {
     "name": "stdout",
     "output_type": "stream",
     "text": [
      "(100, 1000)\n",
      "(101, 2000)\n",
      "(102, 3000)\n",
      "(103, 5000)\n",
      "(104, 6000)\n"
     ]
    }
   ],
   "source": [
    "# consider list of monthly sales from day 1 to day 5\n",
    "\n",
    "sales=[1000,2000,3000,5000,6000]\n",
    "s= enumerate(sales,start=100)\n",
    "for i in s:\n",
    "    print(i)"
   ]
  }
 ],
 "metadata": {
  "kernelspec": {
   "display_name": "Python 3 (ipykernel)",
   "language": "python",
   "name": "python3"
  },
  "language_info": {
   "codemirror_mode": {
    "name": "ipython",
    "version": 3
   },
   "file_extension": ".py",
   "mimetype": "text/x-python",
   "name": "python",
   "nbconvert_exporter": "python",
   "pygments_lexer": "ipython3",
   "version": "3.12.0"
  }
 },
 "nbformat": 4,
 "nbformat_minor": 5
}
