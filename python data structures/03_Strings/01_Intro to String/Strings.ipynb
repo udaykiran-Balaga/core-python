{
 "cells": [
  {
   "cell_type": "markdown",
   "id": "e86e0239-23cd-4e75-af75-2b646a88110a",
   "metadata": {},
   "source": [
    "# Strings"
   ]
  },
  {
   "cell_type": "markdown",
   "id": "a6a901af-2b13-43b9-949b-448b3a03477e",
   "metadata": {},
   "source": [
    "string is an immutable sequence data type. After creating string changes cannot be done.\n",
    "\n",
    "string is a collection of characters; these characters can be alphabets digits or special characters, It is non numeric data type."
   ]
  },
  {
   "cell_type": "markdown",
   "id": "2b950c48-5cca-4181-aad5-7dd4a35345b9",
   "metadata": {},
   "source": [
    "**How to create string?**\n",
    "\n",
    "1. string is represented within single quotes.\n",
    "\n",
    "2. string is represented within double quotes\n",
    "\n",
    "3. string is represented within triple quotes or double quotes\n",
    "\n",
    "4. str() function"
   ]
  },
  {
   "cell_type": "code",
   "execution_count": 1,
   "id": "b0e99837-cc0b-4aa2-8fd5-baa55c307d21",
   "metadata": {},
   "outputs": [],
   "source": [
    "str1='python is a programming language'\n",
    "str2=\"python is a programming language\"\n",
    "str3='''python\n",
    "is\n",
    "a programming\n",
    "language\n",
    "'''"
   ]
  },
  {
   "cell_type": "code",
   "execution_count": 2,
   "id": "8b87c5c9-4999-4e13-911f-4f538e40c24e",
   "metadata": {},
   "outputs": [
    {
     "name": "stdout",
     "output_type": "stream",
     "text": [
      "python is a programming language\n"
     ]
    }
   ],
   "source": [
    "print(str1)"
   ]
  },
  {
   "cell_type": "code",
   "execution_count": 3,
   "id": "bd5431dc-76a3-49df-b43d-d74018707064",
   "metadata": {},
   "outputs": [
    {
     "name": "stdout",
     "output_type": "stream",
     "text": [
      "python is a programming language\n"
     ]
    }
   ],
   "source": [
    "print(str2)"
   ]
  },
  {
   "cell_type": "code",
   "execution_count": 4,
   "id": "6c097a1d-e655-494c-9648-a0026b00e881",
   "metadata": {},
   "outputs": [
    {
     "name": "stdout",
     "output_type": "stream",
     "text": [
      "python\n",
      "is\n",
      "a programming\n",
      "language\n",
      "\n"
     ]
    }
   ],
   "source": [
    "print(str3)"
   ]
  },
  {
   "cell_type": "markdown",
   "id": "814fee87-782f-458c-8d28-fcc7c66d7ceb",
   "metadata": {},
   "source": [
    "**raw string**"
   ]
  },
  {
   "cell_type": "markdown",
   "id": "f0ca49b3-a02f-4b96-90cc-fb60501839c6",
   "metadata": {},
   "source": [
    "The string prefix with `r` is called raw string\n",
    "\n",
    "python raw string treatws the backslash character (\\) as a literal character.\n",
    "\n",
    "you can create a raw string in python by prefixing a string literal with `r` or `R`.\n",
    "Raw string is useful when a string needs to contain a backslash, such as for a regular exression or windows directory path, and you don't want it to be treated as an escape character."
   ]
  },
  {
   "cell_type": "code",
   "execution_count": 6,
   "id": "adf3f319-8d23-478f-9fa9-a77caa4d66d9",
   "metadata": {},
   "outputs": [
    {
     "name": "stdout",
     "output_type": "stream",
     "text": [
      "python\tjava\toracle\n"
     ]
    }
   ],
   "source": [
    "str1=\"python\\tjava\\toracle\"\n",
    "print(str1)"
   ]
  },
  {
   "cell_type": "code",
   "execution_count": 7,
   "id": "3162e76d-911b-49b4-87db-873099e3dcf0",
   "metadata": {},
   "outputs": [
    {
     "name": "stdout",
     "output_type": "stream",
     "text": [
      "python\\tjava\\toracle\n"
     ]
    }
   ],
   "source": [
    "str2=r'python\\tjava\\toracle'\n",
    "print(str2)"
   ]
  },
  {
   "cell_type": "markdown",
   "id": "b6387d86-cb5b-41af-b6e6-1db639c7c878",
   "metadata": {},
   "source": [
    "**f-string**"
   ]
  },
  {
   "cell_type": "markdown",
   "id": "136057e2-8217-4e67-bef8-acd1e50e0518",
   "metadata": {},
   "source": [
    "f-string stands for format string. It is used for formatting output.\n",
    "\n",
    "This string is prefix with f or F"
   ]
  },
  {
   "cell_type": "code",
   "execution_count": 9,
   "id": "73057ec2-6c12-42f5-805e-78f7725a8a74",
   "metadata": {},
   "outputs": [
    {
     "name": "stdout",
     "output_type": "stream",
     "text": [
      "sum of 10 and 20 is 30\n"
     ]
    }
   ],
   "source": [
    "a=10\n",
    "b=20\n",
    "print(f'sum of {a} and {b} is {a+b}')\n"
   ]
  }
 ],
 "metadata": {
  "kernelspec": {
   "display_name": "Python 3 (ipykernel)",
   "language": "python",
   "name": "python3"
  },
  "language_info": {
   "codemirror_mode": {
    "name": "ipython",
    "version": 3
   },
   "file_extension": ".py",
   "mimetype": "text/x-python",
   "name": "python",
   "nbconvert_exporter": "python",
   "pygments_lexer": "ipython3",
   "version": "3.12.0"
  }
 },
 "nbformat": 4,
 "nbformat_minor": 5
}
