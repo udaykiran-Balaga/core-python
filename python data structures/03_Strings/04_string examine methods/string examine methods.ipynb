{
 "cells": [
  {
   "cell_type": "markdown",
   "id": "21c04409-c8ca-45d4-8b69-c7d2d1a9aeab",
   "metadata": {},
   "source": [
    "# string examine methods"
   ]
  },
  {
   "cell_type": "markdown",
   "id": "533761c9-e704-428a-ac67-f1a2025cb5e0",
   "metadata": {},
   "source": [
    "These methods are used for comparing strings or examine strings.\n",
    "\n",
    "This methods return Boolean value (True/False)."
   ]
  },
  {
   "cell_type": "markdown",
   "id": "5a5bf6ba-65f9-4169-ad2a-83dfb7aff4f6",
   "metadata": {},
   "source": [
    "`1. isalpha()`\n",
    "\n",
    "`2. isalnum()`\n",
    "\n",
    "`3. isdigit()`\n",
    "\n",
    "`4. isspace()`\n",
    "\n",
    "`5. isupper()`\n",
    "\n",
    "`6. islower()`"
   ]
  },
  {
   "cell_type": "markdown",
   "id": "45b7705c-e712-4aab-9ead-3a2d2ba75671",
   "metadata": {},
   "source": [
    "**isalpha(()**\n",
    "\n",
    "This method returns True, if all characters inside strings are alphabets else return False"
   ]
  },
  {
   "cell_type": "markdown",
   "id": "872dfe68-e92b-4e95-8804-93b78eb97d43",
   "metadata": {},
   "source": [
    "**example**\n",
    "\n",
    "**write a program to find input string alphabetic string or not**"
   ]
  },
  {
   "cell_type": "code",
   "execution_count": 1,
   "id": "31166d30-a1f4-4a24-b1ab-80fad654772f",
   "metadata": {},
   "outputs": [
    {
     "name": "stdin",
     "output_type": "stream",
     "text": [
      "Enter any string  PYTHON 3.12\n"
     ]
    },
    {
     "name": "stdout",
     "output_type": "stream",
     "text": [
      "False\n"
     ]
    }
   ],
   "source": [
    "str1=input(\"Enter any string \")\n",
    "# using predefined method\n",
    "\n",
    "res=str1.isalpha()\n",
    "print(res)"
   ]
  },
  {
   "cell_type": "code",
   "execution_count": 2,
   "id": "3c66b047-5d20-4e32-9422-8498383cdbb7",
   "metadata": {},
   "outputs": [
    {
     "name": "stdout",
     "output_type": "stream",
     "text": [
      "False\n"
     ]
    }
   ],
   "source": [
    "#without using predefined method\n",
    "\n",
    "res=True\n",
    "for char in str1:\n",
    "    if (char>='a' and char<='z') or (char>='A' and char<='Z'):\n",
    "        pass\n",
    "    else:\n",
    "        res=False\n",
    "        break\n",
    "print(res)"
   ]
  },
  {
   "cell_type": "markdown",
   "id": "f3ab9121-5bcf-447b-a624-3785e1cce7e8",
   "metadata": {},
   "source": [
    "**isdigit()**\n",
    "\n",
    "This method returns True. if string contains only digits else False"
   ]
  },
  {
   "cell_type": "markdown",
   "id": "39649c0b-a598-4e24-92d0-5caefa3cb50f",
   "metadata": {},
   "source": [
    "**write a program to find input string contains only digits or not**\n"
   ]
  },
  {
   "cell_type": "code",
   "execution_count": 4,
   "id": "92e4c7da-a1be-4bf8-a879-0d72748d17ac",
   "metadata": {},
   "outputs": [
    {
     "name": "stdin",
     "output_type": "stream",
     "text": [
      "Enter any string  123456\n"
     ]
    },
    {
     "name": "stdout",
     "output_type": "stream",
     "text": [
      "True\n"
     ]
    }
   ],
   "source": [
    "\n",
    "str1=input(\"Enter any string \")\n",
    "\n",
    "# using predefined method\n",
    "\n",
    "res=str1.isdigit()\n",
    "print(res)"
   ]
  },
  {
   "cell_type": "code",
   "execution_count": 5,
   "id": "db896b14-e68f-47d1-b4d7-6ad45cb16572",
   "metadata": {},
   "outputs": [
    {
     "name": "stdout",
     "output_type": "stream",
     "text": [
      "True\n"
     ]
    }
   ],
   "source": [
    "# without using predefined method\n",
    "\n",
    "res=True\n",
    "for char in str1:\n",
    "    if char>='0' and char<='9':\n",
    "        pass\n",
    "    else:\n",
    "        res=False\n",
    "print(res)"
   ]
  },
  {
   "cell_type": "markdown",
   "id": "5a379506-f7d7-43fe-99c5-19a1748d53f7",
   "metadata": {},
   "source": [
    "**isspace()**\n",
    "\n",
    "This method returns True, if strign contains only spaces else false"
   ]
  },
  {
   "cell_type": "code",
   "execution_count": 6,
   "id": "9a6b41d7-7512-4f70-a218-22050f4a80b0",
   "metadata": {},
   "outputs": [
    {
     "data": {
      "text/plain": [
       "True"
      ]
     },
     "execution_count": 6,
     "metadata": {},
     "output_type": "execute_result"
    }
   ],
   "source": [
    "str1=' '\n",
    "str1.isspace()"
   ]
  },
  {
   "cell_type": "code",
   "execution_count": 7,
   "id": "9eaa4bc8-eafb-4a70-b95e-2544670e43bf",
   "metadata": {},
   "outputs": [
    {
     "data": {
      "text/plain": [
       "False"
      ]
     },
     "execution_count": 7,
     "metadata": {},
     "output_type": "execute_result"
    }
   ],
   "source": [
    "str1=''\n",
    "str1.isspace()"
   ]
  },
  {
   "cell_type": "code",
   "execution_count": 9,
   "id": "bffebf7b-1dfa-41ed-bc85-4c48cb4a30ad",
   "metadata": {},
   "outputs": [
    {
     "data": {
      "text/plain": [
       "False"
      ]
     },
     "execution_count": 9,
     "metadata": {},
     "output_type": "execute_result"
    }
   ],
   "source": [
    "str2=\"a b c d\"\n",
    "str2.isspace()"
   ]
  },
  {
   "cell_type": "markdown",
   "id": "7ce4ec51-afd1-429a-af00-057ea1e5f295",
   "metadata": {},
   "source": [
    "# string split methods"
   ]
  },
  {
   "cell_type": "markdown",
   "id": "616f4dcc-a969-4301-b8e5-9ace4562fea7",
   "metadata": {},
   "source": [
    "`1. split()`\n",
    "\n",
    "`2. rsplit()`\n",
    "\n",
    "split method required separator for splitting string into multiple strings."
   ]
  },
  {
   "cell_type": "code",
   "execution_count": 10,
   "id": "e3541403-452d-488b-a0dd-90268b546b64",
   "metadata": {},
   "outputs": [
    {
     "name": "stdout",
     "output_type": "stream",
     "text": [
      "['a', 'b', 'c', 'd', 'e']\n"
     ]
    }
   ],
   "source": [
    "str1=\"a,b,c,d,e\"\n",
    "list1=str1.split(\",\")\n",
    "print(list1)"
   ]
  },
  {
   "cell_type": "code",
   "execution_count": 11,
   "id": "887779df-2454-4b32-98ec-ba520f19deb7",
   "metadata": {},
   "outputs": [
    {
     "name": "stdout",
     "output_type": "stream",
     "text": [
      "['a', 'b', 'c,d,e']\n"
     ]
    }
   ],
   "source": [
    "list2=str1.split(\",\",2)\n",
    "print(list2)\n"
   ]
  },
  {
   "cell_type": "code",
   "execution_count": 12,
   "id": "98de24ea-19d8-4ad8-8c3a-346c985d3760",
   "metadata": {},
   "outputs": [
    {
     "name": "stdout",
     "output_type": "stream",
     "text": [
      "['a', 'b', 'c', 'd', 'e']\n"
     ]
    }
   ],
   "source": [
    "list3=str1.rsplit(\",\")\n",
    "print(list3)"
   ]
  },
  {
   "cell_type": "code",
   "execution_count": 13,
   "id": "6ade2a12-ec98-46ae-8541-9a120afabd7e",
   "metadata": {},
   "outputs": [
    {
     "name": "stdout",
     "output_type": "stream",
     "text": [
      "['a,b,c', 'd', 'e']\n"
     ]
    }
   ],
   "source": [
    "list4=str1.rsplit(\",\",2)\n",
    "print(list4)"
   ]
  },
  {
   "cell_type": "markdown",
   "id": "1132fa45-8567-4b17-920e-af5170e26ac8",
   "metadata": {},
   "source": [
    "# join() method"
   ]
  },
  {
   "cell_type": "markdown",
   "id": "bdfecbe0-af1f-4a48-9057-95c2b4e3c10a",
   "metadata": {},
   "source": [
    "This method is used to join list of strings (OR) collection of string data into one string using separator.\n",
    "\n",
    "`Syntax: separator.join(iterable)`\n",
    "\n",
    "separator is string which is used to join iterable of string into one string."
   ]
  },
  {
   "cell_type": "code",
   "execution_count": 14,
   "id": "baf3f7fa-419e-49f9-a26b-4cd9d274d55f",
   "metadata": {},
   "outputs": [
    {
     "name": "stdout",
     "output_type": "stream",
     "text": [
      "hello world\n"
     ]
    }
   ],
   "source": [
    "list1=[\"hello\",\"world\"]\n",
    "str1=' '.join(list1)\n",
    "print(str1)"
   ]
  },
  {
   "cell_type": "markdown",
   "id": "02c57f28-955b-4a5e-8116-4d18764df40b",
   "metadata": {},
   "source": [
    "# string alignment methods or justification methods"
   ]
  },
  {
   "cell_type": "markdown",
   "id": "5900df2b-9ab8-468f-8f29-5e1b8dff7424",
   "metadata": {},
   "source": [
    "`1. ljust()`\n",
    "\n",
    "`2. rjust()`\n",
    "\n",
    "`3. center()`"
   ]
  },
  {
   "cell_type": "markdown",
   "id": "8bbcad6f-bc40-4026-83f7-c4e51d3b92c2",
   "metadata": {},
   "source": [
    "**str.ljust(width[,fillchar])**\n",
    "\n",
    "Return the string left justified in a string of length width. Padding is done using the specified fillchar (default is an ASCII space). The original string is returned it width is less than or equal to len(x)."
   ]
  },
  {
   "cell_type": "code",
   "execution_count": 20,
   "id": "5acf983c-17fb-47f3-babc-f1af75d7c7bb",
   "metadata": {},
   "outputs": [
    {
     "name": "stdout",
     "output_type": "stream",
     "text": [
      "python              \n",
      "\n",
      "python**************\n",
      "\n",
      "python$$$$$$$$$$$$$$$$$$$$$$$$\n",
      "\n",
      "python^^^^^^^^^^^^^^^^^^^^^^^^\n"
     ]
    }
   ],
   "source": [
    "# example\n",
    "\n",
    "s1=\"python\"\n",
    "print(s1.ljust(20))\n",
    "print()\n",
    "print(s1.ljust(20,'*'))\n",
    "print()\n",
    "print(s1.ljust(30,'$'))\n",
    "print()\n",
    "print(s1.ljust(30,'^'))"
   ]
  },
  {
   "cell_type": "markdown",
   "id": "fcd2419a-e5e3-4695-9567-4141dd752d16",
   "metadata": {},
   "source": [
    "**str.ljust(width[,fillchar])**\n",
    "\n",
    "Return the string right justified in a string of length width. Padding is done using the specified fillchar (default is an ASCII space). The original string is returned if width is less than or equal to len(s)."
   ]
  },
  {
   "cell_type": "code",
   "execution_count": 21,
   "id": "888e83e6-5e27-49a7-9b0c-5dc79632c2c1",
   "metadata": {},
   "outputs": [
    {
     "name": "stdout",
     "output_type": "stream",
     "text": [
      "              python\n",
      "\n",
      "**************python\n",
      "\n",
      "$$$$$$$$$$$$$$$$$$$$$$$$python\n",
      "\n",
      "^^^^^^^^^^^^^^^^^^^^^^^^python\n"
     ]
    }
   ],
   "source": [
    "s1=\"python\"\n",
    "print(s1.rjust(20))\n",
    "print()\n",
    "print(s1.rjust(20,'*'))\n",
    "print()\n",
    "print(s1.rjust(30,'$'))\n",
    "print()\n",
    "print(s1.rjust(30,'^'))"
   ]
  },
  {
   "cell_type": "markdown",
   "id": "3dcdb428-b322-4870-b3c5-ecc1dbf993ec",
   "metadata": {},
   "source": [
    "**str.center(width[, fillchar])**\n",
    "\n",
    "\r\n",
    "Return centered in a string of length width. Padding is done using the specified fillchar (default is an ASCII space). The original string is returned if width is less than or equal to len(s).\r\n"
   ]
  },
  {
   "cell_type": "code",
   "execution_count": 22,
   "id": "ec1dad21-3469-49d8-b16d-f5a753d870ce",
   "metadata": {},
   "outputs": [
    {
     "name": "stdout",
     "output_type": "stream",
     "text": [
      "       python       \n",
      "\n",
      "*******python*******\n"
     ]
    }
   ],
   "source": [
    "s1=\"python\"\n",
    "print(s1.center(20))\n",
    "print()\n",
    "print(s1.center(20,'*'))"
   ]
  },
  {
   "cell_type": "markdown",
   "id": "ead3f1e9-f8bb-4393-81aa-9d963841d149",
   "metadata": {},
   "source": [
    "# Strip or trim methods"
   ]
  },
  {
   "cell_type": "markdown",
   "id": "cd650eae-d71c-451c-84db-88e01c51b935",
   "metadata": {},
   "source": [
    "These methods are used to remove leading or trailing characters from string.\n",
    "\n",
    "1.`lstrip()`\n",
    "\n",
    "2.`rstrip()`\n",
    "\n",
    "3.`strip()`"
   ]
  },
  {
   "cell_type": "code",
   "execution_count": 26,
   "id": "eb2cdbba-5b0c-4a10-a9b0-46db774afb5b",
   "metadata": {},
   "outputs": [
    {
     "name": "stdout",
     "output_type": "stream",
     "text": [
      "      abc 9\n",
      "abc\n"
     ]
    }
   ],
   "source": [
    "str1=\"      abc\"\n",
    "print(str1,len(str1))\n",
    "str2=str1.lstrip()\n",
    "print(str2)       "
   ]
  },
  {
   "cell_type": "code",
   "execution_count": 27,
   "id": "8cf70e29-0d62-4288-bcdf-164f1c174dd0",
   "metadata": {},
   "outputs": [
    {
     "name": "stdout",
     "output_type": "stream",
     "text": [
      "******abc\n",
      "abc\n"
     ]
    }
   ],
   "source": [
    "str3=\"******abc\"\n",
    "str4=str3.lstrip(\"*\")\n",
    "print(str3,str4,sep=\"\\n\")"
   ]
  },
  {
   "cell_type": "markdown",
   "id": "4e69f03d-d204-402e-b07f-dbf93d4d63f0",
   "metadata": {},
   "source": [
    "**str.rstrip([chars])**\n",
    "\n",
    "Return a copy of the string with trailing characters removed. The chars argument is a string specifying the set of characters to be removed. If omitted or None, the chars argument defaults to removing whitespace. The chars argument is not a suffix; rather, all combinations of its values are stripped.\n"
   ]
  },
  {
   "cell_type": "code",
   "execution_count": 28,
   "id": "cf04be0c-e317-4c35-a06a-9a081c6a13cb",
   "metadata": {},
   "outputs": [
    {
     "name": "stdout",
     "output_type": "stream",
     "text": [
      "abc            \n",
      "abc\n",
      "15\n",
      "3\n"
     ]
    }
   ],
   "source": [
    "str1=\"abc            \"\n",
    "str2=str1.rstrip()\n",
    "print(str1,str2,sep=\"\\n\")\n",
    "print(len(str1),len(str2),sep=\"\\n\")"
   ]
  },
  {
   "cell_type": "code",
   "execution_count": 29,
   "id": "c875c2ca-da5a-4abf-b03d-a838ce00b3d3",
   "metadata": {},
   "outputs": [
    {
     "name": "stdout",
     "output_type": "stream",
     "text": [
      "**a*bc**********\n",
      "**a*bc\n"
     ]
    }
   ],
   "source": [
    "str3=\"**a*bc**********\"\n",
    "str4=str3.rstrip(\"*\")\n",
    "print(str3,str4,sep=\"\\n\")"
   ]
  },
  {
   "cell_type": "markdown",
   "id": "e0bfdfb2-e8dc-462b-8668-99bf01076312",
   "metadata": {},
   "source": [
    "**str.strip([chars])**\n",
    "\n",
    "\n",
    "Return a copy of the string with the leading and trailing characters removed. The chars argument is a string specifying the set of characters to be removed. If omitted or None, the chars argument defaults to removing whitespace. The chars argument is not a prefix or suffix; rather, all combinations of its values are stripped\n"
   ]
  },
  {
   "cell_type": "code",
   "execution_count": 30,
   "id": "0ef7f05d-92a5-43f2-a369-4dfcfd9de6a3",
   "metadata": {},
   "outputs": [
    {
     "name": "stdout",
     "output_type": "stream",
     "text": [
      "       abc         \n",
      "abc\n",
      "19\n",
      "3\n"
     ]
    }
   ],
   "source": [
    "str1=\"       abc         \"\n",
    "str2=str1.strip()\n",
    "print(str1,str2,sep=\"\\n\")\n",
    "print(len(str1),len(str2),sep=\"\\n\")"
   ]
  },
  {
   "cell_type": "code",
   "execution_count": 31,
   "id": "5cb01327-48f5-41ac-b02d-b6fe2e659e25",
   "metadata": {},
   "outputs": [
    {
     "name": "stdout",
     "output_type": "stream",
     "text": [
      "******python*****\n",
      "python\n"
     ]
    }
   ],
   "source": [
    "str3=\"******python*****\"\n",
    "str4=str3.strip(\"*\")\n",
    "print(str3,str4,sep=\"\\n\")"
   ]
  },
  {
   "cell_type": "markdown",
   "id": "f0fde71b-0f56-4427-89f8-30e62bf23c45",
   "metadata": {},
   "source": [
    "# Filtering methods or searching methods"
   ]
  },
  {
   "cell_type": "markdown",
   "id": "72a5aef9-5acf-4487-8685-77b7cfffe1bd",
   "metadata": {},
   "source": [
    "1. `startswith()`\n",
    "\n",
    "2. `endswith()`\n",
    "\n",
    "These methods returns Boolean value (True/False)"
   ]
  },
  {
   "cell_type": "markdown",
   "id": "ee030f5e-e1f4-4b0e-b131-662533c07b1e",
   "metadata": {},
   "source": [
    "**str.startswith(prefix[, start[, end]])**\n",
    "\n",
    "Return True if string starts with the prefix, otherwise return False. prefix can also be a tuple of prefixes to look for. With optional start, test string beginning at that position. With optional end, stop comparing string at that position.\n"
   ]
  },
  {
   "cell_type": "code",
   "execution_count": 33,
   "id": "0b82a8bd-782d-4c1a-b480-2c7ba2070b53",
   "metadata": {},
   "outputs": [
    {
     "name": "stdout",
     "output_type": "stream",
     "text": [
      "Mr. Uday starts with Mr\n"
     ]
    }
   ],
   "source": [
    "# Example\n",
    "name=\"Mr. Uday\"\n",
    "if name.startswith('Mr'):\n",
    "    print(f'{name} starts with Mr')\n",
    "else:\n",
    "    print(f'{name} not starts with Mr')\n"
   ]
  },
  {
   "cell_type": "markdown",
   "id": "3e153081-af2a-438c-b3f2-47d8b7af3837",
   "metadata": {},
   "source": [
    "**str.endswith(suffix[, start[, end]])**\n",
    "\n",
    "Return True if the string ends with the specified suffix, otherwise return False. suffix can also be a tuple of suffixes to look for. With optional start, test beginning at that position. With optional end, stop comparing at that position."
   ]
  },
  {
   "cell_type": "code",
   "execution_count": 34,
   "id": "386a7270-f36a-4481-b024-677f35462b83",
   "metadata": {},
   "outputs": [
    {
     "name": "stdout",
     "output_type": "stream",
     "text": [
      "ramesh\n",
      "rajesh\n"
     ]
    }
   ],
   "source": [
    "# Example\n",
    "names_list=['uday','ramesh','kishore','rajesh','kiran']\n",
    "for name in names_list:\n",
    "    if name.endswith('h'):\n",
    "        print(name)"
   ]
  },
  {
   "cell_type": "markdown",
   "id": "cd8803dd-2bce-4d9e-ab64-5d70513ca9d9",
   "metadata": {},
   "source": [
    "# partition methodson\r\n"
   ]
  },
  {
   "cell_type": "markdown",
   "id": "b4df0d94-f9d1-4015-8e54-eeb200741f80",
   "metadata": {},
   "source": [
    "1.\t`partition`\n",
    "2.\t`rpartition`"
   ]
  },
  {
   "cell_type": "markdown",
   "id": "b6191c94-1ff4-40be-9991-485f6fe45fdf",
   "metadata": {},
   "source": [
    "**str.partition(sep)**\n",
    "\n",
    "Split the string at the first occurrence of sep, and return a 3-tuple containing the part before the separator, the separator itself, and the part after the separator. If the separator is not found, return a 3-tuple containing the string itself, followed by two empty strings."
   ]
  },
  {
   "cell_type": "markdown",
   "id": "631619a5-cc99-476d-ab3a-5e7e26dd9422",
   "metadata": {},
   "source": [
    "**str.rpartition(sep)**\n",
    "\n",
    "Split the string at the last occurrence of sep, and return a 3-tuple containing the part before the separator, the separator itself, and the part after the separator. If the separator is not found, return a 3-tuple containing two empty strings, followed by the string itself.\n"
   ]
  },
  {
   "cell_type": "code",
   "execution_count": 38,
   "id": "b77f206c-cece-4103-8e34-18df9eb4762e",
   "metadata": {},
   "outputs": [
    {
     "name": "stdout",
     "output_type": "stream",
     "text": [
      "a,b,c,d,e\n",
      "('a', ',', 'b,c,d,e')\n"
     ]
    }
   ],
   "source": [
    "# str.rpartition(sep)\n",
    "str1=\"a,b,c,d,e\"\n",
    "t1=str1.partition(\",\")\n",
    "print(str1)\n",
    "print(t1)\n"
   ]
  },
  {
   "cell_type": "code",
   "execution_count": 37,
   "id": "2d6e29fa-d746-4a45-ab7c-29a66626c903",
   "metadata": {},
   "outputs": [
    {
     "name": "stdout",
     "output_type": "stream",
     "text": [
      "('1', '.', '456')\n"
     ]
    }
   ],
   "source": [
    "f1=\"1.456\"\n",
    "t=f1.partition(\".\")\n",
    "print(t)"
   ]
  },
  {
   "cell_type": "code",
   "execution_count": 39,
   "id": "13a876eb-ee31-4a15-bee2-acd97e85ff57",
   "metadata": {},
   "outputs": [
    {
     "name": "stdout",
     "output_type": "stream",
     "text": [
      "a,b,c,d,e\n",
      "('a,b,c,d', ',', 'e')\n"
     ]
    }
   ],
   "source": [
    "# str.rpartition(sep)\n",
    "str1=\"a,b,c,d,e\"\n",
    "t1=str1.rpartition(\",\")\n",
    "print(str1)\n",
    "print(t1)"
   ]
  }
 ],
 "metadata": {
  "kernelspec": {
   "display_name": "Python 3 (ipykernel)",
   "language": "python",
   "name": "python3"
  },
  "language_info": {
   "codemirror_mode": {
    "name": "ipython",
    "version": 3
   },
   "file_extension": ".py",
   "mimetype": "text/x-python",
   "name": "python",
   "nbconvert_exporter": "python",
   "pygments_lexer": "ipython3",
   "version": "3.12.0"
  }
 },
 "nbformat": 4,
 "nbformat_minor": 5
}
