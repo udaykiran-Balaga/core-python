{
 "cells": [
  {
   "cell_type": "markdown",
   "id": "4305a597-aa36-4d17-9c50-63617c555465",
   "metadata": {},
   "source": [
    "# Mutable Operations of Dictionary\n",
    "\n",
    "After creating dictionary changes can be done."
   ]
  },
  {
   "cell_type": "markdown",
   "id": "1b9032cd-3bce-432c-8d75-028c4343b21a",
   "metadata": {},
   "source": [
    "## Adding items inside dictionary\n",
    "y\r\n"
   ]
  },
  {
   "cell_type": "markdown",
   "id": "af0e39b8-82c3-4671-b46e-4a89837bb3e6",
   "metadata": {},
   "source": [
    "Syntax-1: \n",
    "\n",
    "`dictionary-name[key]=value`  🡪 Add one item if key not exists. If key exists it replace value of key.\n",
    "\n",
    "Syntax-2:\n",
    "\n",
    "`dictionary-name.update(iterable)` 🡪 Add more than one item inside dictionary"
   ]
  },
  {
   "cell_type": "markdown",
   "id": "e2ebca5e-7d5b-4b6a-a0f9-ef985634adf6",
   "metadata": {},
   "source": [
    "### example\n",
    "\n",
    "**write a program to read scores of n players each player having name, score**"
   ]
  },
  {
   "cell_type": "code",
   "execution_count": 3,
   "id": "50cd26f9-7551-4f37-94de-b63b7dbaf728",
   "metadata": {},
   "outputs": [
    {
     "name": "stdin",
     "output_type": "stream",
     "text": [
      "Enter how many players ? 4\n",
      "player name  uday\n",
      "Enter a player score:  89\n",
      "player name  kiran\n",
      "Enter a player score:  78\n",
      "player name  jyostna\n",
      "Enter a player score:  87\n",
      "player name  manoj\n",
      "Enter a player score:  91\n"
     ]
    },
    {
     "name": "stdout",
     "output_type": "stream",
     "text": [
      "uday-->89\n",
      "kiran-->78\n",
      "jyostna-->87\n",
      "manoj-->91\n",
      "Total score 345\n"
     ]
    }
   ],
   "source": [
    "n = int(input(\"Enter how many players ?\"))\n",
    "scores={}\n",
    "for i in range(n):\n",
    "    name=input(\"player name \")\n",
    "    score = int(input(\"Enter a player score: \"))\n",
    "    scores[name]=score\n",
    "total=0\n",
    "for name,score in scores.items():\n",
    "    print(f'{name}-->{score}')\n",
    "    total+=score\n",
    "print(f'Total score {total}')"
   ]
  },
  {
   "cell_type": "markdown",
   "id": "31825bd7-c568-4f03-990b-536a4945f9fb",
   "metadata": {},
   "source": [
    "### Example:\n",
    "**write a program to read marks details of n students each student is having name and 2 subject marks**"
   ]
  },
  {
   "cell_type": "code",
   "execution_count": 5,
   "id": "0a10760d-ac87-4875-9e42-0ca035e90725",
   "metadata": {},
   "outputs": [
    {
     "name": "stdin",
     "output_type": "stream",
     "text": [
      "Enter how many students? 4\n",
      "Enter name:  uday\n",
      "Enter marks 87\n",
      "Enter marks 81\n",
      "Enter name:  jyostna\n",
      "Enter marks 90\n",
      "Enter marks 95\n",
      "Enter name:  manoj\n",
      "Enter marks 90\n",
      "Enter marks 92\n",
      "Enter name:  kiran\n",
      "Enter marks 85\n",
      "Enter marks 78\n"
     ]
    },
    {
     "name": "stdout",
     "output_type": "stream",
     "text": [
      "uday------->[87, 81]------>168------>84.00\n",
      "jyostna------->[90, 95]------>185------>92.50\n",
      "manoj------->[90, 92]------>182------>91.00\n",
      "kiran------->[85, 78]------>163------>81.50\n"
     ]
    }
   ],
   "source": [
    "n=int(input(\"Enter how many students?\"))\n",
    "students={}\n",
    "for i in range(n):\n",
    "    name=input(\"Enter name: \")\n",
    "    marks=[int(input(\"Enter marks\")) for j in range(2)]\n",
    "    students[name]=marks\n",
    "for name,marks in students.items():\n",
    "    total=sum(marks)\n",
    "    avg=total/2\n",
    "    print(f'{name}------->{marks}------>{total}------>{avg:.2f}')"
   ]
  },
  {
   "cell_type": "markdown",
   "id": "6a8abfa3-97c5-4f1f-9326-e5acc3caa7b0",
   "metadata": {},
   "source": [
    "### Replacing or updating one value\n",
    "\n",
    "Syntax1: `dictionary-name[key]=value`\n",
    "\n",
    "If key exists within dictionary, it update value\n",
    "\n",
    "If key not exists within dictionary, it add key and value"
   ]
  },
  {
   "cell_type": "code",
   "execution_count": 6,
   "id": "f7a6a752-cfb8-49d2-a73f-2a856ce07cb6",
   "metadata": {},
   "outputs": [
    {
     "name": "stdout",
     "output_type": "stream",
     "text": [
      "{1: 10, 2: 20, 3: 30}\n",
      "{1: 100, 2: 20, 3: 30}\n"
     ]
    }
   ],
   "source": [
    "# Example:\n",
    "d1={1:10,2:20,3:30}\n",
    "print(d1)\n",
    "\n",
    "d1[1]=100\n",
    "print(d1)"
   ]
  },
  {
   "cell_type": "code",
   "execution_count": 8,
   "id": "d6b84162-c8cf-42de-85d7-f7aa6304d3e1",
   "metadata": {},
   "outputs": [
    {
     "name": "stdout",
     "output_type": "stream",
     "text": [
      "Changing password of user\n"
     ]
    },
    {
     "name": "stdin",
     "output_type": "stream",
     "text": [
      "Username jyostna\n",
      "Old password jyo123\n",
      "New password: jyo@123\n"
     ]
    },
    {
     "name": "stdout",
     "output_type": "stream",
     "text": [
      "Password Updated...\n",
      "{'uday': 'uday123', 'manoj': 'm789', 'jyostna': 'jyo@123'}\n"
     ]
    }
   ],
   "source": [
    "# example\n",
    "\n",
    "users_dict={'uday':'uday123',\n",
    "            'manoj':'m789',\n",
    "            'jyostna':'jyo123'}\n",
    "print('Changing password of user')\n",
    "name=input(\"Username\")\n",
    "old_pwd=input(\"Old password\")\n",
    "if name in users_dict and old_pwd==users_dict[name]:\n",
    "    new_pwd=input(\"New password:\")\n",
    "    users_dict[name]=new_pwd\n",
    "    print(\"Password Updated...\")\n",
    "    print(users_dict)\n",
    "else:\n",
    "    print(\"Invalid username or password\")"
   ]
  },
  {
   "cell_type": "markdown",
   "id": "0d40bf4b-5281-44be-ae94-ac52341653f8",
   "metadata": {},
   "source": [
    "## Deleting items from dictionary"
   ]
  },
  {
   "cell_type": "markdown",
   "id": "fc9e5c78-94bb-4a93-9454-aa58a0455fef",
   "metadata": {},
   "source": [
    "### del d[key]\n",
    "\n",
    "Remove d[key] from d. Raises a `KeyError` if key is not in the map"
   ]
  },
  {
   "cell_type": "code",
   "execution_count": 8,
   "id": "bcd90682-74be-4088-9be4-1db53a15fecc",
   "metadata": {},
   "outputs": [
    {
     "name": "stdout",
     "output_type": "stream",
     "text": [
      "{1: 10, 2: 20, 3: 30, 4: 40, 5: 50}\n"
     ]
    }
   ],
   "source": [
    "dict1={1:10,2:20,3:30,4:40,5:50}\n",
    "print(dict1)"
   ]
  },
  {
   "cell_type": "code",
   "execution_count": 9,
   "id": "37592481-2521-4d00-adb3-58743c3f6b77",
   "metadata": {},
   "outputs": [
    {
     "name": "stdout",
     "output_type": "stream",
     "text": [
      "{2: 20, 3: 30, 4: 40, 5: 50}\n"
     ]
    }
   ],
   "source": [
    "del dict1[1]\n",
    "print(dict1)"
   ]
  },
  {
   "cell_type": "code",
   "execution_count": 10,
   "id": "13e4dbfb-451e-45b2-b5f4-83cd9e486f51",
   "metadata": {},
   "outputs": [
    {
     "name": "stdout",
     "output_type": "stream",
     "text": [
      "{2: 20, 3: 30, 5: 50}\n"
     ]
    }
   ],
   "source": [
    "del dict1[4]\n",
    "print(dict1)"
   ]
  },
  {
   "cell_type": "code",
   "execution_count": 12,
   "id": "ddc6f940-4dc6-427b-891a-5af2516ea3c4",
   "metadata": {},
   "outputs": [
    {
     "name": "stdout",
     "output_type": "stream",
     "text": [
      "{1: 100, 2: 200, 3: 300, 4: 400, 5: 500}\n"
     ]
    }
   ],
   "source": [
    "dict2={1:100,2:200,3:300,4:400,5:500}\n",
    "print(dict2)"
   ]
  },
  {
   "cell_type": "code",
   "execution_count": 13,
   "id": "7821823f-5084-40a1-a161-a45ae13f126c",
   "metadata": {},
   "outputs": [
    {
     "name": "stdout",
     "output_type": "stream",
     "text": [
      "{}\n"
     ]
    }
   ],
   "source": [
    "dict2.clear()\n",
    "print(dict2)"
   ]
  },
  {
   "cell_type": "markdown",
   "id": "c8997eff-673f-4eec-a680-6324a14e14da",
   "metadata": {},
   "source": [
    "### pop(key[, default])\n",
    "\n",
    "If key is in the dictionary, remove it and return its value, else return default. If default is not given and key is not in the dictionary, a KeyError is raised."
   ]
  },
  {
   "cell_type": "code",
   "execution_count": 14,
   "id": "6e8ec08b-6ff3-402c-b870-fdb198e0fae3",
   "metadata": {},
   "outputs": [
    {
     "name": "stdout",
     "output_type": "stream",
     "text": [
      "{1: 10, 2: 20, 3: 30, 4: 40, 5: 50}\n"
     ]
    }
   ],
   "source": [
    "dict3=dict(zip(range(1,6),range(10,60,10)))\n",
    "print(dict3)"
   ]
  },
  {
   "cell_type": "code",
   "execution_count": 15,
   "id": "71e5d8ff-2de6-4c48-a52f-9a6d055d6dff",
   "metadata": {},
   "outputs": [
    {
     "name": "stdout",
     "output_type": "stream",
     "text": [
      "10\n"
     ]
    }
   ],
   "source": [
    "value=dict3.pop(1)\n",
    "print(value)"
   ]
  },
  {
   "cell_type": "code",
   "execution_count": 16,
   "id": "88301366-137e-43e9-968c-535a59c3eb75",
   "metadata": {},
   "outputs": [
    {
     "name": "stdout",
     "output_type": "stream",
     "text": [
      "{2: 20, 3: 30, 4: 40, 5: 50}\n"
     ]
    }
   ],
   "source": [
    "print(dict3)"
   ]
  },
  {
   "cell_type": "code",
   "execution_count": 17,
   "id": "39cefbbb-3f94-4e29-897f-6473b29ef46a",
   "metadata": {},
   "outputs": [
    {
     "name": "stdout",
     "output_type": "stream",
     "text": [
      "{2: 20, 3: 30, 5: 50}\n"
     ]
    }
   ],
   "source": [
    "value=dict3.pop(4)\n",
    "print(dict3)"
   ]
  },
  {
   "cell_type": "code",
   "execution_count": 18,
   "id": "bbca9a0f-df29-43e6-9c89-8465f9db2870",
   "metadata": {},
   "outputs": [
    {
     "name": "stdout",
     "output_type": "stream",
     "text": [
      "40\n"
     ]
    }
   ],
   "source": [
    "print(value)"
   ]
  },
  {
   "cell_type": "code",
   "execution_count": 19,
   "id": "06cdc0b9-5d7c-44df-8930-3acf45362c1f",
   "metadata": {},
   "outputs": [
    {
     "name": "stdout",
     "output_type": "stream",
     "text": [
      "None\n"
     ]
    }
   ],
   "source": [
    "value=dict3.pop(4,None)\n",
    "print(value)"
   ]
  },
  {
   "cell_type": "code",
   "execution_count": 20,
   "id": "cd206eed-51d0-4041-92fd-7932331b7917",
   "metadata": {},
   "outputs": [
    {
     "ename": "KeyError",
     "evalue": "4",
     "output_type": "error",
     "traceback": [
      "\u001b[1;31m---------------------------------------------------------------------------\u001b[0m",
      "\u001b[1;31mKeyError\u001b[0m                                  Traceback (most recent call last)",
      "Cell \u001b[1;32mIn[20], line 1\u001b[0m\n\u001b[1;32m----> 1\u001b[0m value\u001b[38;5;241m=\u001b[39m\u001b[43mdict3\u001b[49m\u001b[38;5;241;43m.\u001b[39;49m\u001b[43mpop\u001b[49m\u001b[43m(\u001b[49m\u001b[38;5;241;43m4\u001b[39;49m\u001b[43m)\u001b[49m\n",
      "\u001b[1;31mKeyError\u001b[0m: 4"
     ]
    }
   ],
   "source": [
    "value=dict3.pop(4)"
   ]
  },
  {
   "cell_type": "markdown",
   "id": "88be0c00-1f7a-4118-b41d-a0ec850bde33",
   "metadata": {},
   "source": [
    "### popitem()\n",
    "\r\n",
    "Remove and return a (key, value) pair from the dictionary. Pairs are returned in LIFO order. Dictionary can be used as stack. Stack follows LIFO (Last In First Out). The item inserted last is removed first\r\n"
   ]
  },
  {
   "cell_type": "code",
   "execution_count": 21,
   "id": "faa25ebd-096b-495e-826e-00012e1b8dd3",
   "metadata": {},
   "outputs": [
    {
     "name": "stdout",
     "output_type": "stream",
     "text": [
      "{1: 10, 2: 20, 3: 30, 4: 40, 5: 50}\n"
     ]
    }
   ],
   "source": [
    "dict1=dict(zip(range(1,6),range(10,60,10)))\n",
    "print(dict1)"
   ]
  },
  {
   "cell_type": "code",
   "execution_count": 22,
   "id": "9003f3f5-74d4-4164-bfb4-93fd7f81d5a5",
   "metadata": {},
   "outputs": [
    {
     "name": "stdout",
     "output_type": "stream",
     "text": [
      "(5, 50)\n"
     ]
    }
   ],
   "source": [
    "item1=dict1.popitem()\n",
    "print(item1)"
   ]
  },
  {
   "cell_type": "code",
   "execution_count": 23,
   "id": "bdec1823-ca99-4ac8-8b20-ae88858784cb",
   "metadata": {},
   "outputs": [
    {
     "name": "stdout",
     "output_type": "stream",
     "text": [
      "(4, 40)\n"
     ]
    }
   ],
   "source": [
    "item2=dict1.popitem()\n",
    "print(item2)"
   ]
  },
  {
   "cell_type": "code",
   "execution_count": 24,
   "id": "bef75d3b-a9c2-4c53-86b2-aaf342b29235",
   "metadata": {},
   "outputs": [
    {
     "name": "stdout",
     "output_type": "stream",
     "text": [
      "(3, 30)\n"
     ]
    }
   ],
   "source": [
    "item3=dict1.popitem()\n",
    "print(item3)"
   ]
  },
  {
   "cell_type": "markdown",
   "id": "fc5737fd-f507-42f0-b62c-97243eca1b33",
   "metadata": {},
   "source": [
    "## Example on all mutable operations"
   ]
  },
  {
   "cell_type": "code",
   "execution_count": 28,
   "id": "0c193f8c-66d1-463a-b2a6-65b7a4ec55ff",
   "metadata": {},
   "outputs": [
    {
     "name": "stdout",
     "output_type": "stream",
     "text": [
      "1. Add Contact\n",
      "2. Update Contact\n",
      "3. Remove Contact\n",
      "4. Search Contact\n",
      "5. List Contacts\n",
      "6. Exit\n"
     ]
    },
    {
     "name": "stdin",
     "output_type": "stream",
     "text": [
      "Enter your Option: 1\n",
      "Contact Name:  uday\n",
      "Contact No  9874563240\n"
     ]
    },
    {
     "name": "stdout",
     "output_type": "stream",
     "text": [
      "Contact Added...\n",
      "1. Add Contact\n",
      "2. Update Contact\n",
      "3. Remove Contact\n",
      "4. Search Contact\n",
      "5. List Contacts\n",
      "6. Exit\n"
     ]
    },
    {
     "name": "stdin",
     "output_type": "stream",
     "text": [
      "Enter your Option: 1\n",
      "Contact Name:  jyostna\n",
      "Contact No  3214569870\n"
     ]
    },
    {
     "name": "stdout",
     "output_type": "stream",
     "text": [
      "Contact Added...\n",
      "1. Add Contact\n",
      "2. Update Contact\n",
      "3. Remove Contact\n",
      "4. Search Contact\n",
      "5. List Contacts\n",
      "6. Exit\n"
     ]
    },
    {
     "name": "stdin",
     "output_type": "stream",
     "text": [
      "Enter your Option: 4\n",
      "Contact name to search:  uday\n"
     ]
    },
    {
     "name": "stdout",
     "output_type": "stream",
     "text": [
      "uday------>9874563240\n",
      "1. Add Contact\n",
      "2. Update Contact\n",
      "3. Remove Contact\n",
      "4. Search Contact\n",
      "5. List Contacts\n",
      "6. Exit\n"
     ]
    },
    {
     "name": "stdin",
     "output_type": "stream",
     "text": [
      "Enter your Option: 6\n"
     ]
    }
   ],
   "source": [
    "# contancts(dictionary)\n",
    "\n",
    "contacts={}\n",
    "while True:\n",
    "    print(\"1. Add Contact\")\n",
    "    print(\"2. Update Contact\")\n",
    "    print(\"3. Remove Contact\")\n",
    "    print(\"4. Search Contact\")\n",
    "    print(\"5. List Contacts\")\n",
    "    print(\"6. Exit\")\n",
    "    opt=int(input(\"Enter your Option:\"))\n",
    "    if opt==1:\n",
    "        contact_name=input(\"Contact Name: \")\n",
    "        if contact_name in contacts:\n",
    "            print(f'{contact_name} is exists')\n",
    "        else:\n",
    "            contact_no=input(\"Contact No \")\n",
    "            contacts[contact_name]=contact_no\n",
    "            print(\"Contact Added...\")\n",
    "    elif opt==2:\n",
    "        contact_name=input(\"Contact name: \")\n",
    "        if contact_name in contacts:\n",
    "            contact_no=input(\"contact_no \")\n",
    "            contacts[contact_name]=contact_no\n",
    "            print(\"Contact Updated\")\n",
    "        else:\n",
    "            print(\"Contact not exists\")\n",
    "    elif opt==3:\n",
    "        contact_name=input(\"Contact name to remove: \")\n",
    "        if contact_name in contacts:\n",
    "            del contacts[contanct_name]\n",
    "            print(\"Contact Removed\")\n",
    "        else:\n",
    "            print(\"Contact not exists\")\n",
    "    elif opt==4:\n",
    "        contact_name=input(\"Contact name to search: \")\n",
    "        if contact_name in contacts:\n",
    "            print(f'{contact_name}------>{contacts[contact_name]}')\n",
    "        else:\n",
    "            print(\"Contact name is not exists\")\n",
    "    elif opt==5:\n",
    "        if len(contacts)==0:\n",
    "            print(\"Contact empty\")\n",
    "        else:\n",
    "            for contact_name,contact_no in contacts.items():\n",
    "                print(f'{contact_name}------>{contact_no}')\n",
    "    elif opt==6:\n",
    "        break\n",
    "    else:\n",
    "        print(\"invalid option try again....\")"
   ]
  },
  {
   "cell_type": "markdown",
   "id": "0826f0c6-5052-4cd1-988c-005e3e425fd9",
   "metadata": {},
   "source": [
    "### Dictionary Comprehension\n",
    "\n",
    "Dictionary is mutable collection it allows to create dictionary using comphresion.\r\n"
   ]
  },
  {
   "cell_type": "markdown",
   "id": "35ec2d02-7806-463f-ac9b-9094693e3799",
   "metadata": {},
   "source": [
    "Syntax1: `{key:value for variable in iterable}`\n",
    "\n",
    "Syntax2: `{key:value for variable in iterable if test}`"
   ]
  },
  {
   "cell_type": "markdown",
   "id": "dfcb1ab9-c53d-4528-aa41-328739d37bc8",
   "metadata": {},
   "source": [
    "### exanple\n",
    "\n",
    "**create dictionary with number as key and sqr of number of value**"
   ]
  },
  {
   "cell_type": "code",
   "execution_count": 32,
   "id": "d36a6de1-391d-4921-84c9-ded488b47e8a",
   "metadata": {},
   "outputs": [
    {
     "name": "stdout",
     "output_type": "stream",
     "text": [
      "{1: 1, 2: 4, 3: 9, 4: 16, 5: 25, 6: 36, 7: 49, 8: 64, 9: 81, 10: 100}\n"
     ]
    }
   ],
   "source": [
    "# without comprehension\n",
    "\n",
    "dict1={}\n",
    "for n in range(1,11):\n",
    "    dict1[n]=n**2\n",
    "print(dict1)"
   ]
  },
  {
   "cell_type": "code",
   "execution_count": 31,
   "id": "57b9a865-5d1f-4411-89e9-8433924f6e0e",
   "metadata": {},
   "outputs": [
    {
     "name": "stdout",
     "output_type": "stream",
     "text": [
      "{1: 1, 2: 4, 3: 9, 4: 16, 5: 25, 6: 36, 7: 49, 8: 64, 9: 81, 10: 100}\n"
     ]
    }
   ],
   "source": [
    "# with comprehension\n",
    "\n",
    "dict1={n:n**2 for n in range(1,11)}\n",
    "print(dict1)"
   ]
  },
  {
   "cell_type": "markdown",
   "id": "54093fe0-bdbe-4c06-8b7b-99d8af950231",
   "metadata": {},
   "source": [
    "**write program to create dictionary to store sales data read the sales n persons, each person having names,sales**"
   ]
  },
  {
   "cell_type": "code",
   "execution_count": 2,
   "id": "211888f3-0196-4688-ae68-1bc3168752c7",
   "metadata": {},
   "outputs": [
    {
     "name": "stdin",
     "output_type": "stream",
     "text": [
      "Enter how many sales persons? 3\n",
      "Enter Name  uday\n",
      "Enter sales  5000\n",
      "Enter Name  kiran\n",
      "Enter sales  4000\n",
      "Enter Name  jyostna\n",
      "Enter sales  5000\n"
     ]
    },
    {
     "name": "stdout",
     "output_type": "stream",
     "text": [
      "{'uday': 5000.0, 'kiran': 4000.0, 'jyostna': 5000.0}\n"
     ]
    }
   ],
   "source": [
    "n=int(input(\"Enter how many sales persons?\"))\n",
    "# without comprehension\n",
    "sales={}\n",
    "for i in range(n):\n",
    "    name=input(\"Enter Name \")\n",
    "    s=float(input(\"Enter sales \"))\n",
    "    sales[name]=s\n",
    "print(sales)"
   ]
  },
  {
   "cell_type": "code",
   "execution_count": 4,
   "id": "482721eb-26d1-46e3-b806-36890e0e233c",
   "metadata": {},
   "outputs": [
    {
     "name": "stdin",
     "output_type": "stream",
     "text": [
      "Enter a number of persons?  2\n",
      "Enter Name: uday\n",
      "Enter sales: 5000\n",
      "Enter Name: jyostna\n",
      "Enter sales: 6000\n"
     ]
    },
    {
     "name": "stdout",
     "output_type": "stream",
     "text": [
      "{'uday': 5000.0, 'jyostna': 6000.0}\n"
     ]
    }
   ],
   "source": [
    "# with comphrehension\n",
    "n=int(input(\"Enter a number of persons? \"))\n",
    "sales={input(\"Enter Name:\"):float(input(\"Enter sales:\")) for i in range(n)}\n",
    "print(sales)"
   ]
  },
  {
   "cell_type": "markdown",
   "id": "2cb7925b-7dcf-4b3a-9477-ee2ff6abfa5b",
   "metadata": {},
   "source": [
    "Syntax2: `{key:value for variable in iterable if test}`\n",
    "\n",
    "This syntax add key and value based on condition."
   ]
  },
  {
   "cell_type": "code",
   "execution_count": 6,
   "id": "0cfa4175-13e4-41fd-a5ee-9fe6916bd54c",
   "metadata": {},
   "outputs": [
    {
     "name": "stdout",
     "output_type": "stream",
     "text": [
      "{'kiran': 'A', 'uday': 'B', 'manoj': 'C', 'jyostna': 'A', 'nannu': 'A', 'sai': 'C'}\n"
     ]
    }
   ],
   "source": [
    "grade_dict={'kiran':'A',\n",
    "            'uday':'B',\n",
    "            'manoj':'C',\n",
    "            'jyostna':'A',\n",
    "            'nannu':'A',\n",
    "            'sai':'C'}\n",
    "\n",
    "print(grade_dict)\n",
    "\n",
    "grade_dictA={name:grade for name,grade in grade_dict.items() if grade=='A'}\n",
    "grade_dictB={name:grade for name,grade in grade_dict.items() if grade=='B'}\n",
    "grade_dictC={name:grade for name,grade in grade_dict.items() if grade=='C'}"
   ]
  },
  {
   "cell_type": "markdown",
   "id": "4fb37bfd-fd67-4048-9582-d323a5d717b9",
   "metadata": {},
   "source": [
    "Syntax:\n",
    "\n",
    "`{key:{key:value,key:value},key:{key:value,key:value},….}`"
   ]
  },
  {
   "cell_type": "code",
   "execution_count": 7,
   "id": "2e695c1e-9b67-4823-893c-e1587d250ce9",
   "metadata": {},
   "outputs": [
    {
     "name": "stdout",
     "output_type": "stream",
     "text": [
      "{(1, 2, 3): [10, 20, 30]}\n"
     ]
    }
   ],
   "source": [
    "dict1={(1,2,3):[10,20,30]}\n",
    "print(dict1)"
   ]
  },
  {
   "cell_type": "code",
   "execution_count": 8,
   "id": "4169f647-697d-4579-8e46-2bfd79ca8d74",
   "metadata": {},
   "outputs": [
    {
     "name": "stdout",
     "output_type": "stream",
     "text": [
      "40000\n",
      "45000\n"
     ]
    }
   ],
   "source": [
    "sales={2010:{'jan':40000,'feb':45000},\n",
    "        2011:{'jan':50000,'feb':65000}}\n",
    "print(sales[2010]['jan'])\n",
    "print(sales[2010]['feb'])"
   ]
  },
  {
   "cell_type": "code",
   "execution_count": 9,
   "id": "f9f18923-dea0-4657-a6a8-e8cbb3669f24",
   "metadata": {},
   "outputs": [
    {
     "name": "stdout",
     "output_type": "stream",
     "text": [
      "50000\n"
     ]
    }
   ],
   "source": [
    "print(sales[2011]['jan'])"
   ]
  },
  {
   "cell_type": "code",
   "execution_count": null,
   "id": "0a0f4c4a-074d-4914-a0d4-7ff24223b598",
   "metadata": {},
   "outputs": [],
   "source": []
  }
 ],
 "metadata": {
  "kernelspec": {
   "display_name": "Python 3 (ipykernel)",
   "language": "python",
   "name": "python3"
  },
  "language_info": {
   "codemirror_mode": {
    "name": "ipython",
    "version": 3
   },
   "file_extension": ".py",
   "mimetype": "text/x-python",
   "name": "python",
   "nbconvert_exporter": "python",
   "pygments_lexer": "ipython3",
   "version": "3.12.0"
  }
 },
 "nbformat": 4,
 "nbformat_minor": 5
}
