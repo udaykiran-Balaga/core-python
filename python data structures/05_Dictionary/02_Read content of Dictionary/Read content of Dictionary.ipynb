{
 "cells": [
  {
   "cell_type": "markdown",
   "id": "f651882a-e7af-419b-89a5-0c56684630b9",
   "metadata": {},
   "source": [
    "# How to read content of dictionary?\n",
    "\n",
    "1. using key\n",
    "\n",
    "2. using for loop\n",
    "\n",
    "3. using dictionary methods\n",
    "   \n",
    "   a. `keys`\n",
    "   \n",
    "   b. `values`\n",
    "   \n",
    "   c. `items`\n",
    "   \n",
    "   d. `get`\n",
    "\n",
    "   e. `setdefault`\n",
    "   \n",
    "   f. `reversed`"
   ]
  },
  {
   "cell_type": "markdown",
   "id": "c789ed76-72c1-4273-abf9-5c8ce2a7adce",
   "metadata": {},
   "source": [
    "## using key:\n",
    "\n",
    "Dictionary is a key based and reading and writing is done using key.\n",
    "\n",
    "**Syntax**:\r",
    "`\n",
    "dictionary-name[key]`\n",
    "\n",
    "if key exists returns its value\n",
    "\n",
    "if key not exists, raise keyerror]\r\n"
   ]
  },
  {
   "cell_type": "markdown",
   "id": "d42b01fe-8c6d-404e-bd1c-227f6fcd8347",
   "metadata": {},
   "source": [
    "### example:"
   ]
  },
  {
   "cell_type": "code",
   "execution_count": 1,
   "id": "82a17055-deef-4149-aeed-83dd179d5252",
   "metadata": {},
   "outputs": [
    {
     "name": "stdout",
     "output_type": "stream",
     "text": [
      "101 uday manager 50000\n"
     ]
    }
   ],
   "source": [
    "# reading employees data using key\n",
    "\n",
    "emp = { 'empno':101,\n",
    "       'empname':'uday',\n",
    "       'job':'manager',\n",
    "       'salary':50000}\n",
    "print(emp['empno'],emp['empname'],emp['job'],emp['salary'])"
   ]
  },
  {
   "cell_type": "code",
   "execution_count": 4,
   "id": "87085b60-ad32-4585-946d-d3e9d6bb27b2",
   "metadata": {},
   "outputs": [
    {
     "name": "stdout",
     "output_type": "stream",
     "text": [
      "[101, 102, 103] ['uday', 'jyostna', 'kiran']\n"
     ]
    }
   ],
   "source": [
    "emp_data = {'empno':[101,102,103],\n",
    "            'ename':['uday','jyostna','kiran']}\n",
    "print(emp_data['empno'],emp_data['ename'])\n"
   ]
  },
  {
   "cell_type": "markdown",
   "id": "bc6bbc21-fe94-4769-a02b-fe15d488455f",
   "metadata": {},
   "source": [
    "## using for loop\n",
    "\n",
    "for loop iterate or read keys from dictionary.-2\r\n"
   ]
  },
  {
   "cell_type": "markdown",
   "id": "16ab03bc-8dbd-4216-b4f7-be2cdd1f12d3",
   "metadata": {},
   "source": [
    "`Syntax:`\n",
    "\n",
    "for variable in dictionary-name:\n",
    " \n",
    "     statement-1\n",
    "     \n",
    "     statement-2"
   ]
  },
  {
   "cell_type": "code",
   "execution_count": 8,
   "id": "736c3872-4793-4038-abd0-f1b5f2b3ffba",
   "metadata": {},
   "outputs": [
    {
     "name": "stdout",
     "output_type": "stream",
     "text": [
      "uday\n",
      "kiran\n",
      "jyostna\n",
      "manoj\n",
      "sai\n"
     ]
    }
   ],
   "source": [
    "# example\n",
    "\n",
    "person={'uday':45,\n",
    "        'kiran':50,\n",
    "        'jyostna':70,\n",
    "        'manoj':40,\n",
    "        'sai':50}\n",
    "# reading with for loop\n",
    "\n",
    "for name in person:\n",
    "    print(name)"
   ]
  },
  {
   "cell_type": "code",
   "execution_count": 10,
   "id": "305bd9bc-3c3f-4f04-8a98-bc07bea5b951",
   "metadata": {},
   "outputs": [
    {
     "name": "stdout",
     "output_type": "stream",
     "text": [
      "uday---->45\n",
      "kiran---->50\n",
      "jyostna---->70\n",
      "manoj---->40\n",
      "sai---->50\n"
     ]
    }
   ],
   "source": [
    "# reading key and value\n",
    "\n",
    "for name in person:\n",
    "    print(f'{name}---->{person[name]}')"
   ]
  },
  {
   "cell_type": "markdown",
   "id": "88743b5c-acdd-45bd-994b-528b3d15d777",
   "metadata": {},
   "source": [
    "## Dictionary methods\n",
    "\n",
    "get(key,default=None)\n",
    "\n",
    "Return the value for key if key in the dictionary, else default.\n",
    "\n",
    "if default is not given, if default to `None`, so that this method never raises a `KeyError`"
   ]
  },
  {
   "cell_type": "code",
   "execution_count": 12,
   "id": "93aea506-f12c-4fe5-a8c5-fb6dff883a4c",
   "metadata": {},
   "outputs": [
    {
     "name": "stdout",
     "output_type": "stream",
     "text": [
      "{1: 10, 2: 20, 3: 30, 4: 40, 5: 50}\n"
     ]
    }
   ],
   "source": [
    "dict1={1:10,2:20,3:30,4:40,5:50}\n",
    "print(dict1)"
   ]
  },
  {
   "cell_type": "code",
   "execution_count": 13,
   "id": "bd41d2c5-35a3-4dff-bf6c-4651283d1f65",
   "metadata": {},
   "outputs": [
    {
     "data": {
      "text/plain": [
       "30"
      ]
     },
     "execution_count": 13,
     "metadata": {},
     "output_type": "execute_result"
    }
   ],
   "source": [
    "dict1[3] # key value is exists in the dictionary"
   ]
  },
  {
   "cell_type": "code",
   "execution_count": 14,
   "id": "32aef26a-c654-446c-9cf1-22fc911fe181",
   "metadata": {},
   "outputs": [
    {
     "ename": "KeyError",
     "evalue": "8",
     "output_type": "error",
     "traceback": [
      "\u001b[1;31m---------------------------------------------------------------------------\u001b[0m",
      "\u001b[1;31mKeyError\u001b[0m                                  Traceback (most recent call last)",
      "Cell \u001b[1;32mIn[14], line 1\u001b[0m\n\u001b[1;32m----> 1\u001b[0m \u001b[43mdict1\u001b[49m\u001b[43m[\u001b[49m\u001b[38;5;241;43m8\u001b[39;49m\u001b[43m]\u001b[49m \u001b[38;5;66;03m# key value is not exist in the dictionary it raises KeyError\u001b[39;00m\n",
      "\u001b[1;31mKeyError\u001b[0m: 8"
     ]
    }
   ],
   "source": [
    "dict1[8] # key value is not exist in the dictionary it raises KeyError"
   ]
  },
  {
   "cell_type": "code",
   "execution_count": 15,
   "id": "77cee8ac-b00a-4575-b67c-08170c8ec4d7",
   "metadata": {},
   "outputs": [
    {
     "data": {
      "text/plain": [
       "20"
      ]
     },
     "execution_count": 15,
     "metadata": {},
     "output_type": "execute_result"
    }
   ],
   "source": [
    "# using get method\n",
    "\n",
    "dict1.get(2)"
   ]
  },
  {
   "cell_type": "code",
   "execution_count": 16,
   "id": "06fde575-a481-4216-a40f-677cb565a42d",
   "metadata": {},
   "outputs": [
    {
     "data": {
      "text/plain": [
       "50"
      ]
     },
     "execution_count": 16,
     "metadata": {},
     "output_type": "execute_result"
    }
   ],
   "source": [
    "dict1.get(5)"
   ]
  },
  {
   "cell_type": "code",
   "execution_count": 18,
   "id": "86de8fd9-8983-4f28-8dc3-f1f8895652b3",
   "metadata": {},
   "outputs": [],
   "source": [
    "dict1.get(8) # key 8 not exists so no output will returns"
   ]
  },
  {
   "cell_type": "code",
   "execution_count": 20,
   "id": "0cd0daf9-86c8-4227-b77a-723cac075a5c",
   "metadata": {},
   "outputs": [
    {
     "data": {
      "text/plain": [
       "0"
      ]
     },
     "execution_count": 20,
     "metadata": {},
     "output_type": "execute_result"
    }
   ],
   "source": [
    "dict1.get(8,0) # key 8 not exists but here we gave the default value so it returns default value"
   ]
  },
  {
   "cell_type": "code",
   "execution_count": 22,
   "id": "a977982f-06bb-46bf-bdc2-230d7b4f35fa",
   "metadata": {},
   "outputs": [
    {
     "data": {
      "text/plain": [
       "100"
      ]
     },
     "execution_count": 22,
     "metadata": {},
     "output_type": "execute_result"
    }
   ],
   "source": [
    "dict1.get(9,100)"
   ]
  },
  {
   "attachments": {
    "99e693ce-53d7-4a8d-b504-c1f5b16a5836.png": {
     "image/png": "[encoded data removed]"
    }
   },
   "cell_type": "markdown",
   "id": "e458506c-77a4-4c83-a958-2a7afe6a867b",
   "metadata": {},
   "source": [
    "## Dictionary view objects\n",
    "\n",
    "The objects returned by `dict.keys()` and `dict.items()` are view objects.\n",
    "\n",
    "They provide a dynamic view on the dictionary's entries, which means that when the dictionary changes, the view reflects these changes.\n",
    "\n",
    "![image.png](attachment:99e693ce-53d7-4a8d-b504-c1f5b16a5836.png)"
   ]
  },
  {
   "cell_type": "code",
   "execution_count": 28,
   "id": "12bf9024-2998-4322-887a-b0bd6107a93c",
   "metadata": {},
   "outputs": [
    {
     "name": "stdout",
     "output_type": "stream",
     "text": [
      "dict_keys(['uday', 'kiran', 'jyostna', 'manoj'])\n",
      "dict_values([50000, 54000, 65000, 76000])\n",
      "dict_items([('uday', 50000), ('kiran', 54000), ('jyostna', 65000), ('manoj', 76000)])\n",
      "uday--->50000\n",
      "kiran--->54000\n",
      "jyostna--->65000\n",
      "manoj--->76000\n"
     ]
    }
   ],
   "source": [
    "# Example:\n",
    "emp_data={'uday':50000,\n",
    "          'kiran':54000,\n",
    "          'jyostna':65000,\n",
    "          'manoj':76000}\n",
    "\n",
    "names=emp_data.keys()\n",
    "print(names)\n",
    "salaries=emp_data.values()\n",
    "print(salaries)\n",
    "employees=emp_data.items()\n",
    "print(employees)\n",
    "\n",
    "for name,sal in employees:\n",
    "    print(f'{name}--->{sal}')"
   ]
  },
  {
   "cell_type": "markdown",
   "id": "d61c6d4e-93f5-4a9f-99b4-c8a479b1adeb",
   "metadata": {},
   "source": [
    "## reversed(dictview)\n",
    "\n",
    "Return a reverse iterator over the keys, values or items of the dictionary. The view will be iterated in reverse order of the insertion."
   ]
  },
  {
   "cell_type": "markdown",
   "id": "0944cb10-7d33-472c-af39-3c79a8809f0f",
   "metadata": {},
   "source": [
    "# Example:\n",
    "emp_data={'uday':50000,\n",
    "          'kiran':54000,\n",
    "          'jyostna':65000,\n",
    "          'manoj':76000}\n",
    "\n",
    "\n",
    "names=emp_data.keys()\n",
    "salaries=emp_data.values()\n",
    "employees=emp_data.items()\n",
    "\n",
    "rev_names=reversed(names)\n",
    "rev_salaries=reversed(salaries)\n",
    "rev_employees=reversed(employees)\n",
    "\n",
    "for name in rev_names:\n",
    "    print(name)\n",
    "\n",
    "for sal in rev_salaries:\n",
    "    print(sal)\n",
    "\n",
    "for name,sal in rev_employees:\n",
    "    print(name,sal)"
   ]
  },
  {
   "cell_type": "markdown",
   "id": "4acd5ab6-e07f-4219-a76c-0c262be67cd7",
   "metadata": {},
   "source": [
    "## dictview.mapping\n",
    "\n",
    "Return a `types.MappingProxyType` that wraps the original dictionary to which the view refers."
   ]
  },
  {
   "cell_type": "code",
   "execution_count": 30,
   "id": "e8e21cea-d719-4548-8a79-3a183ed7b569",
   "metadata": {},
   "outputs": [
    {
     "name": "stdout",
     "output_type": "stream",
     "text": [
      "{1: 10, 2: 20, 3: 30, 4: 40}\n",
      "dict_items([(1, 10), (2, 20), (3, 30), (4, 40)])\n"
     ]
    }
   ],
   "source": [
    "d1=dict(zip(range(1,5),range(10,60,10)))\n",
    "print(d1)\n",
    "\n",
    "dv1=d1.items()\n",
    "print(dv1)\n"
   ]
  },
  {
   "cell_type": "code",
   "execution_count": 31,
   "id": "93e4e3a0-dc09-446f-998c-57adc03f0a1b",
   "metadata": {},
   "outputs": [
    {
     "data": {
      "text/plain": [
       "mappingproxy({1: 10, 2: 20, 3: 30, 4: 40})"
      ]
     },
     "execution_count": 31,
     "metadata": {},
     "output_type": "execute_result"
    }
   ],
   "source": [
    "dv1.mapping"
   ]
  },
  {
   "cell_type": "code",
   "execution_count": 32,
   "id": "b8b5139c-8a22-47d8-8671-d5eecc888dd8",
   "metadata": {},
   "outputs": [
    {
     "data": {
      "text/plain": [
       "10"
      ]
     },
     "execution_count": 32,
     "metadata": {},
     "output_type": "execute_result"
    }
   ],
   "source": [
    "dv1.mapping.get(1)"
   ]
  },
  {
   "cell_type": "code",
   "execution_count": 33,
   "id": "cd68ab12-4859-45c9-a395-e521fdddf9ef",
   "metadata": {},
   "outputs": [
    {
     "data": {
      "text/plain": [
       "dict_values([10, 20, 30, 40])"
      ]
     },
     "execution_count": 33,
     "metadata": {},
     "output_type": "execute_result"
    }
   ],
   "source": [
    "dv1.mapping.values()"
   ]
  },
  {
   "cell_type": "markdown",
   "id": "f41c261c-a92f-4f4a-ac60-a858d1021838",
   "metadata": {},
   "source": [
    "## iter(dictionary)\n",
    "\n",
    "This function returns iterator object, which iterates keys from dictionary."
   ]
  },
  {
   "cell_type": "code",
   "execution_count": 39,
   "id": "ad2b4f4e-cb86-4ad6-84bf-841035504f77",
   "metadata": {},
   "outputs": [],
   "source": [
    "d1 = {1:10,2:20,3:30,4:40,5:50}\n",
    "a=iter(d1)"
   ]
  },
  {
   "cell_type": "code",
   "execution_count": 40,
   "id": "80851912-efd4-4ab6-b873-e297eca56456",
   "metadata": {},
   "outputs": [],
   "source": [
    "value1=next(a)"
   ]
  },
  {
   "cell_type": "code",
   "execution_count": 41,
   "id": "947566fd-f377-4072-afc3-606eebfd7755",
   "metadata": {},
   "outputs": [
    {
     "name": "stdout",
     "output_type": "stream",
     "text": [
      "1\n"
     ]
    }
   ],
   "source": [
    "print(value1)"
   ]
  },
  {
   "cell_type": "code",
   "execution_count": 42,
   "id": "71547a69-e7af-4687-9c93-c095332d24b2",
   "metadata": {},
   "outputs": [
    {
     "name": "stdout",
     "output_type": "stream",
     "text": [
      "2\n"
     ]
    }
   ],
   "source": [
    "value2=next(a)\n",
    "print(value2)"
   ]
  },
  {
   "cell_type": "code",
   "execution_count": 43,
   "id": "49e34d2a-fec1-4295-be85-5ee630e16202",
   "metadata": {},
   "outputs": [
    {
     "name": "stdout",
     "output_type": "stream",
     "text": [
      "3\n",
      "4\n",
      "5\n"
     ]
    }
   ],
   "source": [
    "for k in a:\n",
    "    print(k)"
   ]
  },
  {
   "cell_type": "markdown",
   "id": "661b64a3-898a-487e-ae01-d758abfc54ac",
   "metadata": {},
   "source": [
    "## setdefault(key, default=None)\n",
    "\r\n",
    "If key is in the dictionary, return its value. If not, insert key with a value of default and return default. default defaults to None\r\n"
   ]
  },
  {
   "cell_type": "code",
   "execution_count": 45,
   "id": "ac97cabf-6313-4438-b530-ea6f833ee3be",
   "metadata": {},
   "outputs": [
    {
     "name": "stdout",
     "output_type": "stream",
     "text": [
      "{1: None}\n"
     ]
    }
   ],
   "source": [
    "dict1={}\n",
    "x=dict1.setdefault(1)\n",
    "print(dict1)"
   ]
  },
  {
   "cell_type": "code",
   "execution_count": 47,
   "id": "4cc5e8f2-1e6a-4c8c-8f75-e4a0e512b921",
   "metadata": {},
   "outputs": [
    {
     "name": "stdout",
     "output_type": "stream",
     "text": [
      "None\n"
     ]
    }
   ],
   "source": [
    "print(x)"
   ]
  },
  {
   "cell_type": "code",
   "execution_count": 48,
   "id": "7e7eb77b-4006-41c5-aeb7-d74ff409bafa",
   "metadata": {},
   "outputs": [
    {
     "name": "stdout",
     "output_type": "stream",
     "text": [
      "{1: None, 2: 20}\n"
     ]
    }
   ],
   "source": [
    "y=dict1.setdefault(2,20)\n",
    "print(dict1)"
   ]
  },
  {
   "cell_type": "code",
   "execution_count": 49,
   "id": "6feef5a5-d728-4c56-9c23-140dd80cec30",
   "metadata": {},
   "outputs": [
    {
     "name": "stdout",
     "output_type": "stream",
     "text": [
      "20\n"
     ]
    }
   ],
   "source": [
    "print(y)"
   ]
  },
  {
   "cell_type": "code",
   "execution_count": 50,
   "id": "9b908790-27f2-4cb9-9411-1750dbc472d8",
   "metadata": {},
   "outputs": [
    {
     "name": "stdout",
     "output_type": "stream",
     "text": [
      "20\n"
     ]
    }
   ],
   "source": [
    "z=dict1.setdefault(2)\n",
    "print(z)"
   ]
  }
 ],
 "metadata": {
  "kernelspec": {
   "display_name": "Python 3 (ipykernel)",
   "language": "python",
   "name": "python3"
  },
  "language_info": {
   "codemirror_mode": {
    "name": "ipython",
    "version": 3
   },
   "file_extension": ".py",
   "mimetype": "text/x-python",
   "name": "python",
   "nbconvert_exporter": "python",
   "pygments_lexer": "ipython3",
   "version": "3.12.0"
  }
 },
 "nbformat": 4,
 "nbformat_minor": 5
}
