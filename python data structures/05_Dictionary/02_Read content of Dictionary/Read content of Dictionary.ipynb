{
 "cells": [
  {
   "cell_type": "markdown",
   "id": "f651882a-e7af-419b-89a5-0c56684630b9",
   "metadata": {},
   "source": [
    "# How to read content of dictionary?\n",
    "\n",
    "1. using key\n",
    "\n",
    "2. using for loop\n",
    "\n",
    "3. using dictionary methods\n",
    "   \n",
    "   a. `keys`\n",
    "   \n",
    "   b. `values`\n",
    "   \n",
    "   c. `items`\n",
    "   \n",
    "   d. `get`\n",
    "\n",
    "   e. `setdefault`\n",
    "   \n",
    "   f. `reversed`"
   ]
  },
  {
   "cell_type": "markdown",
   "id": "c789ed76-72c1-4273-abf9-5c8ce2a7adce",
   "metadata": {},
   "source": [
    "## using key:\n",
    "\n",
    "Dictionary is a key based and reading and writing is done using key.\n",
    "\n",
    "**Syntax**:\r",
    "`\n",
    "dictionary-name[key`\n",
    "\n",
    "if key exists returns its value\n",
    "\n",
    "if key not exists, raise keyerror]\r\n"
   ]
  },
  {
   "cell_type": "markdown",
   "id": "d42b01fe-8c6d-404e-bd1c-227f6fcd8347",
   "metadata": {},
   "source": [
    "### example:"
   ]
  },
  {
   "cell_type": "code",
   "execution_count": 1,
   "id": "82a17055-deef-4149-aeed-83dd179d5252",
   "metadata": {},
   "outputs": [
    {
     "name": "stdout",
     "output_type": "stream",
     "text": [
      "101 uday manager 50000\n"
     ]
    }
   ],
   "source": [
    "# reading employees data using key\n",
    "\n",
    "emp = { 'empno':101,\n",
    "       'empname':'uday',\n",
    "       'job':'manager',\n",
    "       'salary':50000}\n",
    "print(emp['empno'],emp['empname'],emp['job'],emp['salary'])"
   ]
  },
  {
   "cell_type": "code",
   "execution_count": 4,
   "id": "87085b60-ad32-4585-946d-d3e9d6bb27b2",
   "metadata": {},
   "outputs": [
    {
     "name": "stdout",
     "output_type": "stream",
     "text": [
      "[101, 102, 103] ['uday', 'jyostna', 'kiran']\n"
     ]
    }
   ],
   "source": [
    "emp_data = {'empno':[101,102,103],\n",
    "            'ename':['uday','jyostna','kiran']}\n",
    "print(emp_data['empno'],emp_data['ename'])\n"
   ]
  }
 ],
 "metadata": {
  "kernelspec": {
   "display_name": "Python 3 (ipykernel)",
   "language": "python",
   "name": "python3"
  },
  "language_info": {
   "codemirror_mode": {
    "name": "ipython",
    "version": 3
   },
   "file_extension": ".py",
   "mimetype": "text/x-python",
   "name": "python",
   "nbconvert_exporter": "python",
   "pygments_lexer": "ipython3",
   "version": "3.12.0"
  }
 },
 "nbformat": 4,
 "nbformat_minor": 5
}
