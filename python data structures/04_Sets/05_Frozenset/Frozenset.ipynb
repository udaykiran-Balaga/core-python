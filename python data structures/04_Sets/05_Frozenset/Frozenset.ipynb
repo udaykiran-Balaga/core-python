{
 "cells": [
  {
   "cell_type": "markdown",
   "id": "f70be570-543f-4652-b109-a375dabcec99",
   "metadata": {},
   "source": [
    "# Frozenset"
   ]
  },
  {
   "cell_type": "markdown",
   "id": "57ff54f0-2ab3-4e50-87fd-cc17b72a0d17",
   "metadata": {},
   "source": [
    "Forzen is an immutable set. After creating frozenset changes cannot be done.\n",
    "The frozenset doesnot support mutable operations.\n",
    "\n",
    "1. `Add()`\n",
    "\n",
    "2. `Remove()`\n",
    "\n",
    "3. `Discard()`\n",
    "\n",
    "4. `Clear()`\n",
    "\n",
    "5. `Update()`\n",
    "\n",
    "6. `Difference_update` ..etc"
   ]
  },
  {
   "cell_type": "markdown",
   "id": "41568b74-2cd1-4718-be30-6bdf880e9295",
   "metadata": {},
   "source": [
    "### use of frozenset\n",
    "\n",
    "1. `Representing immutable set`\n",
    "\n",
    "2. `Nested set`"
   ]
  },
  {
   "cell_type": "markdown",
   "id": "31269f3a-1df2-407d-a349-92d1b90dc26f",
   "metadata": {},
   "source": [
    "### creating Frozenset\n",
    "\n",
    "1. `Frozenset()` : This returns empty frozenset\n",
    "\n",
    "2. `Frozenset(iterable)`: This returns frozenset from existing iterable."
   ]
  },
  {
   "cell_type": "code",
   "execution_count": 1,
   "id": "b9a06b4d-3fa3-43bd-b80a-9ab8ee23d95e",
   "metadata": {},
   "outputs": [
    {
     "name": "stdout",
     "output_type": "stream",
     "text": [
      "frozenset()\n"
     ]
    }
   ],
   "source": [
    "f1 = frozenset()\n",
    "print(f1)"
   ]
  },
  {
   "cell_type": "code",
   "execution_count": 2,
   "id": "424f5046-2525-40a5-aa18-dbf9ea3bc3c2",
   "metadata": {},
   "outputs": [
    {
     "name": "stdout",
     "output_type": "stream",
     "text": [
      "frozenset({40, 10, 50, 20, 30})\n"
     ]
    }
   ],
   "source": [
    "A=frozenset(range(10,60,10))\n",
    "print(A)"
   ]
  },
  {
   "cell_type": "code",
   "execution_count": 3,
   "id": "83a29ac1-36af-4adc-8730-d568d8d39280",
   "metadata": {},
   "outputs": [
    {
     "name": "stdout",
     "output_type": "stream",
     "text": [
      "frozenset({40, 10, 50, 20, 30})\n"
     ]
    }
   ],
   "source": [
    "A=frozenset(range(10,60,10))\n",
    "print(A)"
   ]
  },
  {
   "cell_type": "code",
   "execution_count": 5,
   "id": "b8f62cab-e9ef-4953-8e62-ec8573b47131",
   "metadata": {},
   "outputs": [
    {
     "name": "stdout",
     "output_type": "stream",
     "text": [
      "frozenset({80, 90, 60, 70})\n"
     ]
    }
   ],
   "source": [
    "B=frozenset(range(60,100,10))\n",
    "print(B)"
   ]
  },
  {
   "cell_type": "code",
   "execution_count": 6,
   "id": "69870011-8361-4b78-9f1a-90c928912a90",
   "metadata": {},
   "outputs": [
    {
     "name": "stdout",
     "output_type": "stream",
     "text": [
      "frozenset({40, 10, 50, 20, 30})\n",
      "frozenset({80, 90, 60, 70})\n",
      "frozenset({70, 40, 10, 80, 50, 20, 90, 60, 30})\n"
     ]
    }
   ],
   "source": [
    "C=A.union(B)\n",
    "print(A,B,C,sep=\"\\n\")"
   ]
  }
 ],
 "metadata": {
  "kernelspec": {
   "display_name": "Python 3 (ipykernel)",
   "language": "python",
   "name": "python3"
  },
  "language_info": {
   "codemirror_mode": {
    "name": "ipython",
    "version": 3
   },
   "file_extension": ".py",
   "mimetype": "text/x-python",
   "name": "python",
   "nbconvert_exporter": "python",
   "pygments_lexer": "ipython3",
   "version": "3.12.0"
  }
 },
 "nbformat": 4,
 "nbformat_minor": 5
}
