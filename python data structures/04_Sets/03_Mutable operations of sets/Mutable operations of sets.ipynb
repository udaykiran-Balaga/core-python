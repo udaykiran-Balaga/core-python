{
 "cells": [
  {
   "cell_type": "markdown",
   "id": "887831d3-2b5a-4067-9a0f-ca112ed1ba71",
   "metadata": {},
   "source": [
    "# Mutable operations of sets"
   ]
  },
  {
   "cell_type": "markdown",
   "id": "cb6258a5-9c4b-4f50-8d8a-f165d3a9bd13",
   "metadata": {},
   "source": [
    "1. `add()`: This function add an elements within set.\n",
    "\n",
    "2. `remove()`; This function remove elements within set"
   ]
  },
  {
   "cell_type": "markdown",
   "id": "779cb262-756b-48f7-a83f-eda9ffd10fa2",
   "metadata": {},
   "source": [
    "### example"
   ]
  },
  {
   "cell_type": "code",
   "execution_count": 1,
   "id": "f0022d68-11b0-4e3d-8d44-8f7cd9d564ec",
   "metadata": {},
   "outputs": [
    {
     "name": "stdout",
     "output_type": "stream",
     "text": [
      "set()\n"
     ]
    }
   ],
   "source": [
    "a=set()\n",
    "print(a)"
   ]
  },
  {
   "cell_type": "code",
   "execution_count": 2,
   "id": "4335c2cc-2b18-42f5-a04f-86ea6f4710c9",
   "metadata": {},
   "outputs": [
    {
     "name": "stdout",
     "output_type": "stream",
     "text": [
      "{10, 20, 30}\n"
     ]
    }
   ],
   "source": [
    "a.add(10)\n",
    "a.add(20)\n",
    "a.add(30)\n",
    "print(a)"
   ]
  },
  {
   "cell_type": "code",
   "execution_count": 3,
   "id": "7638b47c-4f92-43dc-8de2-f429309e3d97",
   "metadata": {},
   "outputs": [
    {
     "name": "stdin",
     "output_type": "stream",
     "text": [
      " 5\n",
      " 10\n",
      " 20\n",
      " 30\n",
      " 40\n",
      " 50\n"
     ]
    },
    {
     "name": "stdout",
     "output_type": "stream",
     "text": [
      "{'50', '20', '30', '10', '40'} 5\n"
     ]
    }
   ],
   "source": [
    "# add elements to the empty sets\n",
    "\n",
    "n=int(input())\n",
    "a=set()\n",
    "for i in range(n):\n",
    "    stamp=input()\n",
    "    a.add(stamp)\n",
    "print(a,len(a))"
   ]
  },
  {
   "cell_type": "markdown",
   "id": "0d2c0dd3-8d09-4050-bd03-847df935eb6c",
   "metadata": {},
   "source": [
    "### removing elements from set.\n",
    "\n",
    "1. `remove()`\n",
    "\n",
    "2. `cear()`\n",
    "\n",
    "3. `discard()`\n",
    "\n",
    "4. `pop()`"
   ]
  },
  {
   "cell_type": "markdown",
   "id": "bc5a49a0-2aee-4314-91de-d1a877be9ed9",
   "metadata": {},
   "source": [
    "**remove(element)**:\n",
    "\n",
    "This method remove given element from set if exists, if given element not exists it raises KeyError."
   ]
  },
  {
   "cell_type": "code",
   "execution_count": 4,
   "id": "7ea38e63-c285-4486-8a30-81a19ec7347c",
   "metadata": {},
   "outputs": [
    {
     "name": "stdout",
     "output_type": "stream",
     "text": [
      "{50, 20, 40, 10, 30}\n"
     ]
    }
   ],
   "source": [
    "a={10,20,30,40,50}\n",
    "print(a)"
   ]
  },
  {
   "cell_type": "code",
   "execution_count": 5,
   "id": "4541d0f8-c84e-4295-9140-1c1a6fbf5562",
   "metadata": {},
   "outputs": [],
   "source": [
    "a.remove(10)"
   ]
  },
  {
   "cell_type": "code",
   "execution_count": 6,
   "id": "193dfa6d-dea9-44bd-bcdf-18e8e6862c3e",
   "metadata": {},
   "outputs": [
    {
     "name": "stdout",
     "output_type": "stream",
     "text": [
      "{50, 20, 40, 30}\n"
     ]
    }
   ],
   "source": [
    "print(a)"
   ]
  },
  {
   "cell_type": "code",
   "execution_count": 7,
   "id": "faca046d-f2ab-4ebe-b015-bf84ecc7e9f2",
   "metadata": {},
   "outputs": [
    {
     "ename": "KeyError",
     "evalue": "10",
     "output_type": "error",
     "traceback": [
      "\u001b[1;31m---------------------------------------------------------------------------\u001b[0m",
      "\u001b[1;31mKeyError\u001b[0m                                  Traceback (most recent call last)",
      "Cell \u001b[1;32mIn[7], line 3\u001b[0m\n\u001b[0;32m      1\u001b[0m \u001b[38;5;66;03m# if not exists keyerror raises\u001b[39;00m\n\u001b[1;32m----> 3\u001b[0m \u001b[43ma\u001b[49m\u001b[38;5;241;43m.\u001b[39;49m\u001b[43mremove\u001b[49m\u001b[43m(\u001b[49m\u001b[38;5;241;43m10\u001b[39;49m\u001b[43m)\u001b[49m\n\u001b[0;32m      4\u001b[0m \u001b[38;5;28mprint\u001b[39m(a)\n",
      "\u001b[1;31mKeyError\u001b[0m: 10"
     ]
    }
   ],
   "source": [
    "# if not exists keyerror raises\n",
    "\n",
    "a.remove(10)\n",
    "print(a)"
   ]
  },
  {
   "cell_type": "markdown",
   "id": "29eca63f-fea1-4814-8fa6-474d43de42c7",
   "metadata": {},
   "source": [
    "**discard(element)**:\n",
    "\n",
    "This method remove given element from st if exists, if given element is `not exists` it will `not raise any error`."
   ]
  },
  {
   "cell_type": "code",
   "execution_count": 8,
   "id": "69e91c7f-0f81-42c4-ac6a-11c7090dcf44",
   "metadata": {},
   "outputs": [
    {
     "name": "stdout",
     "output_type": "stream",
     "text": [
      "{50, 20, 40, 10, 30}\n"
     ]
    }
   ],
   "source": [
    "b={10,20,30,40,50}\n",
    "print(b)"
   ]
  },
  {
   "cell_type": "code",
   "execution_count": 9,
   "id": "5d9ad8d0-d04f-49d1-8a7d-1464108d3cad",
   "metadata": {},
   "outputs": [
    {
     "name": "stdout",
     "output_type": "stream",
     "text": [
      "{50, 40, 10, 30}\n"
     ]
    }
   ],
   "source": [
    "b.discard(20)\n",
    "print(b)"
   ]
  },
  {
   "cell_type": "code",
   "execution_count": 10,
   "id": "c69e2369-a562-4f4b-9a46-9d488c9cd364",
   "metadata": {},
   "outputs": [
    {
     "name": "stdout",
     "output_type": "stream",
     "text": [
      "{50, 40, 10, 30}\n"
     ]
    }
   ],
   "source": [
    "b.discard(20)\n",
    "print(b)"
   ]
  },
  {
   "cell_type": "markdown",
   "id": "00219f35-b8ad-4395-8b98-42bfeeb421eb",
   "metadata": {},
   "source": [
    "**pop()**:\n",
    "\n",
    "This method removes an arbitrary element from set. Before removing it returns removed element."
   ]
  },
  {
   "cell_type": "code",
   "execution_count": 11,
   "id": "70558bef-5704-4f7b-a5a0-5208739f1555",
   "metadata": {},
   "outputs": [
    {
     "name": "stdout",
     "output_type": "stream",
     "text": [
      "{50, 20, 40, 10, 30}\n"
     ]
    }
   ],
   "source": [
    "c={10,20,30,40,50}\n",
    "print(c)"
   ]
  },
  {
   "cell_type": "code",
   "execution_count": 12,
   "id": "bc3ee6a7-0652-4037-9ea8-6269d1524d62",
   "metadata": {},
   "outputs": [
    {
     "name": "stdout",
     "output_type": "stream",
     "text": [
      "50\n"
     ]
    }
   ],
   "source": [
    "value=c.pop()\n",
    "print(value)"
   ]
  },
  {
   "cell_type": "code",
   "execution_count": 13,
   "id": "269601e8-922a-44ad-ae33-bebb0ab266e5",
   "metadata": {},
   "outputs": [
    {
     "name": "stdout",
     "output_type": "stream",
     "text": [
      "20\n"
     ]
    }
   ],
   "source": [
    "value=c.pop()\n",
    "print(value)"
   ]
  },
  {
   "cell_type": "code",
   "execution_count": 14,
   "id": "718caf9e-255d-4e9f-8c99-8c2ef9c038c8",
   "metadata": {},
   "outputs": [
    {
     "name": "stdout",
     "output_type": "stream",
     "text": [
      "{40, 10, 30}\n"
     ]
    }
   ],
   "source": [
    "print(c)"
   ]
  },
  {
   "cell_type": "markdown",
   "id": "42a6c8da-8e8f-46af-ab5c-90c4f578ec11",
   "metadata": {},
   "source": [
    "**clear()**\n",
    "\n",
    "This method removes all the elements from set"
   ]
  },
  {
   "cell_type": "code",
   "execution_count": 16,
   "id": "d3511833-6041-4906-819d-1bd57a3e23bd",
   "metadata": {},
   "outputs": [
    {
     "name": "stdout",
     "output_type": "stream",
     "text": [
      "{40, 10, 50, 20, 30}\n"
     ]
    }
   ],
   "source": [
    "d=set(range(10,60,10))\n",
    "print(d)"
   ]
  },
  {
   "cell_type": "code",
   "execution_count": 17,
   "id": "9090ecd1-315c-4cf2-88af-34e43e9b2161",
   "metadata": {},
   "outputs": [
    {
     "name": "stdout",
     "output_type": "stream",
     "text": [
      "set()\n"
     ]
    }
   ],
   "source": [
    "d.clear()\n",
    "print(d)"
   ]
  },
  {
   "cell_type": "code",
   "execution_count": 21,
   "id": "1a862b3d-5dff-4da8-a528-e2fcc47e953a",
   "metadata": {},
   "outputs": [
    {
     "name": "stdin",
     "output_type": "stream",
     "text": [
      " 5\n",
      " 10 20 30 40 50\n",
      " 3\n",
      " pop\n",
      " discard 10\n",
      " remove 50\n"
     ]
    },
    {
     "name": "stdout",
     "output_type": "stream",
     "text": [
      "50\n"
     ]
    }
   ],
   "source": [
    "n=int(input())\n",
    "A=set(map(int,input().split()))\n",
    "N=int(input())\n",
    "\n",
    "for i in range(N):\n",
    "    cmd=input().split() \n",
    "    if cmd[0]==\"pop\":\n",
    "        A.pop() \n",
    "    elif cmd[0]==\"discard\":\n",
    "        A.discard(int(cmd[1]))\n",
    "    elif cmd[0]==\"remove\":\n",
    "        A.remove(int(cmd[1]))\n",
    "\n",
    "print(sum(A))"
   ]
  },
  {
   "cell_type": "code",
   "execution_count": 22,
   "id": "b0e870ce-a9a1-437e-84c8-f595479cf237",
   "metadata": {},
   "outputs": [
    {
     "name": "stdout",
     "output_type": "stream",
     "text": [
      "{20, 30}\n"
     ]
    }
   ],
   "source": [
    "print(A)"
   ]
  }
 ],
 "metadata": {
  "kernelspec": {
   "display_name": "Python 3 (ipykernel)",
   "language": "python",
   "name": "python3"
  },
  "language_info": {
   "codemirror_mode": {
    "name": "ipython",
    "version": 3
   },
   "file_extension": ".py",
   "mimetype": "text/x-python",
   "name": "python",
   "nbconvert_exporter": "python",
   "pygments_lexer": "ipython3",
   "version": "3.12.0"
  }
 },
 "nbformat": 4,
 "nbformat_minor": 5
}
