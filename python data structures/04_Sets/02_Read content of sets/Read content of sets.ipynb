{
 "cells": [
  {
   "cell_type": "markdown",
   "id": "25c195ee-c984-4def-a115-e5fe1d2731a4",
   "metadata": {},
   "source": [
    "# Content of set can be read in 3 ways "
   ]
  },
  {
   "cell_type": "markdown",
   "id": "c76ffcb0-8fa7-479c-939e-78414bd7ca67",
   "metadata": {},
   "source": [
    "1. `using for loop`\n",
    "\n",
    "2. `using iterator object`\n",
    "\n",
    "3. `using enumerate object`"
   ]
  },
  {
   "cell_type": "markdown",
   "id": "b441cd52-c731-4f6e-8f47-8dd712b1d9ea",
   "metadata": {},
   "source": [
    "**set cannot read using indexing and slicing**"
   ]
  },
  {
   "cell_type": "code",
   "execution_count": 1,
   "id": "f90d74fc-86ce-475a-93b3-f908583f9bd8",
   "metadata": {},
   "outputs": [
    {
     "ename": "TypeError",
     "evalue": "'set' object is not subscriptable",
     "output_type": "error",
     "traceback": [
      "\u001b[1;31m---------------------------------------------------------------------------\u001b[0m",
      "\u001b[1;31mTypeError\u001b[0m                                 Traceback (most recent call last)",
      "Cell \u001b[1;32mIn[1], line 2\u001b[0m\n\u001b[0;32m      1\u001b[0m A\u001b[38;5;241m=\u001b[39m{\u001b[38;5;241m10\u001b[39m,\u001b[38;5;241m20\u001b[39m,\u001b[38;5;241m30\u001b[39m,\u001b[38;5;241m40\u001b[39m,\u001b[38;5;241m50\u001b[39m}\n\u001b[1;32m----> 2\u001b[0m \u001b[38;5;28mprint\u001b[39m(\u001b[43mA\u001b[49m\u001b[43m[\u001b[49m\u001b[38;5;241;43m0\u001b[39;49m\u001b[43m]\u001b[49m)\n",
      "\u001b[1;31mTypeError\u001b[0m: 'set' object is not subscriptable"
     ]
    }
   ],
   "source": [
    "A={10,20,30,40,50}\n",
    "print(A[0]) # raises error"
   ]
  },
  {
   "cell_type": "code",
   "execution_count": 2,
   "id": "267c8346-2d8e-4fee-863d-df669c3e2370",
   "metadata": {},
   "outputs": [
    {
     "ename": "TypeError",
     "evalue": "'set' object is not subscriptable",
     "output_type": "error",
     "traceback": [
      "\u001b[1;31m---------------------------------------------------------------------------\u001b[0m",
      "\u001b[1;31mTypeError\u001b[0m                                 Traceback (most recent call last)",
      "Cell \u001b[1;32mIn[2], line 1\u001b[0m\n\u001b[1;32m----> 1\u001b[0m \u001b[43mA\u001b[49m\u001b[43m[\u001b[49m\u001b[43m:\u001b[49m\u001b[38;5;241;43m3\u001b[39;49m\u001b[43m]\u001b[49m\n",
      "\u001b[1;31mTypeError\u001b[0m: 'set' object is not subscriptable"
     ]
    }
   ],
   "source": [
    "A[:3]"
   ]
  },
  {
   "cell_type": "markdown",
   "id": "69cc8b2d-4b94-4948-be4a-577f28e31de4",
   "metadata": {},
   "source": [
    "### Examples"
   ]
  },
  {
   "cell_type": "code",
   "execution_count": 1,
   "id": "8186da0e-e347-4a19-901c-5526aa07bb24",
   "metadata": {},
   "outputs": [],
   "source": [
    "A={10,20,30,40,50}"
   ]
  },
  {
   "cell_type": "markdown",
   "id": "41f1e2a0-73ae-45a7-a759-60c9c46ee3dc",
   "metadata": {},
   "source": [
    "#### using for loop"
   ]
  },
  {
   "cell_type": "code",
   "execution_count": 3,
   "id": "7430bf51-dfe5-458f-a77e-662829378206",
   "metadata": {},
   "outputs": [
    {
     "name": "stdout",
     "output_type": "stream",
     "text": [
      "50\n",
      "20\n",
      "40\n",
      "10\n",
      "30\n"
     ]
    }
   ],
   "source": [
    "for value in A:\n",
    "    print(value)"
   ]
  },
  {
   "cell_type": "markdown",
   "id": "601d8e01-0166-44ca-b975-e1889c0deaed",
   "metadata": {},
   "source": [
    "#### using iterator object"
   ]
  },
  {
   "cell_type": "code",
   "execution_count": 4,
   "id": "349f625f-db93-45d7-8d06-c41622e371ae",
   "metadata": {},
   "outputs": [
    {
     "name": "stdout",
     "output_type": "stream",
     "text": [
      "50\n",
      "20\n"
     ]
    }
   ],
   "source": [
    "a=iter(A)\n",
    "value1=next(a)\n",
    "value2=next(a)\n",
    "print(value1,value2,sep='\\n')"
   ]
  },
  {
   "cell_type": "markdown",
   "id": "86a5a6b0-2a6f-4859-9097-3bd5ee865584",
   "metadata": {},
   "source": [
    "#### using enumerate"
   ]
  },
  {
   "cell_type": "code",
   "execution_count": 5,
   "id": "fccb6f76-17d9-441c-ab45-db755c363c05",
   "metadata": {},
   "outputs": [
    {
     "name": "stdout",
     "output_type": "stream",
     "text": [
      "(0, 50)\n",
      "(1, 20)\n"
     ]
    }
   ],
   "source": [
    "e=enumerate(A)\n",
    "t1=next(e)\n",
    "t2=next(e)\n",
    "print(t1,t2,sep='\\n')"
   ]
  }
 ],
 "metadata": {
  "kernelspec": {
   "display_name": "Python 3 (ipykernel)",
   "language": "python",
   "name": "python3"
  },
  "language_info": {
   "codemirror_mode": {
    "name": "ipython",
    "version": 3
   },
   "file_extension": ".py",
   "mimetype": "text/x-python",
   "name": "python",
   "nbconvert_exporter": "python",
   "pygments_lexer": "ipython3",
   "version": "3.12.0"
  }
 },
 "nbformat": 4,
 "nbformat_minor": 5
}
