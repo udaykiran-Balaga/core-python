{
 "cells": [
  {
   "cell_type": "markdown",
   "id": "4e6aad2e-f0a0-4022-a009-a11a6489d5ac",
   "metadata": {},
   "source": [
    "# Sets"
   ]
  },
  {
   "cell_type": "markdown",
   "id": "63bcad9d-b4fb-4881-8c5b-c1ebdb82082b",
   "metadata": {},
   "source": [
    "sets are unordered collections, insertion order is not preserved.\n",
    "\n",
    "sets are non sequence collections, it does not support `indexing` and `slicing`.\n",
    "\n",
    "sets does not allows `duplicate values`.\n",
    "\n",
    "In application development sets are used to group individual values/objects where duplicates are not allowed and to perform mathematical set operations (`union, intersection, difference`, ...) and to `remove duplicates` from sequences and membership testing."
   ]
  },
  {
   "cell_type": "markdown",
   "id": "07785081-3ac6-4c5e-93ec-e110b3d9f7c8",
   "metadata": {},
   "source": [
    "sets can bee homogeneous (similar) or heterogeneous (different type)\n",
    "\n",
    "set allows only immutable objects (hashable object). Inside side the set data is organized using a data structure called hashing.\n",
    "\n",
    "Python support 2 set collections.\n",
    "\n",
    "1. `Set` --> mutable\n",
    "\n",
    "2. `Frozenset` --> immutable"
   ]
  },
  {
   "cell_type": "markdown",
   "id": "182ceb43-7ffc-4a75-b6de-265befb5128a",
   "metadata": {},
   "source": [
    "**Set**\n",
    "\n",
    "set is mutable unordered collection after creating set changes can be done (adding and removing)"
   ]
  },
  {
   "cell_type": "markdown",
   "id": "00e57ad5-531c-49bb-b5f9-99e7986e5a26",
   "metadata": {},
   "source": [
    "**How to create set?**\n",
    "\n",
    "\n",
    "1. Sets can be created-separated list of elements with braces: {'jack', 'root'}\n",
    "\n",
    "2. use a set comprehension: {c for c in 'abracadabra' if c not in 'ab'}\n",
    "\n",
    "3. use the type constructor/function: set(), set('foolbar'), set(['a', 'b', 'foo'])"
   ]
  },
  {
   "cell_type": "markdown",
   "id": "02d73308-2571-4f7d-8d8c-d874ed07c20a",
   "metadata": {},
   "source": [
    "### Note:\n",
    "\n",
    "empty set cannot represent within empty curly brace {}"
   ]
  },
  {
   "cell_type": "markdown",
   "id": "2bc338fa-01ee-48f1-88ba-24fc1f8d414f",
   "metadata": {},
   "source": [
    "### creating empty sets in python."
   ]
  },
  {
   "cell_type": "code",
   "execution_count": 1,
   "id": "f76895c8-1fa3-494b-9c16-789245eac800",
   "metadata": {},
   "outputs": [
    {
     "name": "stdout",
     "output_type": "stream",
     "text": [
      "set() <class 'set'>\n"
     ]
    }
   ],
   "source": [
    "A=set()\n",
    "print(A,type(A))"
   ]
  },
  {
   "cell_type": "code",
   "execution_count": 2,
   "id": "3e0bc3ef-8a0b-4b4d-b410-f0b59ac161bf",
   "metadata": {},
   "outputs": [
    {
     "name": "stdout",
     "output_type": "stream",
     "text": [
      "{50, 20, 40, 10, 30}\n"
     ]
    }
   ],
   "source": [
    "# examples\n",
    "B={10,20,30,40,50}\n",
    "print(B)"
   ]
  },
  {
   "cell_type": "code",
   "execution_count": 3,
   "id": "37bae33e-dd9f-4292-8a54-7e63254ca03f",
   "metadata": {},
   "outputs": [
    {
     "name": "stdout",
     "output_type": "stream",
     "text": [
      "{'jyostna', 'uday', 'kiran', 'manoj'}\n"
     ]
    }
   ],
   "source": [
    "D={\"uday\",\"manoj\",\"jyostna\",\"kiran\"}\n",
    "print(D)"
   ]
  },
  {
   "cell_type": "code",
   "execution_count": 4,
   "id": "08a42a56-d4de-415a-a5cb-f19a46d18fda",
   "metadata": {},
   "outputs": [
    {
     "name": "stdout",
     "output_type": "stream",
     "text": [
      "{10}\n"
     ]
    }
   ],
   "source": [
    "e={10,10.0}\n",
    "print(e)"
   ]
  },
  {
   "cell_type": "markdown",
   "id": "602a56a6-7f7f-42d6-8586-b7f44919d52a",
   "metadata": {},
   "source": [
    "**set()** function is used to convert other iterables into set type"
   ]
  },
  {
   "cell_type": "code",
   "execution_count": 5,
   "id": "f15d3cc0-e252-45cc-b72f-622409a61cc1",
   "metadata": {},
   "outputs": [
    {
     "name": "stdout",
     "output_type": "stream",
     "text": [
      "{'V', 'J', 'A'}\n"
     ]
    }
   ],
   "source": [
    "a=set(\"JAVA\")\n",
    "print(a)"
   ]
  }
 ],
 "metadata": {
  "kernelspec": {
   "display_name": "Python 3 (ipykernel)",
   "language": "python",
   "name": "python3"
  },
  "language_info": {
   "codemirror_mode": {
    "name": "ipython",
    "version": 3
   },
   "file_extension": ".py",
   "mimetype": "text/x-python",
   "name": "python",
   "nbconvert_exporter": "python",
   "pygments_lexer": "ipython3",
   "version": "3.12.0"
  }
 },
 "nbformat": 4,
 "nbformat_minor": 5
}
