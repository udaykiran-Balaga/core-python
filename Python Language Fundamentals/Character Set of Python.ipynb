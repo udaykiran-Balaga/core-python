{
 "cells": [
  {
   "cell_type": "markdown",
   "id": "73f256e4-e152-4c37-ab27-d6105238400d",
   "metadata": {},
   "source": [
    "# Character Set of Python\n",
    "\n",
    "The character set in Python includes `letters`, `digits`, and `special` symbols used to write Python programs. Python supports the Unicode standard, allowing for a wide range of characters from various languages and scripts.\n",
    "\n",
    "**1.ASCII ==>256**\n",
    "\n",
    "**2. UNICODE ==>100000**\n",
    "\n",
    "ASCII stands for American Standard Code for Information Interchange. ASCII supports 256 characters, which includes:\n",
    "\n",
    "**Letters**: A-Z, a-z\n",
    "\n",
    "**Digits**: 0-9\n",
    "\n",
    "**Special Symbols**: + - * / % = == != < > <= >= ( ) [ ] { } , . : ; ' \" # \\ @ & ^ | ~\n",
    "\n",
    "**Whitespace Characters**: Space, tab, newline"
   ]
  },
  {
   "cell_type": "markdown",
   "id": "5f094ee3-df55-4432-b7bc-8074b3cd83bf",
   "metadata": {},
   "source": [
    "`UNICODE` is superset of ASCII, it not only support characters in English,\n",
    "It also support characters in other languages."
   ]
  },
  {
   "cell_type": "markdown",
   "id": "20b76c8f-7290-40cd-9912-eda08266f6d8",
   "metadata": {},
   "source": [
    "![ASCII_IMAGE](https://upload.wikimedia.org/wikipedia/commons/2/26/Ascii-codes-table.png)\r\n"
   ]
  },
  {
   "cell_type": "code",
   "execution_count": 2,
   "id": "0773bfc6-e8cc-4c1e-b19c-b42d25511a8d",
   "metadata": {},
   "outputs": [
    {
     "name": "stdout",
     "output_type": "stream",
     "text": [
      "uday\n"
     ]
    }
   ],
   "source": [
    "name = \"uday\"\n",
    "print(name)"
   ]
  },
  {
   "cell_type": "code",
   "execution_count": 3,
   "id": "2aee0d31-cfc9-4fa2-8221-2b29bc535514",
   "metadata": {},
   "outputs": [
    {
     "name": "stdout",
     "output_type": "stream",
     "text": [
      "उदय\n"
     ]
    }
   ],
   "source": [
    "name = \"उदय\"\n",
    "print(name)"
   ]
  },
  {
   "cell_type": "code",
   "execution_count": 4,
   "id": "9eccb3be-e22c-4843-9aeb-b01b30afadcb",
   "metadata": {},
   "outputs": [
    {
     "name": "stdout",
     "output_type": "stream",
     "text": [
      "ఉదయ్\n"
     ]
    }
   ],
   "source": [
    "name = \"ఉదయ్\"\n",
    "print(name)"
   ]
  },
  {
   "cell_type": "code",
   "execution_count": 6,
   "id": "3aeb57d8-48d5-4bb9-ae7a-3497cf231bd5",
   "metadata": {},
   "outputs": [
    {
     "name": "stdout",
     "output_type": "stream",
     "text": [
      "ὠ0\n"
     ]
    }
   ],
   "source": [
    "# character in UNICODE\n",
    "print('\\u1F600')"
   ]
  }
 ],
 "metadata": {
  "kernelspec": {
   "display_name": "Python 3 (ipykernel)",
   "language": "python",
   "name": "python3"
  },
  "language_info": {
   "codemirror_mode": {
    "name": "ipython",
    "version": 3
   },
   "file_extension": ".py",
   "mimetype": "text/x-python",
   "name": "python",
   "nbconvert_exporter": "python",
   "pygments_lexer": "ipython3",
   "version": "3.12.0"
  }
 },
 "nbformat": 4,
 "nbformat_minor": 5
}
