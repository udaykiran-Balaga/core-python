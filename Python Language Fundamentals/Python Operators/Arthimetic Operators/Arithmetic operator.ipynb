{
 "cells": [
  {
   "cell_type": "markdown",
   "id": "dadda81b-7290-4d76-8684-2625b8cd2c77",
   "metadata": {},
   "source": [
    "## `+` Operator in python is used to perform two operations.\n",
    "\n",
    "**`1. Addition`**\n",
    "  \n",
    "**`2. Concatenation`**\n",
    "\n",
    "If two operands are numbers, + operator performs addition\n",
    "\n",
    "If two operands are sequences, + operator perform concatenation\n"
   ]
  },
  {
   "cell_type": "markdown",
   "id": "9405f7f3-1682-4ebb-9e5a-1afeb27a100b",
   "metadata": {},
   "source": [
    "**`complex>float>int>bool`**"
   ]
  },
  {
   "cell_type": "markdown",
   "id": "6d11afc2-34ec-4dd5-8aa2-eba603f7c220",
   "metadata": {},
   "source": [
    "**int+int --> int**\n",
    "\n",
    "**int+float --> float**\n",
    "\n",
    "**int+float+complex --> complex**\n",
    "\n",
    "**int+bool --> float**\n",
    "\n",
    "**int+float+complex+bool --> complex**"
   ]
  },
  {
   "cell_type": "markdown",
   "id": "5f1b878b-5b82-4f6a-add3-4a7413bba3e3",
   "metadata": {},
   "source": [
    "### Examples on Arithemtic operators"
   ]
  },
  {
   "cell_type": "markdown",
   "id": "84a07524-f80b-402e-a90d-7df4ced58a72",
   "metadata": {},
   "source": [
    "## + Addition operator"
   ]
  },
  {
   "cell_type": "code",
   "execution_count": 3,
   "id": "703eabb9-a1c3-49e7-a690-a36628265418",
   "metadata": {},
   "outputs": [
    {
     "data": {
      "text/plain": [
       "30"
      ]
     },
     "execution_count": 3,
     "metadata": {},
     "output_type": "execute_result"
    }
   ],
   "source": [
    "# int+int --> int\n",
    "\n",
    "a = 10+20\n",
    "a"
   ]
  },
  {
   "cell_type": "code",
   "execution_count": 4,
   "id": "d52330a1-3cd6-4ebc-b17c-f7e819386f5a",
   "metadata": {},
   "outputs": [
    {
     "data": {
      "text/plain": [
       "3.5"
      ]
     },
     "execution_count": 4,
     "metadata": {},
     "output_type": "execute_result"
    }
   ],
   "source": [
    "# int+float --> float\n",
    "\n",
    "b = 1+2.5\n",
    "b"
   ]
  },
  {
   "cell_type": "code",
   "execution_count": 7,
   "id": "a6157389-4e8e-4b28-bc3f-613b680bf73d",
   "metadata": {},
   "outputs": [
    {
     "data": {
      "text/plain": [
       "(1+5j)"
      ]
     },
     "execution_count": 7,
     "metadata": {},
     "output_type": "execute_result"
    }
   ],
   "source": [
    "# int+complex --> complex\n",
    "\n",
    "c = 1+2j+3j\n",
    "c"
   ]
  },
  {
   "cell_type": "code",
   "execution_count": 8,
   "id": "b97cbc18-e940-40dd-8dc2-2189cb3983f3",
   "metadata": {},
   "outputs": [
    {
     "data": {
      "text/plain": [
       "2"
      ]
     },
     "execution_count": 8,
     "metadata": {},
     "output_type": "execute_result"
    }
   ],
   "source": [
    "# bool+bool --> int\n",
    "\n",
    "e = True+True\n",
    "e"
   ]
  },
  {
   "cell_type": "code",
   "execution_count": 9,
   "id": "950efc27-3e1e-406b-8561-598302c89704",
   "metadata": {},
   "outputs": [
    {
     "data": {
      "text/plain": [
       "101"
      ]
     },
     "execution_count": 9,
     "metadata": {},
     "output_type": "execute_result"
    }
   ],
   "source": [
    "# bool+int --> int\n",
    "\n",
    "f = True+100\n",
    "f"
   ]
  },
  {
   "cell_type": "code",
   "execution_count": 10,
   "id": "9e5562ae-8d2f-4bdb-b43f-8336c148b79a",
   "metadata": {},
   "outputs": [
    {
     "name": "stdout",
     "output_type": "stream",
     "text": [
      "PYTHONPROGRAMMING\n"
     ]
    }
   ],
   "source": [
    "s1 = \"PYTHON\"\n",
    "s2 = \"PROGRAMMING\"\n",
    "s3 = s1+s2\n",
    "\n",
    "print(s3)"
   ]
  },
  {
   "cell_type": "markdown",
   "id": "2162d005-a7f0-4cbe-927f-8ecf65b420bc",
   "metadata": {},
   "source": [
    "## - Subtraction operator\n",
    "\n",
    "This operator is used to the difference between two values, This operator is applied only on numberic type"
   ]
  },
  {
   "cell_type": "code",
   "execution_count": 12,
   "id": "65825620-3bb4-4c20-b4ff-2d6f9cc36d04",
   "metadata": {},
   "outputs": [
    {
     "data": {
      "text/plain": [
       "5"
      ]
     },
     "execution_count": 12,
     "metadata": {},
     "output_type": "execute_result"
    }
   ],
   "source": [
    "# example\n",
    "\n",
    "a = 10\n",
    "b = 5\n",
    "c = a-b\n",
    "c"
   ]
  },
  {
   "cell_type": "code",
   "execution_count": 14,
   "id": "8356102d-d755-4778-9e0a-c8dc243fc4fa",
   "metadata": {},
   "outputs": [
    {
     "data": {
      "text/plain": [
       "0.19999999999999996"
      ]
     },
     "execution_count": 14,
     "metadata": {},
     "output_type": "execute_result"
    }
   ],
   "source": [
    "b1 = 1.5\n",
    "b2 = 1.3\n",
    "b3 = b1-b2\n",
    "b3"
   ]
  },
  {
   "cell_type": "code",
   "execution_count": 15,
   "id": "90a56306-d0c3-469a-a638-da4dfa63bc8b",
   "metadata": {},
   "outputs": [
    {
     "data": {
      "text/plain": [
       "1j"
      ]
     },
     "execution_count": 15,
     "metadata": {},
     "output_type": "execute_result"
    }
   ],
   "source": [
    "c1 = 1+2j\n",
    "c2 = 1+1j\n",
    "c3 = c1-c2\n",
    "c3"
   ]
  },
  {
   "cell_type": "code",
   "execution_count": 16,
   "id": "556d1181-faaa-408d-bd87-61bcec97696b",
   "metadata": {},
   "outputs": [
    {
     "data": {
      "text/plain": [
       "-1"
      ]
     },
     "execution_count": 16,
     "metadata": {},
     "output_type": "execute_result"
    }
   ],
   "source": [
    "d1 = True\n",
    "d2 = False\n",
    "d3 = d2-d1\n",
    "d3"
   ]
  },
  {
   "cell_type": "markdown",
   "id": "f5f0657a-509e-4e88-99bc-c8392c2e6b36",
   "metadata": {},
   "source": [
    "## * Operator is used to perform two operations\n",
    "\n",
    "    `1. Multiplying numbers`\n",
    "    `2. Repeating sequences`"
   ]
  },
  {
   "cell_type": "code",
   "execution_count": 17,
   "id": "e1b3774c-3774-4273-be28-6e636aba41b7",
   "metadata": {},
   "outputs": [
    {
     "data": {
      "text/plain": [
       "15"
      ]
     },
     "execution_count": 17,
     "metadata": {},
     "output_type": "execute_result"
    }
   ],
   "source": [
    "# Examples\n",
    "\n",
    "a = 5\n",
    "b = 3\n",
    "c = a*b\n",
    "c"
   ]
  },
  {
   "cell_type": "code",
   "execution_count": 18,
   "id": "f06f815b-69a8-4f00-a9f6-28fce19d56e4",
   "metadata": {},
   "outputs": [
    {
     "name": "stdout",
     "output_type": "stream",
     "text": [
      "True False True\n"
     ]
    }
   ],
   "source": [
    "x = True\n",
    "y = False\n",
    "z = x*y\n",
    "print(x,y,x)"
   ]
  },
  {
   "cell_type": "markdown",
   "id": "2b5f2a11-059b-48d5-b0cf-3217060e2f21",
   "metadata": {},
   "source": [
    "## Float Division Operator(/)\n",
    "\n",
    "This operator divides two numbers and return result in float.\n",
    "\n",
    "This operator returns quotient"
   ]
  },
  {
   "cell_type": "code",
   "execution_count": 21,
   "id": "02be89d4-eeae-463b-9ed5-11fe4cadf579",
   "metadata": {},
   "outputs": [
    {
     "name": "stdout",
     "output_type": "stream",
     "text": [
      "4 2 2.0\n"
     ]
    }
   ],
   "source": [
    "a = 4\n",
    "b = 2\n",
    "c = a/b\n",
    "print(a,b,c)"
   ]
  },
  {
   "cell_type": "markdown",
   "id": "518e10cd-921b-4f65-9cc4-42267cbe8342",
   "metadata": {},
   "source": [
    "## Floor Division Operator(//)\n",
    "\n",
    "This operator divides two numbers and return result in integer(quotient)\n",
    "\n",
    "Return the floor of x, the largest integer less than or equal to x"
   ]
  },
  {
   "cell_type": "code",
   "execution_count": 22,
   "id": "71104c79-fab6-4bf7-ab4c-c01224f0acdf",
   "metadata": {},
   "outputs": [
    {
     "name": "stdout",
     "output_type": "stream",
     "text": [
      "4 2 2\n"
     ]
    }
   ],
   "source": [
    "# example\n",
    "\n",
    "a = 4\n",
    "b = 2\n",
    "c = a//b\n",
    "print(a,b,c)"
   ]
  },
  {
   "cell_type": "markdown",
   "id": "4f4f0abd-520f-4921-bf09-4fefd3f77feb",
   "metadata": {},
   "source": [
    "## % Module Operator\n",
    "\n",
    "This operator divides two numbers and returns remainder."
   ]
  },
  {
   "cell_type": "code",
   "execution_count": 23,
   "id": "2649ae18-490e-4de6-a3b2-2cc8a853c264",
   "metadata": {},
   "outputs": [
    {
     "name": "stdout",
     "output_type": "stream",
     "text": [
      "4 2 0\n"
     ]
    }
   ],
   "source": [
    "a = 4\n",
    "b = 2\n",
    "c = a%b\n",
    "print(a,b,c)\n"
   ]
  },
  {
   "cell_type": "markdown",
   "id": "597fb887-bfdc-418e-b079-b5b0059f36e2",
   "metadata": {},
   "source": [
    "## ** Exponent Operator\n",
    "\n",
    "This operator finds the `power of a number`."
   ]
  },
  {
   "cell_type": "code",
   "execution_count": 24,
   "id": "93a80e49-6a7e-4592-8913-71c6b96b9917",
   "metadata": {},
   "outputs": [
    {
     "name": "stdout",
     "output_type": "stream",
     "text": [
      "5 25\n"
     ]
    }
   ],
   "source": [
    "a = 5\n",
    "b = a**2\n",
    "print(a,b)"
   ]
  },
  {
   "cell_type": "markdown",
   "id": "4baf68d6-eda2-4a91-abae-619e36a4f1cf",
   "metadata": {},
   "source": [
    "## precedence of Arithemtic operators\n",
    "\n",
    "**`1. **`**\n",
    "\n",
    "**`2. * / // %`**\n",
    "  \n",
    "**`3. + `**"
   ]
  },
  {
   "cell_type": "markdown",
   "id": "dac53045-9c3b-4e06-ab24-91157701d1a6",
   "metadata": {},
   "source": [
    "operators with same precedence is evaluated from left to right except for `**`, which is evaluated from `right to left`."
   ]
  },
  {
   "cell_type": "code",
   "execution_count": 25,
   "id": "a5d3908c-76cd-46bf-88ac-726e71e87b5c",
   "metadata": {},
   "outputs": [
    {
     "name": "stdout",
     "output_type": "stream",
     "text": [
      "25\n"
     ]
    }
   ],
   "source": [
    "a = 3+5*5-3\n",
    "print(a)"
   ]
  },
  {
   "cell_type": "code",
   "execution_count": 28,
   "id": "76d54751-1c49-4ef9-92cb-a6471cd3455e",
   "metadata": {},
   "outputs": [
    {
     "name": "stdout",
     "output_type": "stream",
     "text": [
      "16\n"
     ]
    }
   ],
   "source": [
    "b = (3+5)*(5-3)\n",
    "print(b)"
   ]
  },
  {
   "cell_type": "code",
   "execution_count": 31,
   "id": "c38964a5-7e7e-465d-b880-7ac821f7ab36",
   "metadata": {},
   "outputs": [
    {
     "name": "stdout",
     "output_type": "stream",
     "text": [
      "2.0\n"
     ]
    }
   ],
   "source": [
    "c = 6*3/2//4\n",
    "print(c)"
   ]
  },
  {
   "cell_type": "code",
   "execution_count": 30,
   "id": "c00ed7e0-d93c-4868-a895-d79a6f37cf60",
   "metadata": {},
   "outputs": [
    {
     "name": "stdout",
     "output_type": "stream",
     "text": [
      "1\n"
     ]
    }
   ],
   "source": [
    "d = 1**2**3\n",
    "print(d)"
   ]
  },
  {
   "cell_type": "code",
   "execution_count": null,
   "id": "e02ec498-508a-49ac-9184-a67c51634993",
   "metadata": {},
   "outputs": [],
   "source": []
  },
  {
   "cell_type": "code",
   "execution_count": null,
   "id": "f69787e7-67eb-454c-893f-c3685714ff42",
   "metadata": {},
   "outputs": [],
   "source": []
  }
 ],
 "metadata": {
  "kernelspec": {
   "display_name": "Python 3 (ipykernel)",
   "language": "python",
   "name": "python3"
  },
  "language_info": {
   "codemirror_mode": {
    "name": "ipython",
    "version": 3
   },
   "file_extension": ".py",
   "mimetype": "text/x-python",
   "name": "python",
   "nbconvert_exporter": "python",
   "pygments_lexer": "ipython3",
   "version": "3.12.0"
  }
 },
 "nbformat": 4,
 "nbformat_minor": 5
}
