{
 "cells": [
  {
   "cell_type": "markdown",
   "id": "f3353bec-16e8-43e4-a622-3d881b6bad07",
   "metadata": {},
   "source": [
    "# Relational Operators\n",
    "\n",
    "**Relational Operators** are used for comparing values. The expression created using relational operators is called **`Boolean expression`**. This expression returns **`Boolean(True/False)`**"
   ]
  },
  {
   "cell_type": "markdown",
   "id": "65bb6f8b-f05a-4b19-a52b-67714c133adf",
   "metadata": {},
   "source": [
    "<table>\n",
    "  <tr>\n",
    "    <th>Symbol</th>\n",
    "    <th>Name</th>\n",
    "  </tr>\n",
    "  <tr>\n",
    "    <td>></td>\n",
    "    <td>Greater than</td>\n",
    "  </tr>\n",
    "  <tr>\n",
    "    <td><</td>\n",
    "      <td>Less than</td>\n",
    "  </tr>\n",
    "      <tr>\n",
    "        <td>>=</td>\n",
    "        <td>Greater than or equal</td>\n",
    "      </tr>\n",
    "      <tr>\n",
    "      <td><=</td>\n",
    "      <td>Less than or equal</td>\n",
    "      </tr>\n",
    "      <tr>\n",
    "        <td>!=</td>\n",
    "        <td>Not equal</td>\n",
    "      </tr>\n",
    "        <tr>\n",
    "        <td>==</td>\n",
    "        <td>Equal</td>\n",
    "        </tr>\n",
    "</table>"
   ]
  },
  {
   "cell_type": "markdown",
   "id": "30a824e2-9795-4ce1-8743-4704e152d7ff",
   "metadata": {},
   "source": [
    "## `>` Greater than\n",
    "\n",
    "**operand1 > operand2**\n",
    "\n",
    "if `operand1` greater than `operand2` returns **True**\n",
    "\n",
    "if `operand1` not greater than `operand2` returns **False**"
   ]
  },
  {
   "cell_type": "markdown",
   "id": "a34a2cc1-3dfb-4488-afb5-da41c7a1afe1",
   "metadata": {},
   "source": [
    "### Example"
   ]
  },
  {
   "cell_type": "code",
   "execution_count": 2,
   "id": "d68e9052-dc60-442d-b96d-30b7356f71d1",
   "metadata": {},
   "outputs": [
    {
     "name": "stdout",
     "output_type": "stream",
     "text": [
      "10 5 True\n"
     ]
    }
   ],
   "source": [
    "a = 10\n",
    "b = 5\n",
    "c = a>b\n",
    "print(a,b,c)"
   ]
  },
  {
   "cell_type": "code",
   "execution_count": 3,
   "id": "62e06852-4ca1-4081-9d9d-ee79f2142933",
   "metadata": {},
   "outputs": [
    {
     "name": "stdout",
     "output_type": "stream",
     "text": [
      "True\n"
     ]
    }
   ],
   "source": [
    "x = 10>5>2\n",
    "print(x)"
   ]
  },
  {
   "cell_type": "markdown",
   "id": "cb91c5bb-56d5-4f72-a9fb-1809eadcb923",
   "metadata": {},
   "source": [
    "## `<` Less than"
   ]
  },
  {
   "cell_type": "markdown",
   "id": "a469257b-9a64-48a4-882e-ea8c153afab9",
   "metadata": {},
   "source": [
    "**operand1 > operand2**\n",
    "\n",
    "if `operand1` less than `operand2` returns **True**\n",
    "\n",
    "if `operand1` not less than `operand2` returns **False**"
   ]
  },
  {
   "cell_type": "markdown",
   "id": "ca8371eb-82c2-4d12-87cb-2eb947b54a79",
   "metadata": {},
   "source": [
    "y=10<55<200\n",
    "print(y)"
   ]
  },
  {
   "cell_type": "markdown",
   "id": "0bf672a5-06a7-4bee-923e-03710e7a7e34",
   "metadata": {},
   "source": [
    "## `>=` Greater than or Equal"
   ]
  },
  {
   "cell_type": "markdown",
   "id": "0469b596-317c-4f7c-8242-4227628e5bc0",
   "metadata": {},
   "source": [
    "**operand1 > operand2**\n",
    "\n",
    "if `operand1` Greater than or Equal `operand2` returns **True**\n",
    "\n",
    "if `operand1` not Greater than or Equal `operand2` returns **False**"
   ]
  },
  {
   "cell_type": "code",
   "execution_count": 6,
   "id": "a5de2060-472d-42d0-b9a7-bf3e8b54ec12",
   "metadata": {},
   "outputs": [
    {
     "data": {
      "text/plain": [
       "True"
      ]
     },
     "execution_count": 6,
     "metadata": {},
     "output_type": "execute_result"
    }
   ],
   "source": [
    "15>=10"
   ]
  },
  {
   "cell_type": "code",
   "execution_count": 8,
   "id": "b30de2be-85c6-4c8f-90b8-d8f0e2eca315",
   "metadata": {},
   "outputs": [
    {
     "data": {
      "text/plain": [
       "False"
      ]
     },
     "execution_count": 8,
     "metadata": {},
     "output_type": "execute_result"
    }
   ],
   "source": [
    "10<=5"
   ]
  },
  {
   "cell_type": "markdown",
   "id": "e86975c1-0d38-4fba-ac3f-1a0222ef4dfa",
   "metadata": {},
   "source": [
    "## `<=` Less than or Equal"
   ]
  },
  {
   "cell_type": "markdown",
   "id": "a7ef21a2-1686-438c-bdcc-5d0189785b74",
   "metadata": {},
   "source": [
    "if `operand1` Less than or Equal `operand2` returns **True**\n",
    "\n",
    "if `operand1` not Less than or Equal `operand2` returns **False**"
   ]
  },
  {
   "cell_type": "code",
   "execution_count": 10,
   "id": "11d9ee9b-f94a-4881-a8bd-17a126d6623b",
   "metadata": {},
   "outputs": [
    {
     "data": {
      "text/plain": [
       "True"
      ]
     },
     "execution_count": 10,
     "metadata": {},
     "output_type": "execute_result"
    }
   ],
   "source": [
    "10<=15"
   ]
  },
  {
   "cell_type": "code",
   "execution_count": 11,
   "id": "45bb93f0-b51f-4a0c-b4ee-19941149fa6a",
   "metadata": {},
   "outputs": [
    {
     "data": {
      "text/plain": [
       "True"
      ]
     },
     "execution_count": 11,
     "metadata": {},
     "output_type": "execute_result"
    }
   ],
   "source": [
    "10<=10"
   ]
  },
  {
   "cell_type": "code",
   "execution_count": 12,
   "id": "a5989459-5e02-4841-8d0b-3cfe968106d0",
   "metadata": {},
   "outputs": [
    {
     "data": {
      "text/plain": [
       "False"
      ]
     },
     "execution_count": 12,
     "metadata": {},
     "output_type": "execute_result"
    }
   ],
   "source": [
    "10<=5"
   ]
  },
  {
   "cell_type": "markdown",
   "id": "785724cc-fb7a-4411-b9d7-55c2763c7655",
   "metadata": {},
   "source": [
    "## `!=` Not Equal"
   ]
  },
  {
   "cell_type": "markdown",
   "id": "e9594f4b-767f-4d93-b7b5-8e691c4521f4",
   "metadata": {},
   "source": [
    "if `operand1` Not Equal to `operand2` returns **True**\n",
    "\n",
    "if `operand1`  Equal to `operand2` returns **False**"
   ]
  },
  {
   "cell_type": "code",
   "execution_count": 14,
   "id": "179f9ec0-2951-4674-b454-620235d5ad69",
   "metadata": {},
   "outputs": [
    {
     "data": {
      "text/plain": [
       "True"
      ]
     },
     "execution_count": 14,
     "metadata": {},
     "output_type": "execute_result"
    }
   ],
   "source": [
    "10!=5"
   ]
  },
  {
   "cell_type": "code",
   "execution_count": 15,
   "id": "c163b0c1-3982-486f-9cea-03d538cc684f",
   "metadata": {},
   "outputs": [
    {
     "data": {
      "text/plain": [
       "False"
      ]
     },
     "execution_count": 15,
     "metadata": {},
     "output_type": "execute_result"
    }
   ],
   "source": [
    "'A'!='A'"
   ]
  },
  {
   "cell_type": "code",
   "execution_count": 16,
   "id": "4f941a69-6b4d-46f0-9e6b-ed0047b7624d",
   "metadata": {},
   "outputs": [],
   "source": [
    "## `==` Equal to"
   ]
  },
  {
   "cell_type": "markdown",
   "id": "791de023-ac60-4584-990b-02e88611a6f6",
   "metadata": {},
   "source": [
    "if `operand1` Equal to `operand2` returns **True**\n",
    "\n",
    "if `operand1`  Not Equal to `operand2` returns **False**"
   ]
  },
  {
   "cell_type": "code",
   "execution_count": 17,
   "id": "733cb38c-4326-4c8b-a07c-d1ac41fa8cf7",
   "metadata": {},
   "outputs": [
    {
     "data": {
      "text/plain": [
       "True"
      ]
     },
     "execution_count": 17,
     "metadata": {},
     "output_type": "execute_result"
    }
   ],
   "source": [
    "100==100"
   ]
  },
  {
   "cell_type": "code",
   "execution_count": 18,
   "id": "0d1ece94-46f2-42a3-8d1e-949f88219150",
   "metadata": {},
   "outputs": [
    {
     "data": {
      "text/plain": [
       "True"
      ]
     },
     "execution_count": 18,
     "metadata": {},
     "output_type": "execute_result"
    }
   ],
   "source": [
    "100==100!=200"
   ]
  },
  {
   "cell_type": "code",
   "execution_count": 19,
   "id": "77a4b56a-7d13-4ca6-98cd-74f4b1dac53d",
   "metadata": {},
   "outputs": [
    {
     "data": {
      "text/plain": [
       "False"
      ]
     },
     "execution_count": 19,
     "metadata": {},
     "output_type": "execute_result"
    }
   ],
   "source": [
    "100==100!=100"
   ]
  },
  {
   "cell_type": "markdown",
   "id": "ab8c37e6-f49a-4c48-857c-21927e994d87",
   "metadata": {},
   "source": [
    "### Note"
   ]
  },
  {
   "cell_type": "markdown",
   "id": "2ebf665a-96f0-428d-948b-fbe20fce66e6",
   "metadata": {},
   "source": [
    "**`ord()`** : This function returns ascii value of input character.\n",
    "\n",
    "**`chr()`** : This function returns character value of input ascii value."
   ]
  },
  {
   "cell_type": "code",
   "execution_count": 22,
   "id": "1253a483-af74-4881-92f5-4e12e0a0452a",
   "metadata": {},
   "outputs": [
    {
     "data": {
      "text/plain": [
       "57"
      ]
     },
     "execution_count": 22,
     "metadata": {},
     "output_type": "execute_result"
    }
   ],
   "source": [
    "ord('9')"
   ]
  },
  {
   "cell_type": "code",
   "execution_count": 23,
   "id": "2c7df948-8003-4afe-a570-5dacf6c1cffe",
   "metadata": {},
   "outputs": [
    {
     "data": {
      "text/plain": [
       "97"
      ]
     },
     "execution_count": 23,
     "metadata": {},
     "output_type": "execute_result"
    }
   ],
   "source": [
    "ord('a')"
   ]
  },
  {
   "cell_type": "code",
   "execution_count": 25,
   "id": "268ab82b-2ffe-445a-80db-afab4e9651d2",
   "metadata": {},
   "outputs": [
    {
     "data": {
      "text/plain": [
       "'A'"
      ]
     },
     "execution_count": 25,
     "metadata": {},
     "output_type": "execute_result"
    }
   ],
   "source": [
    "chr(65)"
   ]
  },
  {
   "cell_type": "code",
   "execution_count": 26,
   "id": "ff75f383-760c-4a56-88a6-8f1aed01217d",
   "metadata": {},
   "outputs": [
    {
     "data": {
      "text/plain": [
       "'B'"
      ]
     },
     "execution_count": 26,
     "metadata": {},
     "output_type": "execute_result"
    }
   ],
   "source": [
    "chr(66)"
   ]
  }
 ],
 "metadata": {
  "kernelspec": {
   "display_name": "Python 3 (ipykernel)",
   "language": "python",
   "name": "python3"
  },
  "language_info": {
   "codemirror_mode": {
    "name": "ipython",
    "version": 3
   },
   "file_extension": ".py",
   "mimetype": "text/x-python",
   "name": "python",
   "nbconvert_exporter": "python",
   "pygments_lexer": "ipython3",
   "version": "3.12.0"
  }
 },
 "nbformat": 4,
 "nbformat_minor": 5
}
