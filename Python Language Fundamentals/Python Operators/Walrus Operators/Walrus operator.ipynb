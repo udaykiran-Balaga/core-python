{
 "cells": [
  {
   "cell_type": "markdown",
   "id": "cc754d19-bcca-4484-858d-4940ea3d6413",
   "metadata": {},
   "source": [
    "# Walrus operator(:=)"
   ]
  },
  {
   "cell_type": "markdown",
   "id": "4bd3bd92-4b0d-41b9-9fd3-d624aa123aa7",
   "metadata": {},
   "source": [
    "Walrus operator is introduced in python `3.8 version`.\n",
    "\n",
    "Walrus operator is also called `assignment expression operator`\n",
    "\n",
    "It is a `binary operator` and required `2 operands`."
   ]
  },
  {
   "cell_type": "code",
   "execution_count": 1,
   "id": "131850e7-cd11-48d5-ae07-c8dfcee31eb2",
   "metadata": {},
   "outputs": [
    {
     "name": "stdout",
     "output_type": "stream",
     "text": [
      "5 2 21 7 3\n"
     ]
    }
   ],
   "source": [
    "a=5\n",
    "b=2\n",
    "c=(x:=a+b)*(y:=a-b)\n",
    "print(a,b,c,x,y)"
   ]
  },
  {
   "cell_type": "code",
   "execution_count": 2,
   "id": "b2a7da67-545b-4aee-aa40-df1dc3192b77",
   "metadata": {},
   "outputs": [
    {
     "ename": "SyntaxError",
     "evalue": "invalid syntax (2110274567.py, line 1)",
     "output_type": "error",
     "traceback": [
      "\u001b[1;36m  Cell \u001b[1;32mIn[2], line 1\u001b[1;36m\u001b[0m\n\u001b[1;33m    p:= 100\u001b[0m\n\u001b[1;37m     ^\u001b[0m\n\u001b[1;31mSyntaxError\u001b[0m\u001b[1;31m:\u001b[0m invalid syntax\n"
     ]
    }
   ],
   "source": [
    "p:= 100"
   ]
  },
  {
   "cell_type": "markdown",
   "id": "9f6d89c3-ba3e-464b-a041-07154f898bdf",
   "metadata": {},
   "source": [
    "**NOTE**:\n",
    "\n",
    "The above code raise error because for walrus operator supports 2 operands and it supports assignment experssion operator."
   ]
  },
  {
   "cell_type": "code",
   "execution_count": null,
   "id": "2696090a-97a4-4690-ab86-a9aba36e103b",
   "metadata": {},
   "outputs": [],
   "source": []
  }
 ],
 "metadata": {
  "kernelspec": {
   "display_name": "Python 3 (ipykernel)",
   "language": "python",
   "name": "python3"
  },
  "language_info": {
   "codemirror_mode": {
    "name": "ipython",
    "version": 3
   },
   "file_extension": ".py",
   "mimetype": "text/x-python",
   "name": "python",
   "nbconvert_exporter": "python",
   "pygments_lexer": "ipython3",
   "version": "3.12.0"
  }
 },
 "nbformat": 4,
 "nbformat_minor": 5
}
