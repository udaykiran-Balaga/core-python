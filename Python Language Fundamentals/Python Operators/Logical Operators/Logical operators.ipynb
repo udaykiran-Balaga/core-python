{
 "cells": [
  {
   "cell_type": "markdown",
   "id": "a9954ea4-1a6c-433e-aca5-50b78b125f0f",
   "metadata": {},
   "source": [
    "# Logical operators\n",
    "\n",
    "Logical operators are used to combine two or more Boolean expressions\n",
    "logical operators are represented using 3 keywords\n",
    "\n",
    "`1. and`\n",
    "\n",
    "`2. or`\n",
    "\n",
    "`3. not`"
   ]
  },
  {
   "cell_type": "markdown",
   "id": "9716ead1-4579-4065-9ad1-0b8ab07619d4",
   "metadata": {},
   "source": [
    "**`and`** operator\n",
    "\n",
    "\"and\" is binary operator and required 2 operands\n",
    "\n",
    "Truth table of \"and\" operator."
   ]
  },
  {
   "cell_type": "markdown",
   "id": "0d6cc1a9-632c-4c8a-9ab3-a5d91f07838f",
   "metadata": {},
   "source": [
    "<table>\n",
    "    <tr>\n",
    "        <th>operand1</th>\n",
    "        <th>operand2</th>\n",
    "        <th>operand1 and operand2</th>\n",
    "    </tr>\n",
    "    <tr>\n",
    "        <td>True</td>\n",
    "        <td>True</td>\n",
    "        <td>True</td>\n",
    "    </tr>\n",
    "    <tr>\n",
    "        <td>True</td>\n",
    "        <td>False</td>\n",
    "        <td>False</td>\n",
    "    </tr>\n",
    "    <tr>\n",
    "        <td>False</td>\n",
    "        <td>True</td>\n",
    "        <td>False</td>\n",
    "    </tr>\n",
    "    <tr>\n",
    "        <td>False</td>\n",
    "        <td>False</td>\n",
    "        <td>False</td>\n",
    "    </tr>\n",
    "</table>"
   ]
  },
  {
   "cell_type": "markdown",
   "id": "0cd745c3-8d9c-4ec1-bc39-ce0d4825cc3e",
   "metadata": {},
   "source": [
    "**Note**\n",
    "\n",
    "if any operand is False, the complete expression becomes False"
   ]
  },
  {
   "cell_type": "code",
   "execution_count": 1,
   "id": "f78c07fd-d866-4093-b50c-1bb19556db2c",
   "metadata": {},
   "outputs": [
    {
     "data": {
      "text/plain": [
       "False"
      ]
     },
     "execution_count": 1,
     "metadata": {},
     "output_type": "execute_result"
    }
   ],
   "source": [
    "10>5 and 10>20"
   ]
  },
  {
   "cell_type": "code",
   "execution_count": 2,
   "id": "3c6d7750-f141-4b0c-8491-bada6a92d2e1",
   "metadata": {},
   "outputs": [
    {
     "data": {
      "text/plain": [
       "False"
      ]
     },
     "execution_count": 2,
     "metadata": {},
     "output_type": "execute_result"
    }
   ],
   "source": [
    "10>20 and 10>5"
   ]
  },
  {
   "cell_type": "code",
   "execution_count": 3,
   "id": "4163536e-66e7-4730-b649-3cd8b45c9ef6",
   "metadata": {},
   "outputs": [
    {
     "data": {
      "text/plain": [
       "200"
      ]
     },
     "execution_count": 3,
     "metadata": {},
     "output_type": "execute_result"
    }
   ],
   "source": [
    "100 and 200"
   ]
  },
  {
   "cell_type": "code",
   "execution_count": 4,
   "id": "ddc24827-c7c8-48ca-9e69-b62ecfa6bb9b",
   "metadata": {},
   "outputs": [
    {
     "data": {
      "text/plain": [
       "300"
      ]
     },
     "execution_count": 4,
     "metadata": {},
     "output_type": "execute_result"
    }
   ],
   "source": [
    "100 and 200 and 300"
   ]
  },
  {
   "cell_type": "code",
   "execution_count": 5,
   "id": "78c87d60-d501-44b5-9186-ba907851b304",
   "metadata": {},
   "outputs": [
    {
     "data": {
      "text/plain": [
       "'C'"
      ]
     },
     "execution_count": 5,
     "metadata": {},
     "output_type": "execute_result"
    }
   ],
   "source": [
    "\"A\" and \"B\" and \"C\""
   ]
  },
  {
   "cell_type": "markdown",
   "id": "3442b22b-5f6b-4b00-bc04-159468b86156",
   "metadata": {},
   "source": [
    "## `or` operator"
   ]
  },
  {
   "cell_type": "markdown",
   "id": "73d8c013-42f7-4e63-88e8-0a04210581a4",
   "metadata": {},
   "source": [
    "**\"or\"** keyword represent logical operator\n",
    "\n",
    "**\"or\"** is binary operator and required 2 operands"
   ]
  },
  {
   "cell_type": "markdown",
   "id": "79470bb4-9faf-4c0b-bae9-ce1584830179",
   "metadata": {},
   "source": [
    "<table>\n",
    "    <tr>\n",
    "        <th>Operand1</th>\n",
    "        <th>Operand2</th>\n",
    "        <th>Operand1 or Operand2</th>\n",
    "    </tr>\n",
    "    <tr>\n",
    "        <td>True</td>\n",
    "        <td>True</td>\n",
    "        <td>True</td>\n",
    "    </tr>\n",
    "    <tr>\n",
    "        <td>False</td>\n",
    "        <td>True</td>\n",
    "        <td>True</td>\n",
    "    </tr>\n",
    "    <tr>\n",
    "        <td>True</td>\n",
    "        <td>False</td>\n",
    "        <td>True</td>\n",
    "    </tr>\n",
    "    <tr>\n",
    "        <td>False</td>\n",
    "        <td>False</td>\n",
    "        <td>False</td>\n",
    "    </tr>\n",
    "</table>"
   ]
  },
  {
   "cell_type": "markdown",
   "id": "70ddc571-b57d-440a-8b4d-0717f89186d0",
   "metadata": {},
   "source": [
    "### NOTE\n",
    "if any operand is False, the complete expression becomes False."
   ]
  },
  {
   "cell_type": "code",
   "execution_count": 2,
   "id": "664803ec-1bfd-42a1-8550-11f2d3e58f8c",
   "metadata": {},
   "outputs": [
    {
     "data": {
      "text/plain": [
       "True"
      ]
     },
     "execution_count": 2,
     "metadata": {},
     "output_type": "execute_result"
    }
   ],
   "source": [
    " True or False"
   ]
  },
  {
   "cell_type": "code",
   "execution_count": 3,
   "id": "52609029-8cd9-45aa-9f2f-fa69cbab1ce4",
   "metadata": {},
   "outputs": [
    {
     "data": {
      "text/plain": [
       "True"
      ]
     },
     "execution_count": 3,
     "metadata": {},
     "output_type": "execute_result"
    }
   ],
   "source": [
    "False or True"
   ]
  },
  {
   "cell_type": "code",
   "execution_count": 4,
   "id": "6a41b6f5-5a3a-4940-a0aa-f216384c5f7b",
   "metadata": {},
   "outputs": [
    {
     "data": {
      "text/plain": [
       "100"
      ]
     },
     "execution_count": 4,
     "metadata": {},
     "output_type": "execute_result"
    }
   ],
   "source": [
    "100 or 200"
   ]
  },
  {
   "cell_type": "code",
   "execution_count": 5,
   "id": "ec799a46-35c8-4f84-a6d3-cbd3286eac18",
   "metadata": {},
   "outputs": [
    {
     "data": {
      "text/plain": [
       "200"
      ]
     },
     "execution_count": 5,
     "metadata": {},
     "output_type": "execute_result"
    }
   ],
   "source": [
    "0 or 200"
   ]
  },
  {
   "cell_type": "markdown",
   "id": "0ad47a85-c135-46a8-b024-2502eb26401a",
   "metadata": {},
   "source": [
    "## `Not` Operator"
   ]
  },
  {
   "cell_type": "markdown",
   "id": "a6efd72a-3adc-492c-8627-11218e98419a",
   "metadata": {},
   "source": [
    "`Not` is  a keyword, which represents logical operator\n",
    "\n",
    "It is a unary operator and required one operand\n",
    "\n",
    "In application development not operator is used along with other operands"
   ]
  },
  {
   "cell_type": "code",
   "execution_count": 7,
   "id": "704e3b41-6866-448c-a058-13e2bf797ad0",
   "metadata": {},
   "outputs": [
    {
     "name": "stdout",
     "output_type": "stream",
     "text": [
      "True False\n"
     ]
    }
   ],
   "source": [
    "a=True\n",
    "b= not a\n",
    "print(a,b)"
   ]
  },
  {
   "cell_type": "markdown",
   "id": "8eac89f0-c660-494e-b5eb-9bba645fac67",
   "metadata": {},
   "source": [
    "**Precedence of logical operators**\n",
    "\n",
    "`1 Not`\n",
    "\n",
    "`2. And`\n",
    "\n",
    "`3. Or`"
   ]
  }
 ],
 "metadata": {
  "kernelspec": {
   "display_name": "Python 3 (ipykernel)",
   "language": "python",
   "name": "python3"
  },
  "language_info": {
   "codemirror_mode": {
    "name": "ipython",
    "version": 3
   },
   "file_extension": ".py",
   "mimetype": "text/x-python",
   "name": "python",
   "nbconvert_exporter": "python",
   "pygments_lexer": "ipython3",
   "version": "3.12.0"
  }
 },
 "nbformat": 4,
 "nbformat_minor": 5
}
