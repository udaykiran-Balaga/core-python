{
 "cells": [
  {
   "cell_type": "markdown",
   "id": "f53c467e-3f44-4c01-9179-7cc823ab8bac",
   "metadata": {},
   "source": [
    "# Conditional Operators\n",
    "\n",
    "Conditional operators ae `Ternary operators`, These operators required `3 operands`.\n",
    "\n",
    "Conditional operator is used for conditional expression.\n",
    "\n",
    "Conditional operator evaluates the expression based on `conditional/Boolean expression`."
   ]
  },
  {
   "cell_type": "code",
   "execution_count": 2,
   "id": "db36226c-5506-44d0-8afa-555f78d89ee2",
   "metadata": {},
   "outputs": [],
   "source": [
    "a = 100 if True else 200"
   ]
  },
  {
   "cell_type": "code",
   "execution_count": 3,
   "id": "e4a74ee9-d01a-4737-a2f2-a3bf909f8512",
   "metadata": {},
   "outputs": [
    {
     "name": "stdout",
     "output_type": "stream",
     "text": [
      "100\n"
     ]
    }
   ],
   "source": [
    "print(a)"
   ]
  },
  {
   "cell_type": "code",
   "execution_count": 4,
   "id": "bc2e44e7-33f8-48d6-8ac8-632b3e81c2ad",
   "metadata": {},
   "outputs": [
    {
     "name": "stdout",
     "output_type": "stream",
     "text": [
      "200\n"
     ]
    }
   ],
   "source": [
    "b = 100 if False else 200\n",
    "print(b)"
   ]
  },
  {
   "cell_type": "code",
   "execution_count": 6,
   "id": "d2e88002-c779-4acc-98bf-f27bb903ab4b",
   "metadata": {},
   "outputs": [
    {
     "data": {
      "text/plain": [
       "'Hello'"
      ]
     },
     "execution_count": 6,
     "metadata": {},
     "output_type": "execute_result"
    }
   ],
   "source": [
    "c = \"Hello\" if 100>20 else \"Bye\"\n",
    "c"
   ]
  },
  {
   "cell_type": "code",
   "execution_count": 7,
   "id": "01d89dcf-d8ea-4ffa-82b4-ea4d099c806b",
   "metadata": {},
   "outputs": [
    {
     "data": {
      "text/plain": [
       "'Hello'"
      ]
     },
     "execution_count": 7,
     "metadata": {},
     "output_type": "execute_result"
    }
   ],
   "source": [
    "d = \"Hello\" if 100>20 else \"Bye\"\n",
    "d"
   ]
  },
  {
   "cell_type": "code",
   "execution_count": 8,
   "id": "84b6a575-33c1-486a-94c6-86830269407e",
   "metadata": {},
   "outputs": [
    {
     "name": "stdin",
     "output_type": "stream",
     "text": [
      "Enter any integer number 5\n"
     ]
    },
    {
     "name": "stdout",
     "output_type": "stream",
     "text": [
      "Result is  Odd\n"
     ]
    }
   ],
   "source": [
    "# write a program to find input number is even or odd\n",
    "\n",
    "num = int(input(\"Enter any integer number\"))\n",
    "r = num%2\n",
    "result = \"Even\" if r==0 else \"Odd\"\n",
    "print(\"Result is \",result)"
   ]
  },
  {
   "cell_type": "code",
   "execution_count": 12,
   "id": "c4ae5164-96cf-48dd-8df1-896157e2f870",
   "metadata": {},
   "outputs": [
    {
     "name": "stdin",
     "output_type": "stream",
     "text": [
      "Enter your Name  uday\n",
      "Enter your age  22\n"
     ]
    },
    {
     "name": "stdout",
     "output_type": "stream",
     "text": [
      "uday you are eligible to vote\n"
     ]
    }
   ],
   "source": [
    "# write a program to find a person to eligible to vote or not\n",
    "\n",
    "name = input(\"Enter your Name \")\n",
    "age = int(input(\"Enter your age \"))\n",
    "print(name,\"you are eligible to vote\") if age>=18 else print(name,\"you are not eligible to vote\")"
   ]
  }
 ],
 "metadata": {
  "kernelspec": {
   "display_name": "Python 3 (ipykernel)",
   "language": "python",
   "name": "python3"
  },
  "language_info": {
   "codemirror_mode": {
    "name": "ipython",
    "version": 3
   },
   "file_extension": ".py",
   "mimetype": "text/x-python",
   "name": "python",
   "nbconvert_exporter": "python",
   "pygments_lexer": "ipython3",
   "version": "3.12.0"
  }
 },
 "nbformat": 4,
 "nbformat_minor": 5
}
