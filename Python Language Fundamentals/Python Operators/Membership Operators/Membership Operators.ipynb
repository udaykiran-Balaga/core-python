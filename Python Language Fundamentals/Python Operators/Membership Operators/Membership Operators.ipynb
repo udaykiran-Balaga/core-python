{
 "cells": [
  {
   "cell_type": "markdown",
   "id": "ce4efc1e-641f-48d3-adaf-e44938849d99",
   "metadata": {},
   "source": [
    "# Membership Operator"
   ]
  },
  {
   "cell_type": "markdown",
   "id": "5772f301-94c8-439c-8642-bd7aa1502032",
   "metadata": {},
   "source": [
    "Membership Operator is a binary operator and required 2 operands. Membership operator is used with collection data types.\r",
    "s."
   ]
  },
  {
   "cell_type": "markdown",
   "id": "94981a34-24ab-4947-8bd0-958938ebad28",
   "metadata": {},
   "source": [
    "`\"in\"` keyword represents membership operator. This operator returns True, if given value exists in collection of values.\n",
    "\n",
    "This operator returns False, if given value not exists in collection of values."
   ]
  },
  {
   "cell_type": "markdown",
   "id": "fb7c31a0-4fcf-4985-b5a6-ec9742b86b77",
   "metadata": {},
   "source": [
    "Membership operator returns Boolean value\n",
    "\n",
    "**`1. in`**\n",
    "\n",
    "**`2. not in`**"
   ]
  },
  {
   "cell_type": "code",
   "execution_count": 2,
   "id": "93a818b8-6e64-499f-a3bf-8179eceb642f",
   "metadata": {},
   "outputs": [
    {
     "data": {
      "text/plain": [
       "True"
      ]
     },
     "execution_count": 2,
     "metadata": {},
     "output_type": "execute_result"
    }
   ],
   "source": [
    "10 in {10,20,30,40}"
   ]
  },
  {
   "cell_type": "code",
   "execution_count": 4,
   "id": "4f38a372-9942-4459-bbb2-d5a02128ef76",
   "metadata": {},
   "outputs": [
    {
     "data": {
      "text/plain": [
       "True"
      ]
     },
     "execution_count": 4,
     "metadata": {},
     "output_type": "execute_result"
    }
   ],
   "source": [
    "\"uday\" in \"udaykiran\""
   ]
  },
  {
   "cell_type": "code",
   "execution_count": 5,
   "id": "697f3506-bace-4d2e-ae85-18e838fe7693",
   "metadata": {},
   "outputs": [
    {
     "name": "stdin",
     "output_type": "stream",
     "text": [
      "Enter any character a\n"
     ]
    },
    {
     "name": "stdout",
     "output_type": "stream",
     "text": [
      "vowel\n"
     ]
    }
   ],
   "source": [
    "# write a program to find input character is vowel or not\n",
    "\n",
    "ch = input(\"Enter any character\").strip().lower()\n",
    "print(\"vowel\") if ch in \"aeiou\" else print(\"not vowel\")"
   ]
  },
  {
   "cell_type": "code",
   "execution_count": 1,
   "id": "bd021f1f-d39e-4853-b688-097c5337daf4",
   "metadata": {},
   "outputs": [
    {
     "data": {
      "text/plain": [
       "False"
      ]
     },
     "execution_count": 1,
     "metadata": {},
     "output_type": "execute_result"
    }
   ],
   "source": [
    "10 not in [10,20,30,40]"
   ]
  },
  {
   "cell_type": "code",
   "execution_count": null,
   "id": "2f8b6b72-f7ac-4ee6-81c3-68039c8ef829",
   "metadata": {},
   "outputs": [],
   "source": []
  }
 ],
 "metadata": {
  "kernelspec": {
   "display_name": "Python 3 (ipykernel)",
   "language": "python",
   "name": "python3"
  },
  "language_info": {
   "codemirror_mode": {
    "name": "ipython",
    "version": 3
   },
   "file_extension": ".py",
   "mimetype": "text/x-python",
   "name": "python",
   "nbconvert_exporter": "python",
   "pygments_lexer": "ipython3",
   "version": "3.12.0"
  }
 },
 "nbformat": 4,
 "nbformat_minor": 5
}
