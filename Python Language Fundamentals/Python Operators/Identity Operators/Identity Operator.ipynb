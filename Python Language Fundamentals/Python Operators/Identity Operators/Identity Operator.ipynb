{
 "cells": [
  {
   "cell_type": "markdown",
   "id": "592caa77-6310-406c-9af7-264312230752",
   "metadata": {},
   "source": [
    "# IDENTITY OPERATOR"
   ]
  },
  {
   "cell_type": "markdown",
   "id": "36bd7bf8-3b6f-4630-9a55-18cbebf35245",
   "metadata": {},
   "source": [
    "**`Identity operator`** is binary operator and required 2 operands. \n",
    "\n",
    "**`Identity operator`** is used to find 2 variable are pointing to same object in memory."
   ]
  },
  {
   "cell_type": "markdown",
   "id": "f6a232b3-ba83-4faa-ad18-75627a9ba05c",
   "metadata": {},
   "source": [
    "` is`\n",
    "\n",
    "`is not`"
   ]
  },
  {
   "cell_type": "markdown",
   "id": "e62966bb-a006-4776-9684-9447156bad1a",
   "metadata": {},
   "source": [
    "### Q. what is difference between `==` and `is` operator in python?"
   ]
  },
  {
   "cell_type": "markdown",
   "id": "c95c8862-b009-4709-af93-5df622145eab",
   "metadata": {},
   "source": [
    "The **`==`** operator compares the value or equality of two objects,whereas the python **`is`** operator checks whether two variables point to the same object in memory."
   ]
  },
  {
   "cell_type": "code",
   "execution_count": 3,
   "id": "ff53c54a-96c8-43a2-9395-80013a0598e0",
   "metadata": {},
   "outputs": [],
   "source": [
    "list1=[10,20]\n",
    "list2=[10,20]"
   ]
  },
  {
   "cell_type": "code",
   "execution_count": 4,
   "id": "747b073e-94b8-47fd-92a4-dd612b2f348b",
   "metadata": {},
   "outputs": [
    {
     "name": "stdout",
     "output_type": "stream",
     "text": [
      "True\n",
      "False\n"
     ]
    }
   ],
   "source": [
    "print(list1==list2)\n",
    "print(list1 is list2)"
   ]
  },
  {
   "cell_type": "code",
   "execution_count": 5,
   "id": "0ddd4013-9d15-45ce-8555-4194d5d0562e",
   "metadata": {},
   "outputs": [],
   "source": [
    "a=10\n",
    "b=10"
   ]
  },
  {
   "cell_type": "code",
   "execution_count": 6,
   "id": "870973a5-2d46-4930-b93b-8e3acf1c932c",
   "metadata": {},
   "outputs": [
    {
     "name": "stdout",
     "output_type": "stream",
     "text": [
      "True\n",
      "True\n"
     ]
    }
   ],
   "source": [
    "print(a==b)\n",
    "print(a is b)\n"
   ]
  }
 ],
 "metadata": {
  "kernelspec": {
   "display_name": "Python 3 (ipykernel)",
   "language": "python",
   "name": "python3"
  },
  "language_info": {
   "codemirror_mode": {
    "name": "ipython",
    "version": 3
   },
   "file_extension": ".py",
   "mimetype": "text/x-python",
   "name": "python",
   "nbconvert_exporter": "python",
   "pygments_lexer": "ipython3",
   "version": "3.12.0"
  }
 },
 "nbformat": 4,
 "nbformat_minor": 5
}
