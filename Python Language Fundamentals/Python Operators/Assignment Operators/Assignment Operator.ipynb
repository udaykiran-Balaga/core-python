{
 "cells": [
  {
   "cell_type": "markdown",
   "id": "d4b0fb52-6a09-4f39-bb07-99eabcafbde8",
   "metadata": {},
   "source": [
    "# Assignment Operators or Update Operators or Compound Assignment Operators"
   ]
  },
  {
   "cell_type": "markdown",
   "id": "50239fe8-ba4e-4b14-8db7-2e85b8f9fcb8",
   "metadata": {},
   "source": [
    "A single operator which perform two operations\n",
    "\n",
    "`1. Binary Operation`\n",
    "\n",
    "`2. Assginment Operation`"
   ]
  },
  {
   "cell_type": "markdown",
   "id": "64d83b5c-6395-4b7f-b324-625c2e484ed5",
   "metadata": {},
   "source": [
    "<table>\n",
    "    <tr>\n",
    "        <th>symbols</th>\n",
    "    </tr>\n",
    "    <tr>\n",
    "        <td>+=</td>\n",
    "    </tr>\n",
    "    <tr>\n",
    "        <td>-=</td>\n",
    "    </tr>\n",
    "    <tr>\n",
    "        <td>*=</td>\n",
    "    </tr>\n",
    "    <tr>\n",
    "        <td>/=</td>\n",
    "    </tr>\n",
    "    <tr>\n",
    "        <td>//=</td>\n",
    "    </tr>\n",
    "    <tr>\n",
    "        <td>%=</td>\n",
    "    </tr>\n",
    "    <tr>\n",
    "        <td>**=</td>\n",
    "    </tr>\n",
    "    <tr>\n",
    "        <td>>>=</td>\n",
    "    </tr>\n",
    "    <tr>\n",
    "        <td><<=</td>\n",
    "    </tr>\n",
    "    <tr>\n",
    "        <td>&=</td>\n",
    "    </tr>\n",
    "    <tr>\n",
    "        <td>|=</td>\n",
    "    </tr>\n",
    "    <tr>\n",
    "        <td>^=</td>\n",
    "    </tr>\n",
    "    \n",
    "</table>"
   ]
  },
  {
   "cell_type": "code",
   "execution_count": 4,
   "id": "86b87e88-a9c1-4d38-a75c-4fcfdb298506",
   "metadata": {},
   "outputs": [
    {
     "name": "stdout",
     "output_type": "stream",
     "text": [
      "10\n"
     ]
    }
   ],
   "source": [
    "a=10\n",
    "print(a)"
   ]
  },
  {
   "cell_type": "code",
   "execution_count": 3,
   "id": "91308041-7f57-407b-9d14-483a061e8ab5",
   "metadata": {},
   "outputs": [
    {
     "name": "stdout",
     "output_type": "stream",
     "text": [
      "15\n"
     ]
    }
   ],
   "source": [
    "a+=5 # a=a+5\n",
    "print(a)"
   ]
  },
  {
   "cell_type": "code",
   "execution_count": 5,
   "id": "f1ff74d8-acda-46a1-a6ed-1905fa482b63",
   "metadata": {},
   "outputs": [
    {
     "name": "stdout",
     "output_type": "stream",
     "text": [
      "15\n"
     ]
    }
   ],
   "source": [
    "a+=5 # a=a+5\n",
    "print(a)"
   ]
  },
  {
   "cell_type": "code",
   "execution_count": 6,
   "id": "9d191117-4ca2-463b-8732-bcd2a3424b82",
   "metadata": {},
   "outputs": [
    {
     "name": "stdout",
     "output_type": "stream",
     "text": [
      "75\n"
     ]
    }
   ],
   "source": [
    "a*=5  # a=a*5\n",
    "print(a)"
   ]
  },
  {
   "cell_type": "code",
   "execution_count": 8,
   "id": "75f7eaa1-0f11-460b-a240-c656295320dd",
   "metadata": {},
   "outputs": [
    {
     "name": "stdout",
     "output_type": "stream",
     "text": [
      "375\n"
     ]
    }
   ],
   "source": [
    "a*=5  # a=a*5\n",
    "print(a)"
   ]
  },
  {
   "cell_type": "code",
   "execution_count": 9,
   "id": "4f5ca43c-5478-43ee-978f-ab48fb704034",
   "metadata": {},
   "outputs": [
    {
     "name": "stdout",
     "output_type": "stream",
     "text": [
      "125\n"
     ]
    }
   ],
   "source": [
    "a//=3 # a=a//2\n",
    "print(a)"
   ]
  },
  {
   "cell_type": "code",
   "execution_count": 10,
   "id": "af2ceb25-ce30-4c7c-993d-f9d51ae23e4b",
   "metadata": {},
   "outputs": [
    {
     "name": "stdout",
     "output_type": "stream",
     "text": [
      "41\n"
     ]
    }
   ],
   "source": [
    "a//=3 # a=a//2\n",
    "print(a)"
   ]
  },
  {
   "cell_type": "code",
   "execution_count": 12,
   "id": "b81583c4-8266-483f-a79e-bb47b40bad93",
   "metadata": {},
   "outputs": [
    {
     "name": "stdout",
     "output_type": "stream",
     "text": [
      "11\n"
     ]
    }
   ],
   "source": [
    "x=5\n",
    "x+=1+5\n",
    "print(x)"
   ]
  }
 ],
 "metadata": {
  "kernelspec": {
   "display_name": "Python 3 (ipykernel)",
   "language": "python",
   "name": "python3"
  },
  "language_info": {
   "codemirror_mode": {
    "name": "ipython",
    "version": 3
   },
   "file_extension": ".py",
   "mimetype": "text/x-python",
   "name": "python",
   "nbconvert_exporter": "python",
   "pygments_lexer": "ipython3",
   "version": "3.12.0"
  }
 },
 "nbformat": 4,
 "nbformat_minor": 5
}
