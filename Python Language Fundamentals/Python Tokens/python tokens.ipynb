{
 "cells": [
  {
   "cell_type": "markdown",
   "id": "e1ab2d77-fe3a-44df-b635-d0f9d9181f55",
   "metadata": {},
   "source": [
    "# Tokens of Python\n",
    "\n",
    "Tokens are the `smallest units` in a Python program. Python recognizes several types of tokens:\n",
    "\n",
    "1. Keywords\n",
    "\n",
    "2. Identifiers\n",
    "\n",
    "3. Literals\n",
    "\n",
    "4. Data types\n",
    "\n",
    "5. Operators"
   ]
  },
  {
   "cell_type": "markdown",
   "id": "086ab321-aa29-40be-9d0a-6b026f6b86e7",
   "metadata": {},
   "source": [
    "# Keywords"
   ]
  },
  {
   "cell_type": "markdown",
   "id": "cf630d22-4dba-47c1-b012-e6888a0b2e8b",
   "metadata": {},
   "source": [
    "**Keywords**: Reserved words with special meanings in Python such as"
   ]
  },
  {
   "cell_type": "code",
   "execution_count": 2,
   "id": "1da4867b-cbbe-4585-81fe-b5186d1103e0",
   "metadata": {},
   "outputs": [
    {
     "data": {
      "text/plain": [
       "['False',\n",
       " 'None',\n",
       " 'True',\n",
       " 'and',\n",
       " 'as',\n",
       " 'assert',\n",
       " 'async',\n",
       " 'await',\n",
       " 'break',\n",
       " 'class',\n",
       " 'continue',\n",
       " 'def',\n",
       " 'del',\n",
       " 'elif',\n",
       " 'else',\n",
       " 'except',\n",
       " 'finally',\n",
       " 'for',\n",
       " 'from',\n",
       " 'global',\n",
       " 'if',\n",
       " 'import',\n",
       " 'in',\n",
       " 'is',\n",
       " 'lambda',\n",
       " 'nonlocal',\n",
       " 'not',\n",
       " 'or',\n",
       " 'pass',\n",
       " 'raise',\n",
       " 'return',\n",
       " 'try',\n",
       " 'while',\n",
       " 'with',\n",
       " 'yield']"
      ]
     },
     "execution_count": 2,
     "metadata": {},
     "output_type": "execute_result"
    }
   ],
   "source": [
    "import keyword\n",
    "keyword.kwlist"
   ]
  },
  {
   "cell_type": "code",
   "execution_count": 3,
   "id": "eec8a5cc-4b4d-422b-91c8-a6675313d596",
   "metadata": {},
   "outputs": [
    {
     "data": {
      "text/plain": [
       "35"
      ]
     },
     "execution_count": 3,
     "metadata": {},
     "output_type": "execute_result"
    }
   ],
   "source": [
    "len(keyword.kwlist)"
   ]
  },
  {
   "cell_type": "markdown",
   "id": "e5d8b1ea-b4d7-41fe-bd76-be31600d9b35",
   "metadata": {},
   "source": [
    "`Soft keywords` are introduced in python 3.11 version.\n",
    "These keywords can be used as `Identifiers`."
   ]
  },
  {
   "cell_type": "code",
   "execution_count": 4,
   "id": "88de76fd-f991-4188-ba61-d0e33ff6222f",
   "metadata": {},
   "outputs": [
    {
     "data": {
      "text/plain": [
       "['_', 'case', 'match', 'type']"
      ]
     },
     "execution_count": 4,
     "metadata": {},
     "output_type": "execute_result"
    }
   ],
   "source": [
    "keyword.softkwlist"
   ]
  },
  {
   "cell_type": "markdown",
   "id": "e6d9c79c-3c6f-4bc5-b6b8-398cf7f1f833",
   "metadata": {},
   "source": [
    "# Identifiers"
   ]
  },
  {
   "cell_type": "markdown",
   "id": "a6c3d4bc-f072-439e-8b0e-3af9065ae140",
   "metadata": {},
   "source": [
    "**Identifiers**: Names used to identify `variables`, `functions`, `classes`, `Constants` , `program/module` , `package`.\n",
    "\n",
    "Identifiers must start with a letter or underscore (`_`) followed by letters, digits, or underscores. They are `case-sensitive`.\n",
    "\n",
    "Python is case sensitive language and finds the difference between `uppercase` and `lowercase`."
   ]
  },
  {
   "cell_type": "markdown",
   "id": "5fe35134-32f0-44ef-9ef1-87b53cfbeff3",
   "metadata": {},
   "source": [
    "**Rules**\n",
    "1. Identifier should not be keyword"
   ]
  },
  {
   "cell_type": "code",
   "execution_count": 5,
   "id": "38d81419-bc72-4aef-b2c2-aa9f7fecf107",
   "metadata": {},
   "outputs": [
    {
     "ename": "SyntaxError",
     "evalue": "invalid syntax (501637986.py, line 2)",
     "output_type": "error",
     "traceback": [
      "\u001b[1;36m  Cell \u001b[1;32mIn[5], line 2\u001b[1;36m\u001b[0m\n\u001b[1;33m    lambda=1\u001b[0m\n\u001b[1;37m          ^\u001b[0m\n\u001b[1;31mSyntaxError\u001b[0m\u001b[1;31m:\u001b[0m invalid syntax\n"
     ]
    }
   ],
   "source": [
    "# keyword\n",
    "lambda=1"
   ]
  },
  {
   "cell_type": "code",
   "execution_count": 7,
   "id": "c64fbcb8-2ded-4bf6-8872-8c175a49addb",
   "metadata": {},
   "outputs": [
    {
     "name": "stdout",
     "output_type": "stream",
     "text": [
      "100\n"
     ]
    }
   ],
   "source": [
    "# UPPER CASE\n",
    "PASS=100\n",
    "print(PASS)"
   ]
  },
  {
   "cell_type": "markdown",
   "id": "11244195-3856-4d71-8c11-38a3b7ebd0f1",
   "metadata": {},
   "source": [
    "**2. Identifier cannot start with digit**"
   ]
  },
  {
   "cell_type": "code",
   "execution_count": 9,
   "id": "024f8d06-1491-4fb4-84de-1c625411eed5",
   "metadata": {},
   "outputs": [
    {
     "data": {
      "text/plain": [
       "100"
      ]
     },
     "execution_count": 9,
     "metadata": {},
     "output_type": "execute_result"
    }
   ],
   "source": [
    "n1=100\n",
    "n1"
   ]
  },
  {
   "cell_type": "code",
   "execution_count": 10,
   "id": "b186282f-b0dc-47ff-b806-8281ac315deb",
   "metadata": {},
   "outputs": [
    {
     "ename": "SyntaxError",
     "evalue": "invalid decimal literal (1018830451.py, line 2)",
     "output_type": "error",
     "traceback": [
      "\u001b[1;36m  Cell \u001b[1;32mIn[10], line 2\u001b[1;36m\u001b[0m\n\u001b[1;33m    1n=100\u001b[0m\n\u001b[1;37m    ^\u001b[0m\n\u001b[1;31mSyntaxError\u001b[0m\u001b[1;31m:\u001b[0m invalid decimal literal\n"
     ]
    }
   ],
   "source": [
    "# start with number\n",
    "1n=100"
   ]
  },
  {
   "cell_type": "markdown",
   "id": "9d395144-2736-46ed-af77-6b365521ae01",
   "metadata": {},
   "source": [
    "**3. Only one special character is allowed `\"_\"`**"
   ]
  },
  {
   "cell_type": "code",
   "execution_count": 11,
   "id": "b9ce04b3-d528-4dd4-9e4e-12932e14e794",
   "metadata": {},
   "outputs": [],
   "source": [
    "a=100"
   ]
  },
  {
   "cell_type": "code",
   "execution_count": 12,
   "id": "5dbd9fef-5e24-4f62-8df5-3d7aaac7f264",
   "metadata": {},
   "outputs": [],
   "source": [
    "_a=200"
   ]
  },
  {
   "cell_type": "code",
   "execution_count": 13,
   "id": "6a0f61ef-b2e4-41ca-8a00-b69494a63e3c",
   "metadata": {},
   "outputs": [],
   "source": [
    "_c=455"
   ]
  },
  {
   "cell_type": "code",
   "execution_count": 15,
   "id": "b5c94638-07ee-4b1e-8855-8868d56a4023",
   "metadata": {},
   "outputs": [
    {
     "ename": "SyntaxError",
     "evalue": "invalid syntax (1057543094.py, line 2)",
     "output_type": "error",
     "traceback": [
      "\u001b[1;36m  Cell \u001b[1;32mIn[15], line 2\u001b[1;36m\u001b[0m\n\u001b[1;33m    $amt=100\u001b[0m\n\u001b[1;37m    ^\u001b[0m\n\u001b[1;31mSyntaxError\u001b[0m\u001b[1;31m:\u001b[0m invalid syntax\n"
     ]
    }
   ],
   "source": [
    "# otherthan underscore _ any special characters leads to syntax error\n",
    "$amt=100"
   ]
  },
  {
   "cell_type": "markdown",
   "id": "6ef7a2a2-1171-485e-8640-4b58bbfc8a62",
   "metadata": {},
   "source": [
    "**4. There should not be any space between identifier**"
   ]
  },
  {
   "cell_type": "code",
   "execution_count": 16,
   "id": "ee38216d-d52c-46b6-820e-73c554334c27",
   "metadata": {},
   "outputs": [
    {
     "ename": "SyntaxError",
     "evalue": "invalid syntax (2290507103.py, line 1)",
     "output_type": "error",
     "traceback": [
      "\u001b[1;36m  Cell \u001b[1;32mIn[16], line 1\u001b[1;36m\u001b[0m\n\u001b[1;33m    student name =\"uday\"\u001b[0m\n\u001b[1;37m            ^\u001b[0m\n\u001b[1;31mSyntaxError\u001b[0m\u001b[1;31m:\u001b[0m invalid syntax\n"
     ]
    }
   ],
   "source": [
    "student name =\"uday\""
   ]
  },
  {
   "cell_type": "markdown",
   "id": "c92f3e0e-3a7e-4956-8b18-8162bd6bdf69",
   "metadata": {},
   "source": [
    "**5. Maximum length of identifier is unlimited**"
   ]
  },
  {
   "cell_type": "code",
   "execution_count": 17,
   "id": "650dee8e-8f06-4934-9603-4195c271c15b",
   "metadata": {},
   "outputs": [],
   "source": [
    "qqqqqqqqqqqqqqqqqqqqqqqqqqqqqqqqqqqqqqqqqqqq=1"
   ]
  },
  {
   "cell_type": "markdown",
   "id": "c99f2669-3675-40b7-9f41-fa7e0b865dae",
   "metadata": {},
   "source": [
    "**6. Identifiers can be defined in uppercase or lowercase**"
   ]
  },
  {
   "cell_type": "code",
   "execution_count": 20,
   "id": "33aa2754-7d79-4b2b-ad7b-6ccc90a8cc3c",
   "metadata": {},
   "outputs": [
    {
     "data": {
      "text/plain": [
       "100"
      ]
     },
     "execution_count": 20,
     "metadata": {},
     "output_type": "execute_result"
    }
   ],
   "source": [
    "a=100\n",
    "a"
   ]
  },
  {
   "cell_type": "code",
   "execution_count": 21,
   "id": "7960ddea-9096-4904-904d-54622ba5f28c",
   "metadata": {},
   "outputs": [
    {
     "data": {
      "text/plain": [
       "100"
      ]
     },
     "execution_count": 21,
     "metadata": {},
     "output_type": "execute_result"
    }
   ],
   "source": [
    "A=100\n",
    "A"
   ]
  },
  {
   "cell_type": "markdown",
   "id": "3f4d4c80-5ad3-4879-9988-d19c153ae66f",
   "metadata": {},
   "source": [
    "# Literals and Data types"
   ]
  },
  {
   "cell_type": "markdown",
   "id": "3bbf97d3-c425-4f78-aa30-64147656dd83",
   "metadata": {},
   "source": [
    "**Literal** is nothing `value/data` which never changed\n",
    "\n",
    "**1. Numerical Literals**\n",
    "   \n",
    "   a. Integer Literal\n",
    "\n",
    "   b. Float Literal\n",
    "\n",
    "   c. Complex Literal\n",
    "\n",
    "**2. Non Numeric Literals**\n",
    "   \n",
    "   a. Boolean\n",
    "\n",
    "   b. String\n",
    "\n",
    "   c. None"
   ]
  },
  {
   "cell_type": "markdown",
   "id": "b6236862-8b6e-4ae8-8328-415d2b2e9be6",
   "metadata": {},
   "source": [
    "**Data types**\n",
    "\n",
    "Data types are used to allocate memory for data/literals.\n",
    "python data types are classified into two categories.\n",
    "\n",
    "`1. Scalar Data types`\n",
    "\n",
    "`2. Collection Data types`\n",
    "\n",
    "`Scalar` data types are used to allocate memory for one value.\n",
    "\n",
    "`1. int`\n",
    "\n",
    "`2. Float`\n",
    "\n",
    "`3. Complex`\n",
    "\n",
    "`4. Bool`\n",
    "\n",
    "`5. NoneType`\n",
    "\n",
    "Collection data types are used to allocate memory for more than one value.\n",
    "\n",
    "`1. Sequences`\n",
    "\n",
    "`a. List`\n",
    "\n",
    "`b. Tuple`\n",
    "\n",
    "`c. String`\n",
    "\n",
    "`d. Range`\n",
    "\n",
    "`e. Bytes`\n",
    "\n",
    "`f. Bytearray`\n",
    "\n",
    "`2. Sets`\n",
    "\n",
    "`a. set`\n",
    "\n",
    "`b. frozenset`\n",
    "\n",
    "`3. Mappings`\n",
    "\n",
    "`a. Dictionary`"
   ]
  },
  {
   "cell_type": "markdown",
   "id": "df271083-53f7-4dc8-a84d-22aa2b980e6d",
   "metadata": {},
   "source": [
    "Representation of integer `value/literals` in python:\n",
    "\n",
    "In python these integer values are represented in `4 formats`\n",
    "\n",
    "1. Decimal integer\n",
    "   \n",
    "2. Octal integer\n",
    "\n",
    "3. Hexadecimal integer\n",
    "\n",
    "4. Binary integer"
   ]
  },
  {
   "cell_type": "markdown",
   "id": "ca617ce3-c142-45f9-aa46-071ba4f34cee",
   "metadata": {},
   "source": [
    "Decimal, Octal, Hexadecimal and binary are called **Number System**.\n",
    "`Number System` defines set of rules and regulations for defining numbers in computer science"
   ]
  },
  {
   "cell_type": "markdown",
   "id": "8acd7175-3b9f-4b48-98a1-5e05067acd68",
   "metadata": {},
   "source": [
    "**Decimal Integer**\n",
    "\n",
    "An integer value with `base 10` is called **Decimal integer**. This integer is created using digits which range from `0-9`. This integer is not prefix with 0. This integer is prefix with `+` or `-`"
   ]
  },
  {
   "cell_type": "code",
   "execution_count": 22,
   "id": "33abc299-b997-49ea-9afc-dd96d596ea99",
   "metadata": {},
   "outputs": [
    {
     "data": {
      "text/plain": [
       "123"
      ]
     },
     "execution_count": 22,
     "metadata": {},
     "output_type": "execute_result"
    }
   ],
   "source": [
    "b=123\n",
    "b"
   ]
  },
  {
   "cell_type": "code",
   "execution_count": 23,
   "id": "89f13252-db74-4c46-b099-7aa6b7669dba",
   "metadata": {},
   "outputs": [
    {
     "ename": "SyntaxError",
     "evalue": "leading zeros in decimal integer literals are not permitted; use an 0o prefix for octal integers (3376236444.py, line 1)",
     "output_type": "error",
     "traceback": [
      "\u001b[1;36m  Cell \u001b[1;32mIn[23], line 1\u001b[1;36m\u001b[0m\n\u001b[1;33m    c=021\u001b[0m\n\u001b[1;37m      ^\u001b[0m\n\u001b[1;31mSyntaxError\u001b[0m\u001b[1;31m:\u001b[0m leading zeros in decimal integer literals are not permitted; use an 0o prefix for octal integers\n"
     ]
    }
   ],
   "source": [
    "c=021"
   ]
  },
  {
   "cell_type": "markdown",
   "id": "947276c6-ddbb-4a1e-8e7c-2859947f0aba",
   "metadata": {},
   "source": [
    "**Octal Integer**\n",
    "\n",
    "An integer value with `base 8` is called **octal integer**.\n",
    "This integer is created using digits which range from `0-7`.\n",
    "This integer is prefix wth `0o` or `0O`"
   ]
  },
  {
   "cell_type": "code",
   "execution_count": 24,
   "id": "1609f8ec-ef33-4aed-b48b-ee44c1f8d084",
   "metadata": {},
   "outputs": [
    {
     "data": {
      "text/plain": [
       "10"
      ]
     },
     "execution_count": 24,
     "metadata": {},
     "output_type": "execute_result"
    }
   ],
   "source": [
    "x=0o12\n",
    "x"
   ]
  },
  {
   "cell_type": "code",
   "execution_count": 25,
   "id": "55fa2d15-345f-4f32-bbef-68318b77036c",
   "metadata": {},
   "outputs": [
    {
     "data": {
      "text/plain": [
       "int"
      ]
     },
     "execution_count": 25,
     "metadata": {},
     "output_type": "execute_result"
    }
   ],
   "source": [
    "type(x)"
   ]
  },
  {
   "cell_type": "code",
   "execution_count": 28,
   "id": "167285e7-ef02-46eb-b21f-b8f824ea9cab",
   "metadata": {},
   "outputs": [
    {
     "ename": "SyntaxError",
     "evalue": "invalid digit '8' in octal literal (1951594246.py, line 2)",
     "output_type": "error",
     "traceback": [
      "\u001b[1;36m  Cell \u001b[1;32mIn[28], line 2\u001b[1;36m\u001b[0m\n\u001b[1;33m    y=0o89\u001b[0m\n\u001b[1;37m        ^\u001b[0m\n\u001b[1;31mSyntaxError\u001b[0m\u001b[1;31m:\u001b[0m invalid digit '8' in octal literal\n"
     ]
    }
   ],
   "source": [
    "# Octal integer supports from 0-7\n",
    "y=0o89"
   ]
  },
  {
   "cell_type": "markdown",
   "id": "cd45a3cb-5937-401f-9644-ee00c8fe4f3d",
   "metadata": {},
   "source": [
    "**Applications of Octal integers**\n",
    "\n",
    "1. Representing an integer value with does not allows 8 and 9 digits.\n",
    "2. In `Assembly Language` data is represented in octal format."
   ]
  },
  {
   "cell_type": "markdown",
   "id": "a355e6d1-cd5e-4419-af78-1668ccae8c12",
   "metadata": {},
   "source": [
    "**Hexadecimal Integer**\n",
    "\n",
    "An integer value with base 16 is called `Hexadecimal integer`.\n",
    "This integer prefix with `0x` and `0x`.\n",
    "This integer is created using digits range from `0-9` and `a-f/A-F`, Larger integer values are represented in `Hexadecimal format`.\n",
    "\n",
    "Applications\n",
    "\n",
    "1. Color values\n",
    "\n",
    "2. Memory Address\n",
    "\n",
    "3. Register Address"
   ]
  },
  {
   "cell_type": "code",
   "execution_count": 30,
   "id": "f98e0238-9883-4c61-8911-96ff1a1f7f0f",
   "metadata": {},
   "outputs": [
    {
     "data": {
      "text/plain": [
       "171"
      ]
     },
     "execution_count": 30,
     "metadata": {},
     "output_type": "execute_result"
    }
   ],
   "source": [
    "n1=0xab\n",
    "n1"
   ]
  },
  {
   "cell_type": "code",
   "execution_count": 32,
   "id": "2826b5b6-474c-474d-b6c2-7d5cc484aa5b",
   "metadata": {},
   "outputs": [
    {
     "data": {
      "text/plain": [
       "2748"
      ]
     },
     "execution_count": 32,
     "metadata": {},
     "output_type": "execute_result"
    }
   ],
   "source": [
    "n2=0XABC\n",
    "n2"
   ]
  },
  {
   "cell_type": "code",
   "execution_count": 33,
   "id": "754ac844-148c-4b11-981d-04b400a9e088",
   "metadata": {},
   "outputs": [
    {
     "data": {
      "text/plain": [
       "2989"
      ]
     },
     "execution_count": 33,
     "metadata": {},
     "output_type": "execute_result"
    }
   ],
   "source": [
    "n3= 0xbad\n",
    "n3"
   ]
  },
  {
   "cell_type": "code",
   "execution_count": 35,
   "id": "67b7bb59-469a-436e-9237-85bca809bdef",
   "metadata": {},
   "outputs": [
    {
     "ename": "SyntaxError",
     "evalue": "invalid hexadecimal literal (3454064783.py, line 2)",
     "output_type": "error",
     "traceback": [
      "\u001b[1;36m  Cell \u001b[1;32mIn[35], line 2\u001b[1;36m\u001b[0m\n\u001b[1;33m    n4= 0xabg\u001b[0m\n\u001b[1;37m           ^\u001b[0m\n\u001b[1;31mSyntaxError\u001b[0m\u001b[1;31m:\u001b[0m invalid hexadecimal literal\n"
     ]
    }
   ],
   "source": [
    "# a-f/A-F supports in hexadecimal integer\n",
    "n4= 0xabg\n",
    "n4"
   ]
  },
  {
   "cell_type": "markdown",
   "id": "48665547-c22a-4e70-bceb-ad64f52dd37f",
   "metadata": {},
   "source": [
    "**Binary Integer**\n",
    "\n",
    "An integer values with `base 2` is called `Binary integer`.\n",
    "\n",
    "This integer is prefix with `0b` or `0B`. \n",
    "\n",
    "This integer is created using `0` and `1`."
   ]
  },
  {
   "cell_type": "code",
   "execution_count": 36,
   "id": "031a48aa-a8e7-4f20-9ddf-f7bfd70e6a71",
   "metadata": {},
   "outputs": [
    {
     "data": {
      "text/plain": [
       "10"
      ]
     },
     "execution_count": 36,
     "metadata": {},
     "output_type": "execute_result"
    }
   ],
   "source": [
    "a=0b1010\n",
    "a"
   ]
  },
  {
   "cell_type": "code",
   "execution_count": 37,
   "id": "a21fa1e9-8ea1-4470-99af-a3eb97a8f4b6",
   "metadata": {},
   "outputs": [
    {
     "data": {
      "text/plain": [
       "5"
      ]
     },
     "execution_count": 37,
     "metadata": {},
     "output_type": "execute_result"
    }
   ],
   "source": [
    "b=0b101\n",
    "b"
   ]
  },
  {
   "cell_type": "code",
   "execution_count": 39,
   "id": "add98e24-40e7-4ad5-8e7a-c1d83242b2df",
   "metadata": {},
   "outputs": [
    {
     "ename": "SyntaxError",
     "evalue": "invalid digit '2' in binary literal (189229240.py, line 2)",
     "output_type": "error",
     "traceback": [
      "\u001b[1;36m  Cell \u001b[1;32mIn[39], line 2\u001b[1;36m\u001b[0m\n\u001b[1;33m    c=0b10102\u001b[0m\n\u001b[1;37m            ^\u001b[0m\n\u001b[1;31mSyntaxError\u001b[0m\u001b[1;31m:\u001b[0m invalid digit '2' in binary literal\n"
     ]
    }
   ],
   "source": [
    "# integer with rather than 0 and 1 it gives error\n",
    "c=0b10102\n",
    "c"
   ]
  },
  {
   "cell_type": "markdown",
   "id": "c7f3d165-f965-4091-848e-595e726ece30",
   "metadata": {},
   "source": [
    "**Applications of Binary Integer**\n",
    "\n",
    "`1. Machine Learning`\n",
    "\n",
    "`2. Low Level Programming/Embedded Applications`"
   ]
  },
  {
   "cell_type": "markdown",
   "id": "7d93231a-380d-4c0f-a275-14cf493671f2",
   "metadata": {},
   "source": [
    "**Float Literal and Float Data Type**"
   ]
  },
  {
   "cell_type": "markdown",
   "id": "5c3bd76f-35c4-4da2-bae1-83373fb954c4",
   "metadata": {},
   "source": [
    "Float value is numeric value wih `FRACTIONAL part` or `DECIMAL part`.\n",
    "Float data, ,memory is allocated by `float data type`."
   ]
  },
  {
   "cell_type": "code",
   "execution_count": 40,
   "id": "1f4b6d9e-3711-4ac7-ae99-5431d100babd",
   "metadata": {},
   "outputs": [],
   "source": [
    "a=1.5\n",
    "b=2.0"
   ]
  },
  {
   "cell_type": "code",
   "execution_count": 42,
   "id": "2e0f9682-ce24-49a6-8586-8b49ba279f0f",
   "metadata": {},
   "outputs": [
    {
     "name": "stdout",
     "output_type": "stream",
     "text": [
      "<class 'float'>\n",
      "<class 'float'>\n"
     ]
    }
   ],
   "source": [
    "print(type(a))\n",
    "print(type(b))"
   ]
  },
  {
   "cell_type": "markdown",
   "id": "aa4a07e8-0946-44b7-8431-a4d1e8832c47",
   "metadata": {},
   "source": [
    "In python float values are represented in `2 formats`.\n",
    "\n",
    "`1. Fixed format`\n",
    "\n",
    "`2. Exponent format/Scientific format`\n",
    "\n",
    "Fixed notation is a default notation of flaot value.\n",
    "\n",
    "`1. Integer part`\n",
    "\n",
    "`2. Decimal part`"
   ]
  },
  {
   "cell_type": "markdown",
   "id": "8cd09be0-0d50-46d3-8d75-5552b62186cd",
   "metadata": {},
   "source": [
    "In `Scientific notation/Exponent` notation there is one special character is used `e`.\n",
    "\n",
    "Larger values represented in exponent nototion. The value of \"E\" is `10`."
   ]
  },
  {
   "cell_type": "code",
   "execution_count": 44,
   "id": "41ea7a00-d40e-42b7-9354-cb1153729519",
   "metadata": {},
   "outputs": [
    {
     "data": {
      "text/plain": [
       "3.147"
      ]
     },
     "execution_count": 44,
     "metadata": {},
     "output_type": "execute_result"
    }
   ],
   "source": [
    "a=3147e-3\n",
    "a"
   ]
  },
  {
   "cell_type": "code",
   "execution_count": 45,
   "id": "1855e140-4eb0-4b03-a8de-1f01935fc10a",
   "metadata": {},
   "outputs": [
    {
     "data": {
      "text/plain": [
       "145800.0"
      ]
     },
     "execution_count": 45,
     "metadata": {},
     "output_type": "execute_result"
    }
   ],
   "source": [
    "b=1458e2\n",
    "b"
   ]
  },
  {
   "cell_type": "markdown",
   "id": "d055c038-eaa0-4824-8ff6-818427ccb4c0",
   "metadata": {},
   "source": [
    "The size of float data type fixed. Float data type is developed by following the rules given `IEEE`. The size of float data type is `8 bytes`"
   ]
  },
  {
   "cell_type": "code",
   "execution_count": 47,
   "id": "4152e834-5f93-47bb-b97c-06c6719d002c",
   "metadata": {},
   "outputs": [
    {
     "data": {
      "text/plain": [
       "sys.float_info(max=1.7976931348623157e+308, max_exp=1024, max_10_exp=308, min=2.2250738585072014e-308, min_exp=-1021, min_10_exp=-307, dig=15, mant_dig=53, epsilon=2.220446049250313e-16, radix=2, rounds=1)"
      ]
     },
     "execution_count": 47,
     "metadata": {},
     "output_type": "execute_result"
    }
   ],
   "source": [
    "import sys\n",
    "sys.float_info"
   ]
  },
  {
   "cell_type": "code",
   "execution_count": 48,
   "id": "9f019347-77eb-4ea8-b8c0-f62bc21a9bb4",
   "metadata": {},
   "outputs": [
    {
     "data": {
      "text/plain": [
       "inf"
      ]
     },
     "execution_count": 48,
     "metadata": {},
     "output_type": "execute_result"
    }
   ],
   "source": [
    "a=1.80e309\n",
    "a"
   ]
  },
  {
   "cell_type": "code",
   "execution_count": 49,
   "id": "4f46c1b2-982b-4f22-9b76-2c20f2069606",
   "metadata": {},
   "outputs": [
    {
     "data": {
      "text/plain": [
       "1.1234656789589585"
      ]
     },
     "execution_count": 49,
     "metadata": {},
     "output_type": "execute_result"
    }
   ],
   "source": [
    "a=1.1234656789589586258\n",
    "a"
   ]
  },
  {
   "cell_type": "code",
   "execution_count": 50,
   "id": "6528e02f-2b69-4572-8de5-328e71f0b823",
   "metadata": {},
   "outputs": [
    {
     "data": {
      "text/plain": [
       "123123123123123123123"
      ]
     },
     "execution_count": 50,
     "metadata": {},
     "output_type": "execute_result"
    }
   ],
   "source": [
    "b=123123123123123123123\n",
    "b"
   ]
  },
  {
   "cell_type": "markdown",
   "id": "aab1446c-3511-4428-98d4-dc5e7d51ee9e",
   "metadata": {},
   "source": [
    "**Complex nummbers and complex data type**\n",
    "\n",
    "complex number is a `numeric value` contains `two values`\n",
    "\n",
    "`1. Real`\n",
    "\n",
    "`2. Imag`\n",
    "\n",
    "syntax of representation of complex number\n",
    "\n",
    "`real+imagj`\n",
    "\n",
    "For these complex numberss python reserves memory using complex data type."
   ]
  },
  {
   "cell_type": "code",
   "execution_count": 51,
   "id": "acc8744d-c935-4105-92a2-9d5fb47af729",
   "metadata": {},
   "outputs": [
    {
     "data": {
      "text/plain": [
       "(1+2j)"
      ]
     },
     "execution_count": 51,
     "metadata": {},
     "output_type": "execute_result"
    }
   ],
   "source": [
    "a=1+2j\n",
    "a"
   ]
  },
  {
   "cell_type": "code",
   "execution_count": 52,
   "id": "fdfcef7d-6e92-4c14-a496-d028d88f7a13",
   "metadata": {},
   "outputs": [
    {
     "name": "stdout",
     "output_type": "stream",
     "text": [
      "<class 'complex'>\n"
     ]
    }
   ],
   "source": [
    "print(type(a))"
   ]
  },
  {
   "cell_type": "code",
   "execution_count": 53,
   "id": "43014529-e8a9-483b-83fc-b4a66d0d5306",
   "metadata": {},
   "outputs": [
    {
     "data": {
      "text/plain": [
       "1.0"
      ]
     },
     "execution_count": 53,
     "metadata": {},
     "output_type": "execute_result"
    }
   ],
   "source": [
    "a.real"
   ]
  },
  {
   "cell_type": "code",
   "execution_count": 54,
   "id": "c9e1dec6-48b1-4c86-9832-e4ada3942dab",
   "metadata": {},
   "outputs": [
    {
     "data": {
      "text/plain": [
       "2.0"
      ]
     },
     "execution_count": 54,
     "metadata": {},
     "output_type": "execute_result"
    }
   ],
   "source": [
    "a.imag"
   ]
  },
  {
   "cell_type": "code",
   "execution_count": 55,
   "id": "de7b92c2-2316-4104-8660-016c2d2a7a62",
   "metadata": {},
   "outputs": [],
   "source": [
    "b=6j"
   ]
  },
  {
   "cell_type": "code",
   "execution_count": 56,
   "id": "67356846-9e09-461d-98e1-55e73d451721",
   "metadata": {},
   "outputs": [
    {
     "data": {
      "text/plain": [
       "complex"
      ]
     },
     "execution_count": 56,
     "metadata": {},
     "output_type": "execute_result"
    }
   ],
   "source": [
    "type(b)"
   ]
  },
  {
   "cell_type": "code",
   "execution_count": 57,
   "id": "87992409-c286-47eb-b755-44581f9c3c19",
   "metadata": {},
   "outputs": [
    {
     "data": {
      "text/plain": [
       "0.0"
      ]
     },
     "execution_count": 57,
     "metadata": {},
     "output_type": "execute_result"
    }
   ],
   "source": [
    "b.real"
   ]
  },
  {
   "cell_type": "code",
   "execution_count": 58,
   "id": "39f1a116-9c23-49c5-866f-75674e8a0e27",
   "metadata": {},
   "outputs": [
    {
     "data": {
      "text/plain": [
       "6.0"
      ]
     },
     "execution_count": 58,
     "metadata": {},
     "output_type": "execute_result"
    }
   ],
   "source": [
    "b.imag"
   ]
  },
  {
   "cell_type": "markdown",
   "id": "07a7270a-6f16-4bfc-91e8-3e7a726a8ec4",
   "metadata": {},
   "source": [
    "**Non numeric type**\n",
    "\n",
    "`1. Boolean`\n",
    "\n",
    "`2. String`\n",
    "\n",
    "`3. None type`\n",
    "\n",
    "Boolean values in python are represented using two keywords\n",
    "\n",
    "`1. True`\n",
    "\n",
    "`2. False`"
   ]
  },
  {
   "cell_type": "code",
   "execution_count": 59,
   "id": "5e9950cd-5962-49ff-abaf-a5276fbcf2ed",
   "metadata": {},
   "outputs": [
    {
     "data": {
      "text/plain": [
       "True"
      ]
     },
     "execution_count": 59,
     "metadata": {},
     "output_type": "execute_result"
    }
   ],
   "source": [
    "a = True\n",
    "a"
   ]
  },
  {
   "cell_type": "code",
   "execution_count": 60,
   "id": "38bca74e-1248-46e6-a71a-c32c676827b5",
   "metadata": {},
   "outputs": [
    {
     "data": {
      "text/plain": [
       "bool"
      ]
     },
     "execution_count": 60,
     "metadata": {},
     "output_type": "execute_result"
    }
   ],
   "source": [
    "type(a)"
   ]
  },
  {
   "cell_type": "code",
   "execution_count": 61,
   "id": "af63be8a-b94c-4ff2-94e8-23e98753f71e",
   "metadata": {},
   "outputs": [
    {
     "ename": "NameError",
     "evalue": "name 'true' is not defined",
     "output_type": "error",
     "traceback": [
      "\u001b[1;31m---------------------------------------------------------------------------\u001b[0m",
      "\u001b[1;31mNameError\u001b[0m                                 Traceback (most recent call last)",
      "Cell \u001b[1;32mIn[61], line 1\u001b[0m\n\u001b[1;32m----> 1\u001b[0m c\u001b[38;5;241m=\u001b[39m \u001b[43mtrue\u001b[49m\n\u001b[0;32m      2\u001b[0m c\n",
      "\u001b[1;31mNameError\u001b[0m: name 'true' is not defined"
     ]
    }
   ],
   "source": [
    "c= true\n",
    "c"
   ]
  },
  {
   "cell_type": "code",
   "execution_count": 62,
   "id": "8ac6f8b3-2521-4816-8707-dd65469299d9",
   "metadata": {},
   "outputs": [
    {
     "data": {
      "text/plain": [
       "2"
      ]
     },
     "execution_count": 62,
     "metadata": {},
     "output_type": "execute_result"
    }
   ],
   "source": [
    "True+True"
   ]
  },
  {
   "cell_type": "code",
   "execution_count": 63,
   "id": "954c9e13-7773-4105-bc55-79a193979914",
   "metadata": {},
   "outputs": [
    {
     "data": {
      "text/plain": [
       "0"
      ]
     },
     "execution_count": 63,
     "metadata": {},
     "output_type": "execute_result"
    }
   ],
   "source": [
    "False+False"
   ]
  },
  {
   "cell_type": "code",
   "execution_count": 64,
   "id": "ca36eb85-a0a1-4872-90e7-5aede4c59b34",
   "metadata": {},
   "outputs": [
    {
     "data": {
      "text/plain": [
       "1"
      ]
     },
     "execution_count": 64,
     "metadata": {},
     "output_type": "execute_result"
    }
   ],
   "source": [
    "True+False"
   ]
  },
  {
   "cell_type": "markdown",
   "id": "8d29662a-f193-4786-beb2-c8f3e5292bbe",
   "metadata": {},
   "source": [
    "Internal representation of Boolean `True = 1` and `False = 0`"
   ]
  },
  {
   "cell_type": "markdown",
   "id": "3e038a24-2611-4bc7-8cb4-6a30949a4c27",
   "metadata": {},
   "source": [
    "**String data type(Collection type) and string literal**"
   ]
  },
  {
   "cell_type": "markdown",
   "id": "1f6171d3-66f4-4b5f-8b1b-409a1506e578",
   "metadata": {},
   "source": [
    "String is a `collection of character`, it is a non numeric data type and we cannot perform `arithmetic operations` on string.\n",
    "\n",
    "String is a `collection of character` and these characters can be `alphabets`, `digits` or `special characters`.\n",
    "\n",
    "In python string is represented in 3 formats\n",
    "\n",
    "1. Within single quotes\n",
    "\n",
    "2. Within double quotes\n",
    "\n",
    "3. Within triple single quotes or double quotes\n",
    "\n",
    "`\"str\" class` or `str data type` represents string object/value."
   ]
  },
  {
   "cell_type": "code",
   "execution_count": 65,
   "id": "c64cb598-2200-4000-a4bb-aa4fdceced47",
   "metadata": {},
   "outputs": [
    {
     "name": "stdout",
     "output_type": "stream",
     "text": [
      "uday\n"
     ]
    }
   ],
   "source": [
    "name = \"uday\"\n",
    "print(name)"
   ]
  },
  {
   "cell_type": "code",
   "execution_count": 66,
   "id": "9a51fab0-7d9a-4d38-849c-c1a62070293a",
   "metadata": {},
   "outputs": [
    {
     "name": "stdout",
     "output_type": "stream",
     "text": [
      "<class 'str'>\n"
     ]
    }
   ],
   "source": [
    "print(type(name))"
   ]
  },
  {
   "cell_type": "code",
   "execution_count": 67,
   "id": "e8fd7b6e-e673-41ad-988c-d39176dd8005",
   "metadata": {},
   "outputs": [
    {
     "name": "stdout",
     "output_type": "stream",
     "text": [
      "python\n"
     ]
    }
   ],
   "source": [
    "course = 'python'\n",
    "print(course)"
   ]
  },
  {
   "cell_type": "code",
   "execution_count": 68,
   "id": "890d5517-1eba-43a0-8d1d-9782a1fcb02b",
   "metadata": {},
   "outputs": [
    {
     "name": "stdout",
     "output_type": "stream",
     "text": [
      "<class 'str'>\n"
     ]
    }
   ],
   "source": [
    "print(type(course))"
   ]
  },
  {
   "cell_type": "code",
   "execution_count": 69,
   "id": "8613648b-9f4a-4dc7-91cc-efca506a3893",
   "metadata": {},
   "outputs": [
    {
     "ename": "NameError",
     "evalue": "name 'python' is not defined",
     "output_type": "error",
     "traceback": [
      "\u001b[1;31m---------------------------------------------------------------------------\u001b[0m",
      "\u001b[1;31mNameError\u001b[0m                                 Traceback (most recent call last)",
      "Cell \u001b[1;32mIn[69], line 1\u001b[0m\n\u001b[1;32m----> 1\u001b[0m college \u001b[38;5;241m=\u001b[39m \u001b[43mpython\u001b[49m\n",
      "\u001b[1;31mNameError\u001b[0m: name 'python' is not defined"
     ]
    }
   ],
   "source": [
    "college = python"
   ]
  },
  {
   "cell_type": "markdown",
   "id": "b5c06fda-e9c1-4922-bbda-5898e6724c0a",
   "metadata": {},
   "source": [
    "The string which contains alphabets is called `alphabetic string`.\n",
    "\n",
    "The string which contains `alphabets`, `digits` is called `alphanumeric string`."
   ]
  },
  {
   "cell_type": "code",
   "execution_count": 72,
   "id": "dd199172-fd42-4baf-9f43-f8222dd10821",
   "metadata": {},
   "outputs": [
    {
     "name": "stdout",
     "output_type": "stream",
     "text": [
      "uday123\n"
     ]
    }
   ],
   "source": [
    "username = 'uday123'\n",
    "print(username)"
   ]
  },
  {
   "cell_type": "code",
   "execution_count": 73,
   "id": "afeeefb6-9d45-45d1-b1bb-d9ff01274836",
   "metadata": {},
   "outputs": [
    {
     "name": "stdout",
     "output_type": "stream",
     "text": [
      "udaypython#123#$%\n"
     ]
    }
   ],
   "source": [
    "password = 'udaypython#123#$%'\n",
    "print(password)"
   ]
  },
  {
   "cell_type": "code",
   "execution_count": 74,
   "id": "085c5f31-3ce6-4011-9fa9-939c8a7e1897",
   "metadata": {},
   "outputs": [],
   "source": [
    "a = '25'\n",
    "b = '6'"
   ]
  },
  {
   "cell_type": "code",
   "execution_count": 76,
   "id": "ec804f6c-e49e-4185-b323-0249e628377e",
   "metadata": {},
   "outputs": [
    {
     "name": "stdout",
     "output_type": "stream",
     "text": [
      "<class 'str'>\n"
     ]
    }
   ],
   "source": [
    "print(type(a))"
   ]
  },
  {
   "cell_type": "code",
   "execution_count": 77,
   "id": "28ad093f-cf6b-42c3-914e-73c64aee43b5",
   "metadata": {},
   "outputs": [
    {
     "name": "stdout",
     "output_type": "stream",
     "text": [
      "<class 'str'>\n"
     ]
    }
   ],
   "source": [
    "print(type(b))"
   ]
  },
  {
   "cell_type": "markdown",
   "id": "7451271d-5e02-42f0-86fa-a68699bc3537",
   "metadata": {},
   "source": [
    "Within single quotes we can represent `single line string/one line string`.\n",
    "\n",
    "Within `single quote`s we can `embbed` or `insert double quotes`."
   ]
  },
  {
   "cell_type": "code",
   "execution_count": 79,
   "id": "41a6b896-3806-4d0b-991a-e19d27f343f3",
   "metadata": {},
   "outputs": [
    {
     "ename": "SyntaxError",
     "evalue": "unterminated string literal (detected at line 3) (3331376989.py, line 3)",
     "output_type": "error",
     "traceback": [
      "\u001b[1;36m  Cell \u001b[1;32mIn[79], line 3\u001b[1;36m\u001b[0m\n\u001b[1;33m    s1 = 'python\u001b[0m\n\u001b[1;37m         ^\u001b[0m\n\u001b[1;31mSyntaxError\u001b[0m\u001b[1;31m:\u001b[0m unterminated string literal (detected at line 3)\n"
     ]
    }
   ],
   "source": [
    "# single quote ' raises syntax error\n",
    "\n",
    "s1 = 'python"
   ]
  },
  {
   "cell_type": "code",
   "execution_count": 80,
   "id": "d732dc02-ce59-4037-aec1-8682c99aa571",
   "metadata": {},
   "outputs": [
    {
     "ename": "SyntaxError",
     "evalue": "invalid syntax (294301072.py, line 1)",
     "output_type": "error",
     "traceback": [
      "\u001b[1;36m  Cell \u001b[1;32mIn[80], line 1\u001b[1;36m\u001b[0m\n\u001b[1;33m    s2 = 'python is 'easy' language'\u001b[0m\n\u001b[1;37m                     ^\u001b[0m\n\u001b[1;31mSyntaxError\u001b[0m\u001b[1;31m:\u001b[0m invalid syntax\n"
     ]
    }
   ],
   "source": [
    "s2 = 'python is 'easy' language'"
   ]
  },
  {
   "cell_type": "code",
   "execution_count": 81,
   "id": "bddce3bc-2df1-4e68-8f24-804829c67b66",
   "metadata": {},
   "outputs": [
    {
     "name": "stdout",
     "output_type": "stream",
     "text": [
      "python is \"easy\" language\n"
     ]
    }
   ],
   "source": [
    "s3 = 'python is \"easy\" language'\n",
    "print(s3)"
   ]
  },
  {
   "cell_type": "markdown",
   "id": "e95fd7c4-0fa7-4b42-b78d-7a98d684bf45",
   "metadata": {},
   "source": [
    "within `double quotes` we can represent `single line string/one line string`.\n",
    "\n",
    "within `double quotes`we can i`nsert/embbed single quotes`."
   ]
  },
  {
   "cell_type": "code",
   "execution_count": 83,
   "id": "c89c721e-15f9-4bb8-ad9a-a242322e3b98",
   "metadata": {},
   "outputs": [
    {
     "name": "stdout",
     "output_type": "stream",
     "text": [
      "python\n"
     ]
    }
   ],
   "source": [
    "str1 = \"python\"\n",
    "print(str1)"
   ]
  },
  {
   "cell_type": "code",
   "execution_count": 84,
   "id": "3a7b0148-f7a9-4c4a-a4fa-8dfeb1c7c5d9",
   "metadata": {},
   "outputs": [
    {
     "ename": "SyntaxError",
     "evalue": "unterminated string literal (detected at line 1) (2731841976.py, line 1)",
     "output_type": "error",
     "traceback": [
      "\u001b[1;36m  Cell \u001b[1;32mIn[84], line 1\u001b[1;36m\u001b[0m\n\u001b[1;33m    str2 = \"python\u001b[0m\n\u001b[1;37m           ^\u001b[0m\n\u001b[1;31mSyntaxError\u001b[0m\u001b[1;31m:\u001b[0m unterminated string literal (detected at line 1)\n"
     ]
    }
   ],
   "source": [
    "str2 = \"python"
   ]
  },
  {
   "cell_type": "code",
   "execution_count": 85,
   "id": "13a25534-4e5c-418a-b402-530401c9a6e5",
   "metadata": {},
   "outputs": [
    {
     "ename": "SyntaxError",
     "evalue": "invalid syntax (2107267986.py, line 1)",
     "output_type": "error",
     "traceback": [
      "\u001b[1;36m  Cell \u001b[1;32mIn[85], line 1\u001b[1;36m\u001b[0m\n\u001b[1;33m    str3 = \"python is \"easy\" language\"\u001b[0m\n\u001b[1;37m                       ^\u001b[0m\n\u001b[1;31mSyntaxError\u001b[0m\u001b[1;31m:\u001b[0m invalid syntax\n"
     ]
    }
   ],
   "source": [
    "str3 = \"python is \"easy\" language\""
   ]
  },
  {
   "cell_type": "code",
   "execution_count": 86,
   "id": "d6aa55ad-3efd-496f-b605-0665ef342c4a",
   "metadata": {},
   "outputs": [
    {
     "data": {
      "text/plain": [
       "\"python is 'easy' language\""
      ]
     },
     "execution_count": 86,
     "metadata": {},
     "output_type": "execute_result"
    }
   ],
   "source": [
    "str4 = \"python is 'easy' language\"\n",
    "str4"
   ]
  },
  {
   "cell_type": "markdown",
   "id": "62868700-c8b5-4a65-b74a-f83eb1957d89",
   "metadata": {},
   "source": [
    "within `triple single` or `double quote`s we can represent `multiline string`"
   ]
  },
  {
   "cell_type": "code",
   "execution_count": 87,
   "id": "661f23b7-9e84-4169-ba42-5a467b9c3d8b",
   "metadata": {},
   "outputs": [],
   "source": [
    "full_stack = \"\"\"python\n",
    "FrontEnd\n",
    "BackEnd\n",
    "Database\n",
    "Tools\n",
    "Projects\"\"\""
   ]
  },
  {
   "cell_type": "code",
   "execution_count": 88,
   "id": "fc996197-8d89-4731-8015-d78d163146a2",
   "metadata": {},
   "outputs": [
    {
     "name": "stdout",
     "output_type": "stream",
     "text": [
      "python\n",
      "FrontEnd\n",
      "BackEnd\n",
      "Database\n",
      "Tools\n",
      "Projects\n"
     ]
    }
   ],
   "source": [
    "print(full_stack)"
   ]
  },
  {
   "cell_type": "code",
   "execution_count": 89,
   "id": "f0e307cc-cf53-436b-8007-1027e93b52fb",
   "metadata": {},
   "outputs": [],
   "source": [
    "Full_Stack = '''python\n",
    "FrontEnd\n",
    "BackEnd\n",
    "Database\n",
    "Tools\n",
    "Projects'''"
   ]
  },
  {
   "cell_type": "code",
   "execution_count": 90,
   "id": "d6525f15-6f08-4966-bd8e-aeabeb02fd90",
   "metadata": {},
   "outputs": [
    {
     "name": "stdout",
     "output_type": "stream",
     "text": [
      "python\n",
      "FrontEnd\n",
      "BackEnd\n",
      "Database\n",
      "Tools\n",
      "Projects\n"
     ]
    }
   ],
   "source": [
    "print(Full_Stack)"
   ]
  },
  {
   "cell_type": "markdown",
   "id": "1639b07c-8a05-4416-95ac-2fff6304dabd",
   "metadata": {},
   "source": [
    "**NOTE** \n",
    "There is `no single character data type` in python, `Single character` also represented as string."
   ]
  },
  {
   "cell_type": "markdown",
   "id": "bcb60d2b-4359-45fa-9b73-43c441a77221",
   "metadata": {},
   "source": [
    "**Escape Sequences**\n",
    "\n",
    "Escape sequences are `special characters` having special meaning in python language. These characters are `inserted within string`."
   ]
  },
  {
   "cell_type": "code",
   "execution_count": 93,
   "id": "474d46a0-fdda-45c4-ac4a-66080fd37c73",
   "metadata": {},
   "outputs": [
    {
     "name": "stdout",
     "output_type": "stream",
     "text": [
      "\\\n"
     ]
    }
   ],
   "source": [
    "print(\"\\\\\")"
   ]
  },
  {
   "cell_type": "code",
   "execution_count": 94,
   "id": "9f1431b6-71a8-4374-9240-702370c0a0e4",
   "metadata": {},
   "outputs": [
    {
     "name": "stdout",
     "output_type": "stream",
     "text": [
      "'\n"
     ]
    }
   ],
   "source": [
    "print('\\'')"
   ]
  },
  {
   "cell_type": "code",
   "execution_count": 95,
   "id": "0b907829-bb1c-4420-a82e-8542c5dca028",
   "metadata": {},
   "outputs": [
    {
     "name": "stdout",
     "output_type": "stream",
     "text": [
      "a\tb\tc\td\n"
     ]
    }
   ],
   "source": [
    "print(\"a\\tb\\tc\\td\")"
   ]
  },
  {
   "cell_type": "code",
   "execution_count": 96,
   "id": "8b7de0f0-953c-4165-b634-824f7659931f",
   "metadata": {},
   "outputs": [
    {
     "name": "stdout",
     "output_type": "stream",
     "text": [
      "python is \"easy\" language\n"
     ]
    }
   ],
   "source": [
    "print(\"python is \\\"easy\\\" language\")"
   ]
  },
  {
   "cell_type": "code",
   "execution_count": 97,
   "id": "69897035-4a22-4e29-bfe4-21a2f3648ffe",
   "metadata": {},
   "outputs": [
    {
     "name": "stdout",
     "output_type": "stream",
     "text": [
      "python is 'easy' language\n"
     ]
    }
   ],
   "source": [
    "print('python is \\'easy\\' language')"
   ]
  },
  {
   "cell_type": "code",
   "execution_count": 98,
   "id": "15bf7c49-813f-4852-aa2e-d36a735b770b",
   "metadata": {},
   "outputs": [
    {
     "name": "stdout",
     "output_type": "stream",
     "text": [
      "python \n",
      "programming\n",
      "language\n"
     ]
    }
   ],
   "source": [
    "print(\"python \\nprogramming\\nlanguage\")"
   ]
  },
  {
   "cell_type": "code",
   "execution_count": 99,
   "id": "19cb5cb2-9104-4126-93c8-d7a6ddd992e0",
   "metadata": {},
   "outputs": [
    {
     "name": "stdout",
     "output_type": "stream",
     "text": [
      "pythonN\n"
     ]
    }
   ],
   "source": [
    "print(\"python \\bN\")"
   ]
  },
  {
   "cell_type": "code",
   "execution_count": 100,
   "id": "39d3db16-4274-4bfa-99af-12b9512c3d7a",
   "metadata": {},
   "outputs": [
    {
     "name": "stdout",
     "output_type": "stream",
     "text": [
      "अ\n",
      "आ\n",
      "ऊ\n",
      "అ\n"
     ]
    }
   ],
   "source": [
    "# Representing UNICODE characters\n",
    "\n",
    "print(\"\\u0905\")\n",
    "print(\"\\u0906\")\n",
    "print(\"\\u090A\")\n",
    "print(\"\\u0c05\")"
   ]
  },
  {
   "cell_type": "markdown",
   "id": "f6c8cfa6-f197-45e8-a3b3-c959d4681b7d",
   "metadata": {},
   "source": [
    "**NoneType**\n",
    "\n",
    "NoneType represents `None value`\n",
    "\n",
    "None is a keyword which represent `null value/missing value/no value`"
   ]
  },
  {
   "cell_type": "code",
   "execution_count": 101,
   "id": "d8f07b95-b7ac-46a8-8e4a-2060dd71043d",
   "metadata": {},
   "outputs": [
    {
     "name": "stdout",
     "output_type": "stream",
     "text": [
      "<class 'int'>\n"
     ]
    }
   ],
   "source": [
    "a=10\n",
    "print(type(a))"
   ]
  },
  {
   "cell_type": "code",
   "execution_count": 103,
   "id": "36e61dd5-20d8-46e6-aafe-9888f6e46cef",
   "metadata": {},
   "outputs": [
    {
     "name": "stdout",
     "output_type": "stream",
     "text": [
      "<class 'float'>\n"
     ]
    }
   ],
   "source": [
    "b=1.5\n",
    "print(type(b))"
   ]
  },
  {
   "cell_type": "code",
   "execution_count": 104,
   "id": "a0353ec0-a23c-45de-8a8c-31d6c77ae3b6",
   "metadata": {},
   "outputs": [
    {
     "name": "stdout",
     "output_type": "stream",
     "text": [
      "<class 'NoneType'>\n"
     ]
    }
   ],
   "source": [
    "c=None\n",
    "print(type(f))"
   ]
  }
 ],
 "metadata": {
  "kernelspec": {
   "display_name": "Python 3 (ipykernel)",
   "language": "python",
   "name": "python3"
  },
  "language_info": {
   "codemirror_mode": {
    "name": "ipython",
    "version": 3
   },
   "file_extension": ".py",
   "mimetype": "text/x-python",
   "name": "python",
   "nbconvert_exporter": "python",
   "pygments_lexer": "ipython3",
   "version": "3.12.0"
  }
 },
 "nbformat": 4,
 "nbformat_minor": 5
}
