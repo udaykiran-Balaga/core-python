{
 "cells": [
  {
   "cell_type": "markdown",
   "id": "02dd95d3-15e1-4091-90cc-2fcb3d178e7d",
   "metadata": {},
   "source": [
    "## syntax:\n",
    "print(values,sep,end,file,flush)\n",
    "\n",
    "**`1. values`**\n",
    "\n",
    "**`2. sep`**\n",
    "\n",
    "**`3. end`**\n",
    "\n",
    "**`4. file`**\n",
    "\n",
    "**`5. flush`**"
   ]
  },
  {
   "cell_type": "markdown",
   "id": "2b6efbb2-09d2-4920-b4e4-f921b023063b",
   "metadata": {},
   "source": [
    "### Default separator used by print is space"
   ]
  },
  {
   "cell_type": "code",
   "execution_count": 6,
   "id": "db1d91bc-4457-454c-8ed7-fdc68fc96577",
   "metadata": {},
   "outputs": [
    {
     "name": "stdout",
     "output_type": "stream",
     "text": [
      "10\n",
      "100 200\n",
      "Python\n",
      "10 1.5 python (1+2j) True\n",
      "10,20,30,40,50-->1,2,3,4,5\n",
      "10\n",
      "20.3\n",
      "40\n",
      "50\n"
     ]
    }
   ],
   "source": [
    "## examples of print function\n",
    "\n",
    "print(10)\n",
    "print(100,200)\n",
    "print(\"Python\")\n",
    "print(10,1.5,\"python\",1+2j, True)\n",
    "print(10,20,30,40,50,sep=',',end ='-->')\n",
    "print(1,2,3,4,5,sep=',')\n",
    "print(10,20.30,40,50, sep='\\n')"
   ]
  },
  {
   "cell_type": "code",
   "execution_count": 8,
   "id": "cfc07704-a736-4183-9480-da98010fac95",
   "metadata": {},
   "outputs": [],
   "source": [
    "a=open(\"file1\",\"w\")\n",
    "print(10,20,30,file=a,flush=True)\n",
    "print(100,200,300,file=a,flush=True)\n",
    "print(1,2,3,4,5,sep=\",\",end=':',file=a,flush=True)"
   ]
  },
  {
   "cell_type": "markdown",
   "id": "05d8f7d8-a027-4561-b2c3-344806739591",
   "metadata": {},
   "source": [
    "# output:\n",
    "10 20 30\r\n",
    "100 200 300\r\n",
    "1,2,3,4,5:"
   ]
  },
  {
   "cell_type": "markdown",
   "id": "86b6f057-06f5-48ff-8ee3-b17ff51e0e47",
   "metadata": {},
   "source": [
    "# input()\n",
    "\n",
    "It predefined function exists in built-ins module. It is a default imported by any python program.\n",
    "\n",
    "input() is a standard input function which is used to input/read values from keyboard."
   ]
  },
  {
   "cell_type": "markdown",
   "id": "fee9781e-d3a7-417d-a037-a40cc795781b",
   "metadata": {},
   "source": [
    "**`syntax: input([prompt])`**\n",
    "\n",
    "prompt is a message whih is displayed before input value."
   ]
  },
  {
   "cell_type": "code",
   "execution_count": 9,
   "id": "6bfa71be-fc5d-439d-8d50-3f206e736d14",
   "metadata": {},
   "outputs": [
    {
     "name": "stdin",
     "output_type": "stream",
     "text": [
      "USER NAME: uday\n",
      "Enter your mail id: udayk0596@gmail.com\n",
      "Enter your password: uday\n"
     ]
    }
   ],
   "source": [
    "user_name = input(\"USER NAME:\")\n",
    "email = input(\"Enter your mail id:\")\n",
    "password = input(\"Enter your password:\")"
   ]
  },
  {
   "cell_type": "code",
   "execution_count": null,
   "id": "bd1365d3-17d6-4bfb-92de-a77276d92ad1",
   "metadata": {},
   "outputs": [],
   "source": []
  }
 ],
 "metadata": {
  "kernelspec": {
   "display_name": "Python 3 (ipykernel)",
   "language": "python",
   "name": "python3"
  },
  "language_info": {
   "codemirror_mode": {
    "name": "ipython",
    "version": 3
   },
   "file_extension": ".py",
   "mimetype": "text/x-python",
   "name": "python",
   "nbconvert_exporter": "python",
   "pygments_lexer": "ipython3",
   "version": "3.12.0"
  }
 },
 "nbformat": 4,
 "nbformat_minor": 5
}
