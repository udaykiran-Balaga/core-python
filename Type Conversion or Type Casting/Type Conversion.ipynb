{
 "cells": [
  {
   "cell_type": "markdown",
   "id": "9bf66033-32a1-43fc-8ef2-edbe60cdc09b",
   "metadata": {},
   "source": [
    "# Type Conversion in Python"
   ]
  },
  {
   "cell_type": "markdown",
   "id": "ec0d0568-c613-4c86-b20f-88dfcfc93cdd",
   "metadata": {},
   "source": [
    "Python defines type conversion functions to directly convert one data type to another which is useful in day-to-day and competitive programming.\n",
    "\n",
    "This type conversion is done using type conversion functions provided by python built-ins module.\n",
    "\n",
    "1. **`int()`**\n",
    "\n",
    "2. **`float()`**\n",
    "\n",
    "3. **`complex()`**\n",
    "\n",
    "4. **`bool()`**\n",
    "\n",
    "5. **`str()`**\n"
   ]
  },
  {
   "cell_type": "markdown",
   "id": "ddeffc49-4fac-4f4a-b299-340357c38aee",
   "metadata": {},
   "source": [
    "**int() function**\n",
    "\n",
    "This function is used to perform following conversions.\n",
    "\n",
    "**`int to int`**\n",
    "\n",
    "**`float to int`**\n",
    "\n",
    "**`bool to int`**\n",
    "\n",
    "**`string to int`**\n",
    "\n",
    "**Syntax***:`int([value/variable])`"
   ]
  },
  {
   "cell_type": "markdown",
   "id": "6a9dbc71-3987-454d-ba28-0728b51997fb",
   "metadata": {},
   "source": [
    "## Examples on int type conversion"
   ]
  },
  {
   "cell_type": "code",
   "execution_count": 1,
   "id": "1858b639-3789-4ea2-af22-963982b66711",
   "metadata": {},
   "outputs": [],
   "source": [
    "# Example of int() function\n",
    "\n",
    "a = int()\n",
    "b= int(15)\n",
    "c = int(12.56)\n",
    "d=int(True)\n",
    "e=int(False)\n",
    "f=int(\"65\")\n"
   ]
  },
  {
   "cell_type": "code",
   "execution_count": 2,
   "id": "d9c8df0e-4fe3-4a9d-a87a-46aab458093e",
   "metadata": {},
   "outputs": [
    {
     "name": "stdout",
     "output_type": "stream",
     "text": [
      "0 15 12 1 0 65\n"
     ]
    }
   ],
   "source": [
    "print(a,b,c,d,e,f)"
   ]
  },
  {
   "cell_type": "code",
   "execution_count": 3,
   "id": "4e9c12a3-f0b7-4a11-a9ff-a1289db2683b",
   "metadata": {},
   "outputs": [
    {
     "name": "stdout",
     "output_type": "stream",
     "text": [
      "Type of a: <class 'int'>\n",
      "Type of b: <class 'int'>\n",
      "Type of c: <class 'int'>\n",
      "Type of e: <class 'int'>\n",
      "Type of f: <class 'int'>\n"
     ]
    }
   ],
   "source": [
    "print(\"Type of a:\",type(a))\n",
    "print(\"Type of b:\",type(b))\n",
    "print(\"Type of c:\",type(c))\n",
    "print(\"Type of e:\",type(e))\n",
    "print(\"Type of f:\",type(f))"
   ]
  },
  {
   "cell_type": "code",
   "execution_count": 4,
   "id": "fe97fdb1-1f73-4215-989b-47612e6d0efb",
   "metadata": {},
   "outputs": [
    {
     "name": "stdin",
     "output_type": "stream",
     "text": [
      "Enter first value: 4\n",
      "Enter second value: 5\n"
     ]
    },
    {
     "name": "stdout",
     "output_type": "stream",
     "text": [
      "Type of a: <class 'str'>\n",
      "Type of b: <class 'str'>\n",
      "Type of c <class 'int'>\n"
     ]
    }
   ],
   "source": [
    "# write a program to input two integer values and add\n",
    "\n",
    "a = input(\"Enter first value:\")\n",
    "b = input(\"Enter second value:\")\n",
    "c = int(a) + int(b)\n",
    "print(\"Type of a:\",type(a))\n",
    "print(\"Type of b:\",type(b))\n",
    "print(\"Type of c\",type(c))\n"
   ]
  },
  {
   "cell_type": "code",
   "execution_count": 29,
   "id": "4f2a4f2c-c0d0-4238-bcde-fb0c5d520a98",
   "metadata": {},
   "outputs": [
    {
     "ename": "ValueError",
     "evalue": "invalid literal for int() with base 10: '1.5'",
     "output_type": "error",
     "traceback": [
      "\u001b[1;31m---------------------------------------------------------------------------\u001b[0m",
      "\u001b[1;31mValueError\u001b[0m                                Traceback (most recent call last)",
      "Cell \u001b[1;32mIn[29], line 1\u001b[0m\n\u001b[1;32m----> 1\u001b[0m var \u001b[38;5;241m=\u001b[39m \u001b[38;5;28;43mint\u001b[39;49m\u001b[43m(\u001b[49m\u001b[38;5;124;43m\"\u001b[39;49m\u001b[38;5;124;43m1.5\u001b[39;49m\u001b[38;5;124;43m\"\u001b[39;49m\u001b[43m)\u001b[49m\n\u001b[0;32m      2\u001b[0m var\n",
      "\u001b[1;31mValueError\u001b[0m: invalid literal for int() with base 10: '1.5'"
     ]
    }
   ],
   "source": [
    "var = int(\"1.5\")\n",
    "var"
   ]
  },
  {
   "cell_type": "code",
   "execution_count": 25,
   "id": "d01d1470-f1d1-4c4b-9696-c3181fb814d1",
   "metadata": {},
   "outputs": [
    {
     "ename": "ValueError",
     "evalue": "invalid literal for int() with base 10: 'abc'",
     "output_type": "error",
     "traceback": [
      "\u001b[1;31m---------------------------------------------------------------------------\u001b[0m",
      "\u001b[1;31mValueError\u001b[0m                                Traceback (most recent call last)",
      "Cell \u001b[1;32mIn[25], line 1\u001b[0m\n\u001b[1;32m----> 1\u001b[0m var \u001b[38;5;241m=\u001b[39m \u001b[38;5;28;43mint\u001b[39;49m\u001b[43m(\u001b[49m\u001b[38;5;124;43m\"\u001b[39;49m\u001b[38;5;124;43mabc\u001b[39;49m\u001b[38;5;124;43m\"\u001b[39;49m\u001b[43m)\u001b[49m\n",
      "\u001b[1;31mValueError\u001b[0m: invalid literal for int() with base 10: 'abc'"
     ]
    }
   ],
   "source": [
    "var = int(\"abc\")"
   ]
  },
  {
   "cell_type": "code",
   "execution_count": 9,
   "id": "ab8385ff-0315-4bbb-a2b1-7be903d243f7",
   "metadata": {},
   "outputs": [
    {
     "ename": "ValueError",
     "evalue": "invalid literal for int() with base 10: 'Oxab'",
     "output_type": "error",
     "traceback": [
      "\u001b[1;31m---------------------------------------------------------------------------\u001b[0m",
      "\u001b[1;31mValueError\u001b[0m                                Traceback (most recent call last)",
      "Cell \u001b[1;32mIn[9], line 1\u001b[0m\n\u001b[1;32m----> 1\u001b[0m b \u001b[38;5;241m=\u001b[39m \u001b[38;5;28;43mint\u001b[39;49m\u001b[43m(\u001b[49m\u001b[38;5;124;43m\"\u001b[39;49m\u001b[38;5;124;43mOxab\u001b[39;49m\u001b[38;5;124;43m\"\u001b[39;49m\u001b[43m)\u001b[49m\n",
      "\u001b[1;31mValueError\u001b[0m: invalid literal for int() with base 10: 'Oxab'"
     ]
    }
   ],
   "source": [
    "b = int(\"Oxab\")"
   ]
  },
  {
   "cell_type": "code",
   "execution_count": 14,
   "id": "308079f8-b45c-47f8-b181-2c771e08ee19",
   "metadata": {},
   "outputs": [
    {
     "name": "stdout",
     "output_type": "stream",
     "text": [
      "171\n"
     ]
    }
   ],
   "source": [
    "b = int(\"0xab\",base=16)\n",
    "print(b)"
   ]
  },
  {
   "cell_type": "code",
   "execution_count": 17,
   "id": "a33c26f5-31ca-4871-ba85-266a212725e3",
   "metadata": {},
   "outputs": [
    {
     "data": {
      "text/plain": [
       "5"
      ]
     },
     "execution_count": 17,
     "metadata": {},
     "output_type": "execute_result"
    }
   ],
   "source": [
    "c = int(\"0b101\",base=2)\n",
    "c"
   ]
  },
  {
   "cell_type": "code",
   "execution_count": 18,
   "id": "8c53b059-fde8-45e7-bc34-597f2b91d1ea",
   "metadata": {},
   "outputs": [
    {
     "data": {
      "text/plain": [
       "10"
      ]
     },
     "execution_count": 18,
     "metadata": {},
     "output_type": "execute_result"
    }
   ],
   "source": [
    "d = int(\"0o12\",base=8)\n",
    "d"
   ]
  },
  {
   "cell_type": "markdown",
   "id": "02d7ffdf-6731-41a4-906f-6936edb350e4",
   "metadata": {},
   "source": [
    "## Examples on float type conversion \n",
    "\n",
    "This function is used to perform the following conversions"
   ]
  },
  {
   "cell_type": "markdown",
   "id": "45e1295f-263e-451e-bd37-55b7060e15f9",
   "metadata": {},
   "source": [
    "**`1. float to float`**\n",
    "\n",
    "**`1. int to float`**\n",
    "\n",
    "**`1. bool to float`**\n",
    "\n",
    "**`1. string to float`**"
   ]
  },
  {
   "cell_type": "markdown",
   "id": "b1dcbe0f-d1f8-4ef3-9232-0514abffe9bf",
   "metadata": {},
   "source": [
    "**syntax**:`flaot([value/variable/expression])`"
   ]
  },
  {
   "cell_type": "code",
   "execution_count": 31,
   "id": "4b60863c-5626-400f-9113-e083d17a1261",
   "metadata": {},
   "outputs": [],
   "source": [
    "# Examples\n",
    "a=float()\n",
    "b=float(1.5)\n",
    "c=float(15e-1)\n",
    "d=float(15)\n",
    "e=float(\"1.5\")\n",
    "f=float(\"15e-1\")\n",
    "g=float(\"15\")\n",
    "h=float(True)\n",
    "i=float(False)"
   ]
  },
  {
   "cell_type": "code",
   "execution_count": 32,
   "id": "1d97986a-2347-439b-a371-a11faf3c209f",
   "metadata": {},
   "outputs": [
    {
     "name": "stdout",
     "output_type": "stream",
     "text": [
      "Type of a: <class 'float'>\n",
      "Type of b: <class 'float'>\n",
      "Type of c: <class 'float'>\n",
      "Type of e: <class 'float'>\n",
      "Type of f: <class 'float'>\n",
      "Type of g: <class 'float'>\n",
      "Type of h: <class 'float'>\n",
      "Type of i: <class 'float'>\n"
     ]
    }
   ],
   "source": [
    "print(\"Type of a:\",type(a))\n",
    "print(\"Type of b:\",type(b))\n",
    "print(\"Type of c:\",type(c))\n",
    "print(\"Type of e:\",type(e))\n",
    "print(\"Type of f:\",type(f))\n",
    "print(\"Type of g:\",type(g))\n",
    "print(\"Type of h:\",type(h))\n",
    "print(\"Type of i:\",type(i))"
   ]
  },
  {
   "cell_type": "markdown",
   "id": "eb92e4cf-654e-4743-8a89-7e617853f3af",
   "metadata": {},
   "source": [
    "**complex**\n",
    "\n",
    "This function is used to perform the following conversionsex\r\n",
    "\n"
   ]
  },
  {
   "cell_type": "markdown",
   "id": "3fd88da8-781f-4568-8604-4e039a0b62d8",
   "metadata": {},
   "source": [
    "**`1.\tComplex to complex`**\n",
    "\n",
    "**`2.\tInt to complex`**\n",
    "\n",
    "**`3.\tFloat to complex`**\n",
    "\n",
    "**`4.\tBool to complex`**\n",
    "\n",
    "**`5.\tString to complex`**\n"
   ]
  },
  {
   "cell_type": "markdown",
   "id": "63438393-1191-4156-a9e0-b231bed217cf",
   "metadata": {},
   "source": [
    "**Syntax1: `complex(real = 0.0,imag = 0.0)`**\n",
    "\n",
    "**Syntax2: `complex(complex)`**"
   ]
  },
  {
   "cell_type": "code",
   "execution_count": 35,
   "id": "29e91e4e-55bc-4411-a6e7-29fbf97bc2f3",
   "metadata": {},
   "outputs": [],
   "source": [
    "# Examples\n",
    "c1=complex()\n",
    "c2=complex(1+2j)\n",
    "c3=complex(\"1+2j\")\n",
    "c4=complex(\"1\")\n",
    "c5=complex(\"2j\")\n",
    "c6=complex(imag=2)\n",
    "c7=complex(1)\n",
    "c8=complex(real=1,imag=2)\n",
    "c9=complex(True)\n",
    "c10=complex(False)"
   ]
  },
  {
   "cell_type": "code",
   "execution_count": 38,
   "id": "944a0620-647d-4861-8ff9-8526b5ff9dc3",
   "metadata": {},
   "outputs": [
    {
     "name": "stdout",
     "output_type": "stream",
     "text": [
      "Type of c1: <class 'complex'> 0j\n",
      "Type of c2: <class 'complex'> (1+2j)\n",
      "Type of c3: <class 'complex'> (1+2j)\n",
      "Type of c4: <class 'complex'> (1+0j)\n",
      "Type of c5: <class 'complex'> 2j\n",
      "Type of c6: <class 'complex'> 2j\n",
      "Type of c7: <class 'complex'> (1+0j)\n",
      "Type of c8: <class 'complex'> (1+2j)\n",
      "Type of c9: <class 'complex'> (1+0j)\n",
      "Type of c10: <class 'complex'> 0j\n"
     ]
    }
   ],
   "source": [
    "print(\"Type of c1:\",type(c1),c1)\n",
    "print(\"Type of c2:\",type(c2),c2)\n",
    "print(\"Type of c3:\",type(c3),c3)\n",
    "print(\"Type of c4:\",type(c4),c4)\n",
    "print(\"Type of c5:\",type(c5),c5)\n",
    "print(\"Type of c6:\",type(c6),c6)\n",
    "print(\"Type of c7:\",type(c7),c7)\n",
    "print(\"Type of c8:\",type(c8),c8)\n",
    "print(\"Type of c9:\",type(c9),c9)\n",
    "print(\"Type of c10:\",type(c10),c10)"
   ]
  },
  {
   "cell_type": "markdown",
   "id": "5063c738-5651-4872-8c92-e266fad198d6",
   "metadata": {},
   "source": [
    "## Examples on bool type conversion"
   ]
  },
  {
   "cell_type": "markdown",
   "id": "09b2c52c-75eb-4ae1-bcef-b69bd7556cdb",
   "metadata": {},
   "source": [
    "**bool**\n",
    "This function is used to perform the following conversions"
   ]
  },
  {
   "cell_type": "markdown",
   "id": "5a302947-cd5e-4a3a-a2d0-b329d1c83f58",
   "metadata": {},
   "source": [
    "**`1.\tBool to bool`**\n",
    "\n",
    "**`2.\tInt to bool`**\n",
    "\n",
    "**`3.\tFloat to bool`**\n",
    "\n",
    "**`4.\tComplex to bool`**\n",
    "\n",
    "**`5.\tStr to bool`**"
   ]
  },
  {
   "cell_type": "markdown",
   "id": "f8d3a906-54d9-45be-8368-8bfadc5781a2",
   "metadata": {},
   "source": [
    "b1=bool()\n",
    "b2=bool(True)\n",
    "b3=bool(1)\n",
    "b4=bool(0)\n",
    "b5=bool(120)\n",
    "b6=bool(-1)\n",
    "b7=bool(1+2j)\n",
    "b8=bool(0+0j)\n",
    "b9=bool(\"A\")\n",
    "b10=bool(\"True\")\n",
    "b11=bool(\"False\")"
   ]
  },
  {
   "cell_type": "code",
   "execution_count": 40,
   "id": "1fabed87-27b6-4e09-8d14-6e1d776e6565",
   "metadata": {},
   "outputs": [
    {
     "name": "stdout",
     "output_type": "stream",
     "text": [
      "Type of b1: <class 'bool'> False\n",
      "Type of b2: <class 'bool'> True\n",
      "Type of b3: <class 'bool'> True\n",
      "Type of b4: <class 'bool'> False\n",
      "Type of b5: <class 'bool'> True\n",
      "Type of b6: <class 'bool'> True\n",
      "Type of b7: <class 'bool'> True\n",
      "Type of b8: <class 'bool'> False\n",
      "Type of b9: <class 'bool'> True\n",
      "Type of b10: <class 'bool'> True\n",
      "Type of b11: <class 'bool'> True\n"
     ]
    }
   ],
   "source": [
    "print(\"Type of b1:\",type(b1),b1)\n",
    "print(\"Type of b2:\",type(b2),b2)\n",
    "print(\"Type of b3:\",type(b3),b3)\n",
    "print(\"Type of b4:\",type(b4),b4)\n",
    "print(\"Type of b5:\",type(b5),b5)\n",
    "print(\"Type of b6:\",type(b6),b6)\n",
    "print(\"Type of b7:\",type(b7),b7)\n",
    "print(\"Type of b8:\",type(b8),b8)\n",
    "print(\"Type of b9:\",type(b9),b9)\n",
    "print(\"Type of b10:\",type(b10),b10)\n",
    "print(\"Type of b11:\",type(b11),b11)"
   ]
  },
  {
   "cell_type": "markdown",
   "id": "deb1981d-f624-49e0-bbed-70059b0e9af9",
   "metadata": {},
   "source": [
    "**NOTE**: Expect `zero` remaining numbers or  integers are True\n",
    "\n",
    "120 = True\n",
    "\n",
    "0 = False\n",
    "\n",
    "-129 = True"
   ]
  },
  {
   "cell_type": "markdown",
   "id": "3f51531b-881c-4c9d-a4b5-53b3adb0a5ef",
   "metadata": {},
   "source": [
    "# Examples on str() type conversion"
   ]
  },
  {
   "cell_type": "markdown",
   "id": "554a668d-a4fa-4fd0-a0d2-768e10f86b16",
   "metadata": {},
   "source": [
    "`str()` function is used to perform the following conversionsring\r\n"
   ]
  },
  {
   "cell_type": "markdown",
   "id": "dfba4694-3e1c-41e2-b2e9-f2f6dee6b4d7",
   "metadata": {},
   "source": [
    "**`1.\tStr to str`**\n",
    "\n",
    "**`2.\tInt to str`**\n",
    "\n",
    "**`3.\tFloat to str`**\n",
    "\n",
    "**`4.\tComplex to str`**\n",
    "\n",
    "**`5.\tBool to string`**"
   ]
  },
  {
   "cell_type": "markdown",
   "id": "6babae0a-272a-4d56-8df3-931f01498211",
   "metadata": {},
   "source": [
    "**Syntax**:`str([value])`"
   ]
  },
  {
   "cell_type": "code",
   "execution_count": 45,
   "id": "4b87b738-51b5-4ace-9d54-3082afbf9ca7",
   "metadata": {},
   "outputs": [],
   "source": [
    "#Example\n",
    "a = str()\n",
    "\n",
    "b = str(10)\n",
    "\n",
    "c = str(1.5)\n",
    "\n",
    "d = str(1+2j)\n",
    "\n",
    "e = str(True)\n",
    "\n",
    "f = str(\"PYTHON\")"
   ]
  },
  {
   "cell_type": "code",
   "execution_count": 48,
   "id": "d5c09ae6-6c31-4594-835b-52fbffd904da",
   "metadata": {},
   "outputs": [
    {
     "name": "stdout",
     "output_type": "stream",
     "text": [
      " <class 'str'>\n",
      "10 <class 'str'>\n",
      "1.5 <class 'str'>\n",
      "(1+2j) <class 'str'>\n",
      "True <class 'str'>\n",
      "PYTHON <class 'str'>\n"
     ]
    }
   ],
   "source": [
    "print(a,type(a))\n",
    "\n",
    "print(b,type(b))\n",
    "\n",
    "print(c,type(c))\n",
    "\n",
    "print(d,type(d))\n",
    "\n",
    "print(e,type(e))\n",
    "\n",
    "print(f,type(f))"
   ]
  },
  {
   "cell_type": "code",
   "execution_count": null,
   "id": "ea627d66-06a2-4c23-983e-188d3b1f9ab1",
   "metadata": {},
   "outputs": [],
   "source": []
  }
 ],
 "metadata": {
  "kernelspec": {
   "display_name": "Python 3 (ipykernel)",
   "language": "python",
   "name": "python3"
  },
  "language_info": {
   "codemirror_mode": {
    "name": "ipython",
    "version": 3
   },
   "file_extension": ".py",
   "mimetype": "text/x-python",
   "name": "python",
   "nbconvert_exporter": "python",
   "pygments_lexer": "ipython3",
   "version": "3.12.0"
  }
 },
 "nbformat": 4,
 "nbformat_minor": 5
}
