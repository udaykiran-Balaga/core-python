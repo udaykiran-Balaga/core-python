{
 "cells": [
  {
   "cell_type": "markdown",
   "id": "c4858bb3-404a-4ac6-a8bf-ef61b22d3afc",
   "metadata": {},
   "source": [
    "# Regular Expression"
   ]
  },
  {
   "cell_type": "markdown",
   "id": "43487e0a-8721-4a65-a6fc-dd339fd270b0",
   "metadata": {},
   "source": [
    "A regular expression (or RE) specifies a set of strings that matches it; the functions in this module let you check if a particular string matches a given regular expression (or if a given regular expression matches a particular string, which comes down to the same thing)."
   ]
  },
  {
   "cell_type": "markdown",
   "id": "82fd5781-840e-4aa9-ade2-9302cac020ed",
   "metadata": {},
   "source": [
    "An \"r\" or \"R\" prefix is present, a character following a backslash is included in the string without change, and all backslashes are left in the string. For example, the string literal r\"\\n\" consists of two characters: a backslash and a lowercase \"n\". String quotes can be escaped with a backslash, but the backslash remains in the string; for example, r\"\\\"\" is a valid string literal consisting of two characters: a backslash and a double quote; r\"\\\" is not a valid string literal (even a raw string cannot end in an odd number of backslashes). Specifically, a raw string cannot end in a single backslash (since the backslash would escape the following quote character). Note also that a single backslash followed by a newline is interpreted as those two characters as part of the string, not as a line continuation."
   ]
  },
  {
   "cell_type": "markdown",
   "id": "a98d047b-f078-4404-9e7a-89218fd6e1ce",
   "metadata": {},
   "source": [
    "Regular expressions can contain both special and ordinary characters. Most ordinary characters, like 'A', 'a', or '0', are the simplest regular expressions; they simply match themselves. You can concatenate ordinary characters, so last matches the string 'last'. (In the rest of this section, we’ll write RE’s in this special style, usually without quotes, and strings to be matched 'in single quotes'.)"
   ]
  },
  {
   "cell_type": "markdown",
   "id": "df701ec9-1e5d-41c1-a087-d40d5b5a75d4",
   "metadata": {},
   "source": [
    "## Functions"
   ]
  },
  {
   "cell_type": "markdown",
   "id": "5afc6e58-7fca-4ad0-b4d4-e2e0e2bc4ea4",
   "metadata": {},
   "source": [
    "'`re.compile(pattern, flags=0)`\n",
    "\n",
    "compile a regular expression pattern into a `regular expression object`, which can be used to matching using its `match()`,`search()` and other methods."
   ]
  },
  {
   "cell_type": "markdown",
   "id": "b4633014-d6b4-46ac-904e-b88232992750",
   "metadata": {},
   "source": [
    "import re\n",
    "\n",
    "prog=re.compile(pattern)\n",
    "\n",
    "result=program.match(string)"
   ]
  },
  {
   "cell_type": "code",
   "execution_count": 6,
   "id": "aecd026e-7fc8-44e7-8c18-785f699f145d",
   "metadata": {},
   "outputs": [],
   "source": [
    "import re\n",
    "\n",
    "pattern=r'[0-9]'\n",
    "string1=\"123abc\"\n",
    "string2=\"456def\"\n",
    "\n",
    "prog=re.compile(pattern)\n",
    "result1=prog.match(string1)\n",
    "result2=prog.match(string2)"
   ]
  },
  {
   "cell_type": "code",
   "execution_count": 7,
   "id": "36e04ec4-9072-44b9-895d-7691d68e524d",
   "metadata": {},
   "outputs": [
    {
     "name": "stdout",
     "output_type": "stream",
     "text": [
      "<re.Match object; span=(0, 1), match='1'>\n",
      "<re.Match object; span=(0, 1), match='4'>\n"
     ]
    }
   ],
   "source": [
    "print(result1)\n",
    "print(result2)"
   ]
  },
  {
   "cell_type": "markdown",
   "id": "41d78b3f-1956-46d9-b45f-2e301f277ba6",
   "metadata": {},
   "source": [
    "but using re.compile() and saving the resulting regular expression object for reuse is more efficient when the expression will be used several times in a single program."
   ]
  },
  {
   "cell_type": "markdown",
   "id": "48bff105-b4a3-48db-9989-7ad9d2fa21f1",
   "metadata": {},
   "source": [
    "**Note:** \n",
    "\n",
    "The compiled versions of the most recent patterns passed to re.compile() and the module-level matching functions are cached, so programs that use only a few regular expressions at a time needn’t worry about compiling regular expressions."
   ]
  },
  {
   "cell_type": "markdown",
   "id": "d97db6a0-b9c9-4f23-9f56-4b80b2c74344",
   "metadata": {},
   "source": [
    "## re.search(pattern, string, flags=0)\n",
    "\n",
    "Scan through string looking for the first location where the regular expression pattern produces a match, and return a corresponding `Match`. Return None if no position in the string matches the pattern; note that this is different from finding a zero-length match at some point in the string."
   ]
  },
  {
   "cell_type": "code",
   "execution_count": 10,
   "id": "8ea88c43-0458-4014-a1c7-25fce9e2c444",
   "metadata": {},
   "outputs": [
    {
     "name": "stdout",
     "output_type": "stream",
     "text": [
      "Match found fox at position 16-19\n"
     ]
    }
   ],
   "source": [
    "import re\n",
    "\n",
    "text = \"The quick brown fox jumps over the lazy dog.\"\n",
    "\n",
    "# search for the word 'fox' in the text\n",
    "match = re.search(r'fox',text)\n",
    "\n",
    "if match:\n",
    "    print(f'Match found {match.group()} at position {match.start()}-{match.end()}')\n",
    "else:\n",
    "    print(\"No match found\")"
   ]
  },
  {
   "cell_type": "markdown",
   "id": "c70d488b-1e63-4e3d-91e8-c8b09f897981",
   "metadata": {},
   "source": [
    "## re.match(pattern, string, flags=0)\n",
    "\n",
    "If zero or more characters at the beginning of string match the regular expression pattern, return a corresponding `Match`. Return `None` if the string does not match the pattern; note that this is different from a zero-length match."
   ]
  },
  {
   "cell_type": "markdown",
   "id": "5c26597e-9d93-48f8-bb48-681c3b4faca6",
   "metadata": {},
   "source": [
    "**Note** that even in `MULTILINE` mode, `re.match()` will only match at the `beginning` of the string and not at the beginning of each line."
   ]
  },
  {
   "cell_type": "code",
   "execution_count": 12,
   "id": "fb8a421c-15cd-4f21-a706-438810baf04d",
   "metadata": {},
   "outputs": [
    {
     "name": "stdout",
     "output_type": "stream",
     "text": [
      "<re.Match object; span=(0, 5), match='Hello'>\n"
     ]
    }
   ],
   "source": [
    "import re\n",
    "\n",
    "text = \"Hello World\"\n",
    "\n",
    "match = re.match(r'Hello',text)\n",
    "\n",
    "print(match)"
   ]
  },
  {
   "cell_type": "markdown",
   "id": "86e3cf18-997a-4e9b-a71e-87815764b107",
   "metadata": {},
   "source": [
    "## re.fullmatch(pattern, string, flags=0)\n",
    "\n",
    "If the whole string matches the regular expression pattern, return a corresponding Match. Return None if the string does not match the pattern; note that this is different from a zero-length match."
   ]
  },
  {
   "cell_type": "code",
   "execution_count": 14,
   "id": "53745ad7-3788-4825-a65c-db5a3bb5d737",
   "metadata": {},
   "outputs": [
    {
     "name": "stdout",
     "output_type": "stream",
     "text": [
      "<re.Match object; span=(0, 11), match='Hello World'>\n"
     ]
    }
   ],
   "source": [
    "import re\n",
    "\n",
    "text=\"Hello World\"\n",
    "\n",
    "match=re.fullmatch(r'Hello World',text)\n",
    "print(match)"
   ]
  },
  {
   "cell_type": "markdown",
   "id": "666d700b-6b9a-4606-bf89-9b34e51f75cb",
   "metadata": {},
   "source": [
    "## re.split(pattern, string, maxsplit=0, flags=0)\n",
    "\n",
    "Split string by the occurrences of pattern. If capturing parentheses are used in pattern, then the text of all groups in the pattern are also returned as part of the resulting list. If maxsplit is nonzero, at most maxsplit splits occur, and the remainder of the string is returned as the final element of the list."
   ]
  },
  {
   "cell_type": "code",
   "execution_count": 15,
   "id": "2f32b3e4-703c-4241-9cdd-b459ce489c79",
   "metadata": {},
   "outputs": [
    {
     "name": "stdout",
     "output_type": "stream",
     "text": [
      "['python', 'is', 'a', 'powerful', 'language']\n"
     ]
    }
   ],
   "source": [
    "text=\"python is a powerful language\"\n",
    "result=text.split()\n",
    "print(result)"
   ]
  },
  {
   "cell_type": "code",
   "execution_count": 17,
   "id": "53e2d433-cee1-49ee-9964-b8a25e4e3156",
   "metadata": {},
   "outputs": [
    {
     "name": "stdout",
     "output_type": "stream",
     "text": [
      "['one', 'two', 'three', 'four five']\n"
     ]
    }
   ],
   "source": [
    "text = \"one two three four five\"\n",
    "result=text.split(' ',3)\n",
    "print(result)"
   ]
  },
  {
   "cell_type": "markdown",
   "id": "95fb4c19-38d2-43a8-839e-0746e8568099",
   "metadata": {},
   "source": [
    "## re.findall(pattern, string, flags=0)\n",
    "\n",
    "Return all non-overlapping matches of pattern in string, as a list of strings or tuples. The string is scanned left-to-right, and matches are returned in the order found. Empty matches are included in the result."
   ]
  },
  {
   "cell_type": "code",
   "execution_count": 18,
   "id": "ad96467c-4706-4510-9297-45db1db7d18d",
   "metadata": {},
   "outputs": [
    {
     "name": "stdout",
     "output_type": "stream",
     "text": [
      "['day']\n"
     ]
    }
   ],
   "source": [
    "import re\n",
    "\n",
    "text = \"An apple a day keeps all the ants away.\"\n",
    "\n",
    "match=re.findall(r'day',text)\n",
    "print(match)"
   ]
  },
  {
   "cell_type": "markdown",
   "id": "3c93b7d8-b904-480b-b5bb-a4f245f33a64",
   "metadata": {},
   "source": [
    "Regular expressions can contain both special and oridinary characters. Most ordinary characters, like `'A','a', or '0'`, are the simplest regular expressions they simply match themselves. You can concatenate ordinary characters. so `last` matches the string `last`."
   ]
  },
  {
   "cell_type": "markdown",
   "id": "75212183-6e86-4ddb-abac-c561e6ff5005",
   "metadata": {},
   "source": [
    "Some characters, like `'|' or '('`, are special. Special characters either stand for classes of ordinary characters, or affect how the regular expressions around them are interpreted."
   ]
  },
  {
   "cell_type": "markdown",
   "id": "f563e76f-8a30-4f27-bdeb-de998c57f277",
   "metadata": {},
   "source": [
    "Repetition operators or quantifiers `(*, +, ?, {m,n}, etc)` cannot be directly nested. This avoids ambiguity with the non-greedy modifier suffix ?, and with other modifiers in other implementations. To apply a second repetition to an inner repetition, parentheses may be used. For example, the expression (?:a{6})* matches any multiple of six `'a'` characters."
   ]
  },
  {
   "cell_type": "markdown",
   "id": "cfef3dd6-5725-4f75-bcb2-9430539394c7",
   "metadata": {},
   "source": [
    "### The special characters are:"
   ]
  },
  {
   "cell_type": "markdown",
   "id": "75a1e5d8-deb0-40a4-bdc9-84e9d7055352",
   "metadata": {},
   "source": [
    "**(Dot.)**\n",
    "\n",
    "(Dot.) in the default mode, this matches any character except a newline. If the `DOTALL` flag has been specified this matches any character including a newline."
   ]
  },
  {
   "cell_type": "code",
   "execution_count": 4,
   "id": "623f41f3-7ec8-49b4-b634-9a523bb69d7b",
   "metadata": {},
   "outputs": [
    {
     "name": "stdout",
     "output_type": "stream",
     "text": [
      "['H', 'e', 'l', 'l', 'o', 'W', 'o', 'r', 'l', 'd']\n"
     ]
    }
   ],
   "source": [
    "import re\n",
    "\n",
    "text = \"\"\"Hello\n",
    "World\"\"\"\n",
    "\n",
    "# Using dot (.) to match any character except newline\n",
    "result = re.findall(r\".\", text)\n",
    "\n",
    "print(result)"
   ]
  },
  {
   "cell_type": "markdown",
   "id": "89d6076b-77c7-45ae-bc6f-1159b207ca44",
   "metadata": {},
   "source": [
    "## IGNORECASE\n",
    "\n",
    "The `re.IGNORECASE` (or re.I) flag is used in Python's re module to perform case-insensitive matching. This means that when a pattern is matched against a string, it will ignore whether letters are uppercase or lowercase."
   ]
  },
  {
   "cell_type": "code",
   "execution_count": 7,
   "id": "c93475df-598d-4f11-9aae-650d7e2ad812",
   "metadata": {},
   "outputs": [
    {
     "name": "stdout",
     "output_type": "stream",
     "text": [
      "['Hello']\n"
     ]
    }
   ],
   "source": [
    "import re\n",
    "\n",
    "text = \"Hello World\"\n",
    "\n",
    "pattern=r'hello'\n",
    "\n",
    "match=re.findall(pattern,text,re.IGNORECASE)\n",
    "\n",
    "print(match)"
   ]
  },
  {
   "cell_type": "markdown",
   "id": "bab10d61-509a-4c2f-be1e-e732a8806eab",
   "metadata": {},
   "source": [
    "**^(Caret.)**\n",
    "\n",
    "`^(Caret.) Matches the **start of the string**, and in MULTILINE mode also matches immediately after each newline.\r\n"
   ]
  },
  {
   "cell_type": "code",
   "execution_count": 8,
   "id": "0db7a027-aeda-47e9-853a-4f7aff97afa6",
   "metadata": {},
   "outputs": [
    {
     "name": "stdout",
     "output_type": "stream",
     "text": [
      "<re.Match object; span=(0, 6), match='Python'>\n",
      "None\n",
      "<re.Match object; span=(7, 9), match='is'>\n"
     ]
    }
   ],
   "source": [
    "import re\n",
    "\n",
    "text = \"Python is a programming language\"\n",
    "\n",
    "match=re.search(r'^Python',text) # with ^ caret.\n",
    "print(match)\n",
    "\n",
    "match=re.search(r'^is',text) # with ^ caret.\n",
    "print(match)\n",
    "\n",
    "match=re.search(r'is',text) # without ^ caret.\n",
    "print(match)"
   ]
  },
  {
   "cell_type": "markdown",
   "id": "d0741c3a-cb5b-43c4-9103-5d692d059b4a",
   "metadata": {},
   "source": [
    "**$**\n",
    "\n",
    "Matches the end of the string or just before the newline at the `end of the string`, and in MULTILINE mode also matches before a newline."
   ]
  },
  {
   "cell_type": "code",
   "execution_count": 14,
   "id": "205db5fe-c195-4dcc-bbf3-c8461d69461a",
   "metadata": {},
   "outputs": [
    {
     "name": "stdout",
     "output_type": "stream",
     "text": [
      "match found: language\n"
     ]
    }
   ],
   "source": [
    "import re\n",
    "\n",
    "text = 'Python is a programming language'\n",
    "\n",
    "match=re.search(r'language$',text)\n",
    "if match:\n",
    "    print(f'match found: {match.group()}')\n",
    "else:\n",
    "    print('match not found')"
   ]
  },
  {
   "cell_type": "markdown",
   "id": "d8758370-cb46-4039-bdef-ced4d2508138",
   "metadata": {},
   "source": [
    "**asterisk (*)**\n",
    "\n",
    "Causes the resulting RE to match 0 or more repetitions of the preceding RE, as many repetitions as are possible. ab* will match ‘a’, ‘ab’, or ‘a’ followed by any number of ‘b’s."
   ]
  },
  {
   "cell_type": "code",
   "execution_count": 23,
   "id": "03dccc5b-8195-44cf-8fd4-aa7934be0f8a",
   "metadata": {},
   "outputs": [
    {
     "name": "stdout",
     "output_type": "stream",
     "text": [
      "uday\n",
      "jyostna\n"
     ]
    }
   ],
   "source": [
    "import re\n",
    "\n",
    "text = ['uday','kiran','jyostna','manoj','karan']\n",
    "for name in text:\n",
    "    match=re.fullmatch(r'u.*y|j.*a',name)\n",
    "    if match:\n",
    "        print(name)"
   ]
  },
  {
   "cell_type": "code",
   "execution_count": 28,
   "id": "e447aba3-c521-4c9f-b0e0-e2a2379b8aae",
   "metadata": {},
   "outputs": [
    {
     "name": "stdout",
     "output_type": "stream",
     "text": [
      "['ab', 'aab', 'aaab', 'ab', 'ab']\n"
     ]
    }
   ],
   "source": [
    "import re\n",
    "\n",
    "text = \"a ab aab aaab abab\"\n",
    "\n",
    "match=re.findall(r'a*b',text)\n",
    "print(match)"
   ]
  },
  {
   "cell_type": "markdown",
   "id": "4fddce67-7a29-4ca2-9a97-d5eb5d4356de",
   "metadata": {},
   "source": [
    "### +\n",
    "\n",
    "Causes the resulting RE to match 1 or more repetitions of th \r\n",
    "preceding RE. ab+ will match ‘a’ followed by any non-zero number of ‘b,\n",
    "\n",
    "it t\r\n",
    "will not match just ‘a’."
   ]
  },
  {
   "cell_type": "code",
   "execution_count": 34,
   "id": "d61ca2c2-7397-4fbe-89dd-204a09b5a8aa",
   "metadata": {},
   "outputs": [
    {
     "name": "stdout",
     "output_type": "stream",
     "text": [
      "<re.Match object; span=(2, 4), match='ab'>\n",
      "['ab', 'ab', 'ab', 'ab', 'ab']\n",
      "None\n"
     ]
    }
   ],
   "source": [
    "import re\n",
    "\n",
    "text=\"a ab abc aab abab\"\n",
    "\n",
    "match=re.search(r'a+b',text) # search return the first occurence in the text\n",
    "print(match)\n",
    "match=re.findall(r'ab+',text) # findall returns the all occurence in the text\n",
    "print(match)\n",
    "match=re.match(r'ab+',text) # match returns the begining of the text if it found else it returns None\n",
    "print(match)"
   ]
  },
  {
   "cell_type": "markdown",
   "id": "aa6b4f5d-a093-4fa3-96f4-57f415d8c5f8",
   "metadata": {},
   "source": [
    "### ?\n",
    "\n",
    "Causes the resulting RE to match 0 or 1 repetitions of the preceding RE. ab? will match either ‘a’ or ‘ab’.\r\n"
   ]
  },
  {
   "cell_type": "code",
   "execution_count": 64,
   "id": "4e3a42bc-af1a-49fb-bcb3-63879576855b",
   "metadata": {},
   "outputs": [
    {
     "name": "stdout",
     "output_type": "stream",
     "text": [
      "['abc', 'abc']\n"
     ]
    }
   ],
   "source": [
    "import re\n",
    "\n",
    "text = \"a aabc ababc abab aabb c\"\n",
    "\n",
    "match = re.findall(r'ab?c+',text) # ab? match 0 or 1 repetitions of the preceding re and + 'a' followed by 'b' repetitions 1 or more repetitions\n",
    "\n",
    "print(match)"
   ]
  },
  {
   "cell_type": "markdown",
   "id": "037c9cfc-c362-4aef-b07a-001f87df007f",
   "metadata": {},
   "source": [
    "**{m}**\n",
    "\n",
    "Specifies that exactly m copies of the previous RE should be matched; fewer matches cause the entire RE not to match. For example, a{6} will match exactly six 'a' characters, but not five.\r\n",
    "\r\n"
   ]
  },
  {
   "cell_type": "code",
   "execution_count": 49,
   "id": "3306f50a-14c0-4a70-a3b1-e3d080de3a4a",
   "metadata": {},
   "outputs": [
    {
     "name": "stdout",
     "output_type": "stream",
     "text": [
      "['abbbb', 'abbbb']\n"
     ]
    }
   ],
   "source": [
    "import re\n",
    "\n",
    "text = \"aaabbb aabbbb aabbbb abababab\"\n",
    "\n",
    "match= re.findall(r'ab{4}',text) # Pattern to match 'a' followed by exactly 4 'b's\n",
    "\n",
    "print(match)"
   ]
  },
  {
   "cell_type": "markdown",
   "id": "f90f6e59-ad2c-4a09-9443-b0a40a649ea3",
   "metadata": {},
   "source": [
    "## {m,n}\n",
    "\n",
    "Causes the resulting RE to match from m to n repetitions of the preceding RE, attempting to match as many repetitions as possible. For example, a{3,5} will match from 3 to 5 'a' characters. Omitting m specifies a lower bound of zero, and omitting n specifies an infinite upper bound. As an example, a{4,}b will match 'aaaab' or a thousand 'a' characters followed by a 'b', but not 'aaab'. The comma may not be omitted or the modifier would be confused with the previously described form.\r\n",
    "\r\n"
   ]
  },
  {
   "cell_type": "code",
   "execution_count": 51,
   "id": "d32e77ad-16fd-4524-8678-5f6bc18af2a2",
   "metadata": {},
   "outputs": [
    {
     "name": "stdout",
     "output_type": "stream",
     "text": [
      "['abbbb', 'abbbb', 'abbbbbb']\n"
     ]
    }
   ],
   "source": [
    "import re\n",
    "\n",
    "text =\"aaabbb aabbbb aabbbb abababab aaabbbbbb\"\n",
    "\n",
    "match= re.findall(r'ab{4,6}',text) # Pattern to match 'a' followed by exactly minimum 4 and maximum 6 'b's\n",
    "print(match)"
   ]
  },
  {
   "cell_type": "markdown",
   "id": "19d928ab-9bcf-4dad-975a-68d005667891",
   "metadata": {},
   "source": [
    "### {m,n}?\n",
    "\n",
    "Causes the resulting RE to match from m to n repetitions of the preceding RE, attempting to match as few repetitions as possible. This is the non-greedy version of the previous quantifier. For example, on the 6-character string 'aaaaaa', a{3,5} will match 5 'a' characters, while a{3,5}? will only match 3 characters."
   ]
  },
  {
   "cell_type": "code",
   "execution_count": 55,
   "id": "2cd28087-755b-4a4c-966c-84eb343ad062",
   "metadata": {},
   "outputs": [
    {
     "name": "stdout",
     "output_type": "stream",
     "text": [
      "['aa', 'aa', 'aa', 'aa', 'aa', 'aa', 'aa', 'aa']\n"
     ]
    }
   ],
   "source": [
    "import re\n",
    "\n",
    "text = \"aaaaaa aaaa a aa aaaaab\"\n",
    "\n",
    "# Pattern to match 'a' occurring between 2 and 5 times, non-greedy\n",
    "pattern = r'a{2,5}?'\n",
    "\n",
    "matches = re.findall(pattern, text)\n",
    "print(matches)\n"
   ]
  },
  {
   "cell_type": "markdown",
   "id": "9082b52a-ba3c-43aa-896f-70a4e78dba4f",
   "metadata": {},
   "source": [
    "### {m,n}+\n",
    "\n",
    "The {m,n}+ quantifier in a regular expression matches a sequence of characters that appears at least m times but no more than n times, and it will try to match as many characters as possible (greedy)."
   ]
  },
  {
   "cell_type": "code",
   "execution_count": 67,
   "id": "5f62a4da-0054-47c3-9bd8-e4f9d1e20916",
   "metadata": {},
   "outputs": [
    {
     "name": "stdout",
     "output_type": "stream",
     "text": [
      "['aaaa', 'aa', 'aaa']\n"
     ]
    }
   ],
   "source": [
    "import re\n",
    "\n",
    "text = \"aaaaaa a ab aaab\"\n",
    "\n",
    "pattern = r'a{2,4}+'\n",
    "\n",
    "match = re.findall(pattern,text)\n",
    "\n",
    "print(match)"
   ]
  },
  {
   "cell_type": "markdown",
   "id": "ccec0e68-6214-4dec-a2ef-fd29dc2cb93f",
   "metadata": {},
   "source": [
    "### []\n",
    "\n",
    "Ranges of characters can be indicated by giving two characters and separating them by a '-', for example [a-z] will match any lowercase ASCII letter, [0-5][0-9] will match all the two-digits numbers from 00 to 59, and [0-9A-Fa-f] will match any hexadecimal digit"
   ]
  },
  {
   "cell_type": "code",
   "execution_count": 73,
   "id": "d33dc19a-ea6a-4cfd-ad03-92b34e8a858a",
   "metadata": {},
   "outputs": [
    {
     "name": "stdout",
     "output_type": "stream",
     "text": [
      "<re.Match object; span=(16, 26), match='20-09-2024'>\n",
      "20-09-2024\n",
      "20\n",
      "09\n",
      "2024\n"
     ]
    }
   ],
   "source": [
    "# extract date and time from string\n",
    "import re\n",
    "\n",
    "text = \"Date of joining 20-09-2024\"\n",
    "\n",
    "match=re.search(r'([0-9]{2})-([0-9]{2})-([0-9]{4})',text)\n",
    "\n",
    "print(match)\n",
    "print(match.group(0))\n",
    "print(match.group(1))\n",
    "print(match.group(2))\n",
    "print(match.group(3))"
   ]
  },
  {
   "cell_type": "markdown",
   "id": "93811979-22f9-416f-b9ce-c1b9926fc4a5",
   "metadata": {},
   "source": [
    "### /\n",
    "\n",
    "Either escapes special characters (permitting you to match characters like '*', '?', and so forth), or signals a special sequence; special sequences are discussed below."
   ]
  },
  {
   "cell_type": "markdown",
   "id": "4126964d-3950-45c0-92d4-98b97abe3e5e",
   "metadata": {},
   "source": [
    "If you’re not using a raw string to express the pattern, remember that Python also uses the backslash as an escape sequence in string literals; if the escape sequence isn’t recognized by Python’s parser, the backslash and subsequent character are included in the resulting string. However, if Python would recognize the resulting sequence, the backslash should be repeated twice. This is complicated and hard to understand, so it’s highly recommended that you use raw strings for all but the simplest expressions."
   ]
  },
  {
   "cell_type": "code",
   "execution_count": 74,
   "id": "b392fe57-2bca-45ed-b57f-17b9b636d7b5",
   "metadata": {},
   "outputs": [
    {
     "name": "stdout",
     "output_type": "stream",
     "text": [
      "<re.Match object; span=(28, 29), match='.'>\n"
     ]
    }
   ],
   "source": [
    "import re\n",
    "\n",
    "text = 'This is sentence with period.'\n",
    "\n",
    "match=re.search(r'\\.',text)\n",
    "\n",
    "print(match)"
   ]
  },
  {
   "cell_type": "markdown",
   "id": "b9ff765a-3225-4898-b5a9-8875423cb355",
   "metadata": {},
   "source": [
    "### |\n",
    "\n",
    "A|B, where A and B can be arbitrary REs, creates a regular expression that will match either A or B. An arbitrary number of REs can be separated by the 'A|B' in this way."
   ]
  },
  {
   "cell_type": "code",
   "execution_count": 87,
   "id": "1ed1f779-f92b-4348-8fc4-a56deed76ef0",
   "metadata": {},
   "outputs": [
    {
     "name": "stdout",
     "output_type": "stream",
     "text": [
      "<re.Match object; span=(16, 26), match='12-06-2024'>\n",
      "<re.Match object; span=(13, 21), match='12:45:54'>\n"
     ]
    }
   ],
   "source": [
    "str1=\"joining date is 12-06-2024 and time 12:45:54\"\n",
    "\n",
    "str2=\"joining time 12:45:54 and date is 12-06-2024\"\n",
    "\n",
    "match=re.search(r'([0-9]{2})-([0-9]{2})-([0-9]{4})|([0-9]{2}):([0-9]{2}):([0-9]{2})',str1)\n",
    "\n",
    "print(match)\n",
    "\n",
    "match=re.search(r'([0-9]{2})-([0-9]{2})-([0-9]{4})|([0-9]{2}):([0-9]{2}):([0-9]{2})',str2)\n",
    "\n",
    "print(match)"
   ]
  },
  {
   "cell_type": "markdown",
   "id": "b1e5e58a-00a2-42ff-be27-f6ed72a6645a",
   "metadata": {},
   "source": [
    "### \\A\n",
    "\n",
    "Matches only at the start of the string."
   ]
  },
  {
   "cell_type": "code",
   "execution_count": 4,
   "id": "843eaeed-ef64-4551-9669-e63b78305062",
   "metadata": {},
   "outputs": [
    {
     "name": "stdout",
     "output_type": "stream",
     "text": [
      "['python']\n"
     ]
    }
   ],
   "source": [
    "import re\n",
    "\n",
    "text = \"\"\"python is a programming language\n",
    "python is a object oriented language\"\"\"\n",
    "\n",
    "match= re.findall(r'\\Apython',text,re.MULTILINE) # \\A matches only the begining of the string, doesn't consider breaks of line\n",
    "print(match)"
   ]
  },
  {
   "cell_type": "code",
   "execution_count": 6,
   "id": "05b0136b-7d21-4024-b249-20f0355c968a",
   "metadata": {},
   "outputs": [
    {
     "name": "stdout",
     "output_type": "stream",
     "text": [
      "['python', 'python']\n"
     ]
    }
   ],
   "source": [
    "import re\n",
    "\n",
    "text = \"\"\"python is a programming language\n",
    "python is a object oriented language\"\"\"\n",
    "\n",
    "match= re.findall(r'^python',text,re.MULTILINE) # ^caret it consider the multiline breaks and beginning of the line\n",
    "print(match)"
   ]
  },
  {
   "cell_type": "markdown",
   "id": "94a273ac-fbc5-412c-a081-856119c4f719",
   "metadata": {},
   "source": [
    "### \\b\n",
    "\n",
    "Matches the empty string, but only at the beginning or end of a word. A word is defined as a sequence of word characters. Note that formally, \\b is defined as the boundary between a \\w and a \\W character (or vice versa), or between \\w and the beginning or end of the string. This means that r'\\bat\\b' matches 'at', 'at.', '(at)', and 'as at ay' but not 'attempt' or 'atlas'.\r\n"
   ]
  },
  {
   "cell_type": "code",
   "execution_count": 4,
   "id": "dac97d25-3c8f-4424-9656-d3055426ed92",
   "metadata": {},
   "outputs": [
    {
     "name": "stdout",
     "output_type": "stream",
     "text": [
      "<re.Match object; span=(29, 40), match='programming'>\n"
     ]
    }
   ],
   "source": [
    "import re\n",
    "\n",
    "text = \"Python is an object oriented programming language\"\n",
    "\n",
    "match = re.search(r'\\bprogramming\\b', text)\n",
    "\n",
    "print(match)"
   ]
  },
  {
   "cell_type": "markdown",
   "id": "efdc5678-0445-479a-b92a-50f081f49177",
   "metadata": {},
   "source": [
    "### \\B\n",
    "\n",
    "Matches the empty string, but only when it is not at the beginning or end of a word. This means that r'at\\B' matches 'athens', 'atom', 'attorney', but not 'at', 'at.', or 'at!'. \\B is the opposite of \\b, so word characters in Unicode (str) patterns are Unicode alphanumerics or the underscore, although this can be changed by using the ASCII flag. Word boundaries are determined by the current locale if the LOCALE flag is used.\r\n"
   ]
  },
  {
   "cell_type": "code",
   "execution_count": 11,
   "id": "5f5ff0be-18be-468b-acb7-2dcb5c481e4e",
   "metadata": {},
   "outputs": [
    {
     "name": "stdout",
     "output_type": "stream",
     "text": [
      "<re.Match object; span=(32, 36), match='gram'>\n"
     ]
    }
   ],
   "source": [
    "import re\n",
    "\n",
    "text = \"Python is an object oriented programming language.\"\n",
    "\n",
    "match = re.search(r'\\Bgram\\B',text)\n",
    "\n",
    "print(match)"
   ]
  },
  {
   "cell_type": "markdown",
   "id": "d78d3cbe-0319-4772-9f87-813a3e229b55",
   "metadata": {},
   "source": [
    "### \\d\n",
    "\n",
    "For Unicode (str) patterns:\r\n",
    "Matches any Unicode decimal digit (that is, any character in Unicode character category [Nd]). This includes [0-9], and also many other digit characters.\r\n",
    "\r\n",
    "Matches [0-9] if the ASCII flag is used.\r\n",
    "\r\n",
    "For 8-bit (bytes) patterns:\r\n",
    "Matches any decimal digit in the ASCII character set; this is equivalent to [0-9]."
   ]
  },
  {
   "cell_type": "code",
   "execution_count": 24,
   "id": "9710484e-e3a6-4fed-a0e1-e4d00ff65d2f",
   "metadata": {},
   "outputs": [
    {
     "name": "stdout",
     "output_type": "stream",
     "text": [
      "['1', '2', '4']\n"
     ]
    }
   ],
   "source": [
    "import re\n",
    "\n",
    "text = \"i have 12 apples and 4 oranges.\"\n",
    "\n",
    "match = re.findall(r'\\d',text) # \\d will match each digit individually\n",
    "\n",
    "print(match)"
   ]
  },
  {
   "cell_type": "code",
   "execution_count": 25,
   "id": "0814e600-7be9-4592-b765-ba1110035bcd",
   "metadata": {},
   "outputs": [
    {
     "name": "stdout",
     "output_type": "stream",
     "text": [
      "['12', '24']\n"
     ]
    }
   ],
   "source": [
    "import re\n",
    "\n",
    "text = \"i have 12 apples and 24 oranges.\"\n",
    "\n",
    "match = re.findall(r'\\d+',text) # \\d+ will match sequences of digits\n",
    "\n",
    "print(match)"
   ]
  },
  {
   "cell_type": "markdown",
   "id": "c270d52d-2375-4078-b11f-a968acefa151",
   "metadata": {},
   "source": [
    "### \\D\n",
    "\n",
    "Matches any character which is not a decimal digit. This is the opposite of \\d.\n",
    "\n",
    "Matches [^0-9] if the ASCII flag is used."
   ]
  },
  {
   "cell_type": "code",
   "execution_count": 26,
   "id": "a1ee05f7-2d1a-4d10-a087-e7a098a23fa7",
   "metadata": {},
   "outputs": [
    {
     "name": "stdout",
     "output_type": "stream",
     "text": [
      "['i', ' ', 'h', 'a', 'v', 'e', ' ', ' ', 'a', 'p', 'p', 'l', 'e', 's', ' ', 'a', 'n', 'd', ' ', ' ', 'o', 'r', 'a', 'n', 'g', 'e', 's', '.']\n"
     ]
    }
   ],
   "source": [
    "import re\n",
    "\n",
    "text = \"i have 12 apples and 24 oranges.\"\n",
    "\n",
    "match = re.findall(r'\\D',text) # \\D will match sequences of digits\n",
    "\n",
    "print(match)"
   ]
  },
  {
   "cell_type": "markdown",
   "id": "08a4059d-8a32-4469-9634-812b17683a13",
   "metadata": {},
   "source": [
    "### \\s\n",
    "\n",
    "For Unicode (str) patterns:\n",
    "Matches Unicode whitespace characters (as defined by str.isspace()). This includes [ \\t\\n\\r\\f\\v], and also many other characters, for example the non-breaking spaces mandated by typography rules in many languages.\n",
    "\n",
    "Matches [ \\t\\n\\r\\f\\v] if the ASCII flag is used.\n",
    "\n",
    "For 8-bit (bytes) patterns:\n",
    "Matches characters considered whitespace in the ASCII character set; this is equivalent to [ \\t\\n\\r\\f\\v]."
   ]
  },
  {
   "cell_type": "code",
   "execution_count": 29,
   "id": "9d2da2af-c980-4725-82de-615c6ec8d53b",
   "metadata": {},
   "outputs": [
    {
     "name": "stdout",
     "output_type": "stream",
     "text": [
      "[' ', '\\n', '\\t', ' ', ' ']\n"
     ]
    }
   ],
   "source": [
    "import re\n",
    "\n",
    "text = \"Hello World!\\nThis\\tis text string.\"\n",
    "\n",
    "match = re.findall(r'\\s',text)\n",
    "\n",
    "print(match)"
   ]
  },
  {
   "cell_type": "markdown",
   "id": "4d5dfe62-e76f-41ca-bd38-bf218f6849cf",
   "metadata": {},
   "source": [
    "### \\S\n",
    "\n",
    "Matches any character which is not a whitespace character. This is the opposite of \\s.\n",
    "\n",
    "Matches [^ \\t\\n\\r\\f\\v] if the ASCII flag is used."
   ]
  },
  {
   "cell_type": "code",
   "execution_count": 31,
   "id": "34e18aeb-c0e1-4323-a296-32256d411621",
   "metadata": {},
   "outputs": [
    {
     "name": "stdout",
     "output_type": "stream",
     "text": [
      "['H', 'e', 'l', 'l', 'o', 'W', 'o', 'r', 'l', 'd', '!', 'T', 'h', 'i', 's', 'i', 's', 't', 'e', 'x', 't', 's', 't', 'r', 'i', 'n', 'g', '.']\n"
     ]
    }
   ],
   "source": [
    "import re\n",
    "\n",
    "text = \"Hello World!\\nThis\\tis text string.\"\n",
    "\n",
    "match = re.findall(r'\\S',text) # Use \\S to find haracter which is not a whitespace character. This is the opposite of \\s.\n",
    "\n",
    "print(match)"
   ]
  },
  {
   "cell_type": "markdown",
   "id": "17405be3-13eb-4151-a091-c5bed1955615",
   "metadata": {},
   "source": [
    "### \\w\n",
    "\n",
    "For Unicode (str) patterns:\n",
    "Matches Unicode word characters; this includes all Unicode alphanumeric characters (as defined by str.isalnum()), as well as the underscore (_).\n",
    "\n",
    "Matches [a-zA-Z0-9_] if the ASCII flag is used."
   ]
  },
  {
   "cell_type": "code",
   "execution_count": 35,
   "id": "be0a6a46-9a8a-4c23-8540-7075723e4598",
   "metadata": {},
   "outputs": [
    {
     "name": "stdout",
     "output_type": "stream",
     "text": [
      "['Python', 'is', 'popular', 'a', 'programming', 'language', 'It', 'was', 'released', 'in', '1991']\n"
     ]
    }
   ],
   "source": [
    "import re\n",
    "\n",
    "text = \"Python is popular a programming language.It was released in 1991.\"\n",
    "\n",
    "match = re.findall(r'\\w+',text)\n",
    "\n",
    "print(match)"
   ]
  },
  {
   "cell_type": "markdown",
   "id": "d184ceeb-cca7-439b-b4cb-d3157f49314a",
   "metadata": {},
   "source": [
    "### \\W\n",
    "\n",
    "Matches any character which is not a word character. This is the opposite of \\w. By default, matches non-underscore (_) characters for which str.isalnum() returns False.\n",
    "\n",
    "Matches [^a-zA-Z0-9_] if the ASCII flag is used."
   ]
  },
  {
   "cell_type": "code",
   "execution_count": 38,
   "id": "e6bd9468-0215-4051-beae-34b66ed09cfd",
   "metadata": {},
   "outputs": [
    {
     "name": "stdout",
     "output_type": "stream",
     "text": [
      "[' ', ' ', ' ', ' ', ' ', ' ', ' ', ' ', ' ', ' ', '/', '-', '.']\n"
     ]
    }
   ],
   "source": [
    "import re\n",
    "\n",
    "text = \"i have 2 mangoes and 5 apples the cost of 100/-.\"\n",
    "\n",
    "match = re.findall(r'\\W',text) # return not worf characters\n",
    "\n",
    "print(match)"
   ]
  },
  {
   "cell_type": "markdown",
   "id": "b09aa0b4-6c00-4ca7-83ad-ab70ff55fa13",
   "metadata": {},
   "source": [
    "### \\Z\n",
    "\n",
    "Matches only at the end of the string."
   ]
  },
  {
   "cell_type": "code",
   "execution_count": 43,
   "id": "a8141277-6b1e-42e9-8ab1-ade4b240333f",
   "metadata": {},
   "outputs": [
    {
     "name": "stdout",
     "output_type": "stream",
     "text": [
      "match found\n"
     ]
    }
   ],
   "source": [
    "import re\n",
    "\n",
    "text = \"Hello World!\"\n",
    "\n",
    "match = re.search(r'World!\\Z',text)\n",
    "\n",
    "if match:\n",
    "    print(\"match found\")\n",
    "\n",
    "else:\n",
    "    print(\"match not found\")"
   ]
  },
  {
   "cell_type": "markdown",
   "id": "fd84c873-0077-43f6-923f-de86a814f97b",
   "metadata": {},
   "source": [
    "`(?P<name>....)`\n",
    "\n",
    "similar to regular parentheses. But the substring matched by the group is accessible via the symbolic group name."
   ]
  },
  {
   "cell_type": "code",
   "execution_count": 53,
   "id": "966d6bbf-a10c-43ad-b389-a5e11999bda7",
   "metadata": {},
   "outputs": [
    {
     "name": "stdout",
     "output_type": "stream",
     "text": [
      "<re.Match object; span=(14, 25), match='SBIN0070256'>\n",
      "SBIN0070256\n",
      "SBIN0070256\n"
     ]
    }
   ],
   "source": [
    "import re\n",
    "\n",
    "str1 = \"SBI IFSC CODE SBIN0070256\"\n",
    "\n",
    "m = re.search(r'(?P<ifsc>SBIN[0-9]{7})',str1)\n",
    "\n",
    "print(m)\n",
    "\n",
    "print(m.group(0))\n",
    "\n",
    "print(m.group('ifsc'))"
   ]
  },
  {
   "cell_type": "code",
   "execution_count": 59,
   "id": "2d040039-a2d0-4e9f-b2ea-b57c4894140a",
   "metadata": {},
   "outputs": [
    {
     "name": "stdout",
     "output_type": "stream",
     "text": [
      "<re.Match object; span=(14, 25), match='SBIN0070256'>\n",
      "SBIN0070256\n",
      "SBIN0070256\n"
     ]
    }
   ],
   "source": [
    "import re\n",
    "\n",
    "str1 = \"SBI IFSC CODE SBIN0070256\"\n",
    "\n",
    "m = re.search(r'(?P<ifsc>SBIN\\d{7})',str1)\n",
    "\n",
    "print(m)\n",
    "\n",
    "print(m.group(0))\n",
    "\n",
    "print(m.group('ifsc'))"
   ]
  },
  {
   "cell_type": "markdown",
   "id": "0a1ac391-389f-4b8e-a327-31664776b831",
   "metadata": {},
   "source": [
    "`(?P=name)`\n",
    "\n",
    "A backreference to a named group it matches whatever text was matched by the earlier group name nam."
   ]
  },
  {
   "cell_type": "code",
   "execution_count": 64,
   "id": "53c72e60-5826-4a98-8220-31c4ad10609a",
   "metadata": {},
   "outputs": [
    {
     "name": "stdout",
     "output_type": "stream",
     "text": [
      "<re.Match object; span=(0, 2), match='aa'>\n",
      "<re.Match object; span=(0, 5), match='aa-aa'>\n",
      "<re.Match object; span=(0, 5), match='aa-aa'>\n"
     ]
    }
   ],
   "source": [
    "import re\n",
    "\n",
    "str1 = \"aa-aa\"\n",
    "\n",
    "m = re.search(r'(?P<x>aa)',str1)\n",
    "\n",
    "print(m)\n",
    "\n",
    "str2 = \"aa-aa\"\n",
    "\n",
    "m = re.search(r'(?P<x>aa)-(?P=x)',str2)\n",
    "\n",
    "print(m)\n",
    "\n",
    "str3 = \"aa-ab\"\n",
    "\n",
    "m = re.search(r'(?P<x>aa)-(?P=x)',str2)\n",
    "\n",
    "print(m)   "
   ]
  },
  {
   "cell_type": "markdown",
   "id": "5cdc4ccf-1971-4b21-9c94-a9956453a539",
   "metadata": {},
   "source": [
    "### ?=\n",
    "\n",
    "Matches if... matches next, but doesn't consume any of the string. This is called a lookahead assertion. For example, Issac (?=Asimov) will match 'Isaac' only if it's followed by 'Asimov'."
   ]
  },
  {
   "cell_type": "code",
   "execution_count": 67,
   "id": "0f7c6b47-2ed5-4d25-826a-89ad82cd2ffd",
   "metadata": {},
   "outputs": [
    {
     "name": "stdout",
     "output_type": "stream",
     "text": [
      "match found: python\n"
     ]
    }
   ],
   "source": [
    "import re\n",
    "\n",
    "text = \"I love python programming\"\n",
    "\n",
    "match = re.search(r'python(?= programming)',text)\n",
    "\n",
    "if match:\n",
    "    print(f'match found: {match.group(0)}')\n",
    "\n",
    "else:\n",
    "    print(\"match not found\")"
   ]
  },
  {
   "cell_type": "markdown",
   "id": "35e31683-d165-4238-8e6c-133b6602a4d6",
   "metadata": {},
   "source": [
    "### ?!...\n",
    "\n",
    "Matches if... doesn't match next. This is a negative lookahead assertion. For example, Issac(?! Asimov) will match 'Isaac' onlu if it's not followed by 'Asimov'."
   ]
  },
  {
   "cell_type": "code",
   "execution_count": 70,
   "id": "167f593f-030e-4b9b-b1e2-d37080e266a8",
   "metadata": {},
   "outputs": [
    {
     "name": "stdout",
     "output_type": "stream",
     "text": [
      "match found: python\n"
     ]
    }
   ],
   "source": [
    "import re\n",
    "\n",
    "text = \"I love python language\"\n",
    "\n",
    "match = re.search(r'python(?! programming)',text)\n",
    "\n",
    "if match:\n",
    "    print(f'match found: {match.group(0)}')\n",
    "\n",
    "else:\n",
    "    print(\"match not found\")"
   ]
  },
  {
   "cell_type": "markdown",
   "id": "3be8dc79-1e7f-4704-894a-18d26266732c",
   "metadata": {},
   "source": [
    "### (?<=....)\n",
    "\n",
    "Matches if the current position in the string is preceded by a match for... that ends at the current position. This is called a positive lookbehind assertion. (?<=abc)def will find a match in 'abcdef'. Since the lookbehind will back up 3 characters and check if the contained pattern matches. The contained pattern must only match strings of some fixed length, meaning that abc or a|b are allowed, but a* and a{3,4} are not.\n"
   ]
  },
  {
   "cell_type": "code",
   "execution_count": 72,
   "id": "8e2588b6-31b4-446a-9729-ef572e9aedfb",
   "metadata": {},
   "outputs": [
    {
     "name": "stdout",
     "output_type": "stream",
     "text": [
      "<re.Match object; span=(3, 6), match='def'>\n"
     ]
    }
   ],
   "source": [
    "import re\n",
    "\n",
    "str1 = 'abcdef'\n",
    "\n",
    "match = re.search('(?<=abc)def',str1)\n",
    "\n",
    "print(match)"
   ]
  },
  {
   "cell_type": "markdown",
   "id": "fbcb7890-3efa-481d-ba04-3f36b0643a5d",
   "metadata": {},
   "source": [
    "### (?(id/name)yes-pattern|no-pattern)\n",
    "\n",
    "Will try to match with yes-pattern if the group with given id or name exists, and with no-pattern if it doesn’t. no-pattern is optional and can be omitted. For example, (<)?(\\w+@\\w+(?:\\.\\w+)+)(?(1)>|$) is a poor email matching pattern, which will match with '<user@host.com>' as well as 'user@host.com', but not with '<user@host.com' nor 'user@host.com>'."
   ]
  },
  {
   "cell_type": "code",
   "execution_count": 73,
   "id": "a0755dab-8dbe-496d-ad2d-419497f64640",
   "metadata": {},
   "outputs": [
    {
     "name": "stdout",
     "output_type": "stream",
     "text": [
      "<re.Match object; span=(0, 15), match='<user@host.com>'>\n",
      "<re.Match object; span=(0, 13), match='user@host.com'>\n",
      "None\n",
      "None\n"
     ]
    }
   ],
   "source": [
    "import re\n",
    "\n",
    "pattern = r'(<)?(\\w+@\\w+(?:\\.\\w+)+)(?(1)>|$)'\n",
    "\n",
    "text = \"<user@host.com>\"\n",
    "print(re.match(pattern, text))  # Match\n",
    "\n",
    "text = \"user@host.com\"\n",
    "print(re.match(pattern, text))  # Match\n",
    "\n",
    "text = \"<user@host.com\"\n",
    "print(re.match(pattern, text))  # No match\n",
    "\n",
    "text = \"user@host.com>\"\n",
    "print(re.match(pattern, text))  # No match\n"
   ]
  },
  {
   "cell_type": "markdown",
   "id": "d40ac219-a0d1-4531-9b46-3c07d60d006a",
   "metadata": {},
   "source": [
    "### ?:....\n",
    "\n",
    "When you don't need to capture the content, non-capturing groups make the regex more efficient. It shows that you're grouping for pattern logic, not for capturing content."
   ]
  },
  {
   "cell_type": "code",
   "execution_count": 76,
   "id": "1d720a49-8535-44a5-9374-31b8e59a1f52",
   "metadata": {},
   "outputs": [
    {
     "name": "stdout",
     "output_type": "stream",
     "text": [
      "['red', 'blue']\n"
     ]
    }
   ],
   "source": [
    "import re\n",
    "\n",
    "text = \"I have red car and blue car\"\n",
    "\n",
    "match = re.findall(r'(red|blue) (?:car)',text)\n",
    "\n",
    "print(match)"
   ]
  },
  {
   "cell_type": "code",
   "execution_count": 77,
   "id": "a9a51c93-045d-4376-ae63-712e9a74a37c",
   "metadata": {},
   "outputs": [
    {
     "name": "stdout",
     "output_type": "stream",
     "text": [
      "[('12', '06', '2024'), ('12', '06', '2024'), ('12', '06', '2024')]\n"
     ]
    }
   ],
   "source": [
    "import re\n",
    "\n",
    "text = \"The events are on 12-06-2024, 12/06/2024, and 12.06.2024.\"\n",
    "\n",
    "# Pattern to match dates with any separator (-, /, .)\n",
    "pattern = r'(\\d{2})(?:[-/.])(\\d{2})(?:[-/.])(\\d{4})'\n",
    "\n",
    "matches = re.findall(pattern, text)\n",
    "print(matches)\n"
   ]
  },
  {
   "cell_type": "code",
   "execution_count": null,
   "id": "feb65ea9-f324-4d66-96b7-fe9089e82bfd",
   "metadata": {},
   "outputs": [],
   "source": []
  }
 ],
 "metadata": {
  "kernelspec": {
   "display_name": "Python 3 (ipykernel)",
   "language": "python",
   "name": "python3"
  },
  "language_info": {
   "codemirror_mode": {
    "name": "ipython",
    "version": 3
   },
   "file_extension": ".py",
   "mimetype": "text/x-python",
   "name": "python",
   "nbconvert_exporter": "python",
   "pygments_lexer": "ipython3",
   "version": "3.12.0"
  }
 },
 "nbformat": 4,
 "nbformat_minor": 5
}
