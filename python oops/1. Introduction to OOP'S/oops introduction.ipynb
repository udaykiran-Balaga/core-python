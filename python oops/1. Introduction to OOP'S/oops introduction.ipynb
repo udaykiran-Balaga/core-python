{
 "cells": [
  {
   "cell_type": "markdown",
   "id": "71992769-947a-4611-b7e3-d58b7662cfd2",
   "metadata": {},
   "source": [
    "# OBJECT ORIENTED PROGRAMMING -->OOPS"
   ]
  },
  {
   "cell_type": "markdown",
   "id": "cd883c44-ce66-43ee-8dd3-643237f1d68c",
   "metadata": {},
   "source": [
    "The main objective of learning OOP's is developing user-defined datatypes.\n",
    "\n",
    "OOP is a paradigm which defines set of rules and regulations for developing user-defined datatypes."
   ]
  },
  {
   "cell_type": "markdown",
   "id": "6e8b4cc8-031d-4ecb-9b8c-3e98e9447946",
   "metadata": {},
   "source": [
    "The topics which we discuss in OOP's\n",
    "\n",
    "\n",
    "1. Object\n",
    "\n",
    "2. class\n",
    "\n",
    "3. Encapsulation\n",
    "\n",
    "4. Polymorphism\n",
    "\n",
    "5. Inheritance\n",
    "\n",
    "6. Abstraction"
   ]
  },
  {
   "cell_type": "markdown",
   "id": "07b07f97-62ff-4fcb-9cc5-4c778aced070",
   "metadata": {},
   "source": [
    "Every datatype in python is a class and data is represented as object.\n",
    "\n",
    "## What is Object?\n",
    "\n",
    "Object is a instance of class.\n",
    "\n",
    "Every object behind there is a class.\n",
    "\n",
    "class is used for creating object.\n",
    "\n",
    "Object is required space with main memory(RAM). This space is created by class.\n",
    "\n",
    "Every object is having two characteristics\n",
    "\n",
    "1. Properties\n",
    "\n",
    "properties defines the state/data of the object.\n",
    "\n",
    "2. Behaviour\n",
    "\n",
    "Behaviour defines the functionality of the object."
   ]
  },
  {
   "cell_type": "markdown",
   "id": "76c51dac-f007-4f28-a8e8-9b21f421f669",
   "metadata": {},
   "source": [
    "## class\n",
    "\n",
    "class is blue print of object. class defines the structure of object.\n",
    "\n",
    "class is encapsulated with properties and behaviour of object.\n",
    "\n",
    "class is collection of variables and methods/function."
   ]
  },
  {
   "cell_type": "markdown",
   "id": "974ad050-5f8d-42e6-b6f2-47428023eaac",
   "metadata": {},
   "source": [
    "## Encapsulation\n",
    "\n",
    "Encapsulation is a process of grouping properties and behaviour of object within single entity called class.\n"
   ]
  },
  {
   "cell_type": "markdown",
   "id": "090aead7-2cc5-48a4-bcfd-311c61f3e1cf",
   "metadata": {},
   "source": [
    "## polymorphism \n",
    "\n",
    "'poly' means many and 'morphism' means forms.\n",
    "\n",
    "Defining one thing in many forms is called polymorphism.\n",
    "\n",
    "In python polymorphism is implemented using \n",
    "\n",
    " 1. method overriding.\n",
    "    \n",
    " 2. operator overloading."
   ]
  },
  {
   "cell_type": "markdown",
   "id": "ee3f7ba6-35f8-449a-8563-eb2d98702543",
   "metadata": {},
   "source": [
    "## Inheritance\n",
    "\n",
    "Inheritence is a process of acquiring the properties and behaviour of one class inside another class.\n",
    "\n",
    "Inheritence allows developing a new class or datatype using existing class or datatype."
   ]
  },
  {
   "cell_type": "markdown",
   "id": "4b845c64-5c25-4bc0-ac4f-0bd01c7d8f60",
   "metadata": {},
   "source": [
    "## Abstract classes and abstract methods\n",
    "\n",
    "\"abc\" is called abstract base class module.it is predefined module which comes with python software.\n",
    "\n",
    "The module is used for implementation of abstract classes and abstract methods."
   ]
  }
 ],
 "metadata": {
  "kernelspec": {
   "display_name": "Python 3 (ipykernel)",
   "language": "python",
   "name": "python3"
  },
  "language_info": {
   "codemirror_mode": {
    "name": "ipython",
    "version": 3
   },
   "file_extension": ".py",
   "mimetype": "text/x-python",
   "name": "python",
   "nbconvert_exporter": "python",
   "pygments_lexer": "ipython3",
   "version": "3.12.0"
  }
 },
 "nbformat": 4,
 "nbformat_minor": 5
}
