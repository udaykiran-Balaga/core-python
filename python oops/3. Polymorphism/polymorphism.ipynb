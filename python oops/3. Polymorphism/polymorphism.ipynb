{
 "cells": [
  {
   "cell_type": "markdown",
   "id": "4508c60b-cdc7-4bb7-8688-bad995a4e851",
   "metadata": {},
   "source": [
    "## Polymorphism\n",
    "\n",
    "Defining one thing in many forms is called \"Polymorphism\"\n",
    "\n",
    "In python polymporphism is implemented using \n",
    "\n",
    "1. method overriding\n",
    "\n",
    "2. operator overloading"
   ]
  },
  {
   "cell_type": "markdown",
   "id": "df3309d1-2ab9-4c5e-bf2a-c012be6dc354",
   "metadata": {},
   "source": [
    "### 1. method overriding"
   ]
  },
  {
   "cell_type": "code",
   "execution_count": 2,
   "id": "b8cad9ac-ba00-4d76-90b2-d3613da162bc",
   "metadata": {},
   "outputs": [
    {
     "name": "stdout",
     "output_type": "stream",
     "text": [
      "Parent eat non-veg\n",
      "Parent eat veg\n"
     ]
    }
   ],
   "source": [
    "class Parent:\n",
    "\n",
    "    # constructor\n",
    "    def __init__(self):\n",
    "        self.text=\"Parent eat non-veg\"\n",
    "    # Parent eat method\n",
    "    def eat(self):\n",
    "        print(self.text)\n",
    "class Child(Parent):\n",
    "    # Constructor\n",
    "    def __init__(self):\n",
    "        super().__init__() # call parent constructor\n",
    "        self.text=\"Parent eat veg\"\n",
    "    # Child eat method\n",
    "    def eat(self):\n",
    "        print(self.text)\n",
    "\n",
    "obj1=Parent() # object of Parent class\n",
    "obj1.eat() # should print Parent method\n",
    "obj2=Child() # object of Child class\n",
    "obj2.eat() # should print Child method"
   ]
  },
  {
   "cell_type": "markdown",
   "id": "b3328a5c-0427-452a-9f6c-2a7c667d572f",
   "metadata": {},
   "source": [
    "### Operator overloading\n",
    "\n",
    "Operator overloading in python regers to the ability to change the behaviour of operator based on the operands that they act upon.\n",
    "\n",
    "This feaature in python that allows the same operator to have different meaning according to the context is called operator overloading.\n",
    "\n",
    "For every operator python provides a magic method.It is called operator magic method. This method executed automatically."
   ]
  },
  {
   "cell_type": "code",
   "execution_count": 4,
   "id": "839de050-d59a-434b-91a5-6edf2eebde15",
   "metadata": {},
   "outputs": [
    {
     "name": "stdout",
     "output_type": "stream",
     "text": [
      "Bird can fly.\n",
      "Airplane can fly.\n",
      "Fish cannot fly.\n"
     ]
    }
   ],
   "source": [
    "class Bird:\n",
    "    def fly(self):\n",
    "        return \"Bird can fly.\"\n",
    "class Airplane:\n",
    "    def fly(self):\n",
    "        return \"Airplane can fly.\"\n",
    "class fish:\n",
    "    def fly(self):\n",
    "        return \"Fish cannot fly.\"\n",
    "def flying_ability(obj):\n",
    "    print(obj.fly())\n",
    "sparrow=Bird()\n",
    "boeing=Airplane()\n",
    "goldfish=fish()\n",
    "flying_ability(sparrow)\n",
    "flying_ability(boeing)\n",
    "flying_ability(goldfish)"
   ]
  },
  {
   "cell_type": "markdown",
   "id": "f21544a4-eaea-46a2-8713-3a1038e3d714",
   "metadata": {},
   "source": [
    "### What is duck typing in Python?\r\n",
    " we will learn about duck typing. It is a popular term in Python, and it comes from saying, \"If it walks like duck, swims like duck, looks like a duck, then it probably should be a duck\""
   ]
  },
  {
   "cell_type": "code",
   "execution_count": 6,
   "id": "998de4d0-7223-4fbc-8b29-08aabca51458",
   "metadata": {},
   "outputs": [
    {
     "name": "stdout",
     "output_type": "stream",
     "text": [
      "Bird walks like Duck.\n",
      "Bird swims like Duck.\n",
      "Bird looks like Duck.\n"
     ]
    }
   ],
   "source": [
    "class Bird:\n",
    "    def walk(self):\n",
    "        print(\"Bird walks like Duck.\")\n",
    "    def swims(self):\n",
    "        print(\"Bird swims like Duck.\")\n",
    "    def looks(self):\n",
    "        print(\"Bird looks like Duck.\")\n",
    "\n",
    "class Duck:\n",
    "    def connect(self,bird):\n",
    "        bird.walk()\n",
    "        bird.swims()\n",
    "        bird.looks()\n",
    "\n",
    "bird=Bird()\n",
    "duck=Duck()\n",
    "duck.connect(bird)"
   ]
  }
 ],
 "metadata": {
  "kernelspec": {
   "display_name": "Python 3 (ipykernel)",
   "language": "python",
   "name": "python3"
  },
  "language_info": {
   "codemirror_mode": {
    "name": "ipython",
    "version": 3
   },
   "file_extension": ".py",
   "mimetype": "text/x-python",
   "name": "python",
   "nbconvert_exporter": "python",
   "pygments_lexer": "ipython3",
   "version": "3.12.0"
  }
 },
 "nbformat": 4,
 "nbformat_minor": 5
}
