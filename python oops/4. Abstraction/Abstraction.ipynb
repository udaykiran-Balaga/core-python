{
 "cells": [
  {
   "cell_type": "markdown",
   "id": "7b71f9ff-7e39-4311-b3c1-97530721dd78",
   "metadata": {},
   "source": [
    "## What is Abstract class?\n",
    "\n",
    "Abstract class is collection of abstract methods, non abstract methods and variables.\n",
    "\n",
    "Abstract class is an abstract datatype, which allows to build similar datatypes."
   ]
  },
  {
   "cell_type": "code",
   "execution_count": 3,
   "id": "0497be51-9660-4ade-ad60-6745457537b0",
   "metadata": {},
   "outputs": [
    {
     "name": "stdout",
     "output_type": "stream",
     "text": [
      "Dog sleep at Day time\n",
      "Cat sleep at Night time\n"
     ]
    }
   ],
   "source": [
    "import abc\n",
    "class Animal(abc.ABC):\n",
    "    @abc.abstractmethod\n",
    "    def sleep(sleep):\n",
    "        pass\n",
    "\n",
    "class Dog(Animal):\n",
    "    def sleep(self):\n",
    "        print(\"Dog sleep at Day time\")\n",
    "\n",
    "class Cat(Animal):\n",
    "    def sleep(self):\n",
    "        print(\"Cat sleep at Night time\")\n",
    "\n",
    "\n",
    "dog1=Dog()\n",
    "cat1=Cat()\n",
    "dog1.sleep()\n",
    "cat1.sleep()"
   ]
  },
  {
   "cell_type": "markdown",
   "id": "129f4ed1-8b99-48a5-9dff-f14d3f46ec13",
   "metadata": {},
   "source": [
    "when more than one sub class having similar role, with different implementation that method is declared abstract."
   ]
  },
  {
   "cell_type": "code",
   "execution_count": 8,
   "id": "ec6a07c2-4480-4ea4-aef1-40b9eba46f31",
   "metadata": {},
   "outputs": [
    {
     "name": "stdin",
     "output_type": "stream",
     "text": [
      " 2.5\n",
      " 4.2\n",
      " 8.2\n",
      " 4\n"
     ]
    },
    {
     "name": "stdout",
     "output_type": "stream",
     "text": [
      "Area of Triangle 5.25\n",
      "Area of Rectangle 32.80\n"
     ]
    }
   ],
   "source": [
    "import abc\n",
    "class shape(abc.ABC):\n",
    "    def __init__(self):\n",
    "        self._dim1=None\n",
    "        self._dim2=None\n",
    "    def read_dim(self):\n",
    "        self._dim1=float(input())\n",
    "        self._dim2=float(input())\n",
    "    @abc.abstractmethod\n",
    "    def find_area(self):\n",
    "        pass\n",
    "\n",
    "class Triangle(shape):\n",
    "    def find_area(self):\n",
    "        return self._dim1*self._dim2*0.5\n",
    "class Rectangle(shape):\n",
    "    def find_area(self):\n",
    "        return self._dim1*self._dim2\n",
    "\n",
    "t1=Triangle()\n",
    "t1.read_dim()\n",
    "triangle_area=t1.find_area()\n",
    "r1=Rectangle()\n",
    "r1.read_dim()\n",
    "rectangle_area=r1.find_area()\n",
    "print(f'Area of Triangle {triangle_area:.2f}')\n",
    "print(f'Area of Rectangle {rectangle_area:.2f}')"
   ]
  }
 ],
 "metadata": {
  "kernelspec": {
   "display_name": "Python 3 (ipykernel)",
   "language": "python",
   "name": "python3"
  },
  "language_info": {
   "codemirror_mode": {
    "name": "ipython",
    "version": 3
   },
   "file_extension": ".py",
   "mimetype": "text/x-python",
   "name": "python",
   "nbconvert_exporter": "python",
   "pygments_lexer": "ipython3",
   "version": "3.12.0"
  }
 },
 "nbformat": 4,
 "nbformat_minor": 5
}
