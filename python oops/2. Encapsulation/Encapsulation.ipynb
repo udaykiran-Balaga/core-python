{
 "cells": [
  {
   "cell_type": "markdown",
   "id": "2f5528cb-37de-4704-868c-fe38165b7f88",
   "metadata": {},
   "source": [
    "## Encapsulation\n",
    "\n",
    "Encapsulation is a process of grouping properties and behaviour of object within single entity called class.\n",
    "\n",
    "Binding data with related operations is called Encapsulation\n",
    "\n",
    "### Binding\n",
    "\n",
    "Linking variables and functions is called Binding."
   ]
  },
  {
   "cell_type": "markdown",
   "id": "14c4e6fb-394a-439e-93fb-ca17d0f52158",
   "metadata": {},
   "source": [
    "syntax of class:\n",
    "\n",
    "`class <datatype>/<class-name>:`\n",
    "\n",
    "    variables => properties of object  \n",
    "    methods => behaviour of object\n",
    "    "
   ]
  },
  {
   "cell_type": "markdown",
   "id": "bcc19de2-cb97-4836-aca5-6688c315c545",
   "metadata": {},
   "source": [
    "The variables declared inside class are two types.\n",
    "\n",
    "1. Instance variables/object-level variables\n",
    "\n",
    "2. class-level variables"
   ]
  },
  {
   "cell_type": "markdown",
   "id": "a772e83c-7092-4571-a6ef-c8aa486927de",
   "metadata": {},
   "source": [
    "Methods defined inside class are 3 types\n",
    "\n",
    "1. instance method\n",
    "\n",
    "2. class methods\n",
    "\n",
    "3. static methods"
   ]
  },
  {
   "cell_type": "markdown",
   "id": "da7d1d11-dbed-4093-b863-22d248ac5763",
   "metadata": {},
   "source": [
    "### Instance variables/object-level variables\n",
    "\n",
    "Instance variables are declared inside a method using the self keyword. We use a constructor to define and initialize the instance variables. Let’s see the example to declare an instance variable in Python."
   ]
  },
  {
   "cell_type": "markdown",
   "id": "468f054e-6b97-4308-a3af-cccfd33e2057",
   "metadata": {},
   "source": [
    "### How many ways instance variables are created?\n",
    "\n",
    "1. Within class using instance method.\n",
    "\n",
    "2. Outside the class using object name.\n",
    "\n",
    "3. Outside the class using setattr and getattr function.\n",
    "\n",
    "4. Outside the class using dictionary properties of object."
   ]
  },
  {
   "cell_type": "markdown",
   "id": "eaf78a86-d6aa-457e-b470-6fac6f09c23c",
   "metadata": {},
   "source": [
    "Creating instance variables within class using instance method\n",
    "\n",
    "Inside class, instance variable are bind with 'self' or any variable inside class access or bind with 'self' is called instance variable.\n",
    "\n",
    "### 1. without parameters"
   ]
  },
  {
   "cell_type": "code",
   "execution_count": 16,
   "id": "e34e2d52-5ad0-4006-b0be-d0789acdb684",
   "metadata": {},
   "outputs": [
    {
     "name": "stdout",
     "output_type": "stream",
     "text": [
      "EmployeeNo emp01\n",
      "Employee Name uday\n",
      "Employee Role Developer\n"
     ]
    }
   ],
   "source": [
    "# within class using instance method.\n",
    "\n",
    "class Employee:\n",
    "    def create_properties(self):\n",
    "        self.emp_no='emp01'\n",
    "        self.emp_name='uday'\n",
    "        self.emp_role='Developer'\n",
    "    def print_employee(self):\n",
    "        print(f'EmployeeNo {self.emp_no}')\n",
    "        print(f'Employee Name {self.emp_name}')\n",
    "        print(f'Employee Role {self.emp_role}')\n",
    "\n",
    "emp1=Employee()\n",
    "emp1.create_properties()\n",
    "emp1.print_employee()  "
   ]
  },
  {
   "cell_type": "markdown",
   "id": "bbdc1648-5bad-489d-8bd8-777d954282be",
   "metadata": {},
   "source": [
    "### 2. With parameters"
   ]
  },
  {
   "cell_type": "code",
   "execution_count": 17,
   "id": "d81c2007-fb9c-4442-9075-3ed08baf9514",
   "metadata": {},
   "outputs": [
    {
     "name": "stdout",
     "output_type": "stream",
     "text": [
      "EmployeeNo emp01\n",
      "Employee Name uday\n",
      "Employee Role Developer\n"
     ]
    }
   ],
   "source": [
    "class Employee:\n",
    "    def create_properties(self,emp_no,emp_name,emp_role):\n",
    "        self.emp_no=emp_no\n",
    "        self.emp_name=emp_name\n",
    "        self.emp_role=emp_role\n",
    "    def print_employee(self):\n",
    "        print(f'EmployeeNo {self.emp_no}')\n",
    "        print(f'Employee Name {self.emp_name}')\n",
    "        print(f'Employee Role {self.emp_role}')\n",
    "\n",
    "emp1=Employee()\n",
    "emp1.create_properties('emp01','uday','Developer')\n",
    "emp1.print_employee()"
   ]
  },
  {
   "cell_type": "code",
   "execution_count": 5,
   "id": "49b7e1c9-8df9-4523-8e47-d69f04b1ee82",
   "metadata": {},
   "outputs": [
    {
     "name": "stdout",
     "output_type": "stream",
     "text": [
      "emp01 uday Developer\n"
     ]
    }
   ],
   "source": [
    "# outside the class using object name\n",
    "\n",
    "class Employee:\n",
    "    pass\n",
    "\n",
    "emp1=Employee()\n",
    "emp1.emp_no=\"emp01\"\n",
    "emp1.emp_name=\"uday\"\n",
    "emp1.emp_role=\"Developer\"\n",
    "print(emp1.emp_no,emp1.emp_name,emp1.emp_role)"
   ]
  },
  {
   "cell_type": "code",
   "execution_count": 11,
   "id": "87bdbf43-d597-4b7a-81b1-47f169a0d8b4",
   "metadata": {},
   "outputs": [
    {
     "name": "stdout",
     "output_type": "stream",
     "text": [
      "emp01 uday Developer\n"
     ]
    }
   ],
   "source": [
    "# outside the class using setattr and getattr\n",
    "\n",
    "class Employee:\n",
    "    pass\n",
    "\n",
    "emp1=Employee()\n",
    "setattr(emp1,'emp_no','emp01')\n",
    "setattr(emp1,'emp_name','uday')\n",
    "setattr(emp1,'emp_role','Developer')\n",
    "print(getattr(emp1,'emp_no'),getattr(emp1,'emp_name'),getattr(emp1,'emp_role'))"
   ]
  },
  {
   "cell_type": "code",
   "execution_count": 14,
   "id": "2c6f1f64-e205-4f00-aa53-b3d173be122a",
   "metadata": {},
   "outputs": [
    {
     "name": "stdout",
     "output_type": "stream",
     "text": [
      "emp01 uday Developer\n"
     ]
    }
   ],
   "source": [
    "# outside the class using dictionary properties of object\n",
    "\n",
    "class Employee:\n",
    "    pass\n",
    "\n",
    "emp1=Employee()\n",
    "emp1.__dict__={'emp_no':'emp01','emp_name':'uday','emp_role':'Developer'}\n",
    "print(emp1.emp_no,emp1.emp_name,emp1.emp_role)"
   ]
  },
  {
   "cell_type": "markdown",
   "id": "f97c761a-c106-4ec2-8545-d53f5839a7ca",
   "metadata": {},
   "source": [
    "## class level variables\n",
    "\n",
    "class level variables memory is allocated with in class.\n",
    "\n",
    "Any variable within class is bind with class name and outside the class bind with class name is called class level varaible.\n",
    "\n",
    "The variables are globals variables.which are global or more than one object."
   ]
  },
  {
   "cell_type": "code",
   "execution_count": 19,
   "id": "67c4779b-7b4e-47cb-a349-7cb7de2551b3",
   "metadata": {},
   "outputs": [
    {
     "name": "stdout",
     "output_type": "stream",
     "text": [
      "Fish\n"
     ]
    }
   ],
   "source": [
    "class shark:\n",
    "    animal_type='Fish'\n",
    "\n",
    "animal=shark()\n",
    "print(animal.animal_type)"
   ]
  },
  {
   "cell_type": "markdown",
   "id": "9e2edf43-e2c1-49dc-b084-284bc6724fdc",
   "metadata": {},
   "source": [
    "### Methods\n",
    "\n",
    "Instance method --> inside class with first parameter 'self'.Cannot call or invoked without creating object 'self' is a parameter name.\n",
    "\n",
    "'self' paramter refer or hold reference of object."
   ]
  },
  {
   "cell_type": "markdown",
   "id": "02f87a2c-4277-4402-ac68-b7baab895f3f",
   "metadata": {},
   "source": [
    "These instance methods can be defined\n",
    "\n",
    "1. without parameter\n",
    "\n",
    "2. with parameter"
   ]
  },
  {
   "cell_type": "code",
   "execution_count": 4,
   "id": "1e01e465-d206-4e8d-8ac5-7dbda7931b5f",
   "metadata": {},
   "outputs": [
    {
     "name": "stdout",
     "output_type": "stream",
     "text": [
      "Human speak\n",
      "Human walk\n",
      "Human eat\n"
     ]
    }
   ],
   "source": [
    "# without parameters\n",
    "class human:\n",
    "    def speak(self):\n",
    "        print('Human speak')\n",
    "    def walk(self):\n",
    "        print('Human walk')\n",
    "    def eat(self):\n",
    "        print('Human eat')\n",
    "\n",
    "man=human()\n",
    "man.speak()\n",
    "man.walk()\n",
    "man.eat()"
   ]
  },
  {
   "cell_type": "code",
   "execution_count": 8,
   "id": "fcb3744e-7188-4425-8479-4788ab777d54",
   "metadata": {},
   "outputs": [
    {
     "name": "stdout",
     "output_type": "stream",
     "text": [
      "Hello World!\n",
      "Human eat food\n"
     ]
    }
   ],
   "source": [
    "# with parameter\n",
    "class human:\n",
    "    def speak(self,talk):\n",
    "        self.talk=talk\n",
    "    def eat(self,eat):\n",
    "        self.eat=eat\n",
    "    def print_human(self):\n",
    "        print(f'{self.talk}')\n",
    "        print(f'{self.eat}')\n",
    "man=human()\n",
    "man.speak(\"Hello World!\")\n",
    "man.eat(\"Human eat food\")\n",
    "man.print_human()"
   ]
  },
  {
   "cell_type": "markdown",
   "id": "b64bc454-519d-48f4-afb0-d43fe1420c39",
   "metadata": {},
   "source": [
    "### Constructor\n",
    "\n",
    "Constructor is instance method.\n",
    "\n",
    "Constructor is magic method and executed automatically whenever object of class is created.\n",
    "\n",
    "The name of constructor is __init__(self)\n",
    "\n",
    "Constructor is used for initialization of object or creating instance variable.\n",
    "\n",
    "Constructor is defined\n",
    "\n",
    "1. without paramters--> Constructor does not recieve value.\n",
    "\n",
    "2. with parameters --> Constructor receives values."
   ]
  },
  {
   "cell_type": "code",
   "execution_count": 9,
   "id": "9188f757-6498-47f9-a257-dbfe4346a56c",
   "metadata": {},
   "outputs": [
    {
     "name": "stdout",
     "output_type": "stream",
     "text": [
      "None None\n"
     ]
    }
   ],
   "source": [
    "# without parameters\n",
    "\n",
    "class product:\n",
    "    def __init__(self):\n",
    "        self.product_name=None\n",
    "        self.product_price=None\n",
    "p1=product()\n",
    "print(p1.product_name,p1.product_price)"
   ]
  },
  {
   "cell_type": "code",
   "execution_count": 17,
   "id": "45c227c0-5db6-4409-951a-bfabda8daaba",
   "metadata": {},
   "outputs": [
    {
     "name": "stdout",
     "output_type": "stream",
     "text": [
      "Product name keyboard\n",
      "Product price 1500\n"
     ]
    }
   ],
   "source": [
    "# with parameters\n",
    "\n",
    "class product:\n",
    "    def __init__(self,prod_name,prod_price):\n",
    "        self.product_name=prod_name\n",
    "        self.product_price=prod_price\n",
    "p1=product('keyboard',1500)\n",
    "print(f'Product name {p1.product_name}\\nProduct price {p1.product_price}')"
   ]
  },
  {
   "cell_type": "markdown",
   "id": "e5eeaa8f-6554-47a6-8aad-401bbe23667b",
   "metadata": {},
   "source": [
    "### Difference between instance method and constructor.\n",
    "\n",
    "### Instance method:\n",
    "\n",
    "1. This method can be any class.\n",
    "\n",
    "2. within class, we can deine any number of instance methods.\n",
    "\n",
    "3. Instance method must be explicity or not called automatically.\n",
    "\n",
    "4. Invoked any number of times.\n",
    "\n",
    "5. The job of instance method setter and getter operation.\n",
    "\n",
    "### Constructor:\n",
    "\n",
    "1. Constructor name must be `__init__`.\n",
    "\n",
    "2. Within class we can define only one constructor.\n",
    "\n",
    "3. This method is caleed automatically on creation of object.\n",
    "\n",
    "4. Constructor is invoked only once.\n",
    "\n",
    "5. This job of constructor is initialization."
   ]
  },
  {
   "cell_type": "markdown",
   "id": "7aa8146a-2f9d-4d38-99a5-8e171d719ee2",
   "metadata": {},
   "source": [
    "## class level method\n",
    "\n",
    "A method defined inside class with first parameter as 'self', It is called class level method.\n",
    "\n",
    "This method is bind with class name or this class method is called wuth class name without creating object.\n",
    "\n",
    "This method defines class level operation.\n",
    "\n",
    "@class method is predefined decorator.\n",
    "\n",
    "class level method cannot access instance member.\n",
    "\n",
    "class level method access only class level members.\n",
    "\n",
    "Instance method access class level members and instance members."
   ]
  },
  {
   "cell_type": "code",
   "execution_count": 25,
   "id": "dadf9c05-3cd4-4dfd-b5f5-508f312a23e3",
   "metadata": {},
   "outputs": [
    {
     "name": "stdout",
     "output_type": "stream",
     "text": [
      "Class method\n",
      "200\n",
      "Instance method\n",
      "100\n",
      "200\n"
     ]
    }
   ],
   "source": [
    "class A:\n",
    "    y=200\n",
    "    def __init__(self):\n",
    "        self.x=100\n",
    "    def method1(self):\n",
    "        print(\"Instance method\")\n",
    "        print(self.x)\n",
    "        print(A.y)\n",
    "    @classmethod\n",
    "    def method2(cls):\n",
    "        print(\"Class method\")\n",
    "        print(cls.y)\n",
    "\n",
    "A.method2() #without creating object bind with class name\n",
    "obj1=A() #creation of object as obj1\n",
    "obj1.method1() #with object"
   ]
  },
  {
   "cell_type": "markdown",
   "id": "3f336036-747c-48b9-8b1e-97eeae83336d",
   "metadata": {},
   "source": [
    "### static method\n",
    "\n",
    "A method defined inside class without implicit first argument is called static method. This method doesnot have first argument as \"cls\" or \"self\"."
   ]
  },
  {
   "cell_type": "code",
   "execution_count": 27,
   "id": "ded95149-c867-423d-9b3e-e57538e3e41e",
   "metadata": {},
   "outputs": [
    {
     "data": {
      "text/plain": [
       "25"
      ]
     },
     "execution_count": 27,
     "metadata": {},
     "output_type": "execute_result"
    }
   ],
   "source": [
    "class maths:\n",
    "    @staticmethod\n",
    "    def power(num,p):\n",
    "        return num**p\n",
    "\n",
    "maths.power(5,2)"
   ]
  },
  {
   "cell_type": "markdown",
   "id": "19ee8f31-c344-4769-aff0-a0f7e55e4964",
   "metadata": {},
   "source": [
    "### Access Modifiers in Python\n",
    "Python uses a naming convention to define the levels of access, as it does not have explicit keywords like private, public, or protected"
   ]
  },
  {
   "cell_type": "markdown",
   "id": "fa452e22-2fa5-4d52-a81c-f6b56b2d23b9",
   "metadata": {},
   "source": [
    "### Public Members:\n",
    "\n",
    "Accessible from anywhere (inside or outside the class).\n",
    "Represented by variables or methods without any special prefix.\n",
    "Default access level in Python."
   ]
  },
  {
   "cell_type": "code",
   "execution_count": 1,
   "id": "c0357c45-b306-4418-8ff0-89abc481ecab",
   "metadata": {},
   "outputs": [
    {
     "name": "stdout",
     "output_type": "stream",
     "text": [
      "I am public\n",
      "I am public\n"
     ]
    }
   ],
   "source": [
    "class Example:\n",
    "    def __init__(self):\n",
    "        self.data = \"I am public\"  # Public variable\n",
    "\n",
    "    def show_data(self):\n",
    "        print(self.data)  # Public method\n",
    "\n",
    "obj = Example()\n",
    "print(obj.data)  # Accessible outside the class\n",
    "obj.show_data()\n"
   ]
  },
  {
   "cell_type": "markdown",
   "id": "6145b7fe-17e0-472f-9d55-8a6b33e9dc4c",
   "metadata": {},
   "source": [
    "### 2. Protected Members:\n",
    "\n",
    "Intended for internal use within the class and its subclasses.\n",
    "Represented by a single underscore (_) prefix.\n",
    "By convention, it signals that these members should not be accessed directly, though they can still be accessed outside the class."
   ]
  },
  {
   "cell_type": "code",
   "execution_count": 3,
   "id": "b4534fc3-f31c-453a-9642-81835d119645",
   "metadata": {},
   "outputs": [
    {
     "name": "stdout",
     "output_type": "stream",
     "text": [
      "I am protected\n",
      "I am protected\n"
     ]
    }
   ],
   "source": [
    "class Example:\n",
    "    def __init__(self):\n",
    "        self._data = \"I am protected\"  # Protected variable\n",
    "\n",
    "    def _show_data(self):\n",
    "        print(self._data)  # Protected method\n",
    "\n",
    "obj = Example()\n",
    "print(obj._data)  # Technically accessible, but not recommended\n",
    "obj._show_data()\n"
   ]
  },
  {
   "cell_type": "markdown",
   "id": "8aeb9767-2d04-49f2-a009-78432358b7b3",
   "metadata": {},
   "source": [
    "### Private Members:\n",
    "\n",
    "Not accessible directly from outside the class.\n",
    "Represented by a double underscore (__) prefix.\n",
    "Python performs name mangling to make these variables harder to access from outside the class. They can still be accessed using a special syntax (_ClassName__variable)."
   ]
  },
  {
   "cell_type": "code",
   "execution_count": 4,
   "id": "8d1756bc-5608-4b51-be9a-9349226b2434",
   "metadata": {},
   "outputs": [
    {
     "name": "stdout",
     "output_type": "stream",
     "text": [
      "I am private\n",
      "I am private\n"
     ]
    }
   ],
   "source": [
    "class Example:\n",
    "    def __init__(self):\n",
    "        self.__data = \"I am private\"  # Private variable\n",
    "\n",
    "    def __show_data(self):\n",
    "        print(self.__data)  # Private method\n",
    "\n",
    "    def access_private(self):\n",
    "        self.__show_data()  # Accessing private method internally\n",
    "\n",
    "obj = Example()\n",
    "# print(obj.__data)  # This will raise an AttributeError\n",
    "obj.access_private()  # Allowed through internal access\n",
    "\n",
    "# Accessing private member via name mangling (not recommended)\n",
    "print(obj._Example__data)"
   ]
  },
  {
   "cell_type": "code",
   "execution_count": null,
   "id": "2f0aad60-8123-4d9a-ae83-9cb19169cdf8",
   "metadata": {},
   "outputs": [],
   "source": []
  }
 ],
 "metadata": {
  "kernelspec": {
   "display_name": "Python 3 (ipykernel)",
   "language": "python",
   "name": "python3"
  },
  "language_info": {
   "codemirror_mode": {
    "name": "ipython",
    "version": 3
   },
   "file_extension": ".py",
   "mimetype": "text/x-python",
   "name": "python",
   "nbconvert_exporter": "python",
   "pygments_lexer": "ipython3",
   "version": "3.12.0"
  }
 },
 "nbformat": 4,
 "nbformat_minor": 5
}
