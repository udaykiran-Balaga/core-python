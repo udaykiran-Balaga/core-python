{
 "cells": [
  {
   "cell_type": "markdown",
   "id": "ad930ba7-9814-4e75-9a05-77b067934f9e",
   "metadata": {},
   "source": [
    "# Nested Function"
   ]
  },
  {
   "cell_type": "markdown",
   "id": "4c88aefa-fffe-4e71-9185-c12a1bb17d5d",
   "metadata": {},
   "source": [
    "1. Hiding functionality of one function inside function\n",
    "\n",
    "2. For developing special functions in python\n",
    "\n",
    "   a. Decorator\n",
    "\n",
    "   b. Closures"
   ]
  },
  {
   "cell_type": "markdown",
   "id": "08c2e52f-99a0-4b8b-affc-6ee9aa86b5dc",
   "metadata": {},
   "source": [
    "### syntax\n",
    "\n",
    "def <outer-function-name>([parameters]):\n",
    "\n",
    "    statement-1\n",
    "\n",
    "    statement-2\n",
    "    def <inner-function-name>([parameters]):\n",
    "    \n",
    "        statement-1\n",
    "\n",
    "        statement-2"
   ]
  },
  {
   "cell_type": "markdown",
   "id": "3b545a2f-b95e-4417-abcc-64e30969b745",
   "metadata": {},
   "source": [
    "### points to remember\n",
    "\n",
    "1. Inner function is accessible within outer function but cannot accessible outside outer function"
   ]
  },
  {
   "cell_type": "code",
   "execution_count": 1,
   "id": "5f6e7007-77f9-45d6-9de4-3aced7a70a18",
   "metadata": {},
   "outputs": [
    {
     "name": "stdout",
     "output_type": "stream",
     "text": [
      "Inside outer function\n"
     ]
    },
    {
     "ename": "NameError",
     "evalue": "name 'fun2' is not defined",
     "output_type": "error",
     "traceback": [
      "\u001b[1;31m---------------------------------------------------------------------------\u001b[0m",
      "\u001b[1;31mNameError\u001b[0m                                 Traceback (most recent call last)",
      "Cell \u001b[1;32mIn[1], line 9\u001b[0m\n\u001b[0;32m      6\u001b[0m         \u001b[38;5;28mprint\u001b[39m(\u001b[38;5;124m\"\u001b[39m\u001b[38;5;124mInside inner function\u001b[39m\u001b[38;5;124m\"\u001b[39m)\n\u001b[0;32m      8\u001b[0m fun1()\n\u001b[1;32m----> 9\u001b[0m \u001b[43mfun2\u001b[49m() \u001b[38;5;66;03m# raises error because we cannot accessible the inside function\u001b[39;00m\n",
      "\u001b[1;31mNameError\u001b[0m: name 'fun2' is not defined"
     ]
    }
   ],
   "source": [
    "# example\n",
    "\n",
    "def fun1(): # outer function\n",
    "    print(\"Inside outer function\")\n",
    "    def fun2():\n",
    "        print(\"Inside inner function\")\n",
    "\n",
    "fun1()\n",
    "fun2() # raises error because we cannot accessible the inside function"
   ]
  },
  {
   "cell_type": "markdown",
   "id": "192fabba-da58-4361-9b75-f58e8568d63d",
   "metadata": {},
   "source": [
    "2. Inner function can access local variables of outer function but outer function cannot access local varaibles of inner function. "
   ]
  },
  {
   "cell_type": "code",
   "execution_count": 2,
   "id": "b047149b-fe0d-4576-b2f4-59eae7fee429",
   "metadata": {},
   "outputs": [
    {
     "name": "stdout",
     "output_type": "stream",
     "text": [
      "Local variable of fun1 x=100\n"
     ]
    },
    {
     "ename": "NameError",
     "evalue": "name 'x' is not defined",
     "output_type": "error",
     "traceback": [
      "\u001b[1;31m---------------------------------------------------------------------------\u001b[0m",
      "\u001b[1;31mNameError\u001b[0m                                 Traceback (most recent call last)",
      "Cell \u001b[1;32mIn[2], line 14\u001b[0m\n\u001b[0;32m     11\u001b[0m     \u001b[38;5;28mprint\u001b[39m(x)\n\u001b[0;32m     13\u001b[0m fun1()\n\u001b[1;32m---> 14\u001b[0m \u001b[43mfun3\u001b[49m\u001b[43m(\u001b[49m\u001b[43m)\u001b[49m \u001b[38;5;66;03m# raises error outer function cannot accessible the inner function local variable\u001b[39;00m\n",
      "Cell \u001b[1;32mIn[2], line 11\u001b[0m, in \u001b[0;36mfun3\u001b[1;34m()\u001b[0m\n\u001b[0;32m      9\u001b[0m \u001b[38;5;28;01mdef\u001b[39;00m \u001b[38;5;21mfun4\u001b[39m():\n\u001b[0;32m     10\u001b[0m     x\u001b[38;5;241m=\u001b[39m\u001b[38;5;241m30\u001b[39m \u001b[38;5;66;03m# Local variable of fun4\u001b[39;00m\n\u001b[1;32m---> 11\u001b[0m \u001b[38;5;28mprint\u001b[39m(\u001b[43mx\u001b[49m)\n",
      "\u001b[1;31mNameError\u001b[0m: name 'x' is not defined"
     ]
    }
   ],
   "source": [
    "# example\n",
    "\n",
    "def fun1():\n",
    "    x=100 # local varaible of fun1\n",
    "    def fun2():\n",
    "        print(f'Local variable of fun1 x={x}')\n",
    "    fun2()\n",
    "def fun3():\n",
    "    def fun4():\n",
    "        x=30 # Local variable of fun4\n",
    "    print(x)\n",
    "\n",
    "fun1()\n",
    "fun3() # raises error outer function cannot accessible the inner function local variable"
   ]
  },
  {
   "cell_type": "markdown",
   "id": "bb73fcbd-ab85-4d8e-8946-34983daf1367",
   "metadata": {},
   "source": [
    "3. Inner function can access local variable of outer function directly but cannot modify it."
   ]
  },
  {
   "cell_type": "code",
   "execution_count": 5,
   "id": "a1234244-07c3-4500-8767-ef03784c3726",
   "metadata": {},
   "outputs": [
    {
     "name": "stdout",
     "output_type": "stream",
     "text": [
      "300\n",
      "100\n"
     ]
    }
   ],
   "source": [
    "def fun1():\n",
    "    x=100 # local variable of fun1\n",
    "    def fun2():\n",
    "        x=300 # local variable of fun2\n",
    "        print(x)\n",
    "    fun2()\n",
    "    print(x)\n",
    "fun1()"
   ]
  },
  {
   "cell_type": "markdown",
   "id": "7afcea84-ad7d-4213-a5c9-7cb8454a150c",
   "metadata": {},
   "source": [
    "## LEGB"
   ]
  },
  {
   "cell_type": "markdown",
   "id": "90111c30-575c-4a4b-822a-742849c2321e",
   "metadata": {},
   "source": [
    "### What is LEGB in python?\n",
    "\n",
    "The LEGB stands for Local, Enclosing, Global and Built-in.\n",
    "\n",
    "Python resolves names using the LEGB rules.\n",
    "\n",
    "The LEGB rule is a kind of name lookup procedure, which determines the order in which python looks up names."
   ]
  },
  {
   "cell_type": "code",
   "execution_count": 11,
   "id": "89f306eb-1547-4286-9abc-654831263766",
   "metadata": {},
   "outputs": [
    {
     "name": "stdout",
     "output_type": "stream",
     "text": [
      "100\n",
      "200\n",
      "300\n",
      "__main__\n"
     ]
    }
   ],
   "source": [
    "# Example\n",
    "\n",
    "x=100 # Global variable\n",
    "def fun1():\n",
    "    y=200 # Local variable fun1\n",
    "    def fun2():\n",
    "        z=300 # Local variable of fun2\n",
    "        print(x)\n",
    "        print(y)\n",
    "        print(z)\n",
    "        print(__name__)\n",
    "        # print(p) NameError\n",
    "    fun2()\n",
    "fun1()"
   ]
  },
  {
   "cell_type": "markdown",
   "id": "c1c01a36-16c9-4b23-9850-bc1fc1bacb71",
   "metadata": {},
   "source": [
    "### nonlocal keyword\n",
    "\n",
    "Inner function can modify or update the local variable of outer function using nonlocal keyword\n",
    "\n",
    "### syntax\n",
    "\n",
    "nonlocal variable-name,variable-name\n",
    "\n",
    "After this declaration, variable list is referred as nonlocal variables."
   ]
  },
  {
   "cell_type": "code",
   "execution_count": 15,
   "id": "abfe4e35-47c1-4417-a2fe-bb540943bd80",
   "metadata": {},
   "outputs": [
    {
     "name": "stdout",
     "output_type": "stream",
     "text": [
      "200\n",
      "300\n"
     ]
    }
   ],
   "source": [
    "def fun1():\n",
    "    x=200 # local variable of fun1\n",
    "    def fun2():\n",
    "        nonlocal x\n",
    "        x=300\n",
    "    print(x)\n",
    "    fun2()\n",
    "    print(x)\n",
    "fun1()"
   ]
  },
  {
   "cell_type": "code",
   "execution_count": 18,
   "id": "d3941790-037a-4b5d-aae7-442cca6c318a",
   "metadata": {},
   "outputs": [
    {
     "name": "stdin",
     "output_type": "stream",
     "text": [
      "Enter first number  5\n",
      "Enter second number  8\n",
      "Enter operator  *\n"
     ]
    },
    {
     "name": "stdout",
     "output_type": "stream",
     "text": [
      "5*8=40\n"
     ]
    }
   ],
   "source": [
    "# example\n",
    "\n",
    "def calculator(n1,n2,opr):\n",
    "    res=0 # local variable\n",
    "    def add():\n",
    "        nonlocal res\n",
    "        res=n1+n2\n",
    "    def sub():\n",
    "        nonlocal res\n",
    "        res=n1-n2\n",
    "    def multiply():\n",
    "        nonlocal res\n",
    "        res=n1*n2\n",
    "    def div():\n",
    "        nonlocal res\n",
    "        res=n1/n2\n",
    "    if opr=='+':\n",
    "        add()\n",
    "    elif opr=='-':\n",
    "        sub()\n",
    "    elif opr==\"*\":\n",
    "        multiply()\n",
    "    elif opr=='/':\n",
    "        div()\n",
    "    else:\n",
    "        res=\"ERROR\"\n",
    "    return res\n",
    "\n",
    "num1=int(input(\"Enter first number \"))\n",
    "num2=int(input(\"Enter second number \"))\n",
    "opr=input(\"Enter operator \")\n",
    "result=calculator(num1,num2,opr)\n",
    "print(f'{num1}{opr}{num2}={result}')"
   ]
  },
  {
   "cell_type": "markdown",
   "id": "f872adcf-6099-4f41-87af-527b9ccc7b1c",
   "metadata": {},
   "source": [
    "# Decorators\n",
    "\n",
    "Decorator is a special function in python.\n",
    "\n",
    "Decorator is a nested function or inner function, which is used to decorate a function.\n",
    "\n",
    "`Decorator` are a very powerful and useful tool in `python` since it allows programmers to modify the behaviour of a function or class.\n",
    "\n",
    "A `decorator` is a design pattern in Python that alows a user to add new functionality to an existing object without modifying its structure.\n",
    "\n",
    "`Decorators` in Python are functions that takes another function as an argument and extends its behavior without explicity modifying it.\n"
   ]
  },
  {
   "cell_type": "markdown",
   "id": "ba6c5b35-5409-4016-b363-f0f925295354",
   "metadata": {},
   "source": [
    "These decorators are two types\n",
    "\n",
    "1. Predefined decorators\n",
    "\n",
    "2. User defined decorators"
   ]
  },
  {
   "cell_type": "markdown",
   "id": "dab46456-62c6-4740-afc2-5c8b2444b5b6",
   "metadata": {},
   "source": [
    "### Predefined decorators\n",
    "\n",
    "The decorators provided by python are called predefined decorators.\n",
    "\n",
    "eg: `@staticmethod`, `@abstactmethod`, `@properly`....\n",
    "\n",
    "**User defined decorators**\n",
    "\n",
    "The decorators provided by programmer are called user defined decorators or application specific decorators.\n",
    "\n",
    "Basic steps to with decorators\n",
    "\n",
    "1. Define a function, which receives input as another function.\n",
    "\n",
    "2. Inside this function define another function which modify the function which it received.\n",
    "\n",
    "3. Return inner function/modified function/updated function."
   ]
  },
  {
   "cell_type": "markdown",
   "id": "cff16908-e771-4434-81ca-4b3008b5e0d3",
   "metadata": {},
   "source": [
    "**syntax**\n",
    "\n",
    "def <decorator-function-name>(function):\n",
    "\n",
    "    def <inner function>([parameters]):\n",
    "    \n",
    "        statement-1\n",
    "\n",
    "        statement-3\n",
    "        \n",
    "    return inner-function"
   ]
  },
  {
   "cell_type": "markdown",
   "id": "c7f137c1-102b-4786-bdae-2c2942ea52f5",
   "metadata": {},
   "source": [
    "After developing decorator it is applied to a function using `@decorator` syntax"
   ]
  },
  {
   "cell_type": "code",
   "execution_count": 1,
   "id": "42c75d4e-0ea9-4aa8-a7e7-287f072cde03",
   "metadata": {},
   "outputs": [
    {
     "name": "stdout",
     "output_type": "stream",
     "text": [
      "******************************\n",
      "Hello Python\n",
      "******************************\n",
      "******************************\n",
      "uday---->50\n",
      "jyostna---->52\n",
      "manoj---->44\n",
      "******************************\n"
     ]
    }
   ],
   "source": [
    "# example\n",
    "\n",
    "def draw(function):\n",
    "    def display_new():\n",
    "        print(\"*\"*30)\n",
    "        function()\n",
    "        print(\"*\"*30)\n",
    "    return display_new\n",
    "\n",
    "@draw\n",
    "def display():\n",
    "    print(\"Hello Python\")\n",
    "\n",
    "@draw\n",
    "def print_data():\n",
    "    dict1={'uday':50,'jyostna':52,'manoj':44}\n",
    "    for name,age in dict1.items():\n",
    "        print(f'{name}---->{age}')\n",
    "\n",
    "display()\n",
    "print_data()"
   ]
  },
  {
   "cell_type": "code",
   "execution_count": 3,
   "id": "2faccf2f-d37b-4709-89f1-f1725b57783d",
   "metadata": {},
   "outputs": [
    {
     "name": "stdin",
     "output_type": "stream",
     "text": [
      "Enter First number  5\n",
      "Enter second number  2\n"
     ]
    },
    {
     "name": "stdout",
     "output_type": "stream",
     "text": [
      "The division of 5/2=2.50\n"
     ]
    }
   ],
   "source": [
    "# example\n",
    "\n",
    "def smart_div(function):\n",
    "    def new_div(n1,n2):\n",
    "        if n2==0:\n",
    "            return 0\n",
    "        else:\n",
    "            n3=function(n1,n2)\n",
    "            return n3\n",
    "    return new_div\n",
    "\n",
    "@smart_div\n",
    "def div(n1,n2):\n",
    "    n3=n1/n2\n",
    "    return n3\n",
    "\n",
    "num1 = int(input(\"Enter First number \"))\n",
    "num2 = int(input(\"Enter second number \"))\n",
    "num3 = div(num1,num2)\n",
    "print(f'The division of {num1}/{num2}={num3:.2f}')"
   ]
  },
  {
   "cell_type": "code",
   "execution_count": 14,
   "id": "04329073-4235-439e-98cc-e103e83d5c8f",
   "metadata": {},
   "outputs": [
    {
     "name": "stdout",
     "output_type": "stream",
     "text": [
      "**********\n",
      "ABC\n",
      "UDAY\n",
      "PQR\n",
      "JYOSTNA\n",
      "**********\n",
      "**********\n",
      "UDAY\n",
      "KIRAN\n",
      "MANOJ\n",
      "**********\n"
     ]
    }
   ],
   "source": [
    "# example\n",
    "\n",
    "def upper(function):\n",
    "    def print_upper_strings(strings):\n",
    "        print(\"*\"*10)\n",
    "        for s in strings:\n",
    "            print(s.upper())\n",
    "        print(\"*\"*10)\n",
    "    return print_upper_strings\n",
    "    \n",
    "\n",
    "@upper\n",
    "def print_strings(strings):\n",
    "    for s in strings:\n",
    "        print(s)\n",
    "\n",
    "@upper\n",
    "def print_dict_names(keys):\n",
    "    def print_dict_names(keys):\n",
    "        for k in keys:\n",
    "            print(k)\n",
    "print_strings(list1)\n",
    "list1=[\"abc\",\"uday\",\"pqr\",\"jyostna\"]\n",
    "emp_dict={'uday':50000,'kiran':65000,'manoj':45000}\n",
    "print_dict_names(emp_dict.keys())\n"
   ]
  },
  {
   "cell_type": "markdown",
   "id": "2c72d627-9505-46d4-8b89-0647b9918485",
   "metadata": {},
   "source": [
    "## Decorator Chaining\n",
    "\n",
    "Chaining decorators involves applying mutiple decorators to a single function. Python allows you to chain decorators by stacking them on tap of each other, and they are executed from the innermost to the outermost decorator.\n",
    "\n",
    "In python, a decorator is a special construct that allows us to add extra functionality to an existing function or class without modifying its source code. A decorator is a callable that takes another function or class as input and returns a modified version of it."
   ]
  },
  {
   "cell_type": "code",
   "execution_count": 25,
   "id": "e4359fdc-e0f5-413a-83e0-70021391d779",
   "metadata": {},
   "outputs": [
    {
     "name": "stdout",
     "output_type": "stream",
     "text": [
      "$$$$$$$$$$$$$$$$$$$$$$$$$$$$$$\n",
      "******************************\n",
      "Python\n",
      "******************************\n",
      "$$$$$$$$$$$$$$$$$$$$$$$$$$$$$$\n"
     ]
    }
   ],
   "source": [
    "# example\n",
    "\n",
    "def draw_dollars(function):\n",
    "    def display_dollars():\n",
    "        print(\"$\"*30)\n",
    "        function()\n",
    "        print(\"$\"*30)\n",
    "    return display_dollars\n",
    "\n",
    "def draw_stars(function):\n",
    "    def display_stars():\n",
    "        print(\"*\"*30)\n",
    "        function()\n",
    "        print(\"*\"*30)\n",
    "    return display_stars\n",
    "\n",
    "@draw_dollars\n",
    "@draw_stars\n",
    "def display():\n",
    "    print(\"Python\")\n",
    "display()"
   ]
  },
  {
   "cell_type": "markdown",
   "id": "420cccc2-63b8-42c6-bb00-f217bae37b06",
   "metadata": {},
   "source": [
    "### Closures\n",
    "\n",
    "A closure in python is a function object that remembers values in enclosing scopes even if they are not present in memory.\n",
    "\n",
    "-> It is a record that stors a function together with an environment: a mapping associating each free variable of the function (variables that are used locally but defined in an enclosing scope) with the value or reference to which the name was bound when the closure was created.\n",
    "\n",
    "-> A closure--unlike a plain function-- allows the function to access those captured variables through the closure's copies of their values or references, even when the function is invoked outside their scope.\n",
    "\n",
    "Closure is inner function which uses data of outer function to peform operations even outer function execution completed.\n",
    "\n",
    "Closures avoid using global variables."
   ]
  },
  {
   "cell_type": "code",
   "execution_count": 26,
   "id": "c4e67f8d-80b4-4733-a503-912049114fe2",
   "metadata": {},
   "outputs": [
    {
     "name": "stdout",
     "output_type": "stream",
     "text": [
      "15\n"
     ]
    }
   ],
   "source": [
    "def closure():\n",
    "    a=10\n",
    "    b=5\n",
    "    def add():\n",
    "        return a+b\n",
    "    return add\n",
    "\n",
    "c=closure()\n",
    "result=c()\n",
    "print(result)"
   ]
  },
  {
   "cell_type": "code",
   "execution_count": 27,
   "id": "2f28d851-abc3-45c2-8b73-75584bfbc5c8",
   "metadata": {},
   "outputs": [
    {
     "name": "stdout",
     "output_type": "stream",
     "text": [
      "25 125\n"
     ]
    }
   ],
   "source": [
    "# example\n",
    "\n",
    "def power(num):\n",
    "    def find_power(p):\n",
    "        return num**p\n",
    "    return find_power\n",
    "\n",
    "p5=power(5)\n",
    "res1=p5(2)\n",
    "res2=p5(3)\n",
    "print(res1,res2)"
   ]
  }
 ],
 "metadata": {
  "kernelspec": {
   "display_name": "Python 3 (ipykernel)",
   "language": "python",
   "name": "python3"
  },
  "language_info": {
   "codemirror_mode": {
    "name": "ipython",
    "version": 3
   },
   "file_extension": ".py",
   "mimetype": "text/x-python",
   "name": "python",
   "nbconvert_exporter": "python",
   "pygments_lexer": "ipython3",
   "version": "3.12.0"
  }
 },
 "nbformat": 4,
 "nbformat_minor": 5
}
