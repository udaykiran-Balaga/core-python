{
 "cells": [
  {
   "cell_type": "markdown",
   "id": "9888f417-77a5-4e73-b7e6-9f952e3891bd",
   "metadata": {},
   "source": [
    "# Function with parameters or arguments"
   ]
  },
  {
   "cell_type": "markdown",
   "id": "57165f48-c250-452f-9481-30d5630c126c",
   "metadata": {},
   "source": [
    "Functions with parameters recieves values from caller (or) if a function required input to perform operation, it must be defined with parameters.\n",
    "\n",
    "parameters are local which receive values.\n",
    "\n",
    "Python allows defining functions with 3 types of parameters/arguments\n",
    "\n",
    "1. Function with required arguments.\n",
    "\n",
    "   a. Function with required positional arguments.\n",
    "\n",
    "   b. Function with required keyword arguments.\n",
    "   \n",
    "3. Functions with default arguments\n",
    "    \n",
    "4. Function with variable length arguments/arbitrary arguments.\n",
    "\n",
    "   a. Function with variable length positional arguments.\n",
    "   \n",
    "   b. Function with variable length keyword arguments."
   ]
  },
  {
   "cell_type": "markdown",
   "id": "4dfc9eb2-a8c7-4e4e-8a01-e1a6a34bccb3",
   "metadata": {},
   "source": [
    "## Function with required arguments\n",
    "\n",
    "Function with required arguments required values at the time of  calling or invoking function.\n",
    "\n",
    "Based on the values sending to the function, these required arguments are two types.\n",
    " 1. Required positional arguments.\n",
    " 2. Required keyword arguments."
   ]
  },
  {
   "cell_type": "markdown",
   "id": "9f7d5346-f0b0-4e24-b85b-6f7e78f92606",
   "metadata": {},
   "source": [
    "def function-name(parameter1,parameters2,….):\n",
    "\n",
    "    statement-1\n",
    "        \n",
    "    statement-2   "
   ]
  },
  {
   "cell_type": "code",
   "execution_count": 4,
   "id": "38f1292e-1425-4dd6-85bf-0f1bfe064cb5",
   "metadata": {},
   "outputs": [
    {
     "name": "stdout",
     "output_type": "stream",
     "text": [
      "10 20\n",
      "100 200\n",
      "900 200\n"
     ]
    }
   ],
   "source": [
    "# example \n",
    "\n",
    "def fun1(a,b):\n",
    "    print(a,b)\n",
    "  \n",
    "fun1(10,20)       # positional arguments\n",
    "fun1(a=100,b=200) # keyword arguments\n",
    "fun1(b=200,a=900)"
   ]
  },
  {
   "cell_type": "markdown",
   "id": "4fa110c0-4521-467e-8961-05ffb0a7191b",
   "metadata": {},
   "source": [
    "### Required positional only arguments\n",
    "\n",
    "If a function is defined with required positional arguments, function must called by sending values using position."
   ]
  },
  {
   "cell_type": "markdown",
   "id": "bb295c2b-80b1-42a5-9284-575b95ab5673",
   "metadata": {},
   "source": [
    "Syntax:\n",
    "def <function-name>(param1,param2,param3,/):\n",
    "\n",
    "    statement-1\n",
    "    \n",
    "    statement-2"
   ]
  },
  {
   "cell_type": "code",
   "execution_count": 5,
   "id": "2b6df305-a586-4f13-a361-16aa1f5640da",
   "metadata": {},
   "outputs": [
    {
     "name": "stdout",
     "output_type": "stream",
     "text": [
      "100 200\n"
     ]
    }
   ],
   "source": [
    "# example\n",
    "\n",
    "def fun2(a,b,/):\n",
    "    print(a,b)\n",
    "\n",
    "fun2(100,200)"
   ]
  },
  {
   "cell_type": "markdown",
   "id": "0d1d4a4d-398d-46f1-8da9-527fc21c6663",
   "metadata": {},
   "source": [
    "### Required keyword only arguments\n",
    "\n",
    "If function is defined with keyword only arguments, function must be called by sending values with parameter names/arguments names.t-2"
   ]
  },
  {
   "cell_type": "markdown",
   "id": "824e839d-7213-46f9-bba3-8c3c4a4e37be",
   "metadata": {},
   "source": [
    "Syntax:\n",
    "\n",
    "def <function-name>(*,param1,param2,…):\n",
    "\n",
    "    statement-1\n",
    "    \n",
    "    statement-2"
   ]
  },
  {
   "cell_type": "code",
   "execution_count": 7,
   "id": "37191c7e-d6c4-44c2-83cd-bc261f2aa6c9",
   "metadata": {},
   "outputs": [
    {
     "name": "stdout",
     "output_type": "stream",
     "text": [
      "10 20\n",
      "100 200\n",
      "90 89\n"
     ]
    }
   ],
   "source": [
    "# example\n",
    "\n",
    "def fun3(*,a,b):\n",
    "    print(a,b)\n",
    "\n",
    "def fun4(x,y):\n",
    "    print(x,y)\n",
    "\n",
    "fun3(a=10,b=20)\n",
    "fun4(100,200)\n",
    "fun4(x=90,y=89)"
   ]
  },
  {
   "cell_type": "code",
   "execution_count": 8,
   "id": "64658901-52de-4c19-869a-7a28655422d8",
   "metadata": {},
   "outputs": [
    {
     "ename": "IndentationError",
     "evalue": "expected an indented block after function definition on line 3 (2809017396.py, line 4)",
     "output_type": "error",
     "traceback": [
      "\u001b[1;36m  Cell \u001b[1;32mIn[8], line 4\u001b[1;36m\u001b[0m\n\u001b[1;33m    print(a,b,x,y)\u001b[0m\n\u001b[1;37m    ^\u001b[0m\n\u001b[1;31mIndentationError\u001b[0m\u001b[1;31m:\u001b[0m expected an indented block after function definition on line 3\n"
     ]
    }
   ],
   "source": [
    "# Example\n",
    "\n",
    "def fun5(a,b,/,*,x,y):\n",
    "print(a,b,x,y)\n",
    "fun5(10,20,x=30,y=40)\n",
    "fun5(100,200,x=300,y=400)\n",
    "output\n",
    "10 20 30 40\n",
    "100 200 300 400"
   ]
  },
  {
   "cell_type": "markdown",
   "id": "0a1fc1fd-84cd-4b49-96da-cd7b49568328",
   "metadata": {},
   "source": [
    "The above code generate syntax error because Positional arguments followed by keyword arguments"
   ]
  },
  {
   "cell_type": "code",
   "execution_count": 9,
   "id": "669d04ae-240b-44de-9214-e98f63f10eb3",
   "metadata": {},
   "outputs": [
    {
     "name": "stdout",
     "output_type": "stream",
     "text": [
      "Odd number\n",
      "Even number\n"
     ]
    }
   ],
   "source": [
    "# example\n",
    "\n",
    "def is_even(num):\n",
    "    if num%2==0:\n",
    "        print(f'Even number')\n",
    "    else:\n",
    "        print(f'Odd number')\n",
    "\n",
    "is_even(5)\n",
    "is_even(6)"
   ]
  },
  {
   "cell_type": "code",
   "execution_count": 11,
   "id": "c5adda78-717e-4bed-a484-9252cb4e51bf",
   "metadata": {},
   "outputs": [
    {
     "name": "stdout",
     "output_type": "stream",
     "text": [
      "60\n"
     ]
    }
   ],
   "source": [
    "res=max(10,20,30,50,40,60)\n",
    "print(res)"
   ]
  },
  {
   "cell_type": "markdown",
   "id": "5f368a13-424a-487e-93cd-38cd8ca88c56",
   "metadata": {},
   "source": [
    "### return keyword\n",
    "\n",
    "return is branching statement or keyword in python\n",
    "\n",
    "This statement is used inside function to return value.\n",
    "\n",
    "return statement after returning value, it terminate execution of function\n",
    "\n",
    "return statement is used to return only one value/object"
   ]
  },
  {
   "cell_type": "markdown",
   "id": "884bf1aa-e867-4d68-8f01-74530c7d189b",
   "metadata": {},
   "source": [
    "def <function-name>(param,param,param,…):\n",
    "\n",
    "    statement-1\n",
    "\n",
    "    statement-2"
   ]
  },
  {
   "cell_type": "code",
   "execution_count": 17,
   "id": "cb451c03-dfd7-4c16-93f4-3e2f326dcc7a",
   "metadata": {},
   "outputs": [
    {
     "name": "stdout",
     "output_type": "stream",
     "text": [
      "True\n",
      "True\n",
      "True\n",
      "False\n"
     ]
    }
   ],
   "source": [
    "# example\n",
    "\n",
    "def is_odd(num):\n",
    "    if num%2!=0:\n",
    "        return True\n",
    "    else:\n",
    "        return False\n",
    "\n",
    "\n",
    "def is_prime(num):\n",
    "    c=0\n",
    "    for i in range(1,num+1):\n",
    "        if num%i==0:\n",
    "            c=c+1\n",
    "    return c==2\n",
    "\n",
    "a=is_odd(5)\n",
    "print(a)\n",
    "b=is_odd(7)\n",
    "print(b)\n",
    "c=is_prime(5)\n",
    "print(c)\n",
    "d=is_prime(8)\n",
    "print(d)"
   ]
  },
  {
   "cell_type": "code",
   "execution_count": 20,
   "id": "1c5a279f-cc0c-4455-be5b-49a13d1b1f3f",
   "metadata": {},
   "outputs": [
    {
     "name": "stdout",
     "output_type": "stream",
     "text": [
      "Hello\n",
      "Bye\n",
      "(10, 20, 30, 40, 50)\n",
      "10\n"
     ]
    }
   ],
   "source": [
    "# Example:\n",
    "def fun1():\n",
    "    print(\"Hello\")\n",
    "    return print(\"Bye\")\n",
    "\n",
    "def fun2():\n",
    "    return 10,20,30,40,50\n",
    "def fun3():\n",
    "    return 10\n",
    "    return 20\n",
    "    return 30\n",
    "\n",
    "fun1()\n",
    "x=fun2()\n",
    "print(x)\n",
    "y=fun3()\n",
    "print(y)"
   ]
  },
  {
   "cell_type": "markdown",
   "id": "34b60123-5620-48ac-8290-4e2d8eca53ce",
   "metadata": {},
   "source": [
    "## Type hints\n",
    "\n",
    "Python is a dynamically typed language, which means you never have to explicity indicate what kind of variable it is. But in some cases, dynamic typing can lead to some bugs that are very difficult to debug, and in those cases, Type Hints or static typing can be convenient, Type Hints have been introduced as a new feature in python 3.5"
   ]
  },
  {
   "cell_type": "code",
   "execution_count": 22,
   "id": "2119b26f-bc84-424b-9369-564a9a851973",
   "metadata": {},
   "outputs": [
    {
     "name": "stdout",
     "output_type": "stream",
     "text": [
      "True\n",
      "cba\n",
      "[30, 20, 10]\n"
     ]
    }
   ],
   "source": [
    "# Example:\n",
    "\n",
    "def is_odd(num:int)->bool:\n",
    "    if num%2!=0:\n",
    "        return True\n",
    "    else:\n",
    "        return False\n",
    "def reverse_string(s:str)->str:\n",
    "    s=s[::-1]\n",
    "    return s\n",
    "\n",
    "x=is_odd(5)\n",
    "print(x)\n",
    "y=reverse_string(\"abc\")\n",
    "print(y)\n",
    "z=reverse_string([10,20,30])\n",
    "print(z)"
   ]
  },
  {
   "cell_type": "markdown",
   "id": "3da205c8-d4ef-4b81-91bf-45c99586b005",
   "metadata": {},
   "source": [
    "Functions in python are generic type. Function with parameters receive any type of values and return any type of values. Parameters are not defined with type. Python is dynamically typed language, type of variables are defined based on value assigned."
   ]
  },
  {
   "cell_type": "code",
   "execution_count": 26,
   "id": "c36d14ef-930c-469b-901a-be66e8c0a53b",
   "metadata": {},
   "outputs": [
    {
     "name": "stdout",
     "output_type": "stream",
     "text": [
      "20\n",
      "1.6\n",
      "abc\n",
      "{1, 2, 3, 4, 5}\n"
     ]
    }
   ],
   "source": [
    "def max2(a,b):\n",
    "    if a>b: \n",
    "        return a\n",
    "    else:\n",
    "        return b\n",
    "\n",
    "res1=max2(10,20)\n",
    "res2=max2(1.6,1.4)\n",
    "res3=max2(\"ABC\",\"abc\")\n",
    "res4=max2({1,2,3,4},{1,2,3,4,5})\n",
    "print(res1,res2,res3,res4, sep=\"\\n\")"
   ]
  },
  {
   "cell_type": "markdown",
   "id": "2aa253b0-3cea-40e2-98a3-e2ac4bf2454f",
   "metadata": {},
   "source": [
    "Python does not support pass value. It supports only pass by reference, In pass by reference whenever function is called by sending object, python doesnot send object, it send reference/address of object."
   ]
  },
  {
   "cell_type": "code",
   "execution_count": 27,
   "id": "a397b368-183c-42ad-8eca-78a8abcb2b95",
   "metadata": {},
   "outputs": [
    {
     "name": "stdout",
     "output_type": "stream",
     "text": [
      "[10, 20, 30, 40] 1606689727872\n",
      "1606689727872 [100, 200, 30, 40]\n"
     ]
    }
   ],
   "source": [
    "# example\n",
    "\n",
    "def fun1(a):\n",
    "    print(a,id(a))\n",
    "    a[0]=100\n",
    "    a[1]=200\n",
    "\n",
    "list1=[10,20,30,40]\n",
    "fun1(list1)\n",
    "print(id(list1),list1)"
   ]
  },
  {
   "cell_type": "code",
   "execution_count": 30,
   "id": "77806feb-298f-47cd-a71e-2d2c8e76ce0e",
   "metadata": {},
   "outputs": [
    {
     "name": "stdout",
     "output_type": "stream",
     "text": [
      "Before sorting [5, 3, 6, 2, 4]\n",
      "After sorting [2, 3, 4, 5, 6]\n",
      "Before append []\n",
      "After append [10, 20]\n"
     ]
    }
   ],
   "source": [
    "# example\n",
    "\n",
    "# pass by reference\n",
    "\n",
    "def sort_list(a):\n",
    "    for i in range(len(a)):\n",
    "        for j in range(len(a)-1):\n",
    "            if a[j]>a[j+1]:\n",
    "                a[j],a[j+1]=a[j+1],a[j]\n",
    "def append_data(a):\n",
    "    a.append(10)\n",
    "    a.append(20)\n",
    "\n",
    "list1=[5,3,6,2,4]\n",
    "print(f'Before sorting {list1}')\n",
    "sort_list(list1)\n",
    "print(f'After sorting {list1}')\n",
    "list2=[]\n",
    "print(f'Before append {list2}')\n",
    "append_data(list2)\n",
    "print(f'After append {list2}')"
   ]
  },
  {
   "cell_type": "code",
   "execution_count": 32,
   "id": "6d8a7b05-5ce6-404c-9e6e-7a57e67cfb3c",
   "metadata": {},
   "outputs": [
    {
     "name": "stdout",
     "output_type": "stream",
     "text": [
      "Even count 5\n",
      "Odd count 5\n"
     ]
    }
   ],
   "source": [
    "# example\n",
    "\n",
    "def count_even(a):\n",
    "    c=0\n",
    "    for value in a:\n",
    "        if value%2==0:\n",
    "            c=c+1\n",
    "    return c\n",
    "def count_odd(a):\n",
    "    c=0\n",
    "    for value in a:\n",
    "        if value%2!=0:\n",
    "            c=c+1\n",
    "    return c\n",
    "\n",
    "list1=[1,2,3,4,5,6,7,8,9,10]\n",
    "res1=count_even(list1)\n",
    "res2=count_odd(list1)\n",
    "print(f'Even count {res1}')\n",
    "print(f'Odd count {res2}')\n"
   ]
  },
  {
   "cell_type": "markdown",
   "id": "fc80d39b-5355-4306-9c81-f4db89d070d6",
   "metadata": {},
   "source": [
    "### Function with default parameters or arguments or optional arguments\n",
    "\n",
    "Function with default parameters, does not required values at the time of calling or invoking function. Default parameters are given values at the time of writing or defining function."
   ]
  },
  {
   "cell_type": "markdown",
   "id": "dffe4590-69ee-4155-b0f3-ee1596019853",
   "metadata": {},
   "source": [
    "`syntax`"
   ]
  },
  {
   "cell_type": "markdown",
   "id": "2cada89b-d345-4cbe-847e-96ab0a7f91bb",
   "metadata": {},
   "source": [
    "def <function-name>(req-param,req-param,def-param=value,def-param=value,…):\n",
    "    \n",
    "    statement-1\n",
    "    \n",
    "    statement-2"
   ]
  },
  {
   "cell_type": "code",
   "execution_count": 33,
   "id": "a02e5170-baea-42f4-82a7-07b80c8da36f",
   "metadata": {},
   "outputs": [
    {
     "name": "stdout",
     "output_type": "stream",
     "text": [
      "10 30\n",
      "90 0\n"
     ]
    }
   ],
   "source": [
    "# example\n",
    "\n",
    "def fun1(a,b=0):\n",
    "    print(a,b)\n",
    "\n",
    "fun1(10,30)\n",
    "fun1(90)"
   ]
  },
  {
   "cell_type": "code",
   "execution_count": 36,
   "id": "3ac27987-b28d-426f-b0ec-2edb34ea0c03",
   "metadata": {},
   "outputs": [
    {
     "name": "stdout",
     "output_type": "stream",
     "text": [
      "* * * * * * * * * * \n",
      "PYTHON\n",
      "@ @ @ @ @ @ @ @ @ @ \n",
      "LANGUAGE\n",
      "* * * * * * * * * * \n"
     ]
    }
   ],
   "source": [
    "def draw_line(size,char=\"*\"):\n",
    "    for i in range(size):\n",
    "        print(char,end=' ')\n",
    "    print()\n",
    "\n",
    "draw_line(10)\n",
    "print(\"PYTHON\")\n",
    "draw_line(10,\"@\")\n",
    "print(\"LANGUAGE\")\n",
    "draw_line(10)"
   ]
  },
  {
   "cell_type": "code",
   "execution_count": 49,
   "id": "59497311-8e47-46b7-be55-f2ebe0b644e3",
   "metadata": {},
   "outputs": [
    {
     "name": "stdout",
     "output_type": "stream",
     "text": [
      "Before Sorting [4, 6, 3, 2, 7, 1]\n",
      "After sorting in ascending order [1, 2, 3, 4, 6, 7]\n",
      "After sorting in descending order [7, 6, 4, 3, 2, 1]\n"
     ]
    }
   ],
   "source": [
    "# example\n",
    "\n",
    "def sort_list(a,reverse=False):\n",
    "    if reverse:\n",
    "        for i in range(len(a)):\n",
    "            for j in range(len(a)-1):\n",
    "                if a[j]<a[j+1]:\n",
    "                    a[j],a[j+1]=a[j+1],a[j]\n",
    "                    \n",
    "    else:\n",
    "        for i in range(len(a)):\n",
    "            for j in range(len(a)-1):\n",
    "                if a[j]>a[j+1]:\n",
    "                    a[j],a[j+1]=a[j+1],a[j]\n",
    "\n",
    "list1=[4,6,3,2,7,1]\n",
    "print(f\"Before Sorting {list1}\")\n",
    "sort_list(list1)\n",
    "print(f\"After sorting in ascending order {list1}\")\n",
    "sort_list(list1,reverse=True)\n",
    "print(f\"After sorting in descending order {list1}\")"
   ]
  },
  {
   "cell_type": "markdown",
   "id": "77ab42fe-2d78-4a17-92ac-c760f8e2a3e2",
   "metadata": {},
   "source": [
    "### Function with variable length or arbitrary arguments\n",
    "\n",
    "A function with variable length parameter receives 0 or more values.\n",
    "\n",
    "python allows defining two types of variable length arguments/parameters.\n",
    "\n",
    "1. Positional variables length arguments (or) variable length positional arguments.\n",
    "\n",
    "2. Keyword variable length arguments (or) variable length keyword arguments."
   ]
  },
  {
   "cell_type": "markdown",
   "id": "028c7698-a351-4e18-a36c-a53191d90856",
   "metadata": {},
   "source": [
    "### variable length positional arguments\n",
    "\n",
    "If function is defined with variable length positional arguments it stores the value inside the argument using postional. Variable length argument is prefix with *. A function is defined with one variable length argument. Variable length argument is of type tuple."
   ]
  },
  {
   "cell_type": "markdown",
   "id": "e030da51-4fb6-4c09-915d-19575c625359",
   "metadata": {},
   "source": [
    "Syntax:\n",
    "\n",
    "def <function-name>(*vargs):\n",
    "\n",
    "    statement-1\n",
    "    \n",
    "    statement-2"
   ]
  },
  {
   "cell_type": "code",
   "execution_count": 3,
   "id": "90c0d7e0-0490-47f4-8aee-22641dd2be34",
   "metadata": {},
   "outputs": [
    {
     "name": "stdout",
     "output_type": "stream",
     "text": [
      "<class 'tuple'> 0 ()\n",
      "<class 'tuple'> 1 (10,)\n",
      "<class 'tuple'> 5 (10, 20, 30, 40, 50)\n",
      "<class 'tuple'> 4 (1, 'Naresh', (1+2j), True)\n"
     ]
    }
   ],
   "source": [
    "def fun1(*vargs):\n",
    "    print(type(vargs),len(vargs),vargs)\n",
    "\n",
    "fun1()\n",
    "fun1(10)\n",
    "fun1(10,20,30,40,50)\n",
    "fun1(1,\"Naresh\",1+2j,True)"
   ]
  },
  {
   "cell_type": "code",
   "execution_count": 4,
   "id": "b3597817-eb55-49dd-93b6-6cdbe1547686",
   "metadata": {},
   "outputs": [
    {
     "name": "stdout",
     "output_type": "stream",
     "text": [
      "0\n",
      "30\n",
      "150\n",
      "67.5\n"
     ]
    }
   ],
   "source": [
    "# example\n",
    "\n",
    "def sum_of_numbers(*vargs):\n",
    "    s=0\n",
    "    for value in vargs:\n",
    "        s=s+value\n",
    "    return s\n",
    "res1 = sum_of_numbers()\n",
    "print(res1)\n",
    "res2=sum_of_numbers(10,20)\n",
    "print(res2)\n",
    "res3=sum_of_numbers(10,20,30,40,50)\n",
    "print(res3)\n",
    "res4=sum_of_numbers(10,1.5,2.5,3.5,20,30)\n",
    "print(res4)"
   ]
  },
  {
   "cell_type": "code",
   "execution_count": 7,
   "id": "d30ae5ad-ab94-46dc-9e49-ec3d77d9da3e",
   "metadata": {},
   "outputs": [
    {
     "name": "stdout",
     "output_type": "stream",
     "text": [
      "0b11b011\n",
      "0b10b001\n"
     ]
    }
   ],
   "source": [
    "# example\n",
    "\n",
    "def binary(num):\n",
    "    s1=''\n",
    "    while True:\n",
    "        r=num%2\n",
    "        s1=s1+str(r)\n",
    "        num=num//2\n",
    "        if num==1 or num==0:\n",
    "            s1=s1+str(num)\n",
    "            break\n",
    "        s1='0b'+s1[::-1]\n",
    "    return s1\n",
    "\n",
    "res=binary(15)\n",
    "print(res)\n",
    "res=binary(10)\n",
    "print(res)"
   ]
  },
  {
   "cell_type": "markdown",
   "id": "605848d1-cb72-49a0-a704-db95014aa8b7",
   "metadata": {},
   "source": [
    "### variable length keyword arguments\n",
    "\n",
    "Variable length keyword argument receive key and values.\n",
    "\n",
    "Variable length keyword arguments are of type dictionary.\n",
    "\n",
    "This argument is prefix with **\n",
    "\n",
    "A function is define with one variable length keyword arguments."
   ]
  },
  {
   "cell_type": "markdown",
   "id": "1686b526-49ec-42f6-a4df-982c46bee3bd",
   "metadata": {},
   "source": [
    "Syntax:\n",
    "\n",
    "def <function-name>(**kwargs):\n",
    "\n",
    "    statement-1\n",
    "\n",
    "    statement-2"
   ]
  },
  {
   "cell_type": "code",
   "execution_count": 10,
   "id": "58ff7def-59fd-4096-bc0f-6684bc942b54",
   "metadata": {},
   "outputs": [
    {
     "name": "stdout",
     "output_type": "stream",
     "text": [
      "{'a': 10, 'b': 20} <class 'dict'>\n",
      "{} <class 'dict'>\n",
      "{'rollno': 1, 'name': 'uday', 'course': 'python', 'fee': 5000.0} <class 'dict'>\n"
     ]
    }
   ],
   "source": [
    "# example\n",
    "\n",
    "def fun1(**kwargs):\n",
    "    print(kwargs, type(kwargs))\n",
    "\n",
    "fun1(a=10,b=20)\n",
    "fun1()\n",
    "fun1(rollno=1,name='uday',course='python',fee=5000.0)"
   ]
  },
  {
   "cell_type": "code",
   "execution_count": 8,
   "id": "c00017db-b6f9-45ca-b636-633211b8336a",
   "metadata": {},
   "outputs": [
    {
     "name": "stdout",
     "output_type": "stream",
     "text": [
      "150 150 150\n"
     ]
    }
   ],
   "source": [
    "# Example\n",
    "\n",
    "def add(*vargs,**kwargs):\n",
    "    s=0\n",
    "    for value in vargs:\n",
    "        s+=value\n",
    "    for value in kwargs.values():\n",
    "        s+=value\n",
    "    return s\n",
    "res1=add(10,20,30,40,50)\n",
    "res2=add(a=10,b=20,c=30,d=40,e=50)\n",
    "res3=add(10,20,30,a=40,b=50)\n",
    "print(res1,res2,res3)"
   ]
  },
  {
   "cell_type": "code",
   "execution_count": 12,
   "id": "60994e91-dd16-455a-a45c-64283c6bd3fa",
   "metadata": {},
   "outputs": [
    {
     "name": "stdout",
     "output_type": "stream",
     "text": [
      "uday--->python\n",
      "manoj--->embedded system\n",
      "jyostna--->java\n",
      "kiran--->c\n"
     ]
    }
   ],
   "source": [
    "# example\n",
    "\n",
    "def display_dict(**kwargs):\n",
    "    for key,value in kwargs.items():\n",
    "        print(f'{key}--->{value}')\n",
    "stud_dict={'uday':'python','manoj':'embedded system','jyostna':'java','kiran':'c'}\n",
    "display_dict(**stud_dict)"
   ]
  }
 ],
 "metadata": {
  "kernelspec": {
   "display_name": "Python 3 (ipykernel)",
   "language": "python",
   "name": "python3"
  },
  "language_info": {
   "codemirror_mode": {
    "name": "ipython",
    "version": 3
   },
   "file_extension": ".py",
   "mimetype": "text/x-python",
   "name": "python",
   "nbconvert_exporter": "python",
   "pygments_lexer": "ipython3",
   "version": "3.12.0"
  }
 },
 "nbformat": 4,
 "nbformat_minor": 5
}
