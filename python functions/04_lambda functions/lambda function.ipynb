{
 "cells": [
  {
   "cell_type": "markdown",
   "id": "79151880-dd5c-4289-8256-1edc1ffc1b7a",
   "metadata": {},
   "source": [
    "# Lambda functions or lambda expressions or Anonymous functions\n",
    "\n",
    "Lambda function is anonymous function.\n",
    "\n",
    "A function which does not have name is called lambda function or anonymous function.\n",
    "\n",
    "Lambda functions are used with higher order functions.\n",
    "\n",
    "A function which receives input as another function is called higher order function.\n",
    "\n",
    "Lambda functions are inline function or single line function which are having only one statement."
   ]
  },
  {
   "cell_type": "markdown",
   "id": "619fc32f-d5dc-4b28-96e7-de3b85099b83",
   "metadata": {},
   "source": [
    "Lambda function is defined,\n",
    "\n",
    "1. with parameters\n",
    "\n",
    "2. without parameters"
   ]
  },
  {
   "cell_type": "code",
   "execution_count": 1,
   "id": "532fe805-6e5f-4c26-8504-7f962f85106f",
   "metadata": {},
   "outputs": [
    {
     "name": "stdout",
     "output_type": "stream",
     "text": [
      "Hello Python\n",
      "Hello Python\n",
      "Hello Python\n",
      "Hello Python\n"
     ]
    }
   ],
   "source": [
    "# without parameters\n",
    "\n",
    "a=lambda:print(\"Hello Python\")\n",
    "a()\n",
    "a()\n",
    "a()\n",
    "a()"
   ]
  },
  {
   "cell_type": "code",
   "execution_count": 2,
   "id": "13638f4f-b6ff-4e84-bb30-4e90c6a81604",
   "metadata": {},
   "outputs": [
    {
     "name": "stdout",
     "output_type": "stream",
     "text": [
      "30\n"
     ]
    }
   ],
   "source": [
    "# with parameters\n",
    "\n",
    "add=lambda a,b:a+b\n",
    "res=add(10,20)\n",
    "print(res)"
   ]
  },
  {
   "cell_type": "markdown",
   "id": "4bb66bba-a921-4068-a94a-fdb7123587c6",
   "metadata": {},
   "source": [
    "# filter(function,iterable)\n",
    "\n",
    "Construct an iterator from those elements of iterable for which function is true, iterator may be a sequence, a container which supports iteration, or an iterator. if function is None, the identity function is assumed that is all elements of iterable that aare false are removed."
   ]
  },
  {
   "cell_type": "code",
   "execution_count": 4,
   "id": "58b36b7c-cdfb-4653-ab71-9f44e85f7896",
   "metadata": {},
   "outputs": [
    {
     "name": "stdout",
     "output_type": "stream",
     "text": [
      "1 9 3 5 11 25 29 9 35 67 97 53 35 63 "
     ]
    }
   ],
   "source": [
    "# example on odd numbers\n",
    "\n",
    "list1=[1,6,8,9,3,5,11,25,29,9,12,35,67,97,53,35,76,63]\n",
    "\n",
    "a= filter(lambda num:num%2!=0,list1)\n",
    "for value in a:\n",
    "    print(value,end=' ')"
   ]
  },
  {
   "cell_type": "code",
   "execution_count": 5,
   "id": "b73688be-5ceb-4646-a694-164e58d82dfb",
   "metadata": {},
   "outputs": [
    {
     "name": "stdout",
     "output_type": "stream",
     "text": [
      "6 8 12 76 "
     ]
    }
   ],
   "source": [
    "# examole on even numbers\n",
    "\n",
    "list1=[1,6,8,9,3,5,11,25,29,9,12,35,67,97,53,35,76,63]\n",
    "\n",
    "b=filter(lambda num:num%2==0,list1)\n",
    "for value in b:\n",
    "    print(value,end=' ')"
   ]
  },
  {
   "cell_type": "markdown",
   "id": "cab54669-d042-4356-801e-bbcdaea1c3b1",
   "metadata": {},
   "source": [
    "# map(function,iterable,*iterables)\n",
    "\n",
    "Return an iterator that applies function to every item of iterable, yielding the\n",
    "results. If additional iterables arguments are passed, function must take\n",
    "that many arguments and is applied to the items from all iterables in\n",
    "parallel. With multiple iterables, the iterator stops when the shortest iterable\n",
    "is exhausted."
   ]
  },
  {
   "cell_type": "code",
   "execution_count": 8,
   "id": "b31df6d2-ac4f-420c-bf64-28049c2836aa",
   "metadata": {},
   "outputs": [
    {
     "name": "stdout",
     "output_type": "stream",
     "text": [
      "[11, 22, 33, 44, 55]\n"
     ]
    }
   ],
   "source": [
    "#Example\n",
    "list1=[1,2,3,4,5]\n",
    "list2=[10,20,30,40,50]\n",
    "list3=list(map(lambda a,b:a+b ,list1,list2))\n",
    "print(list3)"
   ]
  },
  {
   "cell_type": "code",
   "execution_count": 9,
   "id": "bee74d8d-1ad7-41ad-aa5a-4267cc0ff697",
   "metadata": {},
   "outputs": [
    {
     "name": "stdout",
     "output_type": "stream",
     "text": [
      "['1', '2', '3', '4', '5']\n"
     ]
    }
   ],
   "source": [
    "list4=list(map(lambda a:str(a),list1))\n",
    "print(list4)"
   ]
  },
  {
   "cell_type": "markdown",
   "id": "09352af1-4144-4c91-a02a-3e5db5ca481f",
   "metadata": {},
   "source": [
    "# functools.reduce(function,iterable,[initializer])\n",
    "\n",
    "Apply function of two arguments cumulatively to the items of iterable, from\r\n",
    "left to right, so as to reduce the iterable to a single value. For\r\n",
    "example, reduce(lambda x, y: x+y, [1, 2, 3, 4, 5]) calculates ((((1+2)+3)+4)+\r\n",
    "5). The left argument, x, is the accumulated value and the right\r\n",
    "argument, y, is the update value from the iterable. If the\r\n",
    "optional initializer is present, it is placed before the items of the iterable in\r\n",
    "the calculation, and serves as a default when the iterable is empty.\r\n",
    "If initializer is not given and iterable contains only one item, the first item is\r\n",
    "returned."
   ]
  },
  {
   "cell_type": "code",
   "execution_count": 10,
   "id": "7c67a602-6e64-4cd0-a0c0-194523c0d5fe",
   "metadata": {},
   "outputs": [
    {
     "name": "stdout",
     "output_type": "stream",
     "text": [
      "55\n"
     ]
    }
   ],
   "source": [
    "# example\n",
    "\n",
    "import functools\n",
    "\n",
    "list1=[1,2,3,4,5,6,7,8,9,10]\n",
    "res=functools.reduce(lambda a,b:a+b,list1)\n",
    "print(res)"
   ]
  },
  {
   "cell_type": "code",
   "execution_count": 11,
   "id": "4ad62e7b-a11a-4fc8-b42e-0bd9d8bf696f",
   "metadata": {},
   "outputs": [
    {
     "name": "stdout",
     "output_type": "stream",
     "text": [
      "10 1\n"
     ]
    }
   ],
   "source": [
    "import functools\n",
    "list1=[1,2,3,4,5,6,7,8,9,10]\n",
    "res1=functools.reduce(lambda a,b:a if a>b else b,list1)\n",
    "res2=functools.reduce(lambda a,b:a if a<b else b,list1)\n",
    "print(res1,res2)"
   ]
  }
 ],
 "metadata": {
  "kernelspec": {
   "display_name": "Python 3 (ipykernel)",
   "language": "python",
   "name": "python3"
  },
  "language_info": {
   "codemirror_mode": {
    "name": "ipython",
    "version": 3
   },
   "file_extension": ".py",
   "mimetype": "text/x-python",
   "name": "python",
   "nbconvert_exporter": "python",
   "pygments_lexer": "ipython3",
   "version": "3.12.0"
  }
 },
 "nbformat": 4,
 "nbformat_minor": 5
}
