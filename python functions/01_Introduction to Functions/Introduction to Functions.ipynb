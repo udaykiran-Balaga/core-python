{
 "cells": [
  {
   "cell_type": "markdown",
   "id": "c9aad1df-629e-4a53-8631-285e772863da",
   "metadata": {},
   "source": [
    "# Functions"
   ]
  },
  {
   "cell_type": "markdown",
   "id": "983de300-1404-4ee8-8b31-3879bc22ab0c",
   "metadata": {},
   "source": [
    "Python is a multi paradigm programming language. A programming paradigm defines set of rules and regulations for writing programs."
   ]
  },
  {
   "cell_type": "markdown",
   "id": "c4708ece-a741-406c-9308-5f9fc087346d",
   "metadata": {},
   "source": [
    "Types of programming paradigms\n",
    "\n",
    "1. Procedural Oriented Programming (POP)\n",
    "   \n",
    "2. Modular Oriented Programming (MOP)\n",
    "\n",
    "3. Functional Oriented Programming (FOP)\n",
    "\n",
    "4. Object Oriented Programming (OOP) "
   ]
  },
  {
   "cell_type": "markdown",
   "id": "76e38ee5-7ef7-468c-98f1-cc79d16420a1",
   "metadata": {},
   "source": [
    "## Procedural Oriented Programming \n",
    "\n",
    "In procedural oriented programming, code is organized by dividing according their operations into small pieces called sub routines.\n",
    "\n",
    "These sub routines can be procedures or functions.Functions are building blocks of procedural oriented programming."
   ]
  },
  {
   "cell_type": "markdown",
   "id": "f6f3a914-0260-4cae-9885-3ccf4e07fcff",
   "metadata": {},
   "source": [
    "# What is function?\n",
    "\n",
    "A function is small program inside program.\n",
    "\n",
    "A function is self contained block, which contains set of instructions to perform operations.\n",
    "\n",
    "A function is named block."
   ]
  },
  {
   "cell_type": "markdown",
   "id": "3f5b209f-3ad5-4b91-bd23-16182d881adc",
   "metadata": {},
   "source": [
    "**Advantage of functions**\n",
    "\n",
    "1.\t`Reusability`: Functions allows writing code once and using many times.\n",
    "\n",
    "2.\t`Efficiency`: functions decrease the size of the program, hence it increases efficiency.\n",
    "\n",
    "3.\t`Modularity`: dividing programming instructions according to their operations into small pieces.\n",
    "\n",
    "4.\t`Readability`: Easy to maintain and understand"
   ]
  },
  {
   "cell_type": "markdown",
   "id": "b0b03b42-7f8c-444c-88aa-55fa42b3924c",
   "metadata": {},
   "source": [
    "**Types of functions**\n",
    "\n",
    "Functions are two types\n",
    "\n",
    "1.\tPredefined functions\n",
    "\n",
    "2.\tUser defined functions"
   ]
  },
  {
   "cell_type": "markdown",
   "id": "b03bf111-4725-4885-8c6a-dd30690bcc16",
   "metadata": {},
   "source": [
    "**Predefined functions**\n",
    "\n",
    "The functions provided by python or third party vendor are called predefined functions. These functions are called library functions.\n",
    "\n",
    "`Example`: print(), input(), chr(), ord(),int(),float(),hex(),oct(),…\n",
    "\n",
    "**User defined functions**\n",
    "\n",
    "The functions written by programmer are called user defined functions. These are application specific functions.\n"
   ]
  },
  {
   "cell_type": "markdown",
   "id": "dc6665f4-b423-40a9-b7b6-bd7e0e1604be",
   "metadata": {},
   "source": [
    "**Basic steps for working with functions**\n",
    "\n",
    "1.\tDefine function\n",
    "\n",
    "2.\tInvoke function"
   ]
  },
  {
   "cell_type": "markdown",
   "id": "e96ee1d2-cf05-4fc6-a601-ea0af2f615f4",
   "metadata": {},
   "source": [
    "**Define function**\n",
    "  \n",
    "Defining function is nothing but writing definition of function."
   ]
  },
  {
   "cell_type": "markdown",
   "id": "1ec46812-ea28-4eb9-8293-376d950eb0a9",
   "metadata": {},
   "source": [
    "`def` keyword is used for writing function or definition function\n",
    "\n",
    "Syntax:\n",
    "\n",
    "def <function-name>([parameters]):\n",
    "\n",
    "\t‘’’doc string’’’\n",
    "\n",
    "\tstatement-1\n",
    "\n",
    "\tstatement-2\n"
   ]
  },
  {
   "cell_type": "markdown",
   "id": "a387e6c5-b393-4802-8936-df5a25ddc772",
   "metadata": {},
   "source": [
    "A function can be defined,\n",
    "\n",
    "1.\tFunction without parameters without return value\n",
    "\n",
    "2.\tFunction without parameters with return value\n",
    "\n",
    "3.\tFunction with parameters without return value\n",
    "\n",
    "4.\tFunction with parameters with return value"
   ]
  },
  {
   "cell_type": "markdown",
   "id": "dc90f967-c7ce-4868-9e15-f10e13199269",
   "metadata": {},
   "source": [
    "A function with parameters/arguments receives values.\n",
    "\n",
    "A function without parameters/arguments does not receives values"
   ]
  },
  {
   "cell_type": "code",
   "execution_count": 8,
   "id": "dcb3ed62-6fc1-4f54-9317-6988b8916833",
   "metadata": {},
   "outputs": [
    {
     "name": "stdout",
     "output_type": "stream",
     "text": [
      "Hello Pythonist\n",
      "Bye Pythonist\n"
     ]
    }
   ],
   "source": [
    "# Example\n",
    "\n",
    "# function without parameters\n",
    "\n",
    "def sayhello():\n",
    "    print(\"Hello Pythonist\")\n",
    "def saybye():\n",
    "    print(\"Bye Pythonist\")\n",
    "\n",
    "#main\n",
    "sayhello() # invoking function/calling function\n",
    "saybye() # involing function/calling function"
   ]
  },
  {
   "cell_type": "markdown",
   "id": "8f01e860-0fd4-4648-905d-4a1a748a3815",
   "metadata": {},
   "source": [
    "## Local Variables\n",
    "\n",
    "A variable created inside function or a variable declared inside function is called local variable. Local variables memory is allocated within function context(space). The scope of these variables are within function and life time of these variables are until execution of function.\n",
    "\n",
    "Local variables memory is allocated when function is called and de-allocated after execution of function.\n",
    "\n",
    "Whenever function is called, the execution control switched from calling place to called function and after execution of function it returns calling place."
   ]
  },
  {
   "cell_type": "code",
   "execution_count": 3,
   "id": "7ae1083b-72c3-4fa0-b0d8-7c7282875274",
   "metadata": {},
   "outputs": [
    {
     "name": "stdout",
     "output_type": "stream",
     "text": [
      "100\n",
      "200\n"
     ]
    }
   ],
   "source": [
    "# Example\n",
    "\n",
    "def fun1():\n",
    "    x=100 # Local variable\n",
    "    y=200 # Local variable\n",
    "    print(x)\n",
    "    print(y)\n",
    "\n",
    "fun1()"
   ]
  },
  {
   "cell_type": "code",
   "execution_count": 6,
   "id": "84a8a66e-06c8-4413-b369-207720a58eae",
   "metadata": {},
   "outputs": [
    {
     "name": "stdin",
     "output_type": "stream",
     "text": [
      "Enter value of n1  5\n",
      "Enter value of n2  8\n"
     ]
    },
    {
     "name": "stdout",
     "output_type": "stream",
     "text": [
      "sum of 5 and 8 is 13\n"
     ]
    }
   ],
   "source": [
    "# Example\n",
    "\n",
    "def add():\n",
    "    n1=int(input(\"Enter value of n1 \")) # Local Variable\n",
    "    n2=int(input(\"Enter value of n2 \")) # Local variable\n",
    "    n3=n1+n2 # local variable\n",
    "    print(f'sum of {n1} and {n2} is {n3}')\n",
    "add()"
   ]
  },
  {
   "cell_type": "markdown",
   "id": "ac6589bf-bf60-4ac4-8e66-23f05061167a",
   "metadata": {},
   "source": [
    "##  Global Variables\n",
    "\n",
    "A variable created outside the function is called global variable. Global variables are used by one more than one function (or) in order to share data between number of functions we declare global variables.\n",
    "\n",
    "The life time global variables are until execution program. Once the program execution is completed these variables deleted from memory.\n",
    "\n",
    "Global variables memory is allocated when program is executed.\n",
    "\n",
    "Global variable memory is allocated with in global namespace."
   ]
  },
  {
   "cell_type": "code",
   "execution_count": 9,
   "id": "aa73a11a-9817-433c-ab50-991766f41051",
   "metadata": {},
   "outputs": [
    {
     "name": "stdout",
     "output_type": "stream",
     "text": [
      "Inside fun1\n",
      "200,100\n",
      "inside fun2\n",
      "200,100\n"
     ]
    }
   ],
   "source": [
    "x=200\n",
    "y=100\n",
    "def fun1():\n",
    "    print(\"Inside fun1\")\n",
    "    print(x,y,sep=',')\n",
    "def fun2():\n",
    "    print(\"inside fun2\")\n",
    "    print(x,y,sep=',')\n",
    "fun1()\n",
    "fun2()"
   ]
  },
  {
   "cell_type": "markdown",
   "id": "448ca73b-e5a2-4605-a24d-eb46144d88b3",
   "metadata": {},
   "source": [
    "# example\n",
    "\n",
    "def add():\n",
    "    print(f'sum of {n1}+{n2}={n1+n2}')\n",
    "def sub():\n",
    "    print(f'diff of {n1}-{n2}={n1-n2}')\n",
    "def multiply():\n",
    "    print(f'product of {n1}*{n2}={n1*n2}')\n",
    "def div():\n",
    "    print(f'division of {n1}/{n2}={n1/n2}')\n",
    "\n",
    "n1=int(input(\"enter number of n1 \"))\n",
    "n2=int(input(\"enter number of n2 \"))\n",
    "\n",
    "add()\n",
    "sub()\n",
    "multiply()\n",
    "div()"
   ]
  },
  {
   "cell_type": "code",
   "execution_count": 12,
   "id": "192d40c3-f51a-47d3-924f-7bf9a0560c03",
   "metadata": {},
   "outputs": [
    {
     "name": "stdout",
     "output_type": "stream",
     "text": [
      "local variable x=200\n",
      "global variable x=100\n"
     ]
    }
   ],
   "source": [
    "# Example\n",
    "x=100 # G.V\n",
    "\n",
    "def fun1():\n",
    "    x=200   # L.V\n",
    "    print(f'local variable x={x}')\n",
    "\n",
    "def fun2():\n",
    "    print(f'global variable x={x}')\n",
    "    \n",
    "fun1()\n",
    "fun2()"
   ]
  },
  {
   "cell_type": "markdown",
   "id": "e15fdf3f-7f13-438b-8804-add6c242b8a3",
   "metadata": {},
   "source": [
    "A function can access global variable directly but cannot modify or assign value directly."
   ]
  },
  {
   "cell_type": "markdown",
   "id": "064bf831-766a-45db-baee-0eecfe31234e",
   "metadata": {},
   "source": [
    "## global keyword"
   ]
  },
  {
   "cell_type": "markdown",
   "id": "72e3231a-df28-4d34-9f40-ea97ee94dda6",
   "metadata": {},
   "source": [
    "The global statement is a declaration which holds for the entire current code block. It means that the listed identifiers are to be interpreted as gloabals. It would be impossible to assign to a global variable without global. although free variables may refer to globals without being declared global.\n",
    "\n",
    "Names listed in a global statement must not be used in the same code block textually preceding that global statement.\n",
    "\n",
    "Syntax: `global variable-name,variable-name`"
   ]
  },
  {
   "cell_type": "code",
   "execution_count": 1,
   "id": "e04b69bd-db2b-4fed-932c-9400d5bf3678",
   "metadata": {},
   "outputs": [
    {
     "name": "stdout",
     "output_type": "stream",
     "text": [
      "100\n",
      "500\n"
     ]
    }
   ],
   "source": [
    "x=100 # Global Variable\n",
    "def fun1():\n",
    "    global x\n",
    "    x=500\n",
    "def fun2():\n",
    "    print(x)\n",
    "\n",
    "fun2()\n",
    "fun1()\n",
    "fun2()"
   ]
  },
  {
   "cell_type": "code",
   "execution_count": 2,
   "id": "73405d51-bc6d-49d5-9003-b7e972286b8b",
   "metadata": {},
   "outputs": [
    {
     "name": "stdout",
     "output_type": "stream",
     "text": [
      "500 600\n"
     ]
    }
   ],
   "source": [
    "# example\n",
    "\n",
    "x=100\n",
    "def fun1():\n",
    "    global x,y\n",
    "    x=500\n",
    "    y=600\n",
    "def fun2():\n",
    "    print(x,y)\n",
    "\n",
    "fun1()\n",
    "fun2()"
   ]
  },
  {
   "cell_type": "code",
   "execution_count": 3,
   "id": "750af079-041c-4b63-bb48-4907ba3774cc",
   "metadata": {},
   "outputs": [
    {
     "name": "stdin",
     "output_type": "stream",
     "text": [
      "Enter base  1.5\n",
      "Enter height  5.5\n"
     ]
    },
    {
     "name": "stdout",
     "output_type": "stream",
     "text": [
      "Area of triangle is 8.25\n"
     ]
    }
   ],
   "source": [
    "# example\n",
    "\n",
    "# find area of triangle\n",
    "\n",
    "base,height=0,0\n",
    "def read_dimensions():\n",
    "    global base,height\n",
    "    base=float(input(\"Enter base \"))\n",
    "    height=float(input(\"Enter height \"))\n",
    "def find_area():\n",
    "    area=base*height\n",
    "    print(f'Area of triangle is {area:.2f}')\n",
    "\n",
    "read_dimensions()\n",
    "find_area()"
   ]
  },
  {
   "cell_type": "code",
   "execution_count": 4,
   "id": "1be83681-d828-4b49-a146-cbcce88ec03f",
   "metadata": {},
   "outputs": [
    {
     "ename": "SyntaxError",
     "evalue": "name 'base' is assigned to before global declaration (3408934678.py, line 9)",
     "output_type": "error",
     "traceback": [
      "\u001b[1;36m  Cell \u001b[1;32mIn[4], line 9\u001b[1;36m\u001b[0m\n\u001b[1;33m    global base,height\u001b[0m\n\u001b[1;37m    ^\u001b[0m\n\u001b[1;31mSyntaxError\u001b[0m\u001b[1;31m:\u001b[0m name 'base' is assigned to before global declaration\n"
     ]
    }
   ],
   "source": [
    "# example\n",
    "\n",
    "# find area of triangle\n",
    "\n",
    "base,height=0,0\n",
    "def read_dimensions():\n",
    "    base=float(input(\"Enter base \"))\n",
    "    height=float(input(\"Enter height \"))\n",
    "    global base,height\n",
    "def find_area():\n",
    "    area=base*height\n",
    "    print(f'Area of triangle is {area:.2f}')\n",
    "\n",
    "read_dimensions()\n",
    "find_area()"
   ]
  },
  {
   "cell_type": "markdown",
   "id": "dd644cd9-8ddf-4eac-ab1b-5391851f34c8",
   "metadata": {},
   "source": [
    "**Note** global statement is declaration before the assigned values"
   ]
  },
  {
   "cell_type": "markdown",
   "id": "64b8133e-5106-480d-a247-28e78f62edc3",
   "metadata": {},
   "source": [
    "## globals()\n",
    "\n",
    "Return the dictionary implementing the current module namespace.\n",
    "\n",
    "All global names are stored inside a dictionary called global(namespace name)"
   ]
  },
  {
   "cell_type": "code",
   "execution_count": 5,
   "id": "83d38840-8d87-435e-9f71-5c4360cf70cc",
   "metadata": {},
   "outputs": [
    {
     "name": "stdout",
     "output_type": "stream",
     "text": [
      "local variable x=200\n",
      "local variable y=300\n",
      "global variable x=100\n",
      "700\n",
      "900\n",
      "700\n",
      "local variable x=200\n",
      "local variable y=300\n",
      "global variable x=700\n"
     ]
    }
   ],
   "source": [
    "# example\n",
    "\n",
    "x=100\n",
    "def fun1():\n",
    "    x=200 # local variable\n",
    "    y=300 # Local variable\n",
    "    print(f'local variable x={x}')\n",
    "    print(f'local variable y={y}')\n",
    "    a=globals()\n",
    "    print(f'global variable x={a['x']}')\n",
    "\n",
    "def fun2():\n",
    "    g=globals()\n",
    "    g['x']=700\n",
    "    print(g['x'])\n",
    "    x=900 # local variable\n",
    "    print(x)\n",
    "    print(g['x'])\n",
    "\n",
    "fun1()\n",
    "fun2()\n",
    "fun1()"
   ]
  }
 ],
 "metadata": {
  "kernelspec": {
   "display_name": "Python 3 (ipykernel)",
   "language": "python",
   "name": "python3"
  },
  "language_info": {
   "codemirror_mode": {
    "name": "ipython",
    "version": 3
   },
   "file_extension": ".py",
   "mimetype": "text/x-python",
   "name": "python",
   "nbconvert_exporter": "python",
   "pygments_lexer": "ipython3",
   "version": "3.12.0"
  }
 },
 "nbformat": 4,
 "nbformat_minor": 5
}
