{
 "cells": [
  {
   "cell_type": "markdown",
   "id": "b6dc8a48-176a-42ae-87f8-c749683687db",
   "metadata": {},
   "source": [
    "# Function Recursion\n",
    "\n",
    "Function recursion is calling function itself.\n",
    "\n",
    "In recursion, calling function and called function both are same.\n",
    "\n",
    "Python also accepts function recursion, which means a defined function can call itself. Recursion is a common mathematical and programming concept. It means that a function calls itself. This has the benefit of meaning that you can loop through data to reach a result."
   ]
  },
  {
   "cell_type": "markdown",
   "id": "948e52a8-34e5-4ee0-9c76-5ecfa9295a03",
   "metadata": {},
   "source": [
    "syntax:\n",
    "\n",
    "def <function-name>([parameters]):\n",
    "\n",
    "    statement-1\n",
    "\n",
    "    statement-2\n",
    "\n",
    "    function-name() # Recursive call"
   ]
  },
  {
   "cell_type": "markdown",
   "id": "e4d21067-4727-48b5-9b0e-54beaec52dab",
   "metadata": {},
   "source": [
    "# Function recursion required 3 statements\n",
    "\n",
    "1. Initialization statement\n",
    "\n",
    "2. Condition\n",
    "\n",
    "3. Update statement\n",
    "\n",
    "Initialization statement, which define initial value of condition.\n",
    "\n",
    "Condition defines how many time recursion has to repeated.\n",
    "\n",
    "Update statement, which updates condition."
   ]
  },
  {
   "cell_type": "markdown",
   "id": "f0ab8358-a276-46a2-8fdf-c2c0f46f4951",
   "metadata": {},
   "source": [
    "### How to find recursion depth?\n",
    "\n",
    "\"sys\" module provides a function called getrecursionlimit()"
   ]
  },
  {
   "cell_type": "code",
   "execution_count": 1,
   "id": "debd3b0b-5318-4aab-ae8e-79ad068bd125",
   "metadata": {},
   "outputs": [
    {
     "data": {
      "text/plain": [
       "3000"
      ]
     },
     "execution_count": 1,
     "metadata": {},
     "output_type": "execute_result"
    }
   ],
   "source": [
    "import sys\n",
    "sys.getrecursionlimit()"
   ]
  },
  {
   "cell_type": "markdown",
   "id": "a892b6fd-57ef-457d-8fcd-4a2bf13ffb90",
   "metadata": {},
   "source": [
    "### How to modify recursion limit?\n",
    "\n",
    "The default recursion limit can be changed using a function provided by \"sys\" module."
   ]
  },
  {
   "cell_type": "code",
   "execution_count": 6,
   "id": "2a3c6fa2-ddaa-4b30-bbab-861be36f6008",
   "metadata": {},
   "outputs": [
    {
     "name": "stdout",
     "output_type": "stream",
     "text": [
      "1\n",
      "2\n",
      "3\n",
      "4\n",
      "5\n",
      "6\n",
      "7\n",
      "8\n",
      "9\n",
      "10\n"
     ]
    }
   ],
   "source": [
    "# example\n",
    "\n",
    "def print_num(num):\n",
    "    if num<=10:\n",
    "        print(num)\n",
    "        print_num(num+1) # recursion call\n",
    "print_num(1)\n",
    "\n"
   ]
  },
  {
   "cell_type": "code",
   "execution_count": 7,
   "id": "9d0c4552-b300-4e5f-80cd-d9479c7d7528",
   "metadata": {},
   "outputs": [
    {
     "name": "stdin",
     "output_type": "stream",
     "text": [
      "Enter any number  5\n"
     ]
    },
    {
     "name": "stdout",
     "output_type": "stream",
     "text": [
      "factorial of number is 120\n"
     ]
    }
   ],
   "source": [
    "# example\n",
    "\n",
    "# finding factorial of a number\n",
    "\n",
    "def factorial(num):\n",
    "    if num==0:\n",
    "        return 1\n",
    "    else:\n",
    "        return num*factorial(num-1)\n",
    "\n",
    "number=int(input(\"Enter any number \"))\n",
    "fact=factorial(number)\n",
    "print(f'factorial of number is {fact}')"
   ]
  },
  {
   "cell_type": "code",
   "execution_count": 8,
   "id": "0667c2f4-0c92-4160-a44a-085234872cdf",
   "metadata": {},
   "outputs": [
    {
     "name": "stdin",
     "output_type": "stream",
     "text": [
      "Enter any number 157\n"
     ]
    },
    {
     "name": "stdout",
     "output_type": "stream",
     "text": [
      "sum of digits 13\n"
     ]
    }
   ],
   "source": [
    "# write a program to find sum of digits of input number\n",
    "\n",
    "s=0\n",
    "def sum_of_digits(num):\n",
    "    global s\n",
    "    if num!=0:\n",
    "        r=num%10\n",
    "        s+=r\n",
    "        sum_of_digits(num//10)\n",
    "\n",
    "number= int(input(\"Enter any number\"))\n",
    "sum_of_digits(number)\n",
    "print(f'sum of digits {s}')"
   ]
  }
 ],
 "metadata": {
  "kernelspec": {
   "display_name": "Python 3 (ipykernel)",
   "language": "python",
   "name": "python3"
  },
  "language_info": {
   "codemirror_mode": {
    "name": "ipython",
    "version": 3
   },
   "file_extension": ".py",
   "mimetype": "text/x-python",
   "name": "python",
   "nbconvert_exporter": "python",
   "pygments_lexer": "ipython3",
   "version": "3.12.0"
  }
 },
 "nbformat": 4,
 "nbformat_minor": 5
}
