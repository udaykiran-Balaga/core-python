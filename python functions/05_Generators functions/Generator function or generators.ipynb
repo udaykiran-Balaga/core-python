{
 "cells": [
  {
   "cell_type": "markdown",
   "id": "ae3eae03-d81b-4cc7-b6a7-ce2cd0867a3e",
   "metadata": {},
   "source": [
    "# Generator function or generators\n",
    "\n",
    "Generators are used for creating iterator objects.\n",
    "\n",
    "Generator functions allow you to declare a function that behaves like an iterator, i.e. it can be used in a for loop.\n",
    "\n",
    "Generator is python are used to create iterators and return a traversal object. It helps in traversing all the items one at a time with the help of the keyword yield.\n",
    "\n",
    "Normal function returns value using return keyword.\n",
    "\n",
    "Generator function returns value using yield keyword."
   ]
  },
  {
   "cell_type": "markdown",
   "id": "8ffa81a3-7b65-4649-8a20-826061287773",
   "metadata": {},
   "source": [
    "**return**\n",
    "\n",
    "1. This keyword return value, after returning value it terminates execution of function.\n",
    "\n",
    "2. Function with return keyword is not generator function.\n",
    "\n",
    "**yield**\n",
    "\n",
    "1. Yield keyword return value, after returning value, it pause execution of function. when iterated it resume back and continue where it is paused.\n",
    "\n",
    "2. Function with yield is called generator, which return iterator object."
   ]
  },
  {
   "cell_type": "code",
   "execution_count": 4,
   "id": "7edbae20-2b2d-41e4-b8ff-1c64a837ec30",
   "metadata": {},
   "outputs": [
    {
     "name": "stdout",
     "output_type": "stream",
     "text": [
      "<generator object sqr_generator at 0x00000256F1D00660>\n",
      "1\n",
      "4\n",
      "9\n",
      "16\n",
      "25\n",
      "\n",
      "1\n",
      "2\n",
      "3\n",
      "4\n",
      "5\n"
     ]
    }
   ],
   "source": [
    "# example\n",
    "\n",
    "def sqr_generator(m,n):\n",
    "    for num in range(m,n+1):\n",
    "        yield num**2\n",
    "\n",
    "generator1=sqr_generator(1,5)\n",
    "print(generator1)\n",
    "for value in generator1:\n",
    "    print(value)\n",
    "print()\n",
    "r1=range(1,6)\n",
    "for value in r1:\n",
    "    print(value)"
   ]
  },
  {
   "cell_type": "code",
   "execution_count": 6,
   "id": "d6006cde-6d78-4853-8606-c56a82f48301",
   "metadata": {},
   "outputs": [
    {
     "name": "stdout",
     "output_type": "stream",
     "text": [
      "50\n",
      "40\n",
      "30\n",
      "20\n",
      "10\n",
      "\n",
      "10\n",
      "20\n",
      "30\n",
      "40\n",
      "50\n"
     ]
    }
   ],
   "source": [
    "# example\n",
    "\n",
    "def rev_iter(seq):\n",
    "    for value in seq[::-1]:\n",
    "        yield value\n",
    "list1=[10,20,30,40,50]\n",
    "\n",
    "a=rev_iter(list1)\n",
    "for value in a:  \n",
    "    print(value)\n",
    "print()\n",
    "b=iter(list1)\n",
    "for value in b:\n",
    "    print(value)"
   ]
  },
  {
   "cell_type": "code",
   "execution_count": 8,
   "id": "a43f715f-9977-4274-aec0-b9c176ff486a",
   "metadata": {},
   "outputs": [
    {
     "name": "stdout",
     "output_type": "stream",
     "text": [
      "1 2.0 3.0 4.0 5.0 \n",
      "1.0 2.0 3.0 4.0 5.0 \n",
      "6.0 5.0 4.0 3.0 2.0 1.0 "
     ]
    }
   ],
   "source": [
    "# example\n",
    "\n",
    "def float_range(start,stop,step=1.0):\n",
    "    if start<stop:\n",
    "        while start<stop:\n",
    "            yield start\n",
    "            start=start+step\n",
    "    elif start>stop:\n",
    "        while start>stop:\n",
    "            yield start\n",
    "            start=start+step\n",
    "a=float_range(1,6)\n",
    "for value in a:\n",
    "    print(value,end=' ')\n",
    "print()\n",
    "\n",
    "b=float_range(1.0,6.0,1.0)\n",
    "for value in b:\n",
    "    print(value,end=' ')\n",
    "\n",
    "print()\n",
    "c=float_range(6.0,0.0,-1)\n",
    "for value in c:\n",
    "    print(value,end=' ')"
   ]
  },
  {
   "cell_type": "markdown",
   "id": "ad456751-8fa2-4fc2-9f7a-fb05c345f148",
   "metadata": {},
   "source": [
    "`Note`: `range` can not iterable on float value but `generator` can help to build own function for float values"
   ]
  },
  {
   "cell_type": "markdown",
   "id": "dcd5355e-f58f-4245-8767-b7320f77cc26",
   "metadata": {},
   "source": [
    "### Generator expression\n",
    "\n",
    "Generator expression is a single line statement, which return generator iterator object."
   ]
  },
  {
   "cell_type": "code",
   "execution_count": 10,
   "id": "a2e8b4d7-51ce-4478-886c-d128051047c0",
   "metadata": {},
   "outputs": [],
   "source": [
    "#Syntax:  <variable-name>=(expression for variable in iterable if test)"
   ]
  },
  {
   "cell_type": "markdown",
   "id": "2c904ef8-79f1-468d-b2b9-39e12a9db3f4",
   "metadata": {},
   "source": [
    "`Note:` this is similar to comprehensions."
   ]
  },
  {
   "cell_type": "code",
   "execution_count": 12,
   "id": "ec90a60b-40b2-4283-ab41-d02323421f7d",
   "metadata": {},
   "outputs": [
    {
     "name": "stdout",
     "output_type": "stream",
     "text": [
      "A B C D E F G H I J K L M N O P Q R S T U V W X Y Z "
     ]
    }
   ],
   "source": [
    "# example\n",
    "\n",
    "alpha_generator=(chr(n) for n in range(65,91))\n",
    "for alpha in alpha_generator:\n",
    "    print(alpha,end=' ')"
   ]
  },
  {
   "cell_type": "code",
   "execution_count": 13,
   "id": "8f86f621-565c-4a27-a1a6-62bcf9870566",
   "metadata": {},
   "outputs": [
    {
     "name": "stdout",
     "output_type": "stream",
     "text": [
      "2 4 6 8 10 12 14 16 18 20 "
     ]
    }
   ],
   "source": [
    "# example on even generator\n",
    "\n",
    "even_generator = (n for n in range(1,21) if n%2==0)\n",
    "for value in even_generator:\n",
    "    print(value,end=' ')"
   ]
  },
  {
   "cell_type": "markdown",
   "id": "ad73701a-92b4-4a5b-854c-9e9aa5088a9a",
   "metadata": {},
   "source": [
    "**What is difference between generator function and generator expression?**\n",
    "\n",
    "A `generator` is a type of iterable in Python that allows you to iterate over a\n",
    "sequence of values one at a time. It is defined using the yield keyword, and\n",
    "the generator function is called like any other function. However, instead of\n",
    "returning a value, the generator function yields a sequence of values, one\n",
    "at a time, when it is iterated over. This allows you to create large\n",
    "sequences of values without using up a lot of memory.\n",
    "\n",
    "A `generator expression` is a concise way to create a generator object. It is\n",
    "similar to a list comprehension, but it returns a generator instead of a list.\n",
    "Generator expressions are defined using parentheses, and they use the\n",
    "same syntax as list comprehensions, but with a single element on the right-\n",
    "hand side of the expression."
   ]
  }
 ],
 "metadata": {
  "kernelspec": {
   "display_name": "Python 3 (ipykernel)",
   "language": "python",
   "name": "python3"
  },
  "language_info": {
   "codemirror_mode": {
    "name": "ipython",
    "version": 3
   },
   "file_extension": ".py",
   "mimetype": "text/x-python",
   "name": "python",
   "nbconvert_exporter": "python",
   "pygments_lexer": "ipython3",
   "version": "3.12.0"
  }
 },
 "nbformat": 4,
 "nbformat_minor": 5
}
