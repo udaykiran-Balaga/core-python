{
 "cells": [
  {
   "cell_type": "markdown",
   "id": "37a8ebc9-d322-4ba5-9221-014ce2618d1a",
   "metadata": {},
   "source": [
    "# Branching statements"
   ]
  },
  {
   "cell_type": "markdown",
   "id": "4749a2b5-c786-4f41-b63d-7c25d9a29844",
   "metadata": {},
   "source": [
    "`Branching statements` are used to control the execution of `while` and `for` loop\n",
    "\n",
    "python support 3 branching statements\n",
    "\n",
    "1. `Break`\n",
    "\n",
    "2. `Continue`\n",
    "\n",
    "3. `Return` (function)"
   ]
  },
  {
   "cell_type": "markdown",
   "id": "c798a69c-63f0-449e-b959-b791384599b1",
   "metadata": {},
   "source": [
    "**Break statement**\n",
    "\n",
    "`break` is a keyword\n",
    "\n",
    "This keyword is used inside `while `or `for` loop.\n",
    "\n",
    "This statement is used to terminate execution of while or for loop unconditionally or in between."
   ]
  },
  {
   "cell_type": "code",
   "execution_count": 1,
   "id": "495db008-1604-46f8-9989-05a1625bf8ac",
   "metadata": {},
   "outputs": [
    {
     "name": "stdout",
     "output_type": "stream",
     "text": [
      "Hello\n"
     ]
    }
   ],
   "source": [
    "# example \n",
    "\n",
    "while True:\n",
    "    print('Hello')\n",
    "    break"
   ]
  },
  {
   "cell_type": "code",
   "execution_count": 3,
   "id": "d47297d7-4845-4245-b6c4-752d0795a839",
   "metadata": {},
   "outputs": [
    {
     "name": "stdout",
     "output_type": "stream",
     "text": [
      "5\n",
      "10\n",
      "15\n",
      "20\n",
      "25\n",
      "30\n",
      "35\n",
      "40\n",
      "45\n",
      "50\n",
      "275\n"
     ]
    }
   ],
   "source": [
    "num = 5\n",
    "sum = 0\n",
    "count = 0\n",
    "while True:\n",
    "    if num%5==0:\n",
    "        print(f'{num}')\n",
    "        sum+=num\n",
    "        count+=1\n",
    "    num+=1\n",
    "    if count==10:\n",
    "        break\n",
    "print(f'{sum}')\n",
    "        \n",
    "        \n",
    "        "
   ]
  },
  {
   "cell_type": "code",
   "execution_count": 4,
   "id": "023f8997-4ea6-43bb-b92e-62f2be57faef",
   "metadata": {},
   "outputs": [
    {
     "name": "stdout",
     "output_type": "stream",
     "text": [
      "0\n",
      "1\n",
      "2\n",
      "3\n",
      "4\n",
      "5\n"
     ]
    }
   ],
   "source": [
    "for i in range(10):\n",
    "    print(i)\n",
    "    if i==5:\n",
    "        break"
   ]
  },
  {
   "cell_type": "code",
   "execution_count": null,
   "id": "75e24118-e761-4aa1-a74b-20cf9a47205f",
   "metadata": {},
   "outputs": [],
   "source": []
  }
 ],
 "metadata": {
  "kernelspec": {
   "display_name": "Python 3 (ipykernel)",
   "language": "python",
   "name": "python3"
  },
  "language_info": {
   "codemirror_mode": {
    "name": "ipython",
    "version": 3
   },
   "file_extension": ".py",
   "mimetype": "text/x-python",
   "name": "python",
   "nbconvert_exporter": "python",
   "pygments_lexer": "ipython3",
   "version": "3.12.0"
  }
 },
 "nbformat": 4,
 "nbformat_minor": 5
}
