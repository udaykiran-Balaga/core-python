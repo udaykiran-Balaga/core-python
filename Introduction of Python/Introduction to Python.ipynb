{
 "cells": [
  {
   "cell_type": "markdown",
   "id": "55384fc5-3036-4c77-943b-821636ffc430",
   "metadata": {},
   "source": [
    "# INTRO TO PYTHON"
   ]
  },
  {
   "cell_type": "markdown",
   "id": "58ef52ad-716c-4268-a97e-c5dd852ca738",
   "metadata": {},
   "source": [
    "## WHAT IS PYTHON?\n",
    "\n",
    "Python is a high-level, interpreted programming language known for its `simplicity and readability`. It is widely used for `web development`, `data analysis`, `artificial intelligence`, `scientific computing`, and more. Python's syntax is designed to be easy to read and write, making it a great choice for beginners and experienced programmers alike."
   ]
  },
  {
   "cell_type": "markdown",
   "id": "b671537d-8610-4f7a-8c5f-dc1aca423fdd",
   "metadata": {},
   "source": [
    "## HISTORY OF PYTHON\n",
    "Python, a programming language, was conceived in the 1980s and its development began in `1989`.\n",
    "\n",
    "The first version of Python was released in `1991`. It was developed at `Centrum Wiskunde & Informatica (CWI)`, the national research institute for mathematics and computer science in the `Netherlands`.\n",
    "\n",
    "Python was created in the C programming language to address the shortcomings of the `ABC language`.\n",
    "\n",
    "Dutch programmer `Guido van Rossum` led the development of Python.\n",
    "\n",
    "The name `\"Python\"` was inspired by the British comedy series `\"Monty Python’s Flying Circus\"` broadcast on BBC."
   ]
  },
  {
   "cell_type": "markdown",
   "id": "a25079e0-2ae2-49d6-9cab-885320b29059",
   "metadata": {},
   "source": [
    "## PYTHON APPLICATIONS\n",
    "\n",
    "Python is used in a wide range of applications, including:\n",
    "\n",
    "Web Development: Frameworks like Django and Flask.\n",
    "\n",
    "Data Analysis: Libraries like pandas, NumPy, and Matplotlib.\n",
    "\n",
    "Machine Learning and AI: Libraries like TensorFlow, Keras, and Scikit-learn.\n",
    "\n",
    "Automation and Scripting: Automating repetitive tasks and writing scripts.\n",
    "\n",
    "Scientific Computing: Tools like SciPy and SymPy.\n",
    "\n",
    "Software Development: Building software applications.\n",
    "\n",
    "Game Development: Libraries like Pygame."
   ]
  },
  {
   "cell_type": "markdown",
   "id": "a900dbec-e8b9-4d04-971e-b52946795a8c",
   "metadata": {},
   "source": [
    "## PYTHON FEATURES\n",
    "Features of python programming language\n",
    "\n",
    "### Simple and Easy to Learn:\n",
    "Python is renowned for its simplicity and ease of learning. Its clear syntax and `readability` make it more accessible to beginners compared to languages like `C++ or Java`, which have more complex syntax.\n",
    "\n",
    "## Interpreted Language:\n",
    "As an interpreted language, Python executes code `line by line`, `facilitating easier debugging`. This contrasts with compiled languages such as C or C++, where the code must be compiled before execution, making the debugging process more cumbersome.\n",
    "\n",
    "## Object-Oriented:\n",
    "Python supports object-oriented programming (OOP) concepts, allowing for the creation and management of classes and objects. While similar to Java and C++ in this regard, Python offers a more streamlined approach with less boilerplate code.\n",
    "\n",
    "## High-Level Language:\n",
    "Being a high-level language, Python abstracts complex details from the user, allowing them to focus on writing functional code. This is in stark contrast to low-level languages like Assembly, where the programmer must manage hardware details directly.\n",
    "\n",
    "## Extensive Standard Library:\n",
    "Python’s extensive standard library provides a rich collection of modules and functions for various tasks. This library is more comprehensive than those of languages like C, which often require third-party libraries to achieve similar functionalities.\n",
    "\n",
    "## Cross-Platform:\n",
    "Python is cross-platform, meaning it runs seamlessly on `Windows`, `macOS`, `Linux`, and `other platforms`. This cross-platform capability is broader than that of languages like C#, which is primarily used within the Windows ecosystem.\n",
    "\n",
    "## Dynamic Typing: Variable types are determined at runtime.\n",
    "Python’s dynamic typing system determines `variable types at runtime`, adding flexibility. This is in contrast to `statically typed` languages like `Java`, where variable types must be explicitly declared.\n",
    "## Support for Multiple Programming Paradigms:\n",
    "Python supports multiple programming paradigms, including procedural, object-oriented, and functional programming. This versatility surpasses that of languages like `Haskell`, which is primarily functional, or C, which is procedural."
   ]
  },
  {
   "cell_type": "code",
   "execution_count": null,
   "id": "8a65eb5f-0695-4da4-8629-7c3b755356de",
   "metadata": {},
   "outputs": [],
   "source": []
  }
 ],
 "metadata": {
  "kernelspec": {
   "display_name": "Python 3 (ipykernel)",
   "language": "python",
   "name": "python3"
  },
  "language_info": {
   "codemirror_mode": {
    "name": "ipython",
    "version": 3
   },
   "file_extension": ".py",
   "mimetype": "text/x-python",
   "name": "python",
   "nbconvert_exporter": "python",
   "pygments_lexer": "ipython3",
   "version": "3.12.0"
  }
 },
 "nbformat": 4,
 "nbformat_minor": 5
}
